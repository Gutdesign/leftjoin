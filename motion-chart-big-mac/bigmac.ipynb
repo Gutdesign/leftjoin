{
 "cells": [
  {
   "cell_type": "code",
   "execution_count": 1,
   "metadata": {},
   "outputs": [],
   "source": [
    "import pandas as pd\n",
    "from pandas.errors import ParserError\n",
    "import plotly.graph_objects as go\n",
    "import numpy as np\n",
    "import requests\n",
    "import io"
   ]
  },
  {
   "cell_type": "code",
   "execution_count": null,
   "metadata": {},
   "outputs": [],
   "source": [
    "def read_raw_file(link):\n",
    "    raw_csv = requests.get(link).content\n",
    "    try:\n",
    "        df = pd.read_csv(io.StringIO(raw_csv.decode('utf-8')))\n",
    "    except ParserError:\n",
    "        df = pd.read_csv(io.StringIO(raw_csv.decode('utf-8')), skiprows=3)\n",
    "    return df\n",
    "\n",
    "bigmac_df = read_raw_file('https://github.com/valiotti/leftjoin/raw/master/motion-chart-big-mac/big-mac.csv')\n",
    "population_df = read_raw_file('https://github.com/valiotti/leftjoin/raw/master/motion-chart-big-mac/population.csv')\n",
    "gdp_df = read_raw_file('https://github.com/valiotti/leftjoin/raw/master/motion-chart-big-mac/gdp.csv')\n",
    "continents_df = read_raw_file('https://github.com/valiotti/leftjoin/raw/master/motion-chart-big-mac/continents.csv')"
   ]
  },
  {
   "cell_type": "code",
   "execution_count": null,
   "metadata": {},
   "outputs": [],
   "source": [
    "bigmac_df = bigmac_df[['name', 'local_price', 'dollar_ex', 'iso_a3', 'date']]\n",
    "bigmac_df = bigmac_df[bigmac_df['date'] >= '2005-01-01']\n",
    "bigmac_df = bigmac_df[bigmac_df['date'] < '2020-01-01']\n",
    "bigmac_df['date'] = pd.DatetimeIndex(bigmac_df['date']).year\n",
    "bigmac_df = bigmac_df.drop_duplicates(['date', 'name'])\n",
    "bigmac_df = bigmac_df.reset_index(drop=True)\n",
    "bigmac_df['dollar_price'] = bigmac_df['local_price'] / bigmac_df['dollar_ex']"
   ]
  },
  {
   "cell_type": "code",
   "execution_count": null,
   "metadata": {},
   "outputs": [],
   "source": [
    "continents_df = continents_df[['Continent_Name', 'Three_Letter_Country_Code']]\n",
    "continents_list = []\n",
    "for country in bigmac_df['iso_a3']:\n",
    "    try:\n",
    "        continents_list.append(continents_df.loc[continents_df['Three_Letter_Country_Code'] == country]['Continent_Name'].item())\n",
    "    except ValueError:\n",
    "        continents_list.append('Europe')\n",
    "bigmac_df['continent'] = continents_list"
   ]
  },
  {
   "cell_type": "code",
   "execution_count": null,
   "metadata": {},
   "outputs": [],
   "source": [
    "bigmac_df = bigmac_df.drop(['local_price', 'iso_a3', 'dollar_ex'], axis=1)\n",
    "bigmac_df = bigmac_df.sort_values(by=['name', 'date'])\n",
    "bigmac_df['date'] = bigmac_df['date'].astype(int)"
   ]
  },
  {
   "cell_type": "code",
   "execution_count": 9,
   "metadata": {},
   "outputs": [],
   "source": [
    "years = [str(i) for i in range(2005, 2020)]"
   ]
  },
  {
   "cell_type": "code",
   "execution_count": 14,
   "metadata": {},
   "outputs": [],
   "source": [
    "countries_list = list(bigmac_df['name'].unique())\n",
    "years_set = {i for i in range(2005, 2020)}\n",
    "for country in countries_list:\n",
    "    if len(bigmac_df[bigmac_df['name'] == country]) < 15:\n",
    "        this_continent = bigmac_df[bigmac_df['name'] == country].continent.iloc[0]\n",
    "        years_of_country = set(bigmac_df[bigmac_df['name'] == country]['date'])\n",
    "        diff = years_set - years_of_country\n",
    "        dict_to_df = pd.DataFrame({\n",
    "                      'name':[country] * len(diff),\n",
    "                      'date':list(diff),\n",
    "                      'dollar_price':[0] * len(diff),\n",
    "                      'continent': [this_continent] * len(diff)\n",
    "                     })\n",
    "        bigmac_df = bigmac_df.append(dict_to_df)\n",
    "bigmac_df = bigmac_df[bigmac_df['name'] != 'Taiwan']\n",
    "bigmac_df = bigmac_df[bigmac_df['name'] != 'United Arab Emirates']\n",
    "bigmac_df = bigmac_df[bigmac_df['name'] != 'Venezuela']"
   ]
  },
  {
   "cell_type": "code",
   "execution_count": 26,
   "metadata": {},
   "outputs": [],
   "source": [
    "bigmac_df = bigmac_df.sort_values(by=['name', 'date'])"
   ]
  },
  {
   "cell_type": "code",
   "execution_count": 27,
   "metadata": {},
   "outputs": [],
   "source": [
    "countries_replace_dict = {\n",
    "    'Russian Federation': 'Russia',\n",
    "    'Egypt, Arab Rep.': 'Egypt',\n",
    "    'Hong Kong SAR, China': 'Hong Kong',\n",
    "    'United Kingdom': 'Britain',\n",
    "    'Korea, Rep.': 'South Korea',\n",
    "    'United Arab Emirates': 'UAE',\n",
    "    'Venezuela, RB': 'Venezuela',\n",
    "    'Slovak Republic': 'Slovakia'\n",
    "\n",
    "}\n",
    "for key, value in countries_replace_dict.items():\n",
    "    population_df['Country Name'] = population_df['Country Name'].replace(key, value)\n",
    "    gdp_df['Country Name'] = gdp_df['Country Name'].replace(key, value)"
   ]
  },
  {
   "cell_type": "code",
   "execution_count": 28,
   "metadata": {},
   "outputs": [],
   "source": [
    "countries_list = list(bigmac_df['name'].unique())\n",
    "\n",
    "population_list = []\n",
    "gdp_list = []\n",
    "for country in countries_list:\n",
    "    population_for_country_df = population_df[population_df['Country Name'] == country][years]\n",
    "    population_list.extend(list(population_for_country_df.values[0]))\n",
    "    gdp_for_country_df = gdp_df[gdp_df['Country Name'] == country][years]\n",
    "    gdp_list.extend(list(gdp_for_country_df.values[0]))\n",
    "bigmac_df['population'] = population_list\n",
    "bigmac_df['gdp'] = gdp_list"
   ]
  },
  {
   "cell_type": "code",
   "execution_count": 29,
   "metadata": {},
   "outputs": [],
   "source": [
    "bigmac_df['gdp_per_capita'] = bigmac_df['gdp'] / bigmac_df['population']"
   ]
  },
  {
   "cell_type": "code",
   "execution_count": 30,
   "metadata": {},
   "outputs": [],
   "source": [
    "bigmac_df = bigmac_df.replace(np.nan, 0)"
   ]
  },
  {
   "cell_type": "code",
   "execution_count": 47,
   "metadata": {},
   "outputs": [],
   "source": [
    "bigmac_df = bigmac_df[bigmac_df['name'] != 'Venezuela']"
   ]
  },
  {
   "cell_type": "code",
   "execution_count": 50,
   "metadata": {},
   "outputs": [
    {
     "data": {
      "application/vnd.plotly.v1+json": {
       "config": {
        "plotlyServerURL": "https://plotly.com"
       },
       "data": [
        {
         "customdata": [
          1.6,
          2.4,
          2.5,
          2.8,
          2.8,
          1.8
         ],
         "hovertemplate": "<b>%{text}</b><br>ВВП на душу населения: %{y}$<br>Численность населения: %{x}<br>Стоимость Биг Мака: %{customdata}$<extra></extra>",
         "marker": {
          "size": [
           32792544.01104591,
           47874066.861408636,
           50637184.57253776,
           55849121.45035873,
           55244884.16395256,
           36476683.93782383
          ],
          "sizemode": "area",
          "sizeref": 200000
         },
         "mode": "markers",
         "name": "South America",
         "text": [
          "Argentina",
          "Brazil",
          "Chile",
          "Colombia",
          "Peru",
          "Uruguay"
         ],
         "type": "scatter",
         "x": [
          38892931,
          186127103,
          16182721,
          42647723,
          27866145,
          3321803
         ],
         "y": [
          5109.851325226221,
          4790.43708777366,
          7598.525121088908,
          3414.465833172242,
          2729.4986823834442,
          5226.937805720117
         ]
        },
        {
         "customdata": [
          2.5,
          3.2
         ],
         "hovertemplate": "<b>%{text}</b><br>ВВП на душу населения: %{y}$<br>Численность населения: %{x}<br>Стоимость Биг Мака: %{customdata}$<extra></extra>",
         "marker": {
          "size": [
           49942374.183634266,
           63467161.092490904
          ],
          "sizemode": "area",
          "sizeref": 200000
         },
         "mode": "markers",
         "name": "Oceania",
         "text": [
          "Australia",
          "New Zealand"
         ],
         "type": "scatter",
         "x": [
          20394800,
          4133900
         ],
         "y": [
          33999.24285758355,
          27751.065470885846
         ]
        },
        {
         "customdata": [
          0,
          0,
          0,
          3.4,
          0,
          2.3,
          4.6,
          0,
          3.6,
          0,
          0,
          0,
          0,
          2.6,
          0,
          0,
          0,
          0,
          0,
          0,
          6.1,
          2,
          0,
          0,
          1.5,
          0,
          0,
          0,
          4.2,
          5.1,
          2.9,
          1.4
         ],
         "hovertemplate": "<b>%{text}</b><br>ВВП на душу населения: %{y}$<br>Численность населения: %{x}<br>Стоимость Биг Мака: %{customdata}$<extra></extra>",
         "marker": {
          "size": [
           0,
           0,
           0,
           68808000.05435832,
           0,
           45980383.767506495,
           91513182.84498821,
           0,
           71662639.96460581,
           0,
           0,
           0,
           0,
           52051875.09514199,
           0,
           0,
           0,
           0,
           0,
           0,
           121257345.39688462,
           39279671.25936669,
           0,
           0,
           29571737.867666475,
           0,
           0,
           0,
           83331093.25018144,
           101002004.00801602,
           58436815.19357195,
           28656126.48221344
          ],
          "sizemode": "area",
          "sizeref": 200000
         },
         "mode": "markers",
         "name": "Europe",
         "text": [
          "Austria",
          "Azerbaijan",
          "Belgium",
          "Britain",
          "Croatia",
          "Czech Republic",
          "Denmark",
          "Estonia",
          "Euro area",
          "Finland",
          "France",
          "Germany",
          "Greece",
          "Hungary",
          "Ireland",
          "Italy",
          "Latvia",
          "Lithuania",
          "Moldova",
          "Netherlands",
          "Norway",
          "Poland",
          "Portugal",
          "Romania",
          "Russia",
          "Slovakia",
          "Slovenia",
          "Spain",
          "Sweden",
          "Switzerland",
          "Turkey",
          "Ukraine"
         ],
         "type": "scatter",
         "x": [
          8227829,
          8391850,
          10478617,
          60401206,
          4310145,
          10211216,
          5419432,
          1354775,
          329380417,
          5246096,
          63179351,
          82469422,
          10987314,
          10087065,
          4159914,
          57969484,
          2238799,
          3322528,
          2888111,
          16319868,
          4623291,
          38165445,
          10503330,
          21319685,
          143518814,
          5372807,
          2000474,
          43653155,
          9029572,
          7437115,
          67903469,
          47105171
         ],
         "y": [
          38403.13387707146,
          1578.4023902960253,
          36795.97688196391,
          42030.28661381364,
          10530.21990963079,
          13346.176389885788,
          48799.82560112757,
          10406.39687591755,
          31936.04537349833,
          39040.2888825052,
          34760.18776638652,
          34507.36881423323,
          22551.73574409906,
          11200.576949626378,
          50878.223611636444,
          32043.140368411936,
          7552.873894203365,
          7863.162008651665,
          1034.7070581674318,
          41979.05584578809,
          66810.47852086792,
          8020.963164358964,
          18773.125361635404,
          4617.9290164325785,
          5323.463082633835,
          11685.754822439145,
          18098.90873050002,
          26419.2968638221,
          43437.06311647761,
          54952.67371814972,
          7384.251627901721,
          1826.9313911481734
         ]
        },
        {
         "customdata": [
          0,
          1.3,
          1.5,
          0,
          1.5,
          0,
          2.3,
          0,
          0,
          0,
          1.4,
          0,
          2.2,
          1.5,
          0,
          2.4,
          2.2,
          2.5,
          1.8,
          1.5,
          2.5,
          0
         ],
         "hovertemplate": "<b>%{text}</b><br>ВВП на душу населения: %{y}$<br>Численность населения: %{x}<br>Стоимость Биг Мака: %{customdata}$<extra></extra>",
         "marker": {
          "size": [
           0,
           25373350.732202407,
           30845553.74195124,
           0,
           30591932.949188057,
           0,
           46853769.38574708,
           0,
           0,
           0,
           27631578.94736842,
           0,
           43609527.00436095,
           29330889.092575617,
           0,
           47998720.03413242,
           43355211.657734685,
           49726504.226752855,
           35019260.59332633,
           29607698.001480386,
           49012933.96868618,
           0
          ],
          "sizemode": "area",
          "sizeref": 200000
         },
         "mode": "markers",
         "name": "Asia",
         "text": [
          "Bahrain",
          "China",
          "Hong Kong",
          "India",
          "Indonesia",
          "Israel",
          "Japan",
          "Jordan",
          "Kuwait",
          "Lebanon",
          "Malaysia",
          "Oman",
          "Pakistan",
          "Philippines",
          "Qatar",
          "Saudi Arabia",
          "Singapore",
          "South Korea",
          "Sri Lanka",
          "Thailand",
          "UAE",
          "Vietnam"
         ],
         "type": "scatter",
         "x": [
          889164,
          1303720000,
          6813200,
          1147609927,
          226289470,
          6930100,
          127773000,
          5765635,
          2270198,
          4698763,
          25690611,
          2511251,
          160304008,
          86326250,
          865416,
          23816183,
          4265762,
          48184561,
          19544988,
          65416189,
          4588225,
          83832661
         ],
         "y": [
          17959.255440228462,
          1753.4178292582303,
          26649.75080170698,
          714.8610134956614,
          1263.287320545746,
          20566.64548986422,
          37217.648727917,
          2214.017817251959,
          35591.00577878507,
          4575.105511593541,
          5587.025649623397,
          12377.068073789995,
          748.9225845989952,
          1244.3490409949234,
          51455.59419457752,
          13791.446293644578,
          29961.263277456874,
          19402.502625954898,
          1248.6981851703413,
          2894.062655964015,
          39365.433901912395,
          687.4797355922306
         ]
        },
        {
         "customdata": [
          2.6,
          2.4,
          0,
          0,
          2.6,
          0,
          3.1
         ],
         "hovertemplate": "<b>%{text}</b><br>ВВП на душу населения: %{y}$<br>Численность населения: %{x}<br>Стоимость Биг Мака: %{customdata}$<extra></extra>",
         "marker": {
          "size": [
           52505202.49719865,
           47548916.473806016,
           0,
           0,
           51529790.66022544,
           0,
           61200000
          ],
          "sizemode": "area",
          "sizeref": 200000
         },
         "mode": "markers",
         "name": "North America",
         "text": [
          "Canada",
          "Costa Rica",
          "Guatemala",
          "Honduras",
          "Mexico",
          "Nicaragua",
          "United States"
         ],
         "type": "scatter",
         "x": [
          32243753,
          4285502,
          12948292,
          7458985,
          106005203,
          5438690,
          295516599
         ],
         "y": [
          36266.18712358514,
          4654.82482200979,
          2101.541817822482,
          1296.6959592220564,
          8277.671251496033,
          1162.29011254959,
          44114.74777767052
         ]
        },
        {
         "customdata": [
          1.6,
          2.1
         ],
         "hovertemplate": "<b>%{text}</b><br>ВВП на душу населения: %{y}$<br>Численность населения: %{x}<br>Стоимость Биг Мака: %{customdata}$<extra></extra>",
         "marker": {
          "size": [
           31034482.75862069,
           41966246.50281279
          ],
          "sizemode": "area",
          "sizeref": 200000
         },
         "mode": "markers",
         "name": "Africa",
         "text": [
          "Egypt",
          "South Africa"
         ],
         "type": "scatter",
         "x": [
          75523569,
          47880601
         ],
         "y": [
          1187.5196897838832,
          5383.656542509836
         ]
        }
       ],
       "frames": [
        {
         "data": [
          {
           "customdata": [
            1.6,
            2.4,
            2.5,
            2.8,
            2.8,
            1.8
           ],
           "hovertemplate": "<b>%{text}</b><br>ВВП на душу населения: %{y}<br>Численность населения: %{x}<br>Стоимость Биг Мака: %{customdata}$<extra></extra>",
           "marker": {
            "size": [
             32792544.01104591,
             47874066.861408636,
             50637184.57253776,
             55849121.45035873,
             55244884.16395256,
             36476683.93782383
            ],
            "sizemode": "area",
            "sizeref": 200000
           },
           "mode": "markers",
           "name": "South America",
           "text": [
            "Argentina",
            "Brazil",
            "Chile",
            "Colombia",
            "Peru",
            "Uruguay"
           ],
           "type": "scatter",
           "x": [
            38892931,
            186127103,
            16182721,
            42647723,
            27866145,
            3321803
           ],
           "y": [
            5109.851325226221,
            4790.43708777366,
            7598.525121088908,
            3414.465833172242,
            2729.4986823834442,
            5226.937805720117
           ]
          },
          {
           "customdata": [
            2.5,
            3.2
           ],
           "hovertemplate": "<b>%{text}</b><br>ВВП на душу населения: %{y}<br>Численность населения: %{x}<br>Стоимость Биг Мака: %{customdata}$<extra></extra>",
           "marker": {
            "size": [
             49942374.183634266,
             63467161.092490904
            ],
            "sizemode": "area",
            "sizeref": 200000
           },
           "mode": "markers",
           "name": "Oceania",
           "text": [
            "Australia",
            "New Zealand"
           ],
           "type": "scatter",
           "x": [
            20394800,
            4133900
           ],
           "y": [
            33999.24285758355,
            27751.065470885846
           ]
          },
          {
           "customdata": [
            0,
            0,
            0,
            3.4,
            0,
            2.3,
            4.6,
            0,
            3.6,
            0,
            0,
            0,
            0,
            2.6,
            0,
            0,
            0,
            0,
            0,
            0,
            6.1,
            2,
            0,
            0,
            1.5,
            0,
            0,
            0,
            4.2,
            5.1,
            2.9,
            1.4
           ],
           "hovertemplate": "<b>%{text}</b><br>ВВП на душу населения: %{y}<br>Численность населения: %{x}<br>Стоимость Биг Мака: %{customdata}$<extra></extra>",
           "marker": {
            "size": [
             0,
             0,
             0,
             68808000.05435832,
             0,
             45980383.767506495,
             91513182.84498821,
             0,
             71662639.96460581,
             0,
             0,
             0,
             0,
             52051875.09514199,
             0,
             0,
             0,
             0,
             0,
             0,
             121257345.39688462,
             39279671.25936669,
             0,
             0,
             29571737.867666475,
             0,
             0,
             0,
             83331093.25018144,
             101002004.00801602,
             58436815.19357195,
             28656126.48221344
            ],
            "sizemode": "area",
            "sizeref": 200000
           },
           "mode": "markers",
           "name": "Europe",
           "text": [
            "Austria",
            "Azerbaijan",
            "Belgium",
            "Britain",
            "Croatia",
            "Czech Republic",
            "Denmark",
            "Estonia",
            "Euro area",
            "Finland",
            "France",
            "Germany",
            "Greece",
            "Hungary",
            "Ireland",
            "Italy",
            "Latvia",
            "Lithuania",
            "Moldova",
            "Netherlands",
            "Norway",
            "Poland",
            "Portugal",
            "Romania",
            "Russia",
            "Slovakia",
            "Slovenia",
            "Spain",
            "Sweden",
            "Switzerland",
            "Turkey",
            "Ukraine"
           ],
           "type": "scatter",
           "x": [
            8227829,
            8391850,
            10478617,
            60401206,
            4310145,
            10211216,
            5419432,
            1354775,
            329380417,
            5246096,
            63179351,
            82469422,
            10987314,
            10087065,
            4159914,
            57969484,
            2238799,
            3322528,
            2888111,
            16319868,
            4623291,
            38165445,
            10503330,
            21319685,
            143518814,
            5372807,
            2000474,
            43653155,
            9029572,
            7437115,
            67903469,
            47105171
           ],
           "y": [
            38403.13387707146,
            1578.4023902960253,
            36795.97688196391,
            42030.28661381364,
            10530.21990963079,
            13346.176389885788,
            48799.82560112757,
            10406.39687591755,
            31936.04537349833,
            39040.2888825052,
            34760.18776638652,
            34507.36881423323,
            22551.73574409906,
            11200.576949626378,
            50878.223611636444,
            32043.140368411936,
            7552.873894203365,
            7863.162008651665,
            1034.7070581674318,
            41979.05584578809,
            66810.47852086792,
            8020.963164358964,
            18773.125361635404,
            4617.9290164325785,
            5323.463082633835,
            11685.754822439145,
            18098.90873050002,
            26419.2968638221,
            43437.06311647761,
            54952.67371814972,
            7384.251627901721,
            1826.9313911481734
           ]
          },
          {
           "customdata": [
            0,
            1.3,
            1.5,
            0,
            1.5,
            0,
            2.3,
            0,
            0,
            0,
            1.4,
            0,
            2.2,
            1.5,
            0,
            2.4,
            2.2,
            2.5,
            1.8,
            1.5,
            2.5,
            0
           ],
           "hovertemplate": "<b>%{text}</b><br>ВВП на душу населения: %{y}<br>Численность населения: %{x}<br>Стоимость Биг Мака: %{customdata}$<extra></extra>",
           "marker": {
            "size": [
             0,
             25373350.732202407,
             30845553.74195124,
             0,
             30591932.949188057,
             0,
             46853769.38574708,
             0,
             0,
             0,
             27631578.94736842,
             0,
             43609527.00436095,
             29330889.092575617,
             0,
             47998720.03413242,
             43355211.657734685,
             49726504.226752855,
             35019260.59332633,
             29607698.001480386,
             49012933.96868618,
             0
            ],
            "sizemode": "area",
            "sizeref": 200000
           },
           "mode": "markers",
           "name": "Asia",
           "text": [
            "Bahrain",
            "China",
            "Hong Kong",
            "India",
            "Indonesia",
            "Israel",
            "Japan",
            "Jordan",
            "Kuwait",
            "Lebanon",
            "Malaysia",
            "Oman",
            "Pakistan",
            "Philippines",
            "Qatar",
            "Saudi Arabia",
            "Singapore",
            "South Korea",
            "Sri Lanka",
            "Thailand",
            "UAE",
            "Vietnam"
           ],
           "type": "scatter",
           "x": [
            889164,
            1303720000,
            6813200,
            1147609927,
            226289470,
            6930100,
            127773000,
            5765635,
            2270198,
            4698763,
            25690611,
            2511251,
            160304008,
            86326250,
            865416,
            23816183,
            4265762,
            48184561,
            19544988,
            65416189,
            4588225,
            83832661
           ],
           "y": [
            17959.255440228462,
            1753.4178292582303,
            26649.75080170698,
            714.8610134956614,
            1263.287320545746,
            20566.64548986422,
            37217.648727917,
            2214.017817251959,
            35591.00577878507,
            4575.105511593541,
            5587.025649623397,
            12377.068073789995,
            748.9225845989952,
            1244.3490409949234,
            51455.59419457752,
            13791.446293644578,
            29961.263277456874,
            19402.502625954898,
            1248.6981851703413,
            2894.062655964015,
            39365.433901912395,
            687.4797355922306
           ]
          },
          {
           "customdata": [
            2.6,
            2.4,
            0,
            0,
            2.6,
            0,
            3.1
           ],
           "hovertemplate": "<b>%{text}</b><br>ВВП на душу населения: %{y}<br>Численность населения: %{x}<br>Стоимость Биг Мака: %{customdata}$<extra></extra>",
           "marker": {
            "size": [
             52505202.49719865,
             47548916.473806016,
             0,
             0,
             51529790.66022544,
             0,
             61200000
            ],
            "sizemode": "area",
            "sizeref": 200000
           },
           "mode": "markers",
           "name": "North America",
           "text": [
            "Canada",
            "Costa Rica",
            "Guatemala",
            "Honduras",
            "Mexico",
            "Nicaragua",
            "United States"
           ],
           "type": "scatter",
           "x": [
            32243753,
            4285502,
            12948292,
            7458985,
            106005203,
            5438690,
            295516599
           ],
           "y": [
            36266.18712358514,
            4654.82482200979,
            2101.541817822482,
            1296.6959592220564,
            8277.671251496033,
            1162.29011254959,
            44114.74777767052
           ]
          },
          {
           "customdata": [
            1.6,
            2.1
           ],
           "hovertemplate": "<b>%{text}</b><br>ВВП на душу населения: %{y}<br>Численность населения: %{x}<br>Стоимость Биг Мака: %{customdata}$<extra></extra>",
           "marker": {
            "size": [
             31034482.75862069,
             41966246.50281279
            ],
            "sizemode": "area",
            "sizeref": 200000
           },
           "mode": "markers",
           "name": "Africa",
           "text": [
            "Egypt",
            "South Africa"
           ],
           "type": "scatter",
           "x": [
            75523569,
            47880601
           ],
           "y": [
            1187.5196897838832,
            5383.656542509836
           ]
          }
         ],
         "name": "2005"
        },
        {
         "data": [
          {
           "customdata": [
            1.6,
            2.7,
            3,
            2.6,
            2.8,
            1.8
           ],
           "hovertemplate": "<b>%{text}</b><br>ВВП на душу населения: %{y}<br>Численность населения: %{x}<br>Стоимость Биг Мака: %{customdata}$<extra></extra>",
           "marker": {
            "size": [
             31007245.903779622,
             54830864.4704842,
             59684361.54949785,
             51925227.6721521,
             55136390.01741149,
             35343782.65412748
            ],
            "sizemode": "area",
            "sizeref": 200000
           },
           "mode": "markers",
           "name": "South America",
           "text": [
            "Argentina",
            "Brazil",
            "Chile",
            "Colombia",
            "Peru",
            "Uruguay"
           ],
           "type": "scatter",
           "x": [
            39289878,
            188167356,
            16354504,
            43200897,
            28102056,
            3325401
           ],
           "y": [
            5919.012037077539,
            5886.463588377306,
            9464.550242906053,
            3741.0931711196877,
            3154.331236894126,
            5887.848703375563
           ]
          },
          {
           "customdata": [
            2.4,
            3.1
           ],
           "hovertemplate": "<b>%{text}</b><br>ВВП на душу населения: %{y}<br>Численность населения: %{x}<br>Стоимость Биг Мака: %{customdata}$<extra></extra>",
           "marker": {
            "size": [
             48842801.322512776,
             61519319.83134028
            ],
            "sizemode": "area",
            "sizeref": 200000
           },
           "mode": "markers",
           "name": "Oceania",
           "text": [
            "Australia",
            "New Zealand"
           ],
           "type": "scatter",
           "x": [
            20697900,
            4184600
           ],
           "y": [
            36044.92281084849,
            26671.329417718065
           ]
          },
          {
           "customdata": [
            0,
            0,
            0,
            3.3,
            0,
            2.6,
            4.5,
            0,
            3.5,
            0,
            0,
            0,
            0,
            2.7,
            0,
            0,
            0,
            0,
            0,
            0,
            7,
            2.1,
            0,
            0,
            1.6,
            0,
            0,
            0,
            4.3,
            4.9,
            3.1,
            1.7
           ],
           "hovertemplate": "<b>%{text}</b><br>ВВП на душу населения: %{y}<br>Численность населения: %{x}<br>Стоимость Биг Мака: %{customdata}$<extra></extra>",
           "marker": {
            "size": [
             0,
             0,
             0,
             66322639.961818054,
             0,
             52018877.81856319,
             89850896.08055821,
             0,
             70276499.99121544,
             0,
             0,
             0,
             0,
             54117783.49021049,
             0,
             0,
             0,
             0,
             0,
             0,
             140930468.83961788,
             41732207.633783825,
             0,
             0,
             32089291.942797348,
             0,
             0,
             0,
             85582022.58846718,
             98622417.03193487,
             61354283.576505795,
             33663366.33663367
            ],
            "sizemode": "area",
            "sizeref": 200000
           },
           "mode": "markers",
           "name": "Europe",
           "text": [
            "Austria",
            "Azerbaijan",
            "Belgium",
            "Britain",
            "Croatia",
            "Czech Republic",
            "Denmark",
            "Estonia",
            "Euro area",
            "Finland",
            "France",
            "Germany",
            "Greece",
            "Hungary",
            "Ireland",
            "Italy",
            "Latvia",
            "Lithuania",
            "Moldova",
            "Netherlands",
            "Norway",
            "Poland",
            "Portugal",
            "Romania",
            "Russia",
            "Slovakia",
            "Slovenia",
            "Spain",
            "Sweden",
            "Switzerland",
            "Turkey",
            "Ukraine"
           ],
           "type": "scatter",
           "x": [
            8268641,
            8484550,
            10547958,
            60846820,
            4311159,
            10238905,
            5437272,
            1346810,
            330922789,
            5266268,
            63621381,
            82376451,
            11020362,
            10071370,
            4273591,
            58143979,
            2218357,
            3269909,
            2880095,
            16346101,
            4660677,
            38141267,
            10522288,
            21193760,
            143049637,
            5373054,
            2006868,
            44397319,
            9080505,
            7483934,
            68756810,
            46787786
           ],
           "y": [
            40635.28181597242,
            2473.0818186353667,
            38672.70594297673,
            44599.69756856973,
            11703.337890827874,
            15183.636054137529,
            52026.99951427223,
            12631.567772361506,
            33767.09251663717,
            41188.09369973025,
            36443.623441441174,
            36323.44774218217,
            24801.157806503543,
            11475.822705709254,
            54306.429316689646,
            33501.65816730448,
            9663.373451366575,
            9240.642547974394,
            1183.37921117185,
            44863.350631428686,
            74148.32007571861,
            9038.654807308132,
            19822.846028733584,
            5757.4964285719,
            6920.189124832907,
            13159.75944139644,
            19672.965492901825,
            28365.31348963459,
            46593.60216461111,
            57579.50195380918,
            8035.3773381232495,
            2300.769709258716
           ]
          },
          {
           "customdata": [
            0,
            1.3,
            1.5,
            0,
            1.5,
            0,
            2.2,
            0,
            0,
            0,
            1.5,
            0,
            2.2,
            1.6,
            0,
            2.4,
            2.2,
            2.6,
            1.8,
            1.5,
            2.5,
            0
           ],
           "hovertemplate": "<b>%{text}</b><br>ВВП на душу населения: %{y}<br>Численность населения: %{x}<br>Стоимость Биг Мака: %{customdata}$<extra></extra>",
           "marker": {
            "size": [
             0,
             26041343.733336642,
             30962947.672618434,
             0,
             30866807.610993657,
             0,
             43742618.4331394,
             0,
             0,
             0,
             29342723.004694834,
             0,
             43293647.48980102,
             31190566.755420312,
             0,
             48012803.4142438,
             44028618.602091365,
             51153511.68857741,
             36909329.31863435,
             30184882.404728964,
             49011599.41186081,
             0
            ],
            "sizemode": "area",
            "sizeref": 200000
           },
           "mode": "markers",
           "name": "Asia",
           "text": [
            "Bahrain",
            "China",
            "Hong Kong",
            "India",
            "Indonesia",
            "Israel",
            "Japan",
            "Jordan",
            "Kuwait",
            "Lebanon",
            "Malaysia",
            "Oman",
            "Pakistan",
            "Philippines",
            "Qatar",
            "Saudi Arabia",
            "Singapore",
            "South Korea",
            "Sri Lanka",
            "Thailand",
            "UAE",
            "Vietnam"
           ],
           "type": "scatter",
           "x": [
            958418,
            1311020000,
            6857100,
            1165486291,
            229318262,
            7053700,
            127854000,
            5991540,
            2373672,
            4759753,
            26201961,
            2580758,
            164022627,
            87888675,
            1022711,
            24498310,
            4401365,
            48438292,
            19695972,
            65812536,
            5300174,
            84617540
           ],
           "y": [
            19307.60966331799,
            2099.229434604476,
            28224.215060938877,
            806.753280628799,
            1589.801488661422,
            21837.378488378577,
            35433.988963743024,
            2548.2686582439574,
            42781.36649511474,
            4626.859807965308,
            6209.124508256309,
            14420.51705716995,
            836.860521116047,
            1452.4386555473272,
            59530.15354009373,
            15384.740151926722,
            33769.15416335001,
            21743.477451425413,
            1435.8171774712007,
            3369.543402869873,
            41907.405655967894,
            784.3724222784497
           ]
          },
          {
           "customdata": [
            3,
            2.2,
            0,
            0,
            2.7,
            0,
            3.2
           ],
           "hovertemplate": "<b>%{text}</b><br>ВВП на душу населения: %{y}<br>Численность населения: %{x}<br>Стоимость Биг Мака: %{customdata}$<extra></extra>",
           "marker": {
            "size": [
             60150375.93984962,
             44354166.05336238,
             0,
             0,
             53118330.56675361,
             0,
             63000000
            ],
            "sizemode": "area",
            "sizeref": 200000
           },
           "mode": "markers",
           "name": "North America",
           "text": [
            "Canada",
            "Costa Rica",
            "Guatemala",
            "Honduras",
            "Mexico",
            "Nicaragua",
            "United States"
           ],
           "type": "scatter",
           "x": [
            32571174,
            4345412,
            13213330,
            7634298,
            107560153,
            5513763,
            298379912
           ],
           "y": [
            40385.86995547689,
            5201.5140947006175,
            2287.9357153063006,
            1420.136120936961,
            9068.294387012345,
            1226.6429742834014,
            46298.73144409266
           ]
          },
          {
           "customdata": [
            1.6,
            2.3
           ],
           "hovertemplate": "<b>%{text}</b><br>ВВП на душу населения: %{y}<br>Численность населения: %{x}<br>Стоимость Биг Мака: %{customdata}$<extra></extra>",
           "marker": {
            "size": [
             32229965.156794425,
             45885893.78813545
            ],
            "sizemode": "area",
            "sizeref": 200000
           },
           "mode": "markers",
           "name": "Africa",
           "text": [
            "Egypt",
            "South Africa"
           ],
           "type": "scatter",
           "x": [
            76873663,
            48489459
           ],
           "y": [
            1398.1906244141637,
            5602.011043804571
           ]
          }
         ],
         "name": "2006"
        },
        {
         "data": [
          {
           "customdata": [
            2.7,
            3,
            3.1,
            3.1,
            3,
            2.3
           ],
           "hovertemplate": "<b>%{text}</b><br>ВВП на душу населения: %{y}<br>Численность населения: %{x}<br>Стоимость Биг Мака: %{customdata}$<extra></extra>",
           "marker": {
            "size": [
             53419668.150546335,
             59995312.86618233,
             61834675.5530871,
             61625713.10551171,
             59570465.59021791,
             45977011.49425287
            ],
            "sizemode": "area",
            "sizeref": 200000
           },
           "mode": "markers",
           "name": "South America",
           "text": [
            "Argentina",
            "Brazil",
            "Chile",
            "Colombia",
            "Peru",
            "Uruguay"
           ],
           "type": "scatter",
           "x": [
            39684295,
            190130443,
            16530195,
            43737516,
            28333052,
            3331749
           ],
           "y": [
            7245.448317289446,
            7348.030793555507,
            10502.354520273657,
            4714.072541012022,
            3606.070434774764,
            7026.511491206181
           ]
          },
          {
           "customdata": [
            2.7,
            3.2
           ],
           "hovertemplate": "<b>%{text}</b><br>ВВП на душу населения: %{y}<br>Численность населения: %{x}<br>Стоимость Биг Мака: %{customdata}$<extra></extra>",
           "marker": {
            "size": [
             54465156.11371378,
             64427575.002100885
            ],
            "sizemode": "area",
            "sizeref": 200000
           },
           "mode": "markers",
           "name": "Oceania",
           "text": [
            "Australia",
            "New Zealand"
           ],
           "type": "scatter",
           "x": [
            20827600,
            4223800
           ],
           "y": [
            40960.05449481986,
            32511.126663932002
           ]
          },
          {
           "customdata": [
            0,
            0,
            0,
            3.8,
            0,
            2.4,
            4.8,
            0,
            3.8,
            0,
            0,
            0,
            0,
            3,
            0,
            0,
            0,
            0,
            0,
            0,
            6.8,
            2.3,
            0,
            0,
            1.8,
            0,
            0,
            0,
            4.5,
            5,
            3.2,
            1.8
           ],
           "hovertemplate": "<b>%{text}</b><br>ВВП на душу населения: %{y}<br>Численность населения: %{x}<br>Стоимость Биг Мака: %{customdata}$<extra></extra>",
           "marker": {
            "size": [
             0,
             0,
             0,
             76674619.99193765,
             0,
             48462524.09754827,
             96470567.78578319,
             0,
             76184219.95319241,
             0,
             0,
             0,
             0,
             60692189.27527868,
             0,
             0,
             0,
             0,
             0,
             0,
             136014289.6940498,
             46437284.42836712,
             0,
             0,
             36934441.36657433,
             0,
             0,
             0,
             90892952.24569501,
             100921105.32639167,
             64550452.20783826,
             35643564.35643564
            ],
            "sizemode": "area",
            "sizeref": 200000
           },
           "mode": "markers",
           "name": "Europe",
           "text": [
            "Austria",
            "Azerbaijan",
            "Belgium",
            "Britain",
            "Croatia",
            "Czech Republic",
            "Denmark",
            "Estonia",
            "Euro area",
            "Finland",
            "France",
            "Germany",
            "Greece",
            "Hungary",
            "Ireland",
            "Italy",
            "Latvia",
            "Lithuania",
            "Moldova",
            "Netherlands",
            "Norway",
            "Poland",
            "Portugal",
            "Romania",
            "Russia",
            "Slovakia",
            "Slovenia",
            "Spain",
            "Sweden",
            "Switzerland",
            "Turkey",
            "Ukraine"
           ],
           "type": "scatter",
           "x": [
            8295487,
            8581300,
            10625700,
            61322463,
            4310217,
            10298828,
            5461438,
            1340680,
            332645165,
            5288720,
            64016225,
            82266372,
            11048473,
            10055780,
            4398942,
            58438310,
            2200325,
            3231294,
            2873429,
            16381696,
            4709153,
            38120560,
            10542964,
            20882982,
            142805114,
            5374622,
            2018122,
            45226803,
            9148092,
            7551117,
            69581848,
            46509355
           ],
           "y": [
            46855.77174520953,
            3851.4378687117223,
            44262.89600099542,
            50566.82659568289,
            13962.847567804567,
            18373.648997691293,
            58487.05496776967,
            16741.939124566787,
            38666.73429236886,
            48414.84509297221,
            41508.4339850416,
            41587.21289842635,
            28827.326355522342,
            13918.960191013723,
            61359.74138125031,
            37822.66523774267,
            14042.462420021224,
            12297.91534803961,
            1531.685476182143,
            51733.44213179649,
            85139.96044695449,
            11255.379833752993,
            22782.094622462904,
            8360.166321324847,
            9101.255049056717,
            16085.61152333805,
            23787.646692313545,
            32549.970978551366,
            53700.005336306305,
            63555.23749955046,
            9711.873593975559,
            3065.611293908419
           ]
          },
          {
           "customdata": [
            0,
            1.4,
            1.5,
            0,
            1.7,
            0,
            2.3,
            0,
            0,
            0,
            1.6,
            0,
            2.3,
            1.7,
            0,
            2.4,
            2.3,
            3.1,
            1.8,
            1.8,
            2.7,
            0
           ],
           "hovertemplate": "<b>%{text}</b><br>ВВП на душу населения: %{y}<br>Численность населения: %{x}<br>Стоимость Биг Мака: %{customdata}$<extra></extra>",
           "marker": {
            "size": [
             0,
             28298367.69869956,
             30775346.38293507,
             0,
             34983498.349834986,
             0,
             46058313.11428219,
             0,
             0,
             0,
             31410622.501427755,
             0,
             46623928.06593956,
             34658511.7227319,
             0,
             48012803.4142438,
             46815566.175753444,
             61692283.14630645,
             36909329.31863435,
             35127478.75354108,
             54457332.67984534,
             0
            ],
            "sizemode": "area",
            "sizeref": 200000
           },
           "mode": "markers",
           "name": "Asia",
           "text": [
            "Bahrain",
            "China",
            "Hong Kong",
            "India",
            "Indonesia",
            "Israel",
            "Japan",
            "Jordan",
            "Kuwait",
            "Lebanon",
            "Malaysia",
            "Oman",
            "Pakistan",
            "Philippines",
            "Qatar",
            "Saudi Arabia",
            "Singapore",
            "South Korea",
            "Sri Lanka",
            "Thailand",
            "UAE",
            "Vietnam"
           ],
           "type": "scatter",
           "x": [
            1035919,
            1317885000,
            6916300,
            1183209472,
            232374245,
            7180100,
            128001000,
            6255280,
            2504019,
            4767344,
            26720370,
            2657158,
            167808105,
            89405482,
            1218434,
            25184597,
            4588599,
            48683638,
            19842044,
            66182067,
            6168838,
            85419591
           ],
           "y": [
            20976.543532843785,
            2693.969826834853,
            30594.01784102309,
            1028.3347710766636,
            1860.0027631068194,
            24924.33094966477,
            35275.22843126671,
            2773.740242127802,
            45782.27655576974,
            5207.79600017536,
            7243.45598744703,
            15838.465605612273,
            908.0950905912201,
            1744.640312678735,
            65421.7527679693,
            16516.623620108552,
            39432.938349376134,
            24086.410439167674,
            1630.3889060432282,
            3973.016991482375,
            41809.51638284196,
            906.284198109134
           ]
          },
          {
           "customdata": [
            3.1,
            2.2,
            0,
            0,
            2.7,
            0,
            3.2
           ],
           "hovertemplate": "<b>%{text}</b><br>ВВП на душу населения: %{y}<br>Численность населения: %{x}<br>Стоимость Биг Мака: %{customdata}$<extra></extra>",
           "marker": {
            "size": [
             61795122.7816317,
             44354166.05336238,
             0,
             0,
             53262806.03155362,
             0,
             64400000.00000001
            ],
            "sizemode": "area",
            "sizeref": 200000
           },
           "mode": "markers",
           "name": "North America",
           "text": [
            "Canada",
            "Costa Rica",
            "Guatemala",
            "Honduras",
            "Mexico",
            "Nicaragua",
            "United States"
           ],
           "type": "scatter",
           "x": [
            32889025,
            4404628,
            13477017,
            7808518,
            109170502,
            5590055,
            301231207
           ],
           "y": [
            44543.04103590027,
            6071.789164515528,
            2531.2060801227008,
            1572.065503889099,
            9642.680605049156,
            1327.9596986927481,
            47975.967675885586
           ]
          },
          {
           "customdata": [
            1.6,
            2.2
           ],
           "hovertemplate": "<b>%{text}</b><br>ВВП на душу населения: %{y}<br>Численность населения: %{x}<br>Стоимость Биг Мака: %{customdata}$<extra></extra>",
           "marker": {
            "size": [
             31894736.842105262,
             43602095.71363269
            ],
            "sizemode": "area",
            "sizeref": 200000
           },
           "mode": "markers",
           "name": "Africa",
           "text": [
            "Egypt",
            "South Africa"
           ],
           "type": "scatter",
           "x": [
            78232126,
            49119759
           ],
           "y": [
            1667.8437205260025,
            6095.622438870232
           ]
          }
         ],
         "name": "2007"
        },
        {
         "data": [
          {
           "customdata": [
            3.6,
            4.7,
            3.1,
            3.9,
            3.3,
            3.2
           ],
           "hovertemplate": "<b>%{text}</b><br>ВВП на душу населения: %{y}<br>Численность населения: %{x}<br>Стоимость Биг Мака: %{customdata}$<extra></extra>",
           "marker": {
            "size": [
             72859744.99089254,
             94661113.21469142,
             62670575.154149406,
             77836154.89394824,
             66901408.45070423,
             63707571.801566586
            ],
            "sizemode": "area",
            "sizeref": 200000
           },
           "mode": "markers",
           "name": "South America",
           "text": [
            "Argentina",
            "Brazil",
            "Chile",
            "Colombia",
            "Peru",
            "Uruguay"
           ],
           "type": "scatter",
           "x": [
            40080160,
            192030362,
            16708258,
            44254975,
            28562317,
            3340221
           ],
           "y": [
            9020.87309807194,
            8831.023116975637,
            10751.479674217024,
            5472.536133452409,
            4220.61696939506,
            9091.079039169204
           ]
          },
          {
           "customdata": [
            3.4,
            3.7
           ],
           "hovertemplate": "<b>%{text}</b><br>ВВП на душу населения: %{y}<br>Численность населения: %{x}<br>Стоимость Биг Мака: %{customdata}$<extra></extra>",
           "marker": {
            "size": [
             67251461.9883041,
             74372011.83881004
            ],
            "sizemode": "area",
            "sizeref": 200000
           },
           "mode": "markers",
           "name": "Oceania",
           "text": [
            "Australia",
            "New Zealand"
           ],
           "type": "scatter",
           "x": [
            21249200,
            4259800
           ],
           "y": [
            49601.65670821772,
            31290.253724534723
           ]
          },
          {
           "customdata": [
            0,
            0,
            0,
            4.6,
            0,
            4.6,
            6,
            0,
            5.3,
            0,
            0,
            0,
            0,
            4.6,
            0,
            0,
            0,
            0,
            0,
            0,
            7.9,
            3.4,
            0,
            0,
            2.5,
            0,
            0,
            0,
            6.4,
            6.4,
            4.3,
            2.4
           ],
           "hovertemplate": "<b>%{text}</b><br>ВВП на душу населения: %{y}<br>Численность населения: %{x}<br>Стоимость Биг Мака: %{customdata}$<extra></extra>",
           "marker": {
            "size": [
             0,
             0,
             0,
             91409930.05270238,
             0,
             91157715.40114291,
             119037496.81149563,
             0,
             106854091.76006944,
             0,
             0,
             0,
             0,
             92889257.98119754,
             0,
             0,
             0,
             0,
             0,
             0,
             157506669.42303336,
             68916291.31900859,
             0,
             0,
             50788513.18779699,
             0,
             0,
             0,
             127498594.99903537,
             127182898.79176247,
             86355061.83190107,
             47826086.95652175
            ],
            "sizemode": "area",
            "sizeref": 200000
           },
           "mode": "markers",
           "name": "Europe",
           "text": [
            "Austria",
            "Azerbaijan",
            "Belgium",
            "Britain",
            "Croatia",
            "Czech Republic",
            "Denmark",
            "Estonia",
            "Euro area",
            "Finland",
            "France",
            "Germany",
            "Greece",
            "Hungary",
            "Ireland",
            "Italy",
            "Latvia",
            "Lithuania",
            "Moldova",
            "Netherlands",
            "Norway",
            "Poland",
            "Portugal",
            "Romania",
            "Russia",
            "Slovakia",
            "Slovenia",
            "Spain",
            "Sweden",
            "Switzerland",
            "Turkey",
            "Ukraine"
           ],
           "type": "scatter",
           "x": [
            8321496,
            8763400,
            10709973,
            61806995,
            4309705,
            10384603,
            5493621,
            1337090,
            334274725,
            5313399,
            64374984,
            82110097,
            11077841,
            10038188,
            4489544,
            58826731,
            2177322,
            3198231,
            2867964,
            16445593,
            4768212,
            38125759,
            10558177,
            20537875,
            142742366,
            5379233,
            2021316,
            45954106,
            9219637,
            7647675,
            70418604,
            46258189
           ],
           "y": [
            51708.765754175816,
            5574.603802186127,
            48106.892915787925,
            47286.99849283661,
            16309.439014886957,
            22698.853957260475,
            64322.063502084144,
            18227.12007819391,
            42177.820921053186,
            53554.038922467334,
            45334.11443582463,
            45427.151677488946,
            31997.28201088136,
            15753.473284019487,
            61262.1005610307,
            40778.342736721,
            16376.998363393333,
            14961.568175918657,
            2111.201495041974,
            57644.47997493523,
            96944.0956064873,
            14001.38155991654,
            24847.54513509103,
            10435.04398410371,
            11635.272933788838,
            18677.292710931837,
            27483.3369524581,
            35366.25960119842,
            56152.552340314054,
            72487.8459296849,
            10854.172252915096,
            3887.2423368052514
           ]
          },
          {
           "customdata": [
            0,
            1.8,
            1.7,
            0,
            2,
            0,
            2.6,
            0,
            0,
            0,
            1.7,
            0,
            2,
            2,
            0,
            2.7,
            2.9,
            3.1,
            2,
            1.9,
            2.7,
            0
           ],
           "hovertemplate": "<b>%{text}</b><br>ВВП на душу населения: %{y}<br>Численность населения: %{x}<br>Стоимость Биг Мака: %{customdata}$<extra></extra>",
           "marker": {
            "size": [
             0,
             36581796.89786363,
             34113935.4143689,
             0,
             40865384.615384616,
             0,
             52407468.06419914,
             0,
             0,
             0,
             33971587.3996294,
             0,
             39492242.59520451,
             39114308.19377318,
             0,
             53339734.101425506,
             58399556.45906487,
             62865281.665929966,
             39051603.90516039,
             37170263.788968824,
             54453625.930816665,
             0
            ],
            "sizemode": "area",
            "sizeref": 200000
           },
           "mode": "markers",
           "name": "Asia",
           "text": [
            "Bahrain",
            "China",
            "Hong Kong",
            "India",
            "Indonesia",
            "Israel",
            "Japan",
            "Jordan",
            "Kuwait",
            "Lebanon",
            "Malaysia",
            "Oman",
            "Pakistan",
            "Philippines",
            "Qatar",
            "Saudi Arabia",
            "Singapore",
            "South Korea",
            "Sri Lanka",
            "Thailand",
            "UAE",
            "Vietnam"
           ],
           "type": "scatter",
           "x": [
            1114641,
            1324655000,
            6957800,
            1200669765,
            235469762,
            7308800,
            128063000,
            6556478,
            2656009,
            4764741,
            27236006,
            2750963,
            171648986,
            90901965,
            1436665,
            25888541,
            4839396,
            49054708,
            19983984,
            66530984,
            7089487,
            86243413
           ],
           "y": [
            23066.53375868921,
            3468.304463247472,
            31515.662771301842,
            998.522339019264,
            2166.8541670002537,
            29567.80387567795,
            39339.29757318258,
            3398.1517215430295,
            55494.95099064574,
            6111.332411479512,
            8474.586828762263,
            22139.640409369298,
            990.8465996199068,
            1991.2315416658153,
            80234.47007134926,
            20078.257789807467,
            40007.469261214,
            21350.427979823056,
            2037.3221030266836,
            4379.658523879611,
            44498.934230163344,
            1149.4246418462983
           ]
          },
          {
           "customdata": [
            4.1,
            3.3,
            0,
            0,
            3.1,
            0,
            3.6
           ],
           "hovertemplate": "<b>%{text}</b><br>ВВП на душу населения: %{y}<br>Численность населения: %{x}<br>Стоимость Биг Мака: %{customdata}$<extra></extra>",
           "marker": {
            "size": [
             81510637.2378058,
             65333381.72843091,
             0,
             0,
             62939469.93165167,
             0,
             71400000
            ],
            "sizemode": "area",
            "sizeref": 200000
           },
           "mode": "markers",
           "name": "North America",
           "text": [
            "Canada",
            "Costa Rica",
            "Guatemala",
            "Honduras",
            "Mexico",
            "Nicaragua",
            "United States"
           ],
           "type": "scatter",
           "x": [
            33247118,
            4463125,
            13739299,
            7980955,
            110815271,
            5667432,
            304093966
           ],
           "y": [
            46594.45095352896,
            6859.079021783325,
            2848.5031597140874,
            1727.827701384358,
            10016.571304388364,
            1499.2586780452787,
            48382.558449055185
           ]
          },
          {
           "customdata": [
            2.4,
            2.2
           ],
           "hovertemplate": "<b>%{text}</b><br>ВВП на душу населения: %{y}<br>Численность населения: %{x}<br>Стоимость Биг Мака: %{customdata}$<extra></extra>",
           "marker": {
            "size": [
             48941176.47058824,
             44822001.12385549
            ],
            "sizemode": "area",
            "sizeref": 200000
           },
           "mode": "markers",
           "name": "Africa",
           "text": [
            "Egypt",
            "South Africa"
           ],
           "type": "scatter",
           "x": [
            79636079,
            49779471
           ],
           "y": [
            2044.5278554985362,
            5760.805287238308
           ]
          }
         ],
         "name": "2008"
        },
        {
         "data": [
          {
           "customdata": [
            3,
            4,
            3.2,
            3.3,
            2.7,
            2.6
           ],
           "hovertemplate": "<b>%{text}</b><br>ВВП на душу населения: %{y}<br>Численность населения: %{x}<br>Стоимость Биг Мака: %{customdata}$<extra></extra>",
           "marker": {
            "size": [
             60347654.968842246,
             80416604.07591006,
             63804575.6995716,
             66806642.489024624,
             53220585.32073727,
             52654294.34613724
            ],
            "sizemode": "area",
            "sizeref": 200000
           },
           "mode": "markers",
           "name": "South America",
           "text": [
            "Argentina",
            "Brazil",
            "Chile",
            "Colombia",
            "Peru",
            "Uruguay"
           ],
           "type": "scatter",
           "x": [
            40482788,
            193886508,
            16886186,
            44750054,
            28792655,
            3349676
           ],
           "y": [
            8225.13717626412,
            8597.91535151626,
            10208.906762286108,
            5193.241450755456,
            4196.312793018879,
            9451.932448699337
           ]
          },
          {
           "customdata": [
            3.4,
            3.1
           ],
           "hovertemplate": "<b>%{text}</b><br>ВВП на душу населения: %{y}<br>Численность населения: %{x}<br>Стоимость Биг Мака: %{customdata}$<extra></extra>",
           "marker": {
            "size": [
             67448908.22907764,
             61544258.48588564
            ],
            "sizemode": "area",
            "sizeref": 200000
           },
           "mode": "markers",
           "name": "Oceania",
           "text": [
            "Australia",
            "New Zealand"
           ],
           "type": "scatter",
           "x": [
            21691700,
            4302600
           ],
           "y": [
            42772.359166449794,
            28205.73284358295
           ]
          },
          {
           "customdata": [
            0,
            0,
            0,
            3.7,
            0,
            3.6,
            5.5,
            0,
            4.6,
            0,
            0,
            0,
            0,
            3.6,
            0,
            0,
            0,
            0,
            0,
            0,
            6.1,
            2.4,
            0,
            0,
            2,
            0,
            0,
            0,
            4.9,
            6,
            3.6,
            1.8
           ],
           "hovertemplate": "<b>%{text}</b><br>ВВП на душу населения: %{y}<br>Численность населения: %{x}<br>Стоимость Биг Мака: %{customdata}$<extra></extra>",
           "marker": {
            "size": [
             0,
             0,
             0,
             73765480.01212704,
             0,
             72791381.20895639,
             110538641.68618266,
             0,
             92342379.95123398,
             0,
             0,
             0,
             0,
             72304510.44574223,
             0,
             0,
             0,
             0,
             0,
             0,
             122902024.04270846,
             48173678.78931939,
             0,
             0,
             40858765.88232066,
             0,
             0,
             0,
             98619952.8394328,
             119699829.65793471,
             72900874.16534951,
             36553524.804177545
            ],
            "sizemode": "area",
            "sizeref": 200000
           },
           "mode": "markers",
           "name": "Europe",
           "text": [
            "Austria",
            "Azerbaijan",
            "Belgium",
            "Britain",
            "Croatia",
            "Czech Republic",
            "Denmark",
            "Estonia",
            "Euro area",
            "Finland",
            "France",
            "Germany",
            "Greece",
            "Hungary",
            "Ireland",
            "Italy",
            "Latvia",
            "Lithuania",
            "Moldova",
            "Netherlands",
            "Norway",
            "Poland",
            "Portugal",
            "Romania",
            "Russia",
            "Slovakia",
            "Slovenia",
            "Spain",
            "Sweden",
            "Switzerland",
            "Turkey",
            "Ukraine"
           ],
           "type": "scatter",
           "x": [
            8343323,
            8947243,
            10796493,
            62276270,
            4305181,
            10443936,
            5523095,
            1334515,
            335360890,
            5338871,
            64707040,
            81902307,
            11107017,
            10022650,
            4535375,
            59095365,
            2141669,
            3162916,
            2864346,
            16530388,
            4828726,
            38151603,
            10568247,
            20367487,
            142785349,
            5386406,
            2039669,
            46362946,
            9298515,
            7743831,
            71321399,
            46053331
           ],
           "y": [
            47963.179402321715,
            4950.294791423749,
            44583.544807081336,
            38713.13742833539,
            14555.996448113541,
            19741.597627982588,
            58163.27687628151,
            14794.970792644894,
            38423.21376227174,
            47293.992833504315,
            41575.41874837375,
            41485.90164951397,
            29710.97029502845,
            13046.481008184763,
            52105.15248377389,
            37079.75867045461,
            12257.216568305139,
            11837.391027108593,
            1899.0101165837755,
            52514.02711653229,
            79977.69708174931,
            11527.534422646382,
            23059.79744572946,
            8548.118672186363,
            8562.813277165153,
            16531.670514070625,
            24694.230555783462,
            32042.474078661653,
            46946.96027199547,
            69927.46877011715,
            9038.5201501726,
            2542.995424175224
           ]
          },
          {
           "customdata": [
            0,
            1.8,
            1.7,
            0,
            2,
            3.8,
            3.5,
            0,
            0,
            0,
            1.9,
            0,
            2.3,
            2.1,
            0,
            2.9,
            2.9,
            2.6,
            1.8,
            1.9,
            2.7,
            0
           ],
           "hovertemplate": "<b>%{text}</b><br>ВВП на душу населения: %{y}<br>Численность населения: %{x}<br>Стоимость Биг Мака: %{customdata}$<extra></extra>",
           "marker": {
            "size": [
             0,
             36588757.00674696,
             34320366.42797239,
             0,
             40980392.15686274,
             75485940.74353652,
             69140603.89996219,
             0,
             0,
             0,
             37590227.651304826,
             0,
             46004842.61501211,
             41082980.262478046,
             0,
             58660409.556314,
             57630590.64527142,
             51730696.08216052,
             36566254.57078182,
             37752085.46758378,
             54451402.123604685,
             0
            ],
            "sizemode": "area",
            "sizeref": 200000
           },
           "mode": "markers",
           "name": "Asia",
           "text": [
            "Bahrain",
            "China",
            "Hong Kong",
            "India",
            "Indonesia",
            "Israel",
            "Japan",
            "Jordan",
            "Kuwait",
            "Lebanon",
            "Malaysia",
            "Oman",
            "Pakistan",
            "Philippines",
            "Qatar",
            "Saudi Arabia",
            "Singapore",
            "South Korea",
            "Sri Lanka",
            "Thailand",
            "UAE",
            "Vietnam"
           ],
           "type": "scatter",
           "x": [
            1185076,
            1331260000,
            6972800,
            1217726215,
            238620563,
            7485600,
            128047000,
            6893260,
            2821045,
            4813026,
            27735040,
            2876186,
            175525609,
            92414158,
            1654950,
            26630303,
            4987573,
            49307835,
            20123508,
            66866839,
            7917372,
            87092252
           ],
           "y": [
            19355.904672026434,
            3832.2359515672747,
            30697.34038351695,
            1101.9608400223938,
            2261.247223745763,
            27715.63680831904,
            40855.17563545964,
            3504.002460374337,
            37561.67266642999,
            7354.953604784911,
            7292.494447279074,
            16823.77165070225,
            957.9956807501063,
            1905.8947105259674,
            59094.44493691748,
            16113.142485335862,
            38927.206881771555,
            19143.851605302567,
            2090.4018261396022,
            4213.006338721829,
            32024.181603118686,
            1217.2685553041158
           ]
          },
          {
           "customdata": [
            3.4,
            3.4,
            0,
            0,
            2.4,
            0,
            3.6
           ],
           "hovertemplate": "<b>%{text}</b><br>ВВП на душу населения: %{y}<br>Численность населения: %{x}<br>Стоимость Биг Мака: %{customdata}$<extra></extra>",
           "marker": {
            "size": [
             67019856.139897496,
             68661276.75644128,
             0,
             0,
             47790071.25065168,
             0,
             71400000
            ],
            "sizemode": "area",
            "sizeref": 200000
           },
           "mode": "markers",
           "name": "North America",
           "text": [
            "Canada",
            "Costa Rica",
            "Guatemala",
            "Honduras",
            "Mexico",
            "Nicaragua",
            "United States"
           ],
           "type": "scatter",
           "x": [
            33628895,
            4520740,
            14000190,
            8150775,
            112463887,
            5745526,
            306771529
           ],
           "y": [
            40773.061528975006,
            6760.4775154135605,
            2695.2212644719893,
            1789.706651107545,
            8002.97210649807,
            1444.3725271719804,
            47099.980471134266
           ]
          },
          {
           "customdata": [
            2.3,
            2.2
           ],
           "hovertemplate": "<b>%{text}</b><br>ВВП на душу населения: %{y}<br>Численность населения: %{x}<br>Стоимость Биг Мака: %{customdata}$<extra></extra>",
           "marker": {
            "size": [
             46555351.627199076,
             43354869.87500755
            ],
            "sizemode": "area",
            "sizeref": 200000
           },
           "mode": "markers",
           "name": "Africa",
           "text": [
            "Egypt",
            "South Africa"
           ],
           "type": "scatter",
           "x": [
            81134798,
            50477011
           ],
           "y": [
            2329.2394799677077,
            5862.797340211666
           ]
          }
         ],
         "name": "2009"
        },
        {
         "data": [
          {
           "customdata": [
            1.8,
            4.8,
            3.2,
            3.9,
            2.8,
            3.3
           ],
           "hovertemplate": "<b>%{text}</b><br>ВВП на душу населения: %{y}<br>Численность населения: %{x}<br>Стоимость Биг Мака: %{customdata}$<extra></extra>",
           "marker": {
            "size": [
             36856653.942345664,
             95166250.79788776,
             63605645.00099383,
             78259209.77285743,
             56129594.14736109,
             66465256.79758308
            ],
            "sizemode": "area",
            "sizeref": 200000
           },
           "mode": "markers",
           "name": "South America",
           "text": [
            "Argentina",
            "Brazil",
            "Chile",
            "Colombia",
            "Peru",
            "Uruguay"
           ],
           "type": "scatter",
           "x": [
            40788453,
            195713635,
            17062536,
            45222700,
            29027674,
            3359275
           ],
           "y": [
            10385.964431955534,
            11286.24301624575,
            12808.03458642203,
            6336.709213679878,
            5082.354756663521,
            11992.016626177405
           ]
          },
          {
           "customdata": [
            4,
            3.6
           ],
           "hovertemplate": "<b>%{text}</b><br>ВВП на душу населения: %{y}<br>Численность населения: %{x}<br>Стоимость Биг Мака: %{customdata}$<extra></extra>",
           "marker": {
            "size": [
             79557404.78258881,
             72226111.95047353
            ],
            "sizemode": "area",
            "sizeref": 200000
           },
           "mode": "markers",
           "name": "Oceania",
           "text": [
            "Australia",
            "New Zealand"
           ],
           "type": "scatter",
           "x": [
            22031750,
            4350700
           ],
           "y": [
            52022.125596187776,
            33700.1260392461
           ]
          },
          {
           "customdata": [
            0,
            0,
            0,
            3.7,
            0,
            3.7,
            6,
            0,
            4.8,
            0,
            0,
            0,
            0,
            3.9,
            0,
            0,
            0,
            0,
            0,
            0,
            7,
            2.9,
            0,
            0,
            2.3,
            0,
            0,
            0,
            5.5,
            6.3,
            3.8,
            1.8
           ],
           "hovertemplate": "<b>%{text}</b><br>ВВП на душу населения: %{y}<br>Численность населения: %{x}<br>Стоимость Биг Мака: %{customdata}$<extra></extra>",
           "marker": {
            "size": [
             0,
             0,
             0,
             73426560.00117482,
             0,
             74288648.30135009,
             119877178.19816154,
             0,
             96878879.93967351,
             0,
             0,
             0,
             0,
             77149414.8431188,
             0,
             0,
             0,
             0,
             0,
             0,
             140460534.97906262,
             57129758.60913724,
             0,
             0,
             46780499.21475591,
             0,
             0,
             0,
             110136823.82344222,
             126072831.3048538,
             76633549.21840562,
             36553524.804177545
            ],
            "sizemode": "area",
            "sizeref": 200000
           },
           "mode": "markers",
           "name": "Europe",
           "text": [
            "Austria",
            "Azerbaijan",
            "Belgium",
            "Britain",
            "Croatia",
            "Czech Republic",
            "Denmark",
            "Estonia",
            "Euro area",
            "Finland",
            "France",
            "Germany",
            "Greece",
            "Hungary",
            "Ireland",
            "Italy",
            "Latvia",
            "Lithuania",
            "Moldova",
            "Netherlands",
            "Norway",
            "Poland",
            "Portugal",
            "Romania",
            "Russia",
            "Slovakia",
            "Slovenia",
            "Spain",
            "Sweden",
            "Switzerland",
            "Turkey",
            "Ukraine"
           ],
           "type": "scatter",
           "x": [
            8363404,
            9054332,
            10895586,
            62766365,
            4295427,
            10474410,
            5547683,
            1331475,
            336151479,
            5363352,
            65027507,
            81776930,
            11121341,
            10000023,
            4560155,
            59277417,
            2097555,
            3097282,
            2861487,
            16615394,
            4889252,
            38042794,
            10573100,
            20246871,
            142849468,
            5391428,
            2048583,
            46576897,
            9378126,
            7824909,
            72326988,
            45870741
           ],
           "y": [
            46858.0432733717,
            5842.805783585757,
            44141.87814157338,
            39435.83990185046,
            13923.628583705531,
            19808.07109125182,
            58041.39843633856,
            14790.821222059369,
            37567.13056398065,
            46459.97325485424,
            40638.33400426007,
            41531.93419786888,
            26917.758978725404,
            13113.52596172769,
            48715.17685539329,
            36000.52011792552,
            11348.40623046733,
            11957.084213606446,
            2437.5299784242247,
            50950.03434351807,
            87693.79006580987,
            12599.533581870695,
            22498.690858655642,
            8209.919456216914,
            10674.995782567492,
            16727.291326461913,
            23509.54339414932,
            30502.71970807759,
            52869.04428915862,
            74605.72102070517,
            10672.389245602997,
            2965.1397152061704
           ]
          },
          {
           "customdata": [
            0,
            1.8,
            1.9,
            0,
            2.2,
            4,
            3.5,
            0,
            0,
            0,
            2.1,
            0,
            2.4,
            2.2,
            0,
            2.7,
            3.2,
            3,
            1.8,
            2.1,
            3,
            0
           ],
           "hovertemplate": "<b>%{text}</b><br>ВВП на душу населения: %{y}<br>Численность населения: %{x}<br>Стоимость Биг Мака: %{customdata}$<extra></extra>",
           "marker": {
            "size": [
             0,
             36618232.950550735,
             38161295.9369823,
             0,
             44849785.40772533,
             79839249.83255191,
             69914791.34804456,
             0,
             0,
             0,
             41623616.23616236,
             0,
             48426150.12106537,
             44216027.87456446,
             0,
             53330489.040584505,
             63774139.228261255,
             59622972.38053485,
             36566254.57078182,
             42251395.805039994,
             59896542.33596515,
             0
            ],
            "sizemode": "area",
            "sizeref": 200000
           },
           "mode": "markers",
           "name": "Asia",
           "text": [
            "Bahrain",
            "China",
            "Hong Kong",
            "India",
            "Indonesia",
            "Israel",
            "Japan",
            "Jordan",
            "Kuwait",
            "Lebanon",
            "Malaysia",
            "Oman",
            "Pakistan",
            "Philippines",
            "Qatar",
            "Saudi Arabia",
            "Singapore",
            "South Korea",
            "Sri Lanka",
            "Thailand",
            "UAE",
            "Vietnam"
           ],
           "type": "scatter",
           "x": [
            1240860,
            1337705000,
            7024200,
            1234281170,
            241834215,
            7623600,
            128070000,
            7261539,
            2991884,
            4953061,
            28208035,
            3041434,
            179424641,
            93966780,
            1856327,
            27421461,
            5076732,
            49554112,
            20261737,
            67195028,
            8549988,
            87967651
           ],
           "y": [
            20722.137289134713,
            4550.453595838574,
            32549.998231120982,
            1357.5637191326186,
            3122.3628152164943,
            30693.593078687103,
            44507.676385917155,
            3690.1132677867186,
            38577.49827882131,
            7761.6461905721935,
            9040.566251171731,
            18756.979252000965,
            987.4097230439213,
            2217.4740085661547,
            67403.16029781068,
            19262.547681175703,
            47236.96023454203,
            23087.225643847476,
            2799.6488761997207,
            5076.340174387069,
            33893.30351403897,
            1317.890706178354
           ]
          },
          {
           "customdata": [
            4,
            3.5,
            0,
            0,
            2.5,
            0,
            3.6
           ],
           "hovertemplate": "<b>%{text}</b><br>ВВП на душу населения: %{y}<br>Численность населения: %{x}<br>Стоимость Биг Мака: %{customdata}$<extra></extra>",
           "marker": {
            "size": [
             79475308.64197531,
             70377808.6753523,
             0,
             0,
             49946346.69788313,
             0,
             71600000
            ],
            "sizemode": "area",
            "sizeref": 200000
           },
           "mode": "markers",
           "name": "North America",
           "text": [
            "Canada",
            "Costa Rica",
            "Guatemala",
            "Honduras",
            "Mexico",
            "Nicaragua",
            "United States"
           ],
           "type": "scatter",
           "x": [
            34004889,
            4577378,
            14259687,
            8317470,
            114092963,
            5824065,
            309321666
           ],
           "y": [
            47448.013219838176,
            8141.913126754618,
            2898.942214704481,
            1904.3464649688185,
            9271.398233246427,
            1503.8704232313567,
            48467.51577692589
           ]
          },
          {
           "customdata": [
            2.4,
            2.5
           ],
           "hovertemplate": "<b>%{text}</b><br>ВВП на душу населения: %{y}<br>Численность населения: %{x}<br>Стоимость Биг Мака: %{customdata}$<extra></extra>",
           "marker": {
            "size": [
             47575480.32936871,
             49147785.61160927
            ],
            "sizemode": "area",
            "sizeref": 200000
           },
           "mode": "markers",
           "name": "Africa",
           "text": [
            "Egypt",
            "South Africa"
           ],
           "type": "scatter",
           "x": [
            82761235,
            51216964
           ],
           "y": [
            2644.817039097508,
            7328.615628939661
           ]
          }
         ],
         "name": "2010"
        },
        {
         "data": [
          {
           "customdata": [
            4.8,
            6.2,
            4,
            4.7,
            3.7,
            4.9
           ],
           "hovertemplate": "<b>%{text}</b><br>ВВП на душу населения: %{y}<br>Численность населения: %{x}<br>Стоимость Биг Мака: %{customdata}$<extra></extra>",
           "marker": {
            "size": [
             96793708.40895341,
             123248572.91126102,
             79956780.11885467,
             94888449.59051116,
             73059360.7305936,
             97560975.6097561
            ],
            "sizemode": "area",
            "sizeref": 200000
           },
           "mode": "markers",
           "name": "South America",
           "text": [
            "Argentina",
            "Brazil",
            "Chile",
            "Colombia",
            "Peru",
            "Uruguay"
           ],
           "type": "scatter",
           "x": [
            41261490,
            197514534,
            17233576,
            45663099,
            29264318,
            3368934
           ],
           "y": [
            12848.86419697054,
            13245.612499544768,
            14637.24023554032,
            7335.110509636479,
            5869.323079614737,
            14236.681188686007
           ]
          },
          {
           "customdata": [
            4.9,
            4.4
           ],
           "hovertemplate": "<b>%{text}</b><br>ВВП на душу населения: %{y}<br>Численность населения: %{x}<br>Стоимость Биг Мака: %{customdata}$<extra></extra>",
           "marker": {
            "size": [
             98874480.02824348,
             88230000.01235218
            ],
            "sizemode": "area",
            "sizeref": 200000
           },
           "mode": "markers",
           "name": "Oceania",
           "text": [
            "Australia",
            "New Zealand"
           ],
           "type": "scatter",
           "x": [
            22340024,
            4384000
           ],
           "y": [
            62517.83374715041,
            38437.5431572751
           ]
          },
          {
           "customdata": [
            4.4,
            0,
            5.4,
            3.9,
            0,
            4.1,
            5.5,
            3.2,
            4.9,
            5.4,
            5,
            4.9,
            4.7,
            4,
            5.4,
            5,
            0,
            0,
            0,
            4.7,
            8.3,
            3.1,
            4.2,
            0,
            2.7,
            0,
            0,
            5,
            7.6,
            8.1,
            3.8,
            2.1
           ],
           "hovertemplate": "<b>%{text}</b><br>ВВП на душу населения: %{y}<br>Численность населения: %{x}<br>Стоимость Биг Мака: %{customdata}$<extra></extra>",
           "marker": {
            "size": [
             88599570.03546198,
             0,
             107523750.04303637,
             77832739.9949253,
             0,
             81448016.9663786,
             109648068.17416729,
             63080600.02524802,
             98568036.71732485,
             107523750.04303637,
             100355500.04016729,
             97488200.03901966,
             93473980.03741296,
             80819939.55519257,
             108957400.0436102,
             100355500.04016729,
             0,
             0,
             0,
             93187250.03729819,
             166234150.03555563,
             61713386.72768879,
             83151700.03328148,
             0,
             54049184.758129895,
             0,
             0,
             100355500.04016729,
             152797070.33716378,
             161260311.3564473,
             75456365.90533128,
             41280960.720540404
            ],
            "sizemode": "area",
            "sizeref": 200000
           },
           "mode": "markers",
           "name": "Europe",
           "text": [
            "Austria",
            "Azerbaijan",
            "Belgium",
            "Britain",
            "Croatia",
            "Czech Republic",
            "Denmark",
            "Estonia",
            "Euro area",
            "Finland",
            "France",
            "Germany",
            "Greece",
            "Hungary",
            "Ireland",
            "Italy",
            "Latvia",
            "Lithuania",
            "Moldova",
            "Netherlands",
            "Norway",
            "Poland",
            "Portugal",
            "Romania",
            "Russia",
            "Slovakia",
            "Slovenia",
            "Spain",
            "Sweden",
            "Switzerland",
            "Turkey",
            "Ukraine"
           ],
           "type": "scatter",
           "x": [
            8391643,
            9173082,
            11038264,
            63258810,
            4280622,
            10496088,
            5570572,
            1327439,
            335419643,
            5388272,
            65342780,
            80274983,
            11104899,
            9971727,
            4580084,
            59379449,
            2059709,
            3028115,
            2859833,
            16693074,
            4953088,
            38063255,
            10557560,
            20147528,
            142960908,
            5398384,
            2052843,
            46742697,
            9449213,
            7912398,
            73443863,
            45706086
           ],
           "y": [
            51374.95840669342,
            7189.691229207653,
            47348.52502020164,
            42038.57225019298,
            14566.638468995323,
            21717.45793922021,
            61753.64713197693,
            17621.547439279468,
            40613.87427507041,
            51081.99767031267,
            43790.73204820196,
            46644.776027968015,
            25916.29352893511,
            14150.96672636776,
            51848.90973016215,
            38599.0622070321,
            13832.391178053647,
            14354.188379295338,
            2942.255948615293,
            54159.34661261419,
            100600.56240758917,
            13893.509259001024,
            23186.91312832785,
            9104.995622030207,
            14311.084315961187,
            18338.36222884369,
            25095.132628207124,
            31636.446314255893,
            60755.7595508465,
            88415.6280609527,
            11335.510509510126,
            3569.7581208389843
           ]
          },
          {
           "customdata": [
            0,
            2.3,
            1.9,
            1.9,
            2.6,
            4.7,
            4.1,
            0,
            0,
            0,
            2.4,
            0,
            2.4,
            2.8,
            0,
            2.7,
            3.7,
            3.5,
            2.6,
            2.4,
            3.3,
            0
           ],
           "hovertemplate": "<b>%{text}</b><br>ВВП на душу населения: %{y}<br>Численность населения: %{x}<br>Стоимость Биг Мака: %{customdata}$<extra></extra>",
           "marker": {
            "size": [
             0,
             45461598.13809155,
             38758695.03837367,
             37837837.83783784,
             52878094.5676405,
             93437348.49486536,
             81669112.48644166,
             0,
             0,
             0,
             48435923.309788086,
             0,
             47514042.50390874,
             55647253.00636643,
             0,
             53330489.040584505,
             73070709.5812104,
             70062488.16512023,
             51153231.33135419,
             47058823.52941176,
             65340793.07387594,
             0
            ],
            "sizemode": "area",
            "sizeref": 200000
           },
           "mode": "markers",
           "name": "Asia",
           "text": [
            "Bahrain",
            "China",
            "Hong Kong",
            "India",
            "Indonesia",
            "Israel",
            "Japan",
            "Jordan",
            "Kuwait",
            "Lebanon",
            "Malaysia",
            "Oman",
            "Pakistan",
            "Philippines",
            "Qatar",
            "Saudi Arabia",
            "Singapore",
            "South Korea",
            "Sri Lanka",
            "Thailand",
            "UAE",
            "Vietnam"
           ],
           "type": "scatter",
           "x": [
            1278151,
            1344130000,
            7071600,
            1250288729,
            245116206,
            7765800,
            127833000,
            7663131,
            3168060,
            5202343,
            28650955,
            3251108,
            183340592,
            95570047,
            2035871,
            28267685,
            5183688,
            49936638,
            20398670,
            67518382,
            8946777,
            88871561
           ],
           "y": [
            22514.237945814617,
            5618.132491349624,
            35142.48793445429,
            1458.1035268617702,
            3643.0439361610147,
            33669.24646928842,
            48167.997268496554,
            3816.279258089676,
            48631.69130067896,
            7674.835350378474,
            10399.37275334501,
            20921.14598208411,
            1164.9761291487266,
            2450.7336561578963,
            82409.58033454722,
            23745.80161434044,
            53890.4287270505,
            25096.263883823936,
            3200.8338291401546,
            5492.121255905584,
            39194.67662084558,
            1525.1159880010323
           ]
          },
          {
           "customdata": [
            5,
            4.1,
            0,
            0,
            2.7,
            0,
            4.1
           ],
           "hovertemplate": "<b>%{text}</b><br>ВВП на душу населения: %{y}<br>Численность населения: %{x}<br>Стоимость Биг Мака: %{customdata}$<extra></extra>",
           "marker": {
            "size": [
             100015858.75138766,
             81300006.9402445,
             0,
             0,
             54837949.574791685,
             0,
             81300000.00000001
            ],
            "sizemode": "area",
            "sizeref": 200000
           },
           "mode": "markers",
           "name": "North America",
           "text": [
            "Canada",
            "Costa Rica",
            "Guatemala",
            "Honduras",
            "Mexico",
            "Nicaragua",
            "United States"
           ],
           "type": "scatter",
           "x": [
            34339328,
            4633086,
            14521515,
            8480671,
            115695473,
            5903039,
            311556874
           ],
           "y": [
            52087.44638356814,
            9121.932517631876,
            3281.667501760333,
            2088.3153002869585,
            10203.420854311302,
            1655.8018237314423,
            49886.81810949226
           ]
          },
          {
           "customdata": [
            2.4,
            2.9
           ],
           "hovertemplate": "<b>%{text}</b><br>ВВП на душу населения: %{y}<br>Численность населения: %{x}<br>Стоимость Биг Мака: %{customdata}$<extra></extra>",
           "marker": {
            "size": [
             47266018.114726596,
             57469141.73013141
            ],
            "sizemode": "area",
            "sizeref": 200000
           },
           "mode": "markers",
           "name": "Africa",
           "text": [
            "Egypt",
            "South Africa"
           ],
           "type": "scatter",
           "x": [
            84529250,
            52004172
           ],
           "y": [
            2791.9549618624915,
            8007.412846344404
           ]
          }
         ],
         "name": "2011"
        },
        {
         "data": [
          {
           "customdata": [
            4.6,
            5.7,
            4.1,
            4.5,
            3.7,
            4.6
           ],
           "hovertemplate": "<b>%{text}</b><br>ВВП на душу населения: %{y}<br>Численность населения: %{x}<br>Стоимость Биг Мака: %{customdata}$<extra></extra>",
           "marker": {
            "size": [
             92732120.08809552,
             113573407.20221607,
             81019662.08872642,
             90705396.43117458,
             74280408.54224698,
             92544987.14652957
            ],
            "sizemode": "area",
            "sizeref": 200000
           },
           "mode": "markers",
           "name": "South America",
           "text": [
            "Argentina",
            "Brazil",
            "Chile",
            "Colombia",
            "Peru",
            "Uruguay"
           ],
           "type": "scatter",
           "x": [
            41733271,
            199287296,
            17400347,
            46076848,
            29506788,
            3378974
           ],
           "y": [
            13082.664325571988,
            12370.02420071488,
            15351.551325769653,
            8050.058414207564,
            6528.972217853126,
            15171.584663418806
           ]
          },
          {
           "customdata": [
            4.9,
            4
           ],
           "hovertemplate": "<b>%{text}</b><br>ВВП на душу населения: %{y}<br>Численность населения: %{x}<br>Стоимость Биг Мака: %{customdata}$<extra></extra>",
           "marker": {
            "size": [
             98731200.00084908,
             80952300.00008096
            ],
            "sizemode": "area",
            "sizeref": 200000
           },
           "mode": "markers",
           "name": "Oceania",
           "text": [
            "Australia",
            "New Zealand"
           ],
           "type": "scatter",
           "x": [
            22733465,
            4408100
           ],
           "y": [
            68012.14790059325,
            39982.75430137837
           ]
          },
          {
           "customdata": [
            3.9,
            0,
            4.7,
            3.8,
            0,
            3.4,
            5.4,
            2.6,
            4.4,
            4.8,
            4.6,
            4.5,
            4.2,
            2.6,
            4.8,
            4.4,
            0,
            0,
            0,
            4.1,
            6.8,
            2.6,
            3.7,
            0,
            2.5,
            0,
            0,
            4.4,
            5.9,
            6.8,
            3.5,
            2.1
           ],
           "hovertemplate": "<b>%{text}</b><br>ВВП на душу населения: %{y}<br>Численность населения: %{x}<br>Стоимость Биг Мака: %{customdata}$<extra></extra>",
           "marker": {
            "size": [
             78402570.01493177,
             0,
             93880100.01787947,
             76467900.03544287,
             0,
             68960268.29885074,
             107483770.80365446,
             51760920.00985786,
             88614095.49288656,
             95148750.01812108,
             91342800.01739624,
             89566690.01705796,
             83730900.01594655,
             52504281.235722855,
             96417400.01836269,
             88805500.01691301,
             0,
             0,
             0,
             82462250.01570494,
             135763837.14962167,
             51697936.3433652,
             73581700.01401363,
             0,
             50992624.95553884,
             0,
             0,
             88805500.01691301,
             118261270.87599874,
             136111401.94744006,
             70855363.80471832,
             42285927.49207139
            ],
            "sizemode": "area",
            "sizeref": 200000
           },
           "mode": "markers",
           "name": "Europe",
           "text": [
            "Austria",
            "Azerbaijan",
            "Belgium",
            "Britain",
            "Croatia",
            "Czech Republic",
            "Denmark",
            "Estonia",
            "Euro area",
            "Finland",
            "France",
            "Germany",
            "Greece",
            "Hungary",
            "Ireland",
            "Italy",
            "Latvia",
            "Lithuania",
            "Moldova",
            "Netherlands",
            "Norway",
            "Poland",
            "Portugal",
            "Romania",
            "Russia",
            "Slovakia",
            "Slovenia",
            "Spain",
            "Sweden",
            "Switzerland",
            "Turkey",
            "Ukraine"
           ],
           "type": "scatter",
           "x": [
            8429991,
            9295784,
            11106932,
            63700215,
            4267558,
            10510785,
            5591572,
            1322696,
            336159194,
            5413971,
            65659809,
            80425823,
            11045011,
            9920362,
            4599533,
            59539717,
            2034319,
            2987773,
            2859458,
            16754962,
            5018573,
            38063164,
            10514844,
            20058035,
            143201721,
            5407579,
            2057159,
            46773055,
            9519374,
            7996861,
            74653016,
            45593342
           ],
           "y": [
            48567.69528641999,
            7496.294647682627,
            44673.11587559013,
            42462.77156814495,
            13238.10193328311,
            19729.870511176377,
            58507.508051785255,
            17534.42154419232,
            37598.0422605764,
            47710.7902169415,
            40874.703505345715,
            43858.363055107686,
            22242.681934771,
            12918.247520538765,
            48917.89755717656,
            35053.52624425726,
            13850.642815343364,
            14339.287867289584,
            3045.739874224164,
            50073.005655930814,
            101524.14185198482,
            13145.539262786535,
            20564.889861796906,
            8535.0468756267,
            15420.874541327265,
            17460.046809354946,
            22643.100251500688,
            28324.42933639186,
            58037.82131921721,
            83538.23007838575,
            11707.259712100084,
            3855.4177285673204
           ]
          },
          {
           "customdata": [
            0,
            2.4,
            2.1,
            1.6,
            2.5,
            4.1,
            4.2,
            0,
            0,
            0,
            2.3,
            0,
            2.9,
            2.7,
            0,
            2.7,
            3.8,
            3.2,
            2.5,
            2.5,
            3.3,
            0
           ],
           "hovertemplate": "<b>%{text}</b><br>ВВП на душу населения: %{y}<br>Численность населения: %{x}<br>Стоимость Биг Мака: %{customdata}$<extra></extra>",
           "marker": {
            "size": [
             0,
             48768901.90800411,
             42485532.38878125,
             32366824.00539447,
             49200873.362445414,
             82629595.94647264,
             83203328.13312532,
             0,
             0,
             0,
             46821996.78297845,
             0,
             57745696.83509162,
             53630269.28758095,
             0,
             53330489.040584505,
             75030940.59405941,
             63861920.172599785,
             50908452.5585886,
             49133858.267716534,
             65341682.54832561,
             0
            ],
            "sizemode": "area",
            "sizeref": 200000
           },
           "mode": "markers",
           "name": "Asia",
           "text": [
            "Bahrain",
            "China",
            "Hong Kong",
            "India",
            "Indonesia",
            "Israel",
            "Japan",
            "Jordan",
            "Kuwait",
            "Lebanon",
            "Malaysia",
            "Oman",
            "Pakistan",
            "Philippines",
            "Qatar",
            "Saudi Arabia",
            "Singapore",
            "South Korea",
            "Sri Lanka",
            "Thailand",
            "UAE",
            "Vietnam"
           ],
           "type": "scatter",
           "x": [
            1299943,
            1350695000,
            7150100,
            1265782790,
            248452413,
            7910500,
            127629000,
            8090872,
            3348853,
            5538634,
            29068159,
            3498029,
            187281475,
            97212638,
            2196074,
            29155187,
            5312437,
            50199853,
            20425000,
            67835957,
            9141596,
            89802487
           ],
           "y": [
            23654.351391282773,
            6316.918863356835,
            36730.87670011273,
            1443.8795293904257,
            3694.34894603237,
            32511.237852492508,
            48603.47664977489,
            3877.339344637784,
            51979.105168063805,
            7950.695378259621,
            10817.442874285536,
            21902.581356366056,
            1198.1090005275214,
            2694.3054729789455,
            85076.14792739954,
            25243.358698402448,
            55546.48853869213,
            25466.760517059483,
            3350.521875892891,
            5860.5825072559965,
            40976.499711245495,
            1735.1412764380568
           ]
          },
          {
           "customdata": [
            4.6,
            4,
            0,
            0,
            2.7,
            0,
            4.2
           ],
           "hovertemplate": "<b>%{text}</b><br>ВВП на душу населения: %{y}<br>Численность населения: %{x}<br>Стоимость Биг Мака: %{customdata}$<extra></extra>",
           "marker": {
            "size": [
             92658798.1781674,
             80464732.89633788,
             0,
             0,
             54076174.329893894,
             0,
             83944400
            ],
            "sizemode": "area",
            "sizeref": 200000
           },
           "mode": "markers",
           "name": "North America",
           "text": [
            "Canada",
            "Costa Rica",
            "Guatemala",
            "Honduras",
            "Mexico",
            "Nicaragua",
            "United States"
           ],
           "type": "scatter",
           "x": [
            34714222,
            4688000,
            14781942,
            8640691,
            117274155,
            5982526,
            313830990
           ],
           "y": [
            52678.39012347706,
            9913.209958523656,
            3408.7849164023573,
            2144.342611178203,
            10241.727915374448,
            1760.4543865498622,
            51610.60527833787
           ]
          },
          {
           "customdata": [
            2.6,
            2.5
           ],
           "hovertemplate": "<b>%{text}</b><br>ВВП на душу населения: %{y}<br>Численность населения: %{x}<br>Стоимость Биг Мака: %{customdata}$<extra></extra>",
           "marker": {
            "size": [
             51350008.28225939,
             49075076.25701072
            ],
            "sizemode": "area",
            "sizeref": 200000
           },
           "mode": "markers",
           "name": "Africa",
           "text": [
            "Egypt",
            "South Africa"
           ],
           "type": "scatter",
           "x": [
            86422240,
            52834005
           ],
           "y": [
            3232.648891787947,
            7501.469983952495
           ]
          }
         ],
         "name": "2012"
        },
        {
         "data": [
          {
           "customdata": [
            3.8,
            5.6,
            4.3,
            4.9,
            3.9,
            5.4
           ],
           "hovertemplate": "<b>%{text}</b><br>ВВП на душу населения: %{y}<br>Численность населения: %{x}<br>Стоимость Биг Мака: %{customdata}$<extra></extra>",
           "marker": {
            "size": [
             76358886.7678087,
             112875310.40710363,
             86910439.85161632,
             97001142.01925924,
             78140261.76987693,
             108921161.82572612
            ],
            "sizemode": "area",
            "sizeref": 200000
           },
           "mode": "markers",
           "name": "South America",
           "text": [
            "Argentina",
            "Brazil",
            "Chile",
            "Colombia",
            "Peru",
            "Uruguay"
           ],
           "type": "scatter",
           "x": [
            42202935,
            201035903,
            17571507,
            46497267,
            29773987,
            3389439
           ],
           "y": [
            13080.254732336649,
            12300.324882275729,
            15842.940805212496,
            8218.033995615655,
            6756.752769265567,
            16973.674213021714
           ]
          },
          {
           "customdata": [
            4.9,
            4.3
           ],
           "hovertemplate": "<b>%{text}</b><br>ВВП на душу населения: %{y}<br>Численность населения: %{x}<br>Стоимость Биг Мака: %{customdata}$<extra></extra>",
           "marker": {
            "size": [
             98009099.9676815,
             86491600.02811842
            ],
            "sizemode": "area",
            "sizeref": 200000
           },
           "mode": "markers",
           "name": "Oceania",
           "text": [
            "Australia",
            "New Zealand"
           ],
           "type": "scatter",
           "x": [
            23128129,
            4442100
           ],
           "y": [
            68150.10704132142,
            42962.988214980294
           ]
          },
          {
           "customdata": [
            4.6,
            0,
            5.2,
            4.2,
            0,
            3.7,
            5.2,
            3.7,
            4.9,
            5.1,
            4.9,
            4.9,
            4.5,
            3.8,
            4.7,
            5.2,
            0,
            0,
            0,
            4.7,
            7.8,
            2.9,
            4,
            0,
            2.4,
            0,
            0,
            4.7,
            6.4,
            7.1,
            4.8,
            2.3
           ],
           "hovertemplate": "<b>%{text}</b><br>ВВП на душу населения: %{y}<br>Численность населения: %{x}<br>Стоимость Биг Мака: %{customdata}$<extra></extra>",
           "marker": {
            "size": [
             92001210.03573786,
             0,
             103128200.04006013,
             84963649.96057686,
             0,
             74443171.3235547,
             103675006.13865167,
             73275300.02846378,
             97560622.5724054,
             101771250.03953303,
             97700400.03795172,
             98785960.0383734,
             89558700.03478907,
             76332595.83476935,
             94715110.03679207,
             104485150.04058725,
             0,
             0,
             0,
             93629550.03637038,
             156845580.05507833,
             58861578.26649417,
             80060050.03109932,
             0,
             48513895.822932266,
             0,
             0,
             94986500.03689751,
             127761927.10892712,
             142496985.64068836,
             95547703.180212,
             46660117.87819254
            ],
            "sizemode": "area",
            "sizeref": 200000
           },
           "mode": "markers",
           "name": "Europe",
           "text": [
            "Austria",
            "Azerbaijan",
            "Belgium",
            "Britain",
            "Croatia",
            "Czech Republic",
            "Denmark",
            "Estonia",
            "Euro area",
            "Finland",
            "France",
            "Germany",
            "Greece",
            "Hungary",
            "Ireland",
            "Italy",
            "Latvia",
            "Lithuania",
            "Moldova",
            "Netherlands",
            "Norway",
            "Poland",
            "Portugal",
            "Romania",
            "Russia",
            "Slovakia",
            "Slovenia",
            "Spain",
            "Sweden",
            "Switzerland",
            "Turkey",
            "Ukraine"
           ],
           "type": "scatter",
           "x": [
            8479823,
            9416801,
            11159407,
            64128273,
            4255689,
            10514272,
            5614932,
            1317997,
            337302113,
            5438972,
            65998687,
            80645605,
            10965211,
            9893082,
            4623816,
            60233948,
            2012647,
            2957689,
            2858692,
            16804432,
            5079623,
            38040196,
            10457295,
            19983693,
            143506995,
            5413393,
            2059953,
            46620045,
            9600379,
            8089346,
            75928564,
            45489648
           ],
           "y": [
            50716.70870628632,
            7875.756952542876,
            46744.66254415158,
            43444.53300195391,
            13642.193664362128,
            19916.019387372133,
            61191.19370420283,
            19174.100729108035,
            39102.91308897463,
            49878.04324445374,
            42592.934094334174,
            46285.7640688407,
            21874.819504166677,
            13687.246101281078,
            51590.18844536287,
            35549.97469729545,
            15041.174458498135,
            15702.143059565018,
            3322.038436261497,
            52184.061850493075,
            102913.45084367364,
            13781.062605381292,
            21647.04181188692,
            9555.244217331403,
            15974.644627051664,
            18236.98078888671,
            23496.602305967273,
            29059.547952232133,
            61126.94319639787,
            85112.46439841416,
            12519.391425881911,
            4029.7112516254474
           ]
          },
          {
           "customdata": [
            0,
            2.6,
            2.2,
            1.7,
            2.9,
            4,
            3.5,
            0,
            0,
            0,
            2.6,
            0,
            3,
            2.9,
            0,
            2.9,
            3.6,
            3.4,
            2.8,
            2.9,
            3.3,
            0
           ],
           "hovertemplate": "<b>%{text}</b><br>ВВП на душу населения: %{y}<br>Численность населения: %{x}<br>Стоимость Биг Мака: %{customdata}$<extra></extra>",
           "marker": {
            "size": [
             0,
             51443637.06514051,
             43819515.14995296,
             33336454.72422511,
             57208088.047094956,
             80009665.59718624,
             70279470.70773624,
             0,
             0,
             0,
             51573143.04249108,
             0,
             59386678.953565754,
             58128078.81773399,
             0,
             58663537.94464295,
             72883346.1554035,
             68172919.68953684,
             55357848.952155,
             58477566.79549656,
             65340793.07387594,
             0
            ],
            "sizemode": "area",
            "sizeref": 200000
           },
           "mode": "markers",
           "name": "Asia",
           "text": [
            "Bahrain",
            "China",
            "Hong Kong",
            "India",
            "Indonesia",
            "Israel",
            "Japan",
            "Jordan",
            "Kuwait",
            "Lebanon",
            "Malaysia",
            "Oman",
            "Pakistan",
            "Philippines",
            "Qatar",
            "Saudi Arabia",
            "Singapore",
            "South Korea",
            "Sri Lanka",
            "Thailand",
            "UAE",
            "Vietnam"
           ],
           "type": "scatter",
           "x": [
            1315029,
            1357380000,
            7178900,
            1280846129,
            251806402,
            8059500,
            127445000,
            8520420,
            3526376,
            5914621,
            29468872,
            3764805,
            191262919,
            98871552,
            2336574,
            30052518,
            5399162,
            50428893,
            20585000,
            68144501,
            9197910,
            90753472
           ],
           "y": [
            24744.29695855103,
            7050.645919889632,
            38403.777714547636,
            1449.6059123386945,
            3623.911582351341,
            36309.468825688564,
            40454.4474578903,
            3998.0274727579863,
            49388.13741193821,
            7931.080475845265,
            10970.123284901403,
            20926.554049571118,
            1208.9043102964406,
            2871.430901784155,
            85050.91097168204,
            24844.74437094865,
            56967.42579403841,
            27182.734310193562,
            3610.2893630489775,
            6168.2629850121875,
            42412.63027803642,
            1886.6718963367152
           ]
          },
          {
           "customdata": [
            5.4,
            4.4,
            0,
            0,
            2.9,
            0,
            4.4
           ],
           "hovertemplate": "<b>%{text}</b><br>ВВП на душу населения: %{y}<br>Численность населения: %{x}<br>Стоимость Биг Мака: %{customdata}$<extra></extra>",
           "marker": {
            "size": [
             107887127.33074087,
             87854162.09092906,
             0,
             0,
             58092068.07762356,
             0,
             87347916.66
            ],
            "sizemode": "area",
            "sizeref": 200000
           },
           "mode": "markers",
           "name": "North America",
           "text": [
            "Canada",
            "Costa Rica",
            "Guatemala",
            "Honduras",
            "Mexico",
            "Nicaragua",
            "United States"
           ],
           "type": "scatter",
           "x": [
            35082954,
            4742107,
            15043981,
            8798521,
            118827161,
            6062454,
            315993715
           ],
           "y": [
            52652.59368282785,
            10490.081331293304,
            3522.7736977543445,
            2102.5931662649327,
            10725.183316603601,
            1811.6391933352731,
            53117.66783083012
           ]
          },
          {
           "customdata": [
            2.4,
            2.3
           ],
           "hovertemplate": "<b>%{text}</b><br>ВВП на душу населения: %{y}<br>Численность населения: %{x}<br>Стоимость Биг Мака: %{customdata}$<extra></extra>",
           "marker": {
            "size": [
             47862992.18487082,
             46203161.268928915
            ],
            "sizemode": "area",
            "sizeref": 200000
           },
           "mode": "markers",
           "name": "Africa",
           "text": [
            "Egypt",
            "South Africa"
           ],
           "type": "scatter",
           "x": [
            88404640,
            53689236
           ],
           "y": [
            3264.3787871527675,
            6832.456890967009
           ]
          }
         ],
         "name": "2013"
        },
        {
         "data": [
          {
           "customdata": [
            3,
            5.2,
            3.7,
            4.3,
            3.6,
            4.9
           ],
           "hovertemplate": "<b>%{text}</b><br>ВВП на душу населения: %{y}<br>Численность населения: %{x}<br>Стоимость Биг Мака: %{customdata}$<extra></extra>",
           "marker": {
            "size": [
             60682680.15170671,
             104949112.3759548,
             73807546.82166252,
             86746234.48213254,
             71263139.14127918,
             98222637.97942002
            ],
            "sizemode": "area",
            "sizeref": 200000
           },
           "mode": "markers",
           "name": "South America",
           "text": [
            "Argentina",
            "Brazil",
            "Chile",
            "Colombia",
            "Peru",
            "Uruguay"
           ],
           "type": "scatter",
           "x": [
            42669500,
            202763735,
            17758959,
            46969209,
            30090359,
            3400434
           ],
           "y": [
            12334.798245389282,
            12112.588205969721,
            14670.996760602013,
            8114.084069105443,
            6672.880255485386,
            16831.972944077814
           ]
          },
          {
           "customdata": [
            4.5,
            4.6
           ],
           "hovertemplate": "<b>%{text}</b><br>ВВП на душу населения: %{y}<br>Численность населения: %{x}<br>Стоимость Биг Мака: %{customdata}$<extra></extra>",
           "marker": {
            "size": [
             89470849.97541343,
             91437499.9845699
            ],
            "sizemode": "area",
            "sizeref": 200000
           },
           "mode": "markers",
           "name": "Oceania",
           "text": [
            "Australia",
            "New Zealand"
           ],
           "type": "scatter",
           "x": [
            23475686,
            4509700
           ],
           "y": [
            62510.7911705643,
            44553.28221083864
           ]
          },
          {
           "customdata": [
            4.6,
            0,
            5.4,
            4.6,
            0,
            3.5,
            5.2,
            3.8,
            5,
            5.6,
            5.2,
            5,
            4.1,
            3.9,
            4.7,
            5.2,
            0,
            3.5,
            0,
            4.7,
            7.8,
            3,
            4.1,
            0,
            2.6,
            0,
            0,
            5,
            6.3,
            7.1,
            3.8,
            2.3
           ],
           "hovertemplate": "<b>%{text}</b><br>ВВП на душу населения: %{y}<br>Численность населения: %{x}<br>Стоимость Биг Мака: %{customdata}$<extra></extra>",
           "marker": {
            "size": [
             91967309.96194851,
             0,
             107159549.95566273,
             92535929.99766345,
             0,
             69464301.56085153,
             103609990.18431672,
             75961199.96857104,
             99236870.69833674,
             111228899.95397903,
             103090199.95734642,
             99563429.95880564,
             82743449.96576488,
             77096492.31130578,
             93866339.96116279,
             104446649.95678519,
             0,
             69144338.80726017,
             0,
             93595049.96127506,
             155908695.9699226,
             59966106.11393559,
             81386999.96632612,
             0,
             52446651.00142166,
             0,
             0,
             99020849.95903012,
             125750214.34695627,
             142849293.99483544,
             75169684.50841236,
             45351473.922902495
            ],
            "sizemode": "area",
            "sizeref": 200000
           },
           "mode": "markers",
           "name": "Europe",
           "text": [
            "Austria",
            "Azerbaijan",
            "Belgium",
            "Britain",
            "Croatia",
            "Czech Republic",
            "Denmark",
            "Estonia",
            "Euro area",
            "Finland",
            "France",
            "Germany",
            "Greece",
            "Hungary",
            "Ireland",
            "Italy",
            "Latvia",
            "Lithuania",
            "Moldova",
            "Netherlands",
            "Norway",
            "Poland",
            "Portugal",
            "Romania",
            "Russia",
            "Slovakia",
            "Slovenia",
            "Spain",
            "Sweden",
            "Switzerland",
            "Turkey",
            "Ukraine"
           ],
           "type": "scatter",
           "x": [
            8546356,
            9535079,
            11209057,
            64602298,
            4238389,
            10525347,
            5643475,
            1314545,
            338462222,
            5461512,
            66312067,
            80982500,
            10892413,
            9866468,
            4657740,
            60789140,
            1993782,
            2932367,
            2856950,
            16865008,
            5137232,
            38011735,
            10401062,
            19908979,
            143819666,
            5418649,
            2061980,
            46480882,
            9696110,
            8188649,
            77231907,
            45272156
           ],
           "y": [
            51717.495940551504,
            7891.313147499858,
            47700.540360117804,
            47425.607680519504,
            13600.194390748018,
            19744.558609215925,
            62548.98473329074,
            20367.102656679916,
            39857.29176355995,
            50260.29985889585,
            43011.26310284175,
            47959.99327375989,
            21760.97979949181,
            14246.109801447083,
            55492.98267621292,
            35518.41529167496,
            15740.326749071914,
            16548.40640523857,
            3328.801448921252,
            52830.17423280546,
            97019.18275274623,
            14347.91457544561,
            22074.30076342156,
            10026.973578179422,
            14318.22241536029,
            18670.93017112273,
            24214.92207172732,
            29461.550333738935,
            60020.36045765724,
            86605.56337624203,
            12095.854571813537,
            2948.907743111218
           ]
          },
          {
           "customdata": [
            0,
            2.7,
            2.3,
            1.5,
            2.3,
            5,
            3,
            0,
            0,
            0,
            2.2,
            0,
            3,
            3,
            0,
            2.9,
            3.6,
            3.5,
            2.7,
            2.9,
            3.3,
            2.8
           ],
           "hovertemplate": "<b>%{text}</b><br>ВВП на душу населения: %{y}<br>Численность населения: %{x}<br>Стоимость Биг Мака: %{customdata}$<extra></extra>",
           "marker": {
            "size": [
             0,
             54864244.04673376,
             46404609.5245461,
             30721966.20583717,
             46028006.58978583,
             100338283.3553122,
             59475274.59350568,
             0,
             0,
             0,
             44531367.53422597,
             0,
             60712422.33078784,
             59694892.77028521,
             0,
             58660409.556314,
             71939633.26426086,
             69333833.0366345,
             53516819.57186543,
             58403041.82509506,
             65341682.54832561,
             56523787.09373528
            ],
            "sizemode": "area",
            "sizeref": 200000
           },
           "mode": "markers",
           "name": "Asia",
           "text": [
            "Bahrain",
            "China",
            "Hong Kong",
            "India",
            "Indonesia",
            "Israel",
            "Japan",
            "Jordan",
            "Kuwait",
            "Lebanon",
            "Malaysia",
            "Oman",
            "Pakistan",
            "Philippines",
            "Qatar",
            "Saudi Arabia",
            "Singapore",
            "South Korea",
            "Sri Lanka",
            "Thailand",
            "UAE",
            "Vietnam"
           ],
           "type": "scatter",
           "x": [
            1336075,
            1364270000,
            7229500,
            1295604184,
            255129004,
            8215700,
            127276000,
            8920049,
            3690941,
            6262410,
            29866559,
            4027260,
            195306825,
            100513138,
            2459198,
            30916994,
            5469724,
            50746659,
            20778000,
            68438730,
            9214175,
            91714595
           ],
           "y": [
            24989.400120470335,
            7678.599431661034,
            40315.285564055186,
            1573.881492110518,
            3491.6247908576674,
            37678.8897743182,
            38109.41211255728,
            4072.765475350393,
            44062.317037520785,
            7686.25602996455,
            11319.079757275555,
            20131.916722258236,
            1251.1641042283443,
            2959.6484521205075,
            83858.52837987222,
            24463.903163850086,
            57562.530793767844,
            29249.57522097425,
            3819.253529722644,
            5951.883702336046,
            43751.83888607216,
            2030.2619547331806
           ]
          },
          {
           "customdata": [
            5,
            4.3,
            0,
            0,
            2.8,
            0,
            4.6
           ],
           "hovertemplate": "<b>%{text}</b><br>ВВП на душу населения: %{y}<br>Численность населения: %{x}<br>Стоимость Биг Мака: %{customdata}$<extra></extra>",
           "marker": {
            "size": [
             100262419.69052574,
             85671023.27064073,
             0,
             0,
             55502428.23123512,
             0,
             92483333.34
            ],
            "sizemode": "area",
            "sizeref": 200000
           },
           "mode": "markers",
           "name": "North America",
           "text": [
            "Canada",
            "Costa Rica",
            "Guatemala",
            "Honduras",
            "Mexico",
            "Nicaragua",
            "United States"
           ],
           "type": "scatter",
           "x": [
            35437435,
            4795396,
            15306316,
            8955589,
            120355128,
            6142733,
            318301008
           ],
           "y": [
            50893.44671375481,
            10547.151859355557,
            3779.6423276808414,
            2206.051934127738,
            10922.376048864657,
            1934.0695083466433,
            55047.7255604544
           ]
          },
          {
           "customdata": [
            2.4,
            2.2
           ],
           "hovertemplate": "<b>%{text}</b><br>ВВП на душу населения: %{y}<br>Численность населения: %{x}<br>Стоимость Биг Мака: %{customdata}$<extra></extra>",
           "marker": {
            "size": [
             48642436.43154719,
             43207861.99225017
            ],
            "sizemode": "area",
            "sizeref": 200000
           },
           "mode": "markers",
           "name": "Africa",
           "text": [
            "Egypt",
            "South Africa"
           ],
           "type": "scatter",
           "x": [
            90424654,
            54545991
           ],
           "y": [
            3378.8313578555467,
            6433.187276628946
           ]
          }
         ],
         "name": "2014"
        },
        {
         "data": [
          {
           "customdata": [
            3.3,
            5.2,
            3.3,
            3.3,
            3.3,
            4.6
           ],
           "hovertemplate": "<b>%{text}</b><br>ВВП на душу населения: %{y}<br>Численность населения: %{x}<br>Стоимость Биг Мака: %{customdata}$<extra></extra>",
           "marker": {
            "size": [
             65040650.40650407,
             104136534.5675441,
             66933870.92918556,
             66808175.96766146,
             66489361.70212766,
             92528147.38996929
            ],
            "sizemode": "area",
            "sizeref": 200000
           },
           "mode": "markers",
           "name": "South America",
           "text": [
            "Argentina",
            "Brazil",
            "Chile",
            "Colombia",
            "Peru",
            "Uruguay"
           ],
           "type": "scatter",
           "x": [
            43131966,
            204471769,
            17969353,
            47520667,
            30470734,
            3412009
           ],
           "y": [
            13789.060424772013,
            8814.00098681261,
            13574.171830724012,
            6175.8761315128,
            6229.101696125961,
            15613.76427264289
           ]
          },
          {
           "customdata": [
            4.3,
            4.5
           ],
           "hovertemplate": "<b>%{text}</b><br>ВВП на душу населения: %{y}<br>Численность населения: %{x}<br>Стоимость Биг Мака: %{customdata}$<extra></extra>",
           "marker": {
            "size": [
             86374099.9784151,
             89851100.02105212
            ],
            "sizemode": "area",
            "sizeref": 200000
           },
           "mode": "markers",
           "name": "Oceania",
           "text": [
            "Australia",
            "New Zealand"
           ],
           "type": "scatter",
           "x": [
            23815995,
            4595700
           ],
           "y": [
            56755.72171242478,
            38615.99518490937
           ]
          },
          {
           "customdata": [
            3.9,
            0,
            4.3,
            4.4,
            0,
            2.9,
            5.4,
            3.4,
            4.3,
            4.8,
            4.5,
            4.3,
            3.5,
            3.2,
            4,
            4.5,
            0,
            0,
            0,
            4,
            6.3,
            2.5,
            3.5,
            0,
            1.4,
            0,
            0,
            4.2,
            5,
            7.5,
            4,
            1.2
           ],
           "hovertemplate": "<b>%{text}</b><br>ВВП на душу населения: %{y}<br>Численность населения: %{x}<br>Стоимость Биг Мака: %{customdata}$<extra></extra>",
           "marker": {
            "size": [
             78556470.03577462,
             0,
             85740100.03904603,
             87364699.94806169,
             0,
             58384179.503382266,
             107520179.5119519,
             67201700.03060365,
             85276640.03883497,
             95009300.04326722,
             90374700.04115663,
             85044910.03872944,
             70677650.03218658,
             63376621.65391244,
             80873770.03682992,
             89216050.04062898,
             0,
             0,
             0,
             79946850.03640778,
             125942932.10888816,
             49641180.59677333,
             69519000.03165895,
             0,
             27289312.707927696,
             0,
             0,
             84581450.03851838,
             99371906.07279544,
             150873324.43567574,
             79281750.19820437,
             24017191.25268613
            ],
            "sizemode": "area",
            "sizeref": 200000
           },
           "mode": "markers",
           "name": "Europe",
           "text": [
            "Austria",
            "Azerbaijan",
            "Belgium",
            "Britain",
            "Croatia",
            "Czech Republic",
            "Denmark",
            "Estonia",
            "Euro area",
            "Finland",
            "France",
            "Germany",
            "Greece",
            "Hungary",
            "Ireland",
            "Italy",
            "Latvia",
            "Lithuania",
            "Moldova",
            "Netherlands",
            "Norway",
            "Poland",
            "Portugal",
            "Romania",
            "Russia",
            "Slovakia",
            "Slovenia",
            "Spain",
            "Sweden",
            "Switzerland",
            "Turkey",
            "Ukraine"
           ],
           "type": "scatter",
           "x": [
            8642699,
            9649341,
            11274196,
            65116219,
            4203604,
            10546059,
            5683483,
            1315407,
            339488380,
            5479531,
            66548272,
            81686611,
            10820883,
            9843028,
            4701957,
            60730582,
            1977527,
            2904910,
            2834530,
            16939923,
            5188607,
            37986412,
            10358076,
            19815616,
            144096870,
            5423801,
            2063531,
            46444832,
            9799186,
            8282396,
            78529409,
            45154036
           ],
           "y": [
            44178.04737774322,
            5500.310382444075,
            40991.80813814324,
            44974.83187717809,
            11782.899079982892,
            17715.616852300842,
            53254.85600396306,
            17522.23018625201,
            34381.554791241455,
            42784.69836164318,
            36638.18492915699,
            41139.54456855335,
            18167.773716916265,
            12651.568342300357,
            61995.42277899288,
            30230.226302129628,
            13698.937947647591,
            14249.114966602649,
            2732.4571129373303,
            45175.23189337986,
            74355.51585756427,
            12572.426604556123,
            19242.36647109811,
            8977.43738227169,
            9462.253159605549,
            16309.073235591975,
            20881.766768694677,
            25732.018364745512,
            51545.48360953216,
            82081.59712397923,
            10948.724606902657,
            2016.0093652469095
           ]
          },
          {
           "customdata": [
            0,
            2.8,
            2.4,
            1.9,
            2.2,
            4.4,
            3.1,
            0,
            0,
            0,
            2.1,
            0,
            3,
            3.7,
            0,
            2.9,
            3.5,
            3.8,
            2.7,
            3,
            3.5,
            2.8
           ],
           "hovertemplate": "<b>%{text}</b><br>ВВП на душу населения: %{y}<br>Численность населения: %{x}<br>Стоимость Биг Мака: %{customdata}$<extra></extra>",
           "marker": {
            "size": [
             0,
             55381147.87088465,
             48507679.30747547,
             37734317.94205956,
             44774038.461538464,
             88964579.38817787,
             62837005.901583664,
             0,
             0,
             0,
             42207163.601161666,
             0,
             59562217.69990569,
             73406890.34001352,
             0,
             58558918.257073656,
             70509695.08307391,
             75694636.75805409,
             53080568.720379144,
             60726882.38000307,
             70785859.1633656,
             56127221.70252573
            ],
            "sizemode": "area",
            "sizeref": 200000
           },
           "mode": "markers",
           "name": "Asia",
           "text": [
            "Bahrain",
            "China",
            "Hong Kong",
            "India",
            "Indonesia",
            "Israel",
            "Japan",
            "Jordan",
            "Kuwait",
            "Lebanon",
            "Malaysia",
            "Oman",
            "Pakistan",
            "Philippines",
            "Qatar",
            "Saudi Arabia",
            "Singapore",
            "South Korea",
            "Sri Lanka",
            "Thailand",
            "UAE",
            "Vietnam"
           ],
           "type": "scatter",
           "x": [
            1371851,
            1371220000,
            7291300,
            1310152403,
            258383256,
            8380100,
            127141000,
            9266575,
            3835591,
            6532678,
            30270962,
            4267348,
            199426964,
            102113212,
            2565710,
            31717667,
            5535002,
            51014947,
            20970000,
            68714511,
            9262900,
            92677076
           ],
           "y": [
            22688.944399814412,
            8066.94242356748,
            42431.88828172768,
            1605.605433554878,
            3331.6951275862825,
            35776.79517101717,
            34524.46986093369,
            4105.448960832379,
            29869.52939082478,
            7644.548657182108,
            9955.242126536117,
            16028.751364553207,
            1356.6677558264942,
            3001.040371068565,
            63039.01655480744,
            20627.932782067484,
            55646.618746950415,
            28732.231076259864,
            3843.780671844421,
            5840.046522943255,
            38663.38380663637,
            2085.1014840987864
           ]
          },
          {
           "customdata": [
            4.6,
            4,
            0,
            0,
            3.3,
            0,
            4.8
           ],
           "hovertemplate": "<b>%{text}</b><br>ВВП на душу населения: %{y}<br>Численность населения: %{x}<br>Стоимость Биг Мака: %{customdata}$<extra></extra>",
           "marker": {
            "size": [
             92792316.14504905,
             80210412.43074857,
             0,
             0,
             66997094.51375833,
             0,
             95800000
            ],
            "sizemode": "area",
            "sizeref": 200000
           },
           "mode": "markers",
           "name": "North America",
           "text": [
            "Canada",
            "Costa Rica",
            "Guatemala",
            "Honduras",
            "Mexico",
            "Nicaragua",
            "United States"
           ],
           "type": "scatter",
           "x": [
            35702908,
            4847804,
            15567419,
            9112916,
            121858258,
            6223240,
            320635163
           ],
           "y": [
            43585.51198177499,
            11299.135542301112,
            3994.6369128847437,
            2302.2013793620395,
            9605.952351031392,
            2049.849689761491,
            56822.518820245554
           ]
          },
          {
           "customdata": [
            2.3,
            2.2
           ],
           "hovertemplate": "<b>%{text}</b><br>ВВП на душу населения: %{y}<br>Численность населения: %{x}<br>Стоимость Биг Мака: %{customdata}$<extra></extra>",
           "marker": {
            "size": [
             46067713.82507602,
             44429924.861156486
            ],
            "sizemode": "area",
            "sizeref": 200000
           },
           "mode": "markers",
           "name": "Africa",
           "text": [
            "Egypt",
            "South Africa"
           ],
           "type": "scatter",
           "x": [
            92442547,
            55386367
           ],
           "y": [
            3598.970948202098,
            5734.633629153307
           ]
          }
         ],
         "name": "2015"
        },
        {
         "data": [
          {
           "customdata": [
            2.4,
            3.4,
            2.9,
            2.4,
            2.9,
            3.7
           ],
           "hovertemplate": "<b>%{text}</b><br>ВВП на душу населения: %{y}<br>Численность населения: %{x}<br>Стоимость Биг Мака: %{customdata}$<extra></extra>",
           "marker": {
            "size": [
             47794051.08894401,
             67084078.711985685,
             58723600.595625095,
             48557116.0760933,
             58513750.73142188,
             74871624.97929434
            ],
            "sizemode": "area",
            "sizeref": 200000
           },
           "mode": "markers",
           "name": "South America",
           "text": [
            "Argentina",
            "Brazil",
            "Chile",
            "Colombia",
            "Peru",
            "Uruguay"
           ],
           "type": "scatter",
           "x": [
            43590368,
            206163058,
            18209068,
            48171392,
            30926032,
            3424132
           ],
           "y": [
            12790.242473244709,
            8710.096689541198,
            13753.594437459786,
            5871.2235753588975,
            6204.997260039277,
            15387.144029944639
           ]
          },
          {
           "customdata": [
            3.7,
            3.9
           ],
           "hovertemplate": "<b>%{text}</b><br>ВВП на душу населения: %{y}<br>Численность населения: %{x}<br>Стоимость Биг Мака: %{customdata}$<extra></extra>",
           "marker": {
            "size": [
             74873100.01968414,
             78245799.98345102
            ],
            "sizemode": "area",
            "sizeref": 200000
           },
           "mode": "markers",
           "name": "Oceania",
           "text": [
            "Australia",
            "New Zealand"
           ],
           "type": "scatter",
           "x": [
            24190907,
            4693200
           ],
           "y": [
            49971.13145612895,
            40105.61338671354
           ]
          },
          {
           "customdata": [
            3.8,
            0,
            4.2,
            4.2,
            0,
            3,
            4.3,
            3.2,
            4,
            4.4,
            4.4,
            3.9,
            3.6,
            3.1,
            4.2,
            4.3,
            0,
            0,
            0,
            3.7,
            5.2,
            2.4,
            3.2,
            0,
            1.5,
            0,
            0,
            3.8,
            5.2,
            6.4,
            3.4,
            1.5
           ],
           "hovertemplate": "<b>%{text}</b><br>ВВП на душу населения: %{y}<br>Численность населения: %{x}<br>Стоимость Биг Мака: %{customdata}$<extra></extra>",
           "marker": {
            "size": [
             75250000.01128751,
             0,
             84925000.01273876,
             84437130.04640242,
             0,
             59655904.74145131,
             86449103.09055543,
             64500000.009675,
             79980000.01199701,
             88150000.0132225,
             88150000.0132225,
             77185000.01157776,
             72025000.01080376,
             61500814.62954044,
             84925000.01273876,
             86000000.01290001,
             0,
             0,
             0,
             74175000.01112626,
             104293760.7594725,
             47434345.43073844,
             64500000.009675,
             0,
             30540486.23668877,
             0,
             0,
             75250000.01128751,
             104628655.46365026,
             128865979.3814433,
             68115364.16799575,
             30835117.77301927
            ],
            "sizemode": "area",
            "sizeref": 200000
           },
           "mode": "markers",
           "name": "Europe",
           "text": [
            "Austria",
            "Azerbaijan",
            "Belgium",
            "Britain",
            "Croatia",
            "Czech Republic",
            "Denmark",
            "Estonia",
            "Euro area",
            "Finland",
            "France",
            "Germany",
            "Greece",
            "Hungary",
            "Ireland",
            "Italy",
            "Latvia",
            "Lithuania",
            "Moldova",
            "Netherlands",
            "Norway",
            "Poland",
            "Portugal",
            "Romania",
            "Russia",
            "Slovakia",
            "Slovenia",
            "Spain",
            "Sweden",
            "Switzerland",
            "Turkey",
            "Ukraine"
           ],
           "type": "scatter",
           "x": [
            8736668,
            9757812,
            11331422,
            65611593,
            4174349,
            10566332,
            5728010,
            1315790,
            340481753,
            5495303,
            66724104,
            82348669,
            10775971,
            9814023,
            4755335,
            60627498,
            1959537,
            2868231,
            2802170,
            17030314,
            5234519,
            37970087,
            10325452,
            19702267,
            144342396,
            5430798,
            2065042,
            46484062,
            9923085,
            8373338,
            79821724,
            45004674
           ],
           "y": [
            45237.80509215436,
            3880.7387308955635,
            41998.33575023893,
            41064.13343162221,
            12360.483816491913,
            18463.38657565643,
            54663.998371919566,
            18237.295843268224,
            35142.31547190724,
            43784.28396220972,
            37037.37418612201,
            42098.920445354495,
            18116.45962233352,
            12992.375667514942,
            63197.08237441947,
            30939.71424622982,
            14153.414922691636,
            14999.479639132936,
            2880.439281292955,
            46007.852920654725,
            70459.18250410285,
            12431.815891623133,
            19978.40121496802,
            9567.129344847423,
            8845.543752937356,
            16505.97504655607,
            21622.580683575976,
            26505.34321552041,
            51965.15715319853,
            80172.23207479515,
            10820.633842210813,
            2074.362179103979
           ]
          },
          {
           "customdata": [
            0,
            2.7,
            2.5,
            1.9,
            2.2,
            4.3,
            3.1,
            0,
            0,
            0,
            1.8,
            0,
            2.9,
            2.8,
            0,
            3.2,
            3.3,
            3.6,
            2.4,
            3.1,
            3.5,
            2.7
           ],
           "hovertemplate": "<b>%{text}</b><br>ВВП на душу населения: %{y}<br>Численность населения: %{x}<br>Стоимость Биг Мака: %{customdata}$<extra></extra>",
           "marker": {
            "size": [
             0,
             53673264.00536733,
             49533367.301527925,
             38022529.09696494,
             43735436.45814662,
             85763946.15648113,
             62370938.51405454,
             0,
             0,
             0,
             36425725.66875356,
             0,
             57205510.797540165,
             55718007.33691318,
             0,
             63926697.38699624,
             65402678.726735085,
             71801294.09309122,
             48594238.11176675,
             61844284.92545555,
             70784895.592279,
             53410481.80705464
            ],
            "sizemode": "area",
            "sizeref": 200000
           },
           "mode": "markers",
           "name": "Asia",
           "text": [
            "Bahrain",
            "China",
            "Hong Kong",
            "India",
            "Indonesia",
            "Israel",
            "Japan",
            "Jordan",
            "Kuwait",
            "Lebanon",
            "Malaysia",
            "Oman",
            "Pakistan",
            "Philippines",
            "Qatar",
            "Saudi Arabia",
            "Singapore",
            "South Korea",
            "Sri Lanka",
            "Thailand",
            "UAE",
            "Vietnam"
           ],
           "type": "scatter",
           "x": [
            1425791,
            1378665000,
            7336600,
            1324509589,
            261554226,
            8546000,
            126994511,
            9551467,
            3956875,
            6711121,
            30684804,
            4479219,
            203627284,
            103663927,
            2654374,
            32442572,
            5607283,
            51217803,
            21203000,
            68971331,
            9360980,
            93638724
           ],
           "y": [
            22619.11667188487,
            8147.938147782238,
            43731.106824529896,
            1732.5642617842761,
            3562.845756419711,
            37321.62403668454,
            38761.81815019249,
            4103.733599910674,
            27653.066767764965,
            7629.891117119524,
            9817.740860962154,
            14618.875376109763,
            1368.4543262762863,
            3073.653614969583,
            57163.060991835744,
            19879.29753041775,
            56828.295347160114,
            29288.8704389833,
            3886.291501652389,
            5994.231475471555,
            38141.8467585491,
            2192.2145386656593
           ]
          },
          {
           "customdata": [
            4.1,
            4,
            0,
            0,
            2.8,
            0,
            4.9
           ],
           "hovertemplate": "<b>%{text}</b><br>ВВП на душу населения: %{y}<br>Численность населения: %{x}<br>Стоимость Биг Мака: %{customdata}$<extra></extra>",
           "marker": {
            "size": [
             82883905.76213454,
             80336291.45259224,
             0,
             0,
             56203134.18498287,
             0,
             98600000
            ],
            "sizemode": "area",
            "sizeref": 200000
           },
           "mode": "markers",
           "name": "North America",
           "text": [
            "Canada",
            "Costa Rica",
            "Guatemala",
            "Honduras",
            "Mexico",
            "Nicaragua",
            "United States"
           ],
           "type": "scatter",
           "x": [
            36109487,
            4899345,
            15827690,
            9270795,
            123333376,
            6303974,
            322941311
           ],
           "y": [
            42322.48478030386,
            11666.455910775929,
            4173.301666194739,
            2342.5846511956743,
            8739.756042809287,
            2107.5671799242828,
            57927.51685150619
           ]
          },
          {
           "customdata": [
            2.2,
            1.8
           ],
           "hovertemplate": "<b>%{text}</b><br>ВВП на душу населения: %{y}<br>Численность населения: %{x}<br>Стоимость Биг Мака: %{customdata}$<extra></extra>",
           "marker": {
            "size": [
             43243657.44790902,
             35412220.37783574
            ],
            "sizemode": "area",
            "sizeref": 200000
           },
           "mode": "markers",
           "name": "Africa",
           "text": [
            "Egypt",
            "South Africa"
           ],
           "type": "scatter",
           "x": [
            94447072,
            56203654
           ],
           "y": [
            3525.020164500579,
            5272.918424754181
           ]
          }
         ],
         "name": "2016"
        },
        {
         "data": [
          {
           "customdata": [
            3.5,
            5.1,
            3.6,
            3.3,
            3.2,
            4.4
           ],
           "hovertemplate": "<b>%{text}</b><br>ВВП на душу населения: %{y}<br>Численность населения: %{x}<br>Стоимость Биг Мака: %{customdata}$<extra></extra>",
           "marker": {
            "size": [
             69367807.03137317,
             102358907.55129577,
             72829423.08692713,
             66118462.24485537,
             64841286.21533202,
             87032201.91470845
            ],
            "sizemode": "area",
            "sizeref": 200000
           },
           "mode": "markers",
           "name": "South America",
           "text": [
            "Argentina",
            "Brazil",
            "Chile",
            "Colombia",
            "Peru",
            "Uruguay"
           ],
           "type": "scatter",
           "x": [
            44044811,
            207833831,
            18470439,
            48901066,
            31444297,
            3436646
           ],
           "y": [
            14591.863381054127,
            9925.386237700395,
            14999.37008855117,
            6377.851363036646,
            6710.5080289603875,
            17322.14738911657
           ]
          },
          {
           "customdata": [
            4.3,
            4.2
           ],
           "hovertemplate": "<b>%{text}</b><br>ВВП на душу населения: %{y}<br>Численность населения: %{x}<br>Стоимость Биг Мака: %{customdata}$<extra></extra>",
           "marker": {
            "size": [
             85503600.02109374,
             83706000.0021345
            ],
            "sizemode": "area",
            "sizeref": 200000
           },
           "mode": "markers",
           "name": "Oceania",
           "text": [
            "Australia",
            "New Zealand"
           ],
           "type": "scatter",
           "x": [
            24601860,
            4793900
           ],
           "y": [
            54066.4712686118,
            42849.42632470097
           ]
          },
          {
           "customdata": [
            3.6,
            0,
            4.1,
            3.7,
            0,
            2.9,
            4.2,
            3.2,
            4.1,
            4.8,
            4.3,
            4,
            3.5,
            3.1,
            4.2,
            4.4,
            0,
            0,
            0,
            3.8,
            5.7,
            2.3,
            3.2,
            0,
            2.2,
            0,
            0,
            4.1,
            5.3,
            6.4,
            2.7,
            1.5
           ],
           "hovertemplate": "<b>%{text}</b><br>ВВП на душу населения: %{y}<br>Численность населения: %{x}<br>Стоимость Биг Мака: %{customdata}$<extra></extra>",
           "marker": {
            "size": [
             71185800.03415494,
             0,
             82701150.03968002,
             74567880.04011752,
             0,
             58113068.66059062,
             84492166.87202957,
             64904700.03114128,
             81235560.0389768,
             95263350.04570735,
             85841700.04118684,
             79351230.03807272,
             70138950.03365266,
             61096229.27649845,
             83748000.04018229,
             87935400.0421914,
             0,
             0,
             0,
             75582570.03626451,
             113316412.95738493,
             46019438.41904054,
             63857850.03063899,
             0,
             43019648.39710445,
             0,
             0,
             82701150.03968002,
             105210667.92334965,
             127002735.44353262,
             54971044.322002485,
             30842665.687534425
            ],
            "sizemode": "area",
            "sizeref": 200000
           },
           "mode": "markers",
           "name": "Europe",
           "text": [
            "Austria",
            "Azerbaijan",
            "Belgium",
            "Britain",
            "Croatia",
            "Czech Republic",
            "Denmark",
            "Estonia",
            "Euro area",
            "Finland",
            "France",
            "Germany",
            "Greece",
            "Hungary",
            "Ireland",
            "Italy",
            "Latvia",
            "Lithuania",
            "Moldova",
            "Netherlands",
            "Norway",
            "Poland",
            "Portugal",
            "Romania",
            "Russia",
            "Slovakia",
            "Slovenia",
            "Spain",
            "Sweden",
            "Switzerland",
            "Turkey",
            "Ukraine"
           ],
           "type": "scatter",
           "x": [
            8797566,
            9854033,
            11375158,
            66058859,
            4124531,
            10594438,
            5764980,
            1317384,
            341163597,
            5508214,
            66864379,
            82657002,
            10754679,
            9787966,
            4807388,
            60536709,
            1942248,
            2828403,
            2755158,
            17131296,
            5276968,
            37974826,
            10300300,
            19587290,
            144496740,
            5439232,
            2066388,
            46593236,
            10057698,
            8451840,
            81101892,
            44831135
           ],
           "y": [
            47549.07904023488,
            4147.089715691707,
            44288.50804031241,
            40361.41738321593,
            13412.338290229676,
            20379.896039641742,
            57141.05983504141,
            20388.209553033816,
            37095.12027033119,
            46316.74545883258,
            38812.16103416813,
            44349.58965527566,
            18930.218585643328,
            14457.608763614013,
            69822.34717890962,
            32406.720315013492,
            15586.581893920034,
            16882.639471199473,
            3509.6934502581444,
            48675.222335021244,
            75496.7540581997,
            13861.309364823554,
            21490.429863103986,
            10807.795390717909,
            10894.35918810971,
            17554.308321044366,
            23500.752230870337,
            28170.43456598078,
            53791.50872984027,
            80449.99456083658,
            10513.64843243779,
            2502.5098106076953
           ]
          },
          {
           "customdata": [
            0,
            2.8,
            2.5,
            2.5,
            2.3,
            4.4,
            3.3,
            0,
            0,
            0,
            1.8,
            0,
            3.6,
            2.7,
            0,
            3.2,
            3.9,
            3.7,
            3.7,
            3.3,
            3.5,
            2.7
           ],
           "hovertemplate": "<b>%{text}</b><br>ВВП на душу населения: %{y}<br>Численность населения: %{x}<br>Стоимость Биг Мака: %{customdata}$<extra></extra>",
           "marker": {
            "size": [
             0,
             56593422.45834898,
             49510375.90495039,
             49760345.395338625,
             46515117.41315928,
             87678339.81841762,
             65143787.76839669,
             0,
             0,
             0,
             35782176.00357822,
             0,
             71581961.34574087,
             53612818.70402096,
             0,
             63988908.589177884,
             77845351.86794092,
             73550921.47603326,
             73304011.72864187,
             66904674.89388019,
             70786822.76068608,
             53163211.057947904
            ],
            "sizemode": "area",
            "sizeref": 200000
           },
           "mode": "markers",
           "name": "Asia",
           "text": [
            "Bahrain",
            "China",
            "Hong Kong",
            "India",
            "Indonesia",
            "Israel",
            "Japan",
            "Jordan",
            "Kuwait",
            "Lebanon",
            "Malaysia",
            "Oman",
            "Pakistan",
            "Philippines",
            "Qatar",
            "Saudi Arabia",
            "Singapore",
            "South Korea",
            "Sri Lanka",
            "Thailand",
            "UAE",
            "Vietnam"
           ],
           "type": "scatter",
           "x": [
            1494074,
            1386395000,
            7391700,
            1338658835,
            264645886,
            8713300,
            126785797,
            9779173,
            4056099,
            6811873,
            31105028,
            4665935,
            207896686,
            105173264,
            2724724,
            33099147,
            5612253,
            51361911,
            21444000,
            69209858,
            9487203,
            94596642
           ],
           "y": [
            23709.430467983046,
            8879.438148885058,
            46165.8565115953,
            1981.6510498992,
            3837.6517312111555,
            40541.862090708455,
            38386.51114570569,
            4162.820686572556,
            29759.436486557406,
            7801.178658075554,
            10254.23402425878,
            15130.94374439421,
            1464.993305468549,
            3123.2342294495015,
            61264.396477797745,
            20803.742565732373,
            60913.74533349405,
            31616.843400468297,
            4077.0437212074708,
            6592.914901698643,
            40644.80404339203,
            2365.6216656737456
           ]
          },
          {
           "customdata": [
            4.5,
            4.1,
            0,
            0,
            2.2,
            0,
            5.1
           ],
           "hovertemplate": "<b>%{text}</b><br>ВВП на душу населения: %{y}<br>Численность населения: %{x}<br>Стоимость Биг Мака: %{customdata}$<extra></extra>",
           "marker": {
            "size": [
             90196078.43137257,
             81179081.05280249,
             0,
             0,
             44645907.83809024,
             0,
             101199999.99999999
            ],
            "sizemode": "area",
            "sizeref": 200000
           },
           "mode": "markers",
           "name": "North America",
           "text": [
            "Canada",
            "Costa Rica",
            "Guatemala",
            "Honduras",
            "Mexico",
            "Nicaragua",
            "United States"
           ],
           "type": "scatter",
           "x": [
            36543321,
            4949954,
            16087418,
            9429013,
            124777324,
            6384855,
            324985539
           ],
           "y": [
            45148.55270616538,
            11814.626568766518,
            4451.450989901965,
            2453.727895974573,
            9278.418168337621,
            2159.1630793598442,
            59957.725851303185
           ]
          },
          {
           "customdata": [
            1.5,
            1.9
           ],
           "hovertemplate": "<b>%{text}</b><br>ВВП на душу населения: %{y}<br>Численность населения: %{x}<br>Стоимость Биг Мака: %{customdata}$<extra></extra>",
           "marker": {
            "size": [
             29291422.482685134,
             37728005.73373947
            ],
            "sizemode": "area",
            "sizeref": 200000
           },
           "mode": "markers",
           "name": "Africa",
           "text": [
            "Egypt",
            "South Africa"
           ],
           "type": "scatter",
           "x": [
            96442593,
            57000451
           ],
           "y": [
            2440.510173111076,
            6132.479840972101
           ]
          }
         ],
         "name": "2017"
        },
        {
         "data": [
          {
           "customdata": [
            4,
            5.1,
            4.3,
            3.8,
            3.3,
            4.9
           ],
           "hovertemplate": "<b>%{text}</b><br>ВВП на душу населения: %{y}<br>Численность населения: %{x}<br>Стоимость Биг Мака: %{customdata}$<extra></extra>",
           "marker": {
            "size": [
             79207920.79207921,
             102233650.36091577,
             85817785.73609382,
             76649367.8185168,
             65379825.65379826,
             97970608.8173548
            ],
            "sizemode": "area",
            "sizeref": 200000
           },
           "mode": "markers",
           "name": "South America",
           "text": [
            "Argentina",
            "Brazil",
            "Chile",
            "Colombia",
            "Peru",
            "Uruguay"
           ],
           "type": "scatter",
           "x": [
            44494502,
            209469333,
            18729160,
            49648685,
            31989256,
            3449299
           ],
           "y": [
            11683.949621636286,
            9001.234248635003,
            15924.794239306462,
            6718.585323913131,
            6941.235847630122,
            17277.9701101852
           ]
          },
          {
           "customdata": [
            4.7,
            4.5
           ],
           "hovertemplate": "<b>%{text}</b><br>ВВП на душу населения: %{y}<br>Численность населения: %{x}<br>Стоимость Биг Мака: %{customdata}$<extra></extra>",
           "marker": {
            "size": [
             94122699.99327494,
             90203800.02785043
            ],
            "sizemode": "area",
            "sizeref": 200000
           },
           "mode": "markers",
           "name": "Oceania",
           "text": [
            "Australia",
            "New Zealand"
           ],
           "type": "scatter",
           "x": [
            24982688,
            4841000
           ],
           "y": [
            57395.91946631684,
            42949.930584951246
           ]
          },
          {
           "customdata": [
            4.2,
            2.3,
            5,
            4.4,
            3.3,
            3.8,
            4.9,
            3.9,
            4.8,
            5.6,
            5.1,
            4.8,
            4.1,
            3.4,
            5,
            5.1,
            3.2,
            3.3,
            2.6,
            4.5,
            6.2,
            3,
            3.9,
            2.3,
            2.3,
            3.5,
            2.7,
            4.8,
            6.1,
            6.8,
            2.8,
            1.6
           ],
           "hovertemplate": "<b>%{text}</b><br>ВВП на душу населения: %{y}<br>Численность населения: %{x}<br>Стоимость Биг Мака: %{customdata}$<extra></extra>",
           "marker": {
            "size": [
             83248999.9539425,
             46422800.058763035,
             100388499.94446005,
             88260919.97511043,
             66532018.533919446,
             76155588.7598207,
             98640406.39847437,
             77127749.95732906,
             96715749.94649202,
             111651599.93822874,
             102836999.94310543,
             95491499.94716933,
             82024749.9546198,
             68532770.10606913,
             99653949.94486646,
             102836999.94310543,
             63290699.999999955,
             65634799.99999995,
             51643587.18758632,
             90839349.94974312,
             124839174.02326085,
             59311458.56272481,
             78351999.95665175,
             46309696.09261939,
             45819014.891179845,
             70322999.99999996,
             53914299.999999955,
             96715749.94649202,
             122462213.7975757,
             135296872.5607535,
             56540261.926050596,
             32735504.09193801
            ],
            "sizemode": "area",
            "sizeref": 200000
           },
           "mode": "markers",
           "name": "Europe",
           "text": [
            "Austria",
            "Azerbaijan",
            "Belgium",
            "Britain",
            "Croatia",
            "Czech Republic",
            "Denmark",
            "Estonia",
            "Euro area",
            "Finland",
            "France",
            "Germany",
            "Greece",
            "Hungary",
            "Ireland",
            "Italy",
            "Latvia",
            "Lithuania",
            "Moldova",
            "Netherlands",
            "Norway",
            "Poland",
            "Portugal",
            "Romania",
            "Russia",
            "Slovakia",
            "Slovenia",
            "Spain",
            "Sweden",
            "Switzerland",
            "Turkey",
            "Ukraine"
           ],
           "type": "scatter",
           "x": [
            8840521,
            9939771,
            11427054,
            66460344,
            4087843,
            10629928,
            5793636,
            1321977,
            341843156,
            5515525,
            66965912,
            82905782,
            10732882,
            9775564,
            4867316,
            60421760,
            1927174,
            2801543,
            2706049,
            17231624,
            5311916,
            37974750,
            10283822,
            19472545,
            144477860,
            5446771,
            2073894,
            46797754,
            10175214,
            8514329,
            82319724,
            44622518
           ],
           "y": [
            51525.046434279044,
            4739.8417102839285,
            47491.32325946924,
            43043.22781645503,
            14920.191383192407,
            23046.949126140178,
            61390.693009701,
            23258.467581430312,
            39965.84033387318,
            50021.29105677011,
            41631.09073890445,
            47639.00344071225,
            20324.305013787536,
            16150.77276137254,
            78621.22795527165,
            34520.08516240292,
            17805.28031438168,
            19080.61737175528,
            4233.999555881361,
            53048.09621043943,
            81734.46557361016,
            15460.644280546838,
            23461.57186281151,
            12408.596489129335,
            11555.978814490745,
            19428.116213573325,
            26054.54210497846,
            30337.6791331631,
            54589.06038606058,
            82818.10816174709,
            9370.176354973091,
            2933.5381392354416
           ]
          },
          {
           "customdata": [
            3.2,
            3.2,
            2.6,
            2.8,
            2.7,
            4.8,
            3.4,
            2.7,
            3.5,
            4.3,
            2.3,
            2.7,
            3.4,
            2.6,
            3.3,
            3.2,
            4.4,
            4.1,
            3.8,
            3.7,
            3.8,
            2.9
           ],
           "hovertemplate": "<b>%{text}</b><br>ВВП на душу населения: %{y}<br>Численность населения: %{x}<br>Стоимость Биг Мака: %{customdata}$<extra></extra>",
           "marker": {
            "size": [
             63232775.655381374,
             63432835.820895515,
             52436372.93771582,
             56372213.196578525,
             53521970.20735085,
             96032127.11161552,
             68638518.85301423,
             54925709.45708048,
             69421487.60330579,
             86035737.92190602,
             45523520.48558422,
             54545454.54545455,
             67870232.11619383,
             52833908.329226226,
             65915957.15462785,
             63994880.40956723,
             87709349.36297305,
             82300678.04535891,
             75422626.7880364,
             74491392.80125196,
             76231962.97304656,
             57239724.36871189
            ],
            "sizemode": "area",
            "sizeref": 200000
           },
           "mode": "markers",
           "name": "Asia",
           "text": [
            "Bahrain",
            "China",
            "Hong Kong",
            "India",
            "Indonesia",
            "Israel",
            "Japan",
            "Jordan",
            "Kuwait",
            "Lebanon",
            "Malaysia",
            "Oman",
            "Pakistan",
            "Philippines",
            "Qatar",
            "Saudi Arabia",
            "Singapore",
            "South Korea",
            "Sri Lanka",
            "Thailand",
            "UAE",
            "Vietnam"
           ],
           "type": "scatter",
           "x": [
            1569439,
            1392730000,
            7451000,
            1352617328,
            267663435,
            8882800,
            126529100,
            9956011,
            4137312,
            6848925,
            31528585,
            4829483,
            212215030,
            106651922,
            2781677,
            33699947,
            5638676,
            51606633,
            21670000,
            69428524,
            9630959,
            95540395
           ],
           "y": [
            23991.056676939977,
            9976.676821807745,
            48542.88733296107,
            2005.8630045240334,
            3893.846424755701,
            41719.72544170565,
            39159.42356339522,
            4241.788782138539,
            33994.3819171508,
            8024.803270813872,
            11373.233002567637,
            16414.888017369147,
            1482.305666843385,
            3252.0923241266387,
            68793.7844372614,
            23338.96345811265,
            66188.77939617989,
            33340.26515168195,
            4080.5671246955194,
            7295.475616120947,
            43839.35634914124,
            2566.596949585115
           ]
          },
          {
           "customdata": [
            5.3,
            4,
            3.3,
            3.5,
            2.6,
            3.3,
            5.3
           ],
           "hovertemplate": "<b>%{text}</b><br>ВВП на душу населения: %{y}<br>Численность населения: %{x}<br>Стоимость Биг Мака: %{customdata}$<extra></extra>",
           "marker": {
            "size": [
             105144875.19062525,
             80558633.66928746,
             66781530.899814345,
             70855180.34727374,
             51437297.398665845,
             65216290.14284267,
             105600000
            ],
            "sizemode": "area",
            "sizeref": 200000
           },
           "mode": "markers",
           "name": "North America",
           "text": [
            "Canada",
            "Costa Rica",
            "Guatemala",
            "Honduras",
            "Mexico",
            "Nicaragua",
            "United States"
           ],
           "type": "scatter",
           "x": [
            37057765,
            4999441,
            16346950,
            9587522,
            126190788,
            6465513,
            326687501
           ],
           "y": [
            46313.171371296135,
            12112.134420645229,
            4472.892362690135,
            2505.7767518955993,
            9673.44367360619,
            2020.54702818624,
            62840.02023879542
           ]
          },
          {
           "customdata": [
            1.9,
            2.4
           ],
           "hovertemplate": "<b>%{text}</b><br>ВВП на душу населения: %{y}<br>Численность населения: %{x}<br>Стоимость Биг Мака: %{customdata}$<extra></extra>",
           "marker": {
            "size": [
             38655367.231638424,
             48947027.079942726
            ],
            "sizemode": "area",
            "sizeref": 200000
           },
           "mode": "markers",
           "name": "Africa",
           "text": [
            "Egypt",
            "South Africa"
           ],
           "type": "scatter",
           "x": [
            98423595,
            57779622
           ],
           "y": [
            2549.1322517860885,
            6374.0281957594325
           ]
          }
         ],
         "name": "2018"
        },
        {
         "data": [
          {
           "customdata": [
            2,
            4.5,
            3.9,
            3.7,
            3.1,
            4.3
           ],
           "hovertemplate": "<b>%{text}</b><br>ВВП на душу населения: %{y}<br>Численность населения: %{x}<br>Стоимость Биг Мака: %{customdata}$<extra></extra>",
           "marker": {
            "size": [
             40048057.66920304,
             90910313.47920224,
             77762559.09512658,
             74573084.75638415,
             62714648.35000747,
             86127345.43217473
            ],
            "sizemode": "area",
            "sizeref": 200000
           },
           "mode": "markers",
           "name": "South America",
           "text": [
            "Argentina",
            "Brazil",
            "Chile",
            "Colombia",
            "Peru",
            "Uruguay"
           ],
           "type": "scatter",
           "x": [
            44938712,
            211049527,
            18952038,
            50339443,
            32510453,
            3461734
           ],
           "y": [
            10006.148973608166,
            8717.186278108173,
            14896.453866578888,
            6432.38758339551,
            6977.695783553831,
            16190.12695728268
           ]
          },
          {
           "customdata": [
            4.4,
            4.2
           ],
           "hovertemplate": "<b>%{text}</b><br>ВВП на душу населения: %{y}<br>Численность населения: %{x}<br>Стоимость Биг Мака: %{customdata}$<extra></extra>",
           "marker": {
            "size": [
             87040900.0000003,
             83824000.00000015
            ],
            "sizemode": "area",
            "sizeref": 200000
           },
           "mode": "markers",
           "name": "Oceania",
           "text": [
            "Australia",
            "New Zealand"
           ],
           "type": "scatter",
           "x": [
            25364307,
            4917000
           ],
           "y": [
            54907.10191014247,
            42084.35337480882
           ]
          },
          {
           "customdata": [
            4.3,
            2.3,
            4.8,
            4.1,
            3.2,
            3.8,
            4.6,
            3.7,
            4.6,
            5.3,
            4.8,
            4.7,
            3.8,
            3,
            4.7,
            4.8,
            3.2,
            3.3,
            2.3,
            4.6,
            5.9,
            2.8,
            3.7,
            2.3,
            1.7,
            3.7,
            2.6,
            4.5,
            5.8,
            6.6,
            2,
            1.9
           ],
           "hovertemplate": "<b>%{text}</b><br>ВВП на душу населения: %{y}<br>Численность населения: %{x}<br>Стоимость Биг Мака: %{customdata}$<extra></extra>",
           "marker": {
            "size": [
             86190480.00000001,
             46566460.35956381,
             96276600.00000003,
             81459840.00000001,
             64826319.48571119,
             76193378.79538268,
             92088804.30361678,
             73353600.00000001,
             92838150,
             105904260.00000003,
             96276600.00000003,
             94442760.00000001,
             76792050.00000001,
             60656066.72167339,
             93296610.00000001,
             96276600.00000003,
             64184400,
             65330550.00000001,
             46341887.27335921,
             91692000.00000001,
             117193451.22994527,
             56023156.23791167,
             74499750.00000001,
             45734518.49666212,
             33041913.473794702,
             73353600.00000001,
             52722900.00000001,
             90545850.00000001,
             116771929.82456142,
             132430092.19171801,
             39937585.91224876,
             38848920.86330935
            ],
            "sizemode": "area",
            "sizeref": 200000
           },
           "mode": "markers",
           "name": "Europe",
           "text": [
            "Austria",
            "Azerbaijan",
            "Belgium",
            "Britain",
            "Croatia",
            "Czech Republic",
            "Denmark",
            "Estonia",
            "Euro area",
            "Finland",
            "France",
            "Germany",
            "Greece",
            "Hungary",
            "Ireland",
            "Italy",
            "Latvia",
            "Lithuania",
            "Moldova",
            "Netherlands",
            "Norway",
            "Poland",
            "Portugal",
            "Romania",
            "Russia",
            "Slovakia",
            "Slovenia",
            "Spain",
            "Sweden",
            "Switzerland",
            "Turkey",
            "Ukraine"
           ],
           "type": "scatter",
           "x": [
            8877067,
            10023318,
            11484055,
            66834405,
            4067500,
            10669709,
            5818553,
            1326590,
            342597698,
            5520314,
            67059887,
            83132799,
            10716322,
            9769949,
            4941444,
            60297396,
            1912789,
            2786844,
            2657637,
            17332850,
            5347896,
            37970874,
            10269417,
            19356544,
            144373535,
            5454073,
            2087946,
            47076781,
            10285453,
            8574832,
            83429615,
            44385155
           ],
           "y": [
            50277.27508742132,
            4793.587019669884,
            46116.699233679916,
            42300.26712582509,
            14853.239837463454,
            23101.777704985394,
            59822.092960896814,
            23659.872290033847,
            38925.665107708046,
            48685.85398669441,
            40493.92857204561,
            46258.87828970513,
            19582.53601083292,
            16475.741838940205,
            78660.95646296022,
            33189.56579885424,
            17836.36488659575,
            19455.45412663407,
            4498.520850212312,
            52447.83143919107,
            75419.63486880896,
            15595.22703342586,
            23145.04081728281,
            12919.529644190821,
            11774.15638448799,
            19329.09680079016,
            25739.247814324604,
            29613.6711379784,
            51610.06605522013,
            81993.7271494202,
            9042.492982888822,
            3464.6960029349457
           ]
          },
          {
           "customdata": [
            3.2,
            3.1,
            2.6,
            2.6,
            2.3,
            4.6,
            3.6,
            2.7,
            3.5,
            4.3,
            2.2,
            2.7,
            3.3,
            2.7,
            3.3,
            3.2,
            4.3,
            4,
            3.2,
            3.7,
            0,
            2.8
           ],
           "hovertemplate": "<b>%{text}</b><br>ВВП на душу населения: %{y}<br>Численность населения: %{x}<br>Стоимость Биг Мака: %{customdata}$<extra></extra>",
           "marker": {
            "size": [
             63660477.4535809,
             61024570.41914244,
             51057203.21405094,
             51087034.51244888,
             46841731.7246274,
             91697344.82247125,
             71929177.42530431,
             54960541.14994363,
             69284064.66512702,
             86264100.86264102,
             43958712.81117184,
             54559625.87685113,
             66244239.631336406,
             53442763.75435416,
             65911431.51390319,
             63980379.350332566,
             85552031.8607567,
             80457715.00089398,
             63650580.26283299,
             74357572.44395845,
             0,
             56036898.1421613
            ],
            "sizemode": "area",
            "sizeref": 200000
           },
           "mode": "markers",
           "name": "Asia",
           "text": [
            "Bahrain",
            "China",
            "Hong Kong",
            "India",
            "Indonesia",
            "Israel",
            "Japan",
            "Jordan",
            "Kuwait",
            "Lebanon",
            "Malaysia",
            "Oman",
            "Pakistan",
            "Philippines",
            "Qatar",
            "Saudi Arabia",
            "Singapore",
            "South Korea",
            "Sri Lanka",
            "Thailand",
            "UAE",
            "Vietnam"
           ],
           "type": "scatter",
           "x": [
            1641172,
            1397715000,
            7507400,
            1366417754,
            270625568,
            9053300,
            126264931,
            10101694,
            4207083,
            6855713,
            31949777,
            4974986,
            216565318,
            108116615,
            2832067,
            34268528,
            5703569,
            51709098,
            21803000,
            69625582,
            9770529,
            96462106
           ],
           "y": [
            23503.977126673013,
            10261.679128374455,
            48755.83507912873,
            2104.1459000333293,
            4135.569262815552,
            43641.39773581081,
            40246.880128416415,
            4330.329345932573,
            32031.980102598878,
            7784.31685692976,
            11414.837661866748,
            15474.032475363449,
            1284.7020409003856,
            3485.0842183662153,
            64781.733197416936,
            23139.798656121413,
            65233.282439230235,
            31761.977692344586,
            3853.0836928894187,
            7808.1929162995,
            43103.3230583165,
            2715.2760364072083
           ]
          },
          {
           "customdata": [
            5.1,
            3.8,
            3.2,
            3.5,
            2.5,
            3.2,
            5.6
           ],
           "hovertemplate": "<b>%{text}</b><br>ВВП на душу населения: %{y}<br>Численность населения: %{x}<br>Стоимость Биг Мака: %{customdata}$<extra></extra>",
           "marker": {
            "size": [
             101697461.31891243,
             75456155.52535112,
             64697281.42023472,
             69846461.04416351,
             50754191.75244384,
             63657461.05615762,
             111600000
            ],
            "sizemode": "area",
            "sizeref": 200000
           },
           "mode": "markers",
           "name": "North America",
           "text": [
            "Canada",
            "Costa Rica",
            "Guatemala",
            "Honduras",
            "Mexico",
            "Nicaragua",
            "United States"
           ],
           "type": "scatter",
           "x": [
            37589262,
            5047561,
            16604026,
            9746117,
            127575529,
            6545502,
            328239523
           ],
           "y": [
            46194.7252255168,
            12238.37496439837,
            4619.98709708493,
            2574.9121906744294,
            9863.072698875738,
            1912.903745378689,
            65118.35833281631
           ]
          },
          {
           "customdata": [
            2.2,
            2.2
           ],
           "hovertemplate": "<b>%{text}</b><br>ВВП на душу населения: %{y}<br>Численность населения: %{x}<br>Стоимость Биг Мака: %{customdata}$<extra></extra>",
           "marker": {
            "size": [
             44667783.3612507,
             44708851.63151254
            ],
            "sizemode": "area",
            "sizeref": 200000
           },
           "mode": "markers",
           "name": "Africa",
           "text": [
            "Egypt",
            "South Africa"
           ],
           "type": "scatter",
           "x": [
            100388073,
            58558270
           ],
           "y": [
            3020.031349715429,
            6001.4008139488915
           ]
          }
         ],
         "name": "2019"
        }
       ],
       "layout": {
        "font": {
         "color": "black",
         "family": "Open Sans, light",
         "size": 14
        },
        "hovermode": "closest",
        "plot_bgcolor": "rgba(0,0,0,0)",
        "sliders": [
         {
          "active": 0,
          "currentvalue": {
           "font": {
            "size": 20
           },
           "prefix": "Год: ",
           "visible": true,
           "xanchor": "right"
          },
          "len": 0.9,
          "pad": {
           "b": 10,
           "t": 50
          },
          "steps": [
           {
            "args": [
             [
              "2005"
             ],
             {
              "frame": {
               "duration": 300,
               "redraw": false
              },
              "mode": "immediate",
              "transition": {
               "duration": 300
              }
             }
            ],
            "label": "2005",
            "method": "animate"
           },
           {
            "args": [
             [
              "2006"
             ],
             {
              "frame": {
               "duration": 300,
               "redraw": false
              },
              "mode": "immediate",
              "transition": {
               "duration": 300
              }
             }
            ],
            "label": "2006",
            "method": "animate"
           },
           {
            "args": [
             [
              "2007"
             ],
             {
              "frame": {
               "duration": 300,
               "redraw": false
              },
              "mode": "immediate",
              "transition": {
               "duration": 300
              }
             }
            ],
            "label": "2007",
            "method": "animate"
           },
           {
            "args": [
             [
              "2008"
             ],
             {
              "frame": {
               "duration": 300,
               "redraw": false
              },
              "mode": "immediate",
              "transition": {
               "duration": 300
              }
             }
            ],
            "label": "2008",
            "method": "animate"
           },
           {
            "args": [
             [
              "2009"
             ],
             {
              "frame": {
               "duration": 300,
               "redraw": false
              },
              "mode": "immediate",
              "transition": {
               "duration": 300
              }
             }
            ],
            "label": "2009",
            "method": "animate"
           },
           {
            "args": [
             [
              "2010"
             ],
             {
              "frame": {
               "duration": 300,
               "redraw": false
              },
              "mode": "immediate",
              "transition": {
               "duration": 300
              }
             }
            ],
            "label": "2010",
            "method": "animate"
           },
           {
            "args": [
             [
              "2011"
             ],
             {
              "frame": {
               "duration": 300,
               "redraw": false
              },
              "mode": "immediate",
              "transition": {
               "duration": 300
              }
             }
            ],
            "label": "2011",
            "method": "animate"
           },
           {
            "args": [
             [
              "2012"
             ],
             {
              "frame": {
               "duration": 300,
               "redraw": false
              },
              "mode": "immediate",
              "transition": {
               "duration": 300
              }
             }
            ],
            "label": "2012",
            "method": "animate"
           },
           {
            "args": [
             [
              "2013"
             ],
             {
              "frame": {
               "duration": 300,
               "redraw": false
              },
              "mode": "immediate",
              "transition": {
               "duration": 300
              }
             }
            ],
            "label": "2013",
            "method": "animate"
           },
           {
            "args": [
             [
              "2014"
             ],
             {
              "frame": {
               "duration": 300,
               "redraw": false
              },
              "mode": "immediate",
              "transition": {
               "duration": 300
              }
             }
            ],
            "label": "2014",
            "method": "animate"
           },
           {
            "args": [
             [
              "2015"
             ],
             {
              "frame": {
               "duration": 300,
               "redraw": false
              },
              "mode": "immediate",
              "transition": {
               "duration": 300
              }
             }
            ],
            "label": "2015",
            "method": "animate"
           },
           {
            "args": [
             [
              "2016"
             ],
             {
              "frame": {
               "duration": 300,
               "redraw": false
              },
              "mode": "immediate",
              "transition": {
               "duration": 300
              }
             }
            ],
            "label": "2016",
            "method": "animate"
           },
           {
            "args": [
             [
              "2017"
             ],
             {
              "frame": {
               "duration": 300,
               "redraw": false
              },
              "mode": "immediate",
              "transition": {
               "duration": 300
              }
             }
            ],
            "label": "2017",
            "method": "animate"
           },
           {
            "args": [
             [
              "2018"
             ],
             {
              "frame": {
               "duration": 300,
               "redraw": false
              },
              "mode": "immediate",
              "transition": {
               "duration": 300
              }
             }
            ],
            "label": "2018",
            "method": "animate"
           },
           {
            "args": [
             [
              "2019"
             ],
             {
              "frame": {
               "duration": 300,
               "redraw": false
              },
              "mode": "immediate",
              "transition": {
               "duration": 300
              }
             }
            ],
            "label": "2019",
            "method": "animate"
           }
          ],
          "transition": {
           "duration": 300,
           "easing": "cubic-in-out"
          },
          "x": 0.1,
          "xanchor": "left",
          "y": 0,
          "yanchor": "top"
         }
        ],
        "template": {
         "data": {
          "bar": [
           {
            "error_x": {
             "color": "#2a3f5f"
            },
            "error_y": {
             "color": "#2a3f5f"
            },
            "marker": {
             "line": {
              "color": "#E5ECF6",
              "width": 0.5
             }
            },
            "type": "bar"
           }
          ],
          "barpolar": [
           {
            "marker": {
             "line": {
              "color": "#E5ECF6",
              "width": 0.5
             }
            },
            "type": "barpolar"
           }
          ],
          "carpet": [
           {
            "aaxis": {
             "endlinecolor": "#2a3f5f",
             "gridcolor": "white",
             "linecolor": "white",
             "minorgridcolor": "white",
             "startlinecolor": "#2a3f5f"
            },
            "baxis": {
             "endlinecolor": "#2a3f5f",
             "gridcolor": "white",
             "linecolor": "white",
             "minorgridcolor": "white",
             "startlinecolor": "#2a3f5f"
            },
            "type": "carpet"
           }
          ],
          "choropleth": [
           {
            "colorbar": {
             "outlinewidth": 0,
             "ticks": ""
            },
            "type": "choropleth"
           }
          ],
          "contour": [
           {
            "colorbar": {
             "outlinewidth": 0,
             "ticks": ""
            },
            "colorscale": [
             [
              0,
              "#0d0887"
             ],
             [
              0.1111111111111111,
              "#46039f"
             ],
             [
              0.2222222222222222,
              "#7201a8"
             ],
             [
              0.3333333333333333,
              "#9c179e"
             ],
             [
              0.4444444444444444,
              "#bd3786"
             ],
             [
              0.5555555555555556,
              "#d8576b"
             ],
             [
              0.6666666666666666,
              "#ed7953"
             ],
             [
              0.7777777777777778,
              "#fb9f3a"
             ],
             [
              0.8888888888888888,
              "#fdca26"
             ],
             [
              1,
              "#f0f921"
             ]
            ],
            "type": "contour"
           }
          ],
          "contourcarpet": [
           {
            "colorbar": {
             "outlinewidth": 0,
             "ticks": ""
            },
            "type": "contourcarpet"
           }
          ],
          "heatmap": [
           {
            "colorbar": {
             "outlinewidth": 0,
             "ticks": ""
            },
            "colorscale": [
             [
              0,
              "#0d0887"
             ],
             [
              0.1111111111111111,
              "#46039f"
             ],
             [
              0.2222222222222222,
              "#7201a8"
             ],
             [
              0.3333333333333333,
              "#9c179e"
             ],
             [
              0.4444444444444444,
              "#bd3786"
             ],
             [
              0.5555555555555556,
              "#d8576b"
             ],
             [
              0.6666666666666666,
              "#ed7953"
             ],
             [
              0.7777777777777778,
              "#fb9f3a"
             ],
             [
              0.8888888888888888,
              "#fdca26"
             ],
             [
              1,
              "#f0f921"
             ]
            ],
            "type": "heatmap"
           }
          ],
          "heatmapgl": [
           {
            "colorbar": {
             "outlinewidth": 0,
             "ticks": ""
            },
            "colorscale": [
             [
              0,
              "#0d0887"
             ],
             [
              0.1111111111111111,
              "#46039f"
             ],
             [
              0.2222222222222222,
              "#7201a8"
             ],
             [
              0.3333333333333333,
              "#9c179e"
             ],
             [
              0.4444444444444444,
              "#bd3786"
             ],
             [
              0.5555555555555556,
              "#d8576b"
             ],
             [
              0.6666666666666666,
              "#ed7953"
             ],
             [
              0.7777777777777778,
              "#fb9f3a"
             ],
             [
              0.8888888888888888,
              "#fdca26"
             ],
             [
              1,
              "#f0f921"
             ]
            ],
            "type": "heatmapgl"
           }
          ],
          "histogram": [
           {
            "marker": {
             "colorbar": {
              "outlinewidth": 0,
              "ticks": ""
             }
            },
            "type": "histogram"
           }
          ],
          "histogram2d": [
           {
            "colorbar": {
             "outlinewidth": 0,
             "ticks": ""
            },
            "colorscale": [
             [
              0,
              "#0d0887"
             ],
             [
              0.1111111111111111,
              "#46039f"
             ],
             [
              0.2222222222222222,
              "#7201a8"
             ],
             [
              0.3333333333333333,
              "#9c179e"
             ],
             [
              0.4444444444444444,
              "#bd3786"
             ],
             [
              0.5555555555555556,
              "#d8576b"
             ],
             [
              0.6666666666666666,
              "#ed7953"
             ],
             [
              0.7777777777777778,
              "#fb9f3a"
             ],
             [
              0.8888888888888888,
              "#fdca26"
             ],
             [
              1,
              "#f0f921"
             ]
            ],
            "type": "histogram2d"
           }
          ],
          "histogram2dcontour": [
           {
            "colorbar": {
             "outlinewidth": 0,
             "ticks": ""
            },
            "colorscale": [
             [
              0,
              "#0d0887"
             ],
             [
              0.1111111111111111,
              "#46039f"
             ],
             [
              0.2222222222222222,
              "#7201a8"
             ],
             [
              0.3333333333333333,
              "#9c179e"
             ],
             [
              0.4444444444444444,
              "#bd3786"
             ],
             [
              0.5555555555555556,
              "#d8576b"
             ],
             [
              0.6666666666666666,
              "#ed7953"
             ],
             [
              0.7777777777777778,
              "#fb9f3a"
             ],
             [
              0.8888888888888888,
              "#fdca26"
             ],
             [
              1,
              "#f0f921"
             ]
            ],
            "type": "histogram2dcontour"
           }
          ],
          "mesh3d": [
           {
            "colorbar": {
             "outlinewidth": 0,
             "ticks": ""
            },
            "type": "mesh3d"
           }
          ],
          "parcoords": [
           {
            "line": {
             "colorbar": {
              "outlinewidth": 0,
              "ticks": ""
             }
            },
            "type": "parcoords"
           }
          ],
          "pie": [
           {
            "automargin": true,
            "type": "pie"
           }
          ],
          "scatter": [
           {
            "marker": {
             "colorbar": {
              "outlinewidth": 0,
              "ticks": ""
             }
            },
            "type": "scatter"
           }
          ],
          "scatter3d": [
           {
            "line": {
             "colorbar": {
              "outlinewidth": 0,
              "ticks": ""
             }
            },
            "marker": {
             "colorbar": {
              "outlinewidth": 0,
              "ticks": ""
             }
            },
            "type": "scatter3d"
           }
          ],
          "scattercarpet": [
           {
            "marker": {
             "colorbar": {
              "outlinewidth": 0,
              "ticks": ""
             }
            },
            "type": "scattercarpet"
           }
          ],
          "scattergeo": [
           {
            "marker": {
             "colorbar": {
              "outlinewidth": 0,
              "ticks": ""
             }
            },
            "type": "scattergeo"
           }
          ],
          "scattergl": [
           {
            "marker": {
             "colorbar": {
              "outlinewidth": 0,
              "ticks": ""
             }
            },
            "type": "scattergl"
           }
          ],
          "scattermapbox": [
           {
            "marker": {
             "colorbar": {
              "outlinewidth": 0,
              "ticks": ""
             }
            },
            "type": "scattermapbox"
           }
          ],
          "scatterpolar": [
           {
            "marker": {
             "colorbar": {
              "outlinewidth": 0,
              "ticks": ""
             }
            },
            "type": "scatterpolar"
           }
          ],
          "scatterpolargl": [
           {
            "marker": {
             "colorbar": {
              "outlinewidth": 0,
              "ticks": ""
             }
            },
            "type": "scatterpolargl"
           }
          ],
          "scatterternary": [
           {
            "marker": {
             "colorbar": {
              "outlinewidth": 0,
              "ticks": ""
             }
            },
            "type": "scatterternary"
           }
          ],
          "surface": [
           {
            "colorbar": {
             "outlinewidth": 0,
             "ticks": ""
            },
            "colorscale": [
             [
              0,
              "#0d0887"
             ],
             [
              0.1111111111111111,
              "#46039f"
             ],
             [
              0.2222222222222222,
              "#7201a8"
             ],
             [
              0.3333333333333333,
              "#9c179e"
             ],
             [
              0.4444444444444444,
              "#bd3786"
             ],
             [
              0.5555555555555556,
              "#d8576b"
             ],
             [
              0.6666666666666666,
              "#ed7953"
             ],
             [
              0.7777777777777778,
              "#fb9f3a"
             ],
             [
              0.8888888888888888,
              "#fdca26"
             ],
             [
              1,
              "#f0f921"
             ]
            ],
            "type": "surface"
           }
          ],
          "table": [
           {
            "cells": {
             "fill": {
              "color": "#EBF0F8"
             },
             "line": {
              "color": "white"
             }
            },
            "header": {
             "fill": {
              "color": "#C8D4E3"
             },
             "line": {
              "color": "white"
             }
            },
            "type": "table"
           }
          ]
         },
         "layout": {
          "annotationdefaults": {
           "arrowcolor": "#2a3f5f",
           "arrowhead": 0,
           "arrowwidth": 1
          },
          "coloraxis": {
           "colorbar": {
            "outlinewidth": 0,
            "ticks": ""
           }
          },
          "colorscale": {
           "diverging": [
            [
             0,
             "#8e0152"
            ],
            [
             0.1,
             "#c51b7d"
            ],
            [
             0.2,
             "#de77ae"
            ],
            [
             0.3,
             "#f1b6da"
            ],
            [
             0.4,
             "#fde0ef"
            ],
            [
             0.5,
             "#f7f7f7"
            ],
            [
             0.6,
             "#e6f5d0"
            ],
            [
             0.7,
             "#b8e186"
            ],
            [
             0.8,
             "#7fbc41"
            ],
            [
             0.9,
             "#4d9221"
            ],
            [
             1,
             "#276419"
            ]
           ],
           "sequential": [
            [
             0,
             "#0d0887"
            ],
            [
             0.1111111111111111,
             "#46039f"
            ],
            [
             0.2222222222222222,
             "#7201a8"
            ],
            [
             0.3333333333333333,
             "#9c179e"
            ],
            [
             0.4444444444444444,
             "#bd3786"
            ],
            [
             0.5555555555555556,
             "#d8576b"
            ],
            [
             0.6666666666666666,
             "#ed7953"
            ],
            [
             0.7777777777777778,
             "#fb9f3a"
            ],
            [
             0.8888888888888888,
             "#fdca26"
            ],
            [
             1,
             "#f0f921"
            ]
           ],
           "sequentialminus": [
            [
             0,
             "#0d0887"
            ],
            [
             0.1111111111111111,
             "#46039f"
            ],
            [
             0.2222222222222222,
             "#7201a8"
            ],
            [
             0.3333333333333333,
             "#9c179e"
            ],
            [
             0.4444444444444444,
             "#bd3786"
            ],
            [
             0.5555555555555556,
             "#d8576b"
            ],
            [
             0.6666666666666666,
             "#ed7953"
            ],
            [
             0.7777777777777778,
             "#fb9f3a"
            ],
            [
             0.8888888888888888,
             "#fdca26"
            ],
            [
             1,
             "#f0f921"
            ]
           ]
          },
          "colorway": [
           "#636efa",
           "#EF553B",
           "#00cc96",
           "#ab63fa",
           "#FFA15A",
           "#19d3f3",
           "#FF6692",
           "#B6E880",
           "#FF97FF",
           "#FECB52"
          ],
          "font": {
           "color": "#2a3f5f"
          },
          "geo": {
           "bgcolor": "white",
           "lakecolor": "white",
           "landcolor": "#E5ECF6",
           "showlakes": true,
           "showland": true,
           "subunitcolor": "white"
          },
          "hoverlabel": {
           "align": "left"
          },
          "hovermode": "closest",
          "mapbox": {
           "style": "light"
          },
          "paper_bgcolor": "white",
          "plot_bgcolor": "#E5ECF6",
          "polar": {
           "angularaxis": {
            "gridcolor": "white",
            "linecolor": "white",
            "ticks": ""
           },
           "bgcolor": "#E5ECF6",
           "radialaxis": {
            "gridcolor": "white",
            "linecolor": "white",
            "ticks": ""
           }
          },
          "scene": {
           "xaxis": {
            "backgroundcolor": "#E5ECF6",
            "gridcolor": "white",
            "gridwidth": 2,
            "linecolor": "white",
            "showbackground": true,
            "ticks": "",
            "zerolinecolor": "white"
           },
           "yaxis": {
            "backgroundcolor": "#E5ECF6",
            "gridcolor": "white",
            "gridwidth": 2,
            "linecolor": "white",
            "showbackground": true,
            "ticks": "",
            "zerolinecolor": "white"
           },
           "zaxis": {
            "backgroundcolor": "#E5ECF6",
            "gridcolor": "white",
            "gridwidth": 2,
            "linecolor": "white",
            "showbackground": true,
            "ticks": "",
            "zerolinecolor": "white"
           }
          },
          "shapedefaults": {
           "line": {
            "color": "#2a3f5f"
           }
          },
          "ternary": {
           "aaxis": {
            "gridcolor": "white",
            "linecolor": "white",
            "ticks": ""
           },
           "baxis": {
            "gridcolor": "white",
            "linecolor": "white",
            "ticks": ""
           },
           "bgcolor": "#E5ECF6",
           "caxis": {
            "gridcolor": "white",
            "linecolor": "white",
            "ticks": ""
           }
          },
          "title": {
           "x": 0.05
          },
          "xaxis": {
           "automargin": true,
           "gridcolor": "white",
           "linecolor": "white",
           "ticks": "",
           "title": {
            "standoff": 15
           },
           "zerolinecolor": "white",
           "zerolinewidth": 2
          },
          "yaxis": {
           "automargin": true,
           "gridcolor": "white",
           "linecolor": "white",
           "ticks": "",
           "title": {
            "standoff": 15
           },
           "zerolinecolor": "white",
           "zerolinewidth": 2
          }
         }
        },
        "title": {
         "text": "<b>Motion chart</b><br><span style=\"color:#666666\">Индекс Биг Мака для стран мира с 2005 по 2019 год </span>"
        },
        "updatemenus": [
         {
          "buttons": [
           {
            "args": [
             null,
             {
              "frame": {
               "duration": 500,
               "redraw": false
              },
              "fromcurrent": true,
              "transition": {
               "duration": 300,
               "easing": "quadratic-in-out"
              }
             }
            ],
            "label": "Play",
            "method": "animate"
           },
           {
            "args": [
             [
              null
             ],
             {
              "frame": {
               "duration": 0,
               "redraw": false
              },
              "mode": "immediate",
              "transition": {
               "duration": 0
              }
             }
            ],
            "label": "Pause",
            "method": "animate"
           }
          ],
          "direction": "left",
          "pad": {
           "r": 10,
           "t": 87
          },
          "showactive": false,
          "type": "buttons",
          "x": 0.1,
          "xanchor": "right",
          "y": 0,
          "yanchor": "top"
         }
        ],
        "xaxis": {
         "gridcolor": "lightgray",
         "gridwidth": 0.5,
         "nticks": 4,
         "tickfont": {
          "color": "black",
          "family": "Open Sans, light",
          "size": 12
         },
         "title": {
          "text": "Численность населения"
         },
         "type": "log"
        },
        "yaxis": {
         "gridcolor": "lightgray",
         "gridwidth": 0.5,
         "nticks": 4,
         "range": [
          2,
          5.5
         ],
         "tickfont": {
          "color": "black",
          "family": "Open Sans, light",
          "size": 12
         },
         "title": {
          "text": "ВВП на душу населения (в $)"
         },
         "type": "log"
        }
       }
      },
      "text/html": [
       "<div>\n",
       "        \n",
       "        \n",
       "            <div id=\"cdc1c1f9-d985-4d7e-9e6e-5b9666a09b0f\" class=\"plotly-graph-div\" style=\"height:525px; width:100%;\"></div>\n",
       "            <script type=\"text/javascript\">\n",
       "                require([\"plotly\"], function(Plotly) {\n",
       "                    window.PLOTLYENV=window.PLOTLYENV || {};\n",
       "                    \n",
       "                if (document.getElementById(\"cdc1c1f9-d985-4d7e-9e6e-5b9666a09b0f\")) {\n",
       "                    Plotly.newPlot(\n",
       "                        'cdc1c1f9-d985-4d7e-9e6e-5b9666a09b0f',\n",
       "                        [{\"customdata\": [1.6, 2.4, 2.5, 2.8, 2.8, 1.8], \"hovertemplate\": \"<b>%{text}</b><br>\\u0412\\u0412\\u041f \\u043d\\u0430 \\u0434\\u0443\\u0448\\u0443 \\u043d\\u0430\\u0441\\u0435\\u043b\\u0435\\u043d\\u0438\\u044f: %{y}$<br>\\u0427\\u0438\\u0441\\u043b\\u0435\\u043d\\u043d\\u043e\\u0441\\u0442\\u044c \\u043d\\u0430\\u0441\\u0435\\u043b\\u0435\\u043d\\u0438\\u044f: %{x}<br>\\u0421\\u0442\\u043e\\u0438\\u043c\\u043e\\u0441\\u0442\\u044c \\u0411\\u0438\\u0433 \\u041c\\u0430\\u043a\\u0430: %{customdata}$<extra></extra>\", \"marker\": {\"size\": [32792544.01104591, 47874066.861408636, 50637184.57253776, 55849121.45035873, 55244884.16395256, 36476683.93782383], \"sizemode\": \"area\", \"sizeref\": 200000}, \"mode\": \"markers\", \"name\": \"South America\", \"text\": [\"Argentina\", \"Brazil\", \"Chile\", \"Colombia\", \"Peru\", \"Uruguay\"], \"type\": \"scatter\", \"x\": [38892931.0, 186127103.0, 16182721.0, 42647723.0, 27866145.0, 3321803.0], \"y\": [5109.851325226221, 4790.43708777366, 7598.525121088908, 3414.465833172242, 2729.4986823834442, 5226.937805720117]}, {\"customdata\": [2.5, 3.2], \"hovertemplate\": \"<b>%{text}</b><br>\\u0412\\u0412\\u041f \\u043d\\u0430 \\u0434\\u0443\\u0448\\u0443 \\u043d\\u0430\\u0441\\u0435\\u043b\\u0435\\u043d\\u0438\\u044f: %{y}$<br>\\u0427\\u0438\\u0441\\u043b\\u0435\\u043d\\u043d\\u043e\\u0441\\u0442\\u044c \\u043d\\u0430\\u0441\\u0435\\u043b\\u0435\\u043d\\u0438\\u044f: %{x}<br>\\u0421\\u0442\\u043e\\u0438\\u043c\\u043e\\u0441\\u0442\\u044c \\u0411\\u0438\\u0433 \\u041c\\u0430\\u043a\\u0430: %{customdata}$<extra></extra>\", \"marker\": {\"size\": [49942374.183634266, 63467161.092490904], \"sizemode\": \"area\", \"sizeref\": 200000}, \"mode\": \"markers\", \"name\": \"Oceania\", \"text\": [\"Australia\", \"New Zealand\"], \"type\": \"scatter\", \"x\": [20394800.0, 4133900.0], \"y\": [33999.24285758355, 27751.065470885846]}, {\"customdata\": [0.0, 0.0, 0.0, 3.4, 0.0, 2.3, 4.6, 0.0, 3.6, 0.0, 0.0, 0.0, 0.0, 2.6, 0.0, 0.0, 0.0, 0.0, 0.0, 0.0, 6.1, 2.0, 0.0, 0.0, 1.5, 0.0, 0.0, 0.0, 4.2, 5.1, 2.9, 1.4], \"hovertemplate\": \"<b>%{text}</b><br>\\u0412\\u0412\\u041f \\u043d\\u0430 \\u0434\\u0443\\u0448\\u0443 \\u043d\\u0430\\u0441\\u0435\\u043b\\u0435\\u043d\\u0438\\u044f: %{y}$<br>\\u0427\\u0438\\u0441\\u043b\\u0435\\u043d\\u043d\\u043e\\u0441\\u0442\\u044c \\u043d\\u0430\\u0441\\u0435\\u043b\\u0435\\u043d\\u0438\\u044f: %{x}<br>\\u0421\\u0442\\u043e\\u0438\\u043c\\u043e\\u0441\\u0442\\u044c \\u0411\\u0438\\u0433 \\u041c\\u0430\\u043a\\u0430: %{customdata}$<extra></extra>\", \"marker\": {\"size\": [0.0, 0.0, 0.0, 68808000.05435832, 0.0, 45980383.767506495, 91513182.84498821, 0.0, 71662639.96460581, 0.0, 0.0, 0.0, 0.0, 52051875.09514199, 0.0, 0.0, 0.0, 0.0, 0.0, 0.0, 121257345.39688462, 39279671.25936669, 0.0, 0.0, 29571737.867666475, 0.0, 0.0, 0.0, 83331093.25018144, 101002004.00801602, 58436815.19357195, 28656126.48221344], \"sizemode\": \"area\", \"sizeref\": 200000}, \"mode\": \"markers\", \"name\": \"Europe\", \"text\": [\"Austria\", \"Azerbaijan\", \"Belgium\", \"Britain\", \"Croatia\", \"Czech Republic\", \"Denmark\", \"Estonia\", \"Euro area\", \"Finland\", \"France\", \"Germany\", \"Greece\", \"Hungary\", \"Ireland\", \"Italy\", \"Latvia\", \"Lithuania\", \"Moldova\", \"Netherlands\", \"Norway\", \"Poland\", \"Portugal\", \"Romania\", \"Russia\", \"Slovakia\", \"Slovenia\", \"Spain\", \"Sweden\", \"Switzerland\", \"Turkey\", \"Ukraine\"], \"type\": \"scatter\", \"x\": [8227829.0, 8391850.0, 10478617.0, 60401206.0, 4310145.0, 10211216.0, 5419432.0, 1354775.0, 329380417.0, 5246096.0, 63179351.0, 82469422.0, 10987314.0, 10087065.0, 4159914.0, 57969484.0, 2238799.0, 3322528.0, 2888111.0, 16319868.0, 4623291.0, 38165445.0, 10503330.0, 21319685.0, 143518814.0, 5372807.0, 2000474.0, 43653155.0, 9029572.0, 7437115.0, 67903469.0, 47105171.0], \"y\": [38403.13387707146, 1578.4023902960253, 36795.97688196391, 42030.28661381364, 10530.21990963079, 13346.176389885788, 48799.82560112757, 10406.39687591755, 31936.04537349833, 39040.2888825052, 34760.18776638652, 34507.36881423323, 22551.73574409906, 11200.576949626378, 50878.223611636444, 32043.140368411936, 7552.873894203365, 7863.162008651665, 1034.7070581674318, 41979.05584578809, 66810.47852086792, 8020.963164358964, 18773.125361635404, 4617.9290164325785, 5323.463082633835, 11685.754822439145, 18098.90873050002, 26419.2968638221, 43437.06311647761, 54952.67371814972, 7384.251627901721, 1826.9313911481734]}, {\"customdata\": [0.0, 1.3, 1.5, 0.0, 1.5, 0.0, 2.3, 0.0, 0.0, 0.0, 1.4, 0.0, 2.2, 1.5, 0.0, 2.4, 2.2, 2.5, 1.8, 1.5, 2.5, 0.0], \"hovertemplate\": \"<b>%{text}</b><br>\\u0412\\u0412\\u041f \\u043d\\u0430 \\u0434\\u0443\\u0448\\u0443 \\u043d\\u0430\\u0441\\u0435\\u043b\\u0435\\u043d\\u0438\\u044f: %{y}$<br>\\u0427\\u0438\\u0441\\u043b\\u0435\\u043d\\u043d\\u043e\\u0441\\u0442\\u044c \\u043d\\u0430\\u0441\\u0435\\u043b\\u0435\\u043d\\u0438\\u044f: %{x}<br>\\u0421\\u0442\\u043e\\u0438\\u043c\\u043e\\u0441\\u0442\\u044c \\u0411\\u0438\\u0433 \\u041c\\u0430\\u043a\\u0430: %{customdata}$<extra></extra>\", \"marker\": {\"size\": [0.0, 25373350.732202407, 30845553.74195124, 0.0, 30591932.949188057, 0.0, 46853769.38574708, 0.0, 0.0, 0.0, 27631578.94736842, 0.0, 43609527.00436095, 29330889.092575617, 0.0, 47998720.03413242, 43355211.657734685, 49726504.226752855, 35019260.59332633, 29607698.001480386, 49012933.96868618, 0.0], \"sizemode\": \"area\", \"sizeref\": 200000}, \"mode\": \"markers\", \"name\": \"Asia\", \"text\": [\"Bahrain\", \"China\", \"Hong Kong\", \"India\", \"Indonesia\", \"Israel\", \"Japan\", \"Jordan\", \"Kuwait\", \"Lebanon\", \"Malaysia\", \"Oman\", \"Pakistan\", \"Philippines\", \"Qatar\", \"Saudi Arabia\", \"Singapore\", \"South Korea\", \"Sri Lanka\", \"Thailand\", \"UAE\", \"Vietnam\"], \"type\": \"scatter\", \"x\": [889164.0, 1303720000.0, 6813200.0, 1147609927.0, 226289470.0, 6930100.0, 127773000.0, 5765635.0, 2270198.0, 4698763.0, 25690611.0, 2511251.0, 160304008.0, 86326250.0, 865416.0, 23816183.0, 4265762.0, 48184561.0, 19544988.0, 65416189.0, 4588225.0, 83832661.0], \"y\": [17959.255440228462, 1753.4178292582303, 26649.75080170698, 714.8610134956614, 1263.287320545746, 20566.64548986422, 37217.648727917, 2214.017817251959, 35591.00577878507, 4575.105511593541, 5587.025649623397, 12377.068073789995, 748.9225845989952, 1244.3490409949234, 51455.59419457752, 13791.446293644578, 29961.263277456874, 19402.502625954898, 1248.6981851703413, 2894.062655964015, 39365.433901912395, 687.4797355922306]}, {\"customdata\": [2.6, 2.4, 0.0, 0.0, 2.6, 0.0, 3.1], \"hovertemplate\": \"<b>%{text}</b><br>\\u0412\\u0412\\u041f \\u043d\\u0430 \\u0434\\u0443\\u0448\\u0443 \\u043d\\u0430\\u0441\\u0435\\u043b\\u0435\\u043d\\u0438\\u044f: %{y}$<br>\\u0427\\u0438\\u0441\\u043b\\u0435\\u043d\\u043d\\u043e\\u0441\\u0442\\u044c \\u043d\\u0430\\u0441\\u0435\\u043b\\u0435\\u043d\\u0438\\u044f: %{x}<br>\\u0421\\u0442\\u043e\\u0438\\u043c\\u043e\\u0441\\u0442\\u044c \\u0411\\u0438\\u0433 \\u041c\\u0430\\u043a\\u0430: %{customdata}$<extra></extra>\", \"marker\": {\"size\": [52505202.49719865, 47548916.473806016, 0.0, 0.0, 51529790.66022544, 0.0, 61200000.0], \"sizemode\": \"area\", \"sizeref\": 200000}, \"mode\": \"markers\", \"name\": \"North America\", \"text\": [\"Canada\", \"Costa Rica\", \"Guatemala\", \"Honduras\", \"Mexico\", \"Nicaragua\", \"United States\"], \"type\": \"scatter\", \"x\": [32243753.0, 4285502.0, 12948292.0, 7458985.0, 106005203.0, 5438690.0, 295516599.0], \"y\": [36266.18712358514, 4654.82482200979, 2101.541817822482, 1296.6959592220564, 8277.671251496033, 1162.29011254959, 44114.74777767052]}, {\"customdata\": [1.6, 2.1], \"hovertemplate\": \"<b>%{text}</b><br>\\u0412\\u0412\\u041f \\u043d\\u0430 \\u0434\\u0443\\u0448\\u0443 \\u043d\\u0430\\u0441\\u0435\\u043b\\u0435\\u043d\\u0438\\u044f: %{y}$<br>\\u0427\\u0438\\u0441\\u043b\\u0435\\u043d\\u043d\\u043e\\u0441\\u0442\\u044c \\u043d\\u0430\\u0441\\u0435\\u043b\\u0435\\u043d\\u0438\\u044f: %{x}<br>\\u0421\\u0442\\u043e\\u0438\\u043c\\u043e\\u0441\\u0442\\u044c \\u0411\\u0438\\u0433 \\u041c\\u0430\\u043a\\u0430: %{customdata}$<extra></extra>\", \"marker\": {\"size\": [31034482.75862069, 41966246.50281279], \"sizemode\": \"area\", \"sizeref\": 200000}, \"mode\": \"markers\", \"name\": \"Africa\", \"text\": [\"Egypt\", \"South Africa\"], \"type\": \"scatter\", \"x\": [75523569.0, 47880601.0], \"y\": [1187.5196897838832, 5383.656542509836]}],\n",
       "                        {\"font\": {\"color\": \"black\", \"family\": \"Open Sans, light\", \"size\": 14}, \"hovermode\": \"closest\", \"plot_bgcolor\": \"rgba(0,0,0,0)\", \"sliders\": [{\"active\": 0, \"currentvalue\": {\"font\": {\"size\": 20}, \"prefix\": \"\\u0413\\u043e\\u0434: \", \"visible\": true, \"xanchor\": \"right\"}, \"len\": 0.9, \"pad\": {\"b\": 10, \"t\": 50}, \"steps\": [{\"args\": [[\"2005\"], {\"frame\": {\"duration\": 300, \"redraw\": false}, \"mode\": \"immediate\", \"transition\": {\"duration\": 300}}], \"label\": \"2005\", \"method\": \"animate\"}, {\"args\": [[\"2006\"], {\"frame\": {\"duration\": 300, \"redraw\": false}, \"mode\": \"immediate\", \"transition\": {\"duration\": 300}}], \"label\": \"2006\", \"method\": \"animate\"}, {\"args\": [[\"2007\"], {\"frame\": {\"duration\": 300, \"redraw\": false}, \"mode\": \"immediate\", \"transition\": {\"duration\": 300}}], \"label\": \"2007\", \"method\": \"animate\"}, {\"args\": [[\"2008\"], {\"frame\": {\"duration\": 300, \"redraw\": false}, \"mode\": \"immediate\", \"transition\": {\"duration\": 300}}], \"label\": \"2008\", \"method\": \"animate\"}, {\"args\": [[\"2009\"], {\"frame\": {\"duration\": 300, \"redraw\": false}, \"mode\": \"immediate\", \"transition\": {\"duration\": 300}}], \"label\": \"2009\", \"method\": \"animate\"}, {\"args\": [[\"2010\"], {\"frame\": {\"duration\": 300, \"redraw\": false}, \"mode\": \"immediate\", \"transition\": {\"duration\": 300}}], \"label\": \"2010\", \"method\": \"animate\"}, {\"args\": [[\"2011\"], {\"frame\": {\"duration\": 300, \"redraw\": false}, \"mode\": \"immediate\", \"transition\": {\"duration\": 300}}], \"label\": \"2011\", \"method\": \"animate\"}, {\"args\": [[\"2012\"], {\"frame\": {\"duration\": 300, \"redraw\": false}, \"mode\": \"immediate\", \"transition\": {\"duration\": 300}}], \"label\": \"2012\", \"method\": \"animate\"}, {\"args\": [[\"2013\"], {\"frame\": {\"duration\": 300, \"redraw\": false}, \"mode\": \"immediate\", \"transition\": {\"duration\": 300}}], \"label\": \"2013\", \"method\": \"animate\"}, {\"args\": [[\"2014\"], {\"frame\": {\"duration\": 300, \"redraw\": false}, \"mode\": \"immediate\", \"transition\": {\"duration\": 300}}], \"label\": \"2014\", \"method\": \"animate\"}, {\"args\": [[\"2015\"], {\"frame\": {\"duration\": 300, \"redraw\": false}, \"mode\": \"immediate\", \"transition\": {\"duration\": 300}}], \"label\": \"2015\", \"method\": \"animate\"}, {\"args\": [[\"2016\"], {\"frame\": {\"duration\": 300, \"redraw\": false}, \"mode\": \"immediate\", \"transition\": {\"duration\": 300}}], \"label\": \"2016\", \"method\": \"animate\"}, {\"args\": [[\"2017\"], {\"frame\": {\"duration\": 300, \"redraw\": false}, \"mode\": \"immediate\", \"transition\": {\"duration\": 300}}], \"label\": \"2017\", \"method\": \"animate\"}, {\"args\": [[\"2018\"], {\"frame\": {\"duration\": 300, \"redraw\": false}, \"mode\": \"immediate\", \"transition\": {\"duration\": 300}}], \"label\": \"2018\", \"method\": \"animate\"}, {\"args\": [[\"2019\"], {\"frame\": {\"duration\": 300, \"redraw\": false}, \"mode\": \"immediate\", \"transition\": {\"duration\": 300}}], \"label\": \"2019\", \"method\": \"animate\"}], \"transition\": {\"duration\": 300, \"easing\": \"cubic-in-out\"}, \"x\": 0.1, \"xanchor\": \"left\", \"y\": 0, \"yanchor\": \"top\"}], \"template\": {\"data\": {\"bar\": [{\"error_x\": {\"color\": \"#2a3f5f\"}, \"error_y\": {\"color\": \"#2a3f5f\"}, \"marker\": {\"line\": {\"color\": \"#E5ECF6\", \"width\": 0.5}}, \"type\": \"bar\"}], \"barpolar\": [{\"marker\": {\"line\": {\"color\": \"#E5ECF6\", \"width\": 0.5}}, \"type\": \"barpolar\"}], \"carpet\": [{\"aaxis\": {\"endlinecolor\": \"#2a3f5f\", \"gridcolor\": \"white\", \"linecolor\": \"white\", \"minorgridcolor\": \"white\", \"startlinecolor\": \"#2a3f5f\"}, \"baxis\": {\"endlinecolor\": \"#2a3f5f\", \"gridcolor\": \"white\", \"linecolor\": \"white\", \"minorgridcolor\": \"white\", \"startlinecolor\": \"#2a3f5f\"}, \"type\": \"carpet\"}], \"choropleth\": [{\"colorbar\": {\"outlinewidth\": 0, \"ticks\": \"\"}, \"type\": \"choropleth\"}], \"contour\": [{\"colorbar\": {\"outlinewidth\": 0, \"ticks\": \"\"}, \"colorscale\": [[0.0, \"#0d0887\"], [0.1111111111111111, \"#46039f\"], [0.2222222222222222, \"#7201a8\"], [0.3333333333333333, \"#9c179e\"], [0.4444444444444444, \"#bd3786\"], [0.5555555555555556, \"#d8576b\"], [0.6666666666666666, \"#ed7953\"], [0.7777777777777778, \"#fb9f3a\"], [0.8888888888888888, \"#fdca26\"], [1.0, \"#f0f921\"]], \"type\": \"contour\"}], \"contourcarpet\": [{\"colorbar\": {\"outlinewidth\": 0, \"ticks\": \"\"}, \"type\": \"contourcarpet\"}], \"heatmap\": [{\"colorbar\": {\"outlinewidth\": 0, \"ticks\": \"\"}, \"colorscale\": [[0.0, \"#0d0887\"], [0.1111111111111111, \"#46039f\"], [0.2222222222222222, \"#7201a8\"], [0.3333333333333333, \"#9c179e\"], [0.4444444444444444, \"#bd3786\"], [0.5555555555555556, \"#d8576b\"], [0.6666666666666666, \"#ed7953\"], [0.7777777777777778, \"#fb9f3a\"], [0.8888888888888888, \"#fdca26\"], [1.0, \"#f0f921\"]], \"type\": \"heatmap\"}], \"heatmapgl\": [{\"colorbar\": {\"outlinewidth\": 0, \"ticks\": \"\"}, \"colorscale\": [[0.0, \"#0d0887\"], [0.1111111111111111, \"#46039f\"], [0.2222222222222222, \"#7201a8\"], [0.3333333333333333, \"#9c179e\"], [0.4444444444444444, \"#bd3786\"], [0.5555555555555556, \"#d8576b\"], [0.6666666666666666, \"#ed7953\"], [0.7777777777777778, \"#fb9f3a\"], [0.8888888888888888, \"#fdca26\"], [1.0, \"#f0f921\"]], \"type\": \"heatmapgl\"}], \"histogram\": [{\"marker\": {\"colorbar\": {\"outlinewidth\": 0, \"ticks\": \"\"}}, \"type\": \"histogram\"}], \"histogram2d\": [{\"colorbar\": {\"outlinewidth\": 0, \"ticks\": \"\"}, \"colorscale\": [[0.0, \"#0d0887\"], [0.1111111111111111, \"#46039f\"], [0.2222222222222222, \"#7201a8\"], [0.3333333333333333, \"#9c179e\"], [0.4444444444444444, \"#bd3786\"], [0.5555555555555556, \"#d8576b\"], [0.6666666666666666, \"#ed7953\"], [0.7777777777777778, \"#fb9f3a\"], [0.8888888888888888, \"#fdca26\"], [1.0, \"#f0f921\"]], \"type\": \"histogram2d\"}], \"histogram2dcontour\": [{\"colorbar\": {\"outlinewidth\": 0, \"ticks\": \"\"}, \"colorscale\": [[0.0, \"#0d0887\"], [0.1111111111111111, \"#46039f\"], [0.2222222222222222, \"#7201a8\"], [0.3333333333333333, \"#9c179e\"], [0.4444444444444444, \"#bd3786\"], [0.5555555555555556, \"#d8576b\"], [0.6666666666666666, \"#ed7953\"], [0.7777777777777778, \"#fb9f3a\"], [0.8888888888888888, \"#fdca26\"], [1.0, \"#f0f921\"]], \"type\": \"histogram2dcontour\"}], \"mesh3d\": [{\"colorbar\": {\"outlinewidth\": 0, \"ticks\": \"\"}, \"type\": \"mesh3d\"}], \"parcoords\": [{\"line\": {\"colorbar\": {\"outlinewidth\": 0, \"ticks\": \"\"}}, \"type\": \"parcoords\"}], \"pie\": [{\"automargin\": true, \"type\": \"pie\"}], \"scatter\": [{\"marker\": {\"colorbar\": {\"outlinewidth\": 0, \"ticks\": \"\"}}, \"type\": \"scatter\"}], \"scatter3d\": [{\"line\": {\"colorbar\": {\"outlinewidth\": 0, \"ticks\": \"\"}}, \"marker\": {\"colorbar\": {\"outlinewidth\": 0, \"ticks\": \"\"}}, \"type\": \"scatter3d\"}], \"scattercarpet\": [{\"marker\": {\"colorbar\": {\"outlinewidth\": 0, \"ticks\": \"\"}}, \"type\": \"scattercarpet\"}], \"scattergeo\": [{\"marker\": {\"colorbar\": {\"outlinewidth\": 0, \"ticks\": \"\"}}, \"type\": \"scattergeo\"}], \"scattergl\": [{\"marker\": {\"colorbar\": {\"outlinewidth\": 0, \"ticks\": \"\"}}, \"type\": \"scattergl\"}], \"scattermapbox\": [{\"marker\": {\"colorbar\": {\"outlinewidth\": 0, \"ticks\": \"\"}}, \"type\": \"scattermapbox\"}], \"scatterpolar\": [{\"marker\": {\"colorbar\": {\"outlinewidth\": 0, \"ticks\": \"\"}}, \"type\": \"scatterpolar\"}], \"scatterpolargl\": [{\"marker\": {\"colorbar\": {\"outlinewidth\": 0, \"ticks\": \"\"}}, \"type\": \"scatterpolargl\"}], \"scatterternary\": [{\"marker\": {\"colorbar\": {\"outlinewidth\": 0, \"ticks\": \"\"}}, \"type\": \"scatterternary\"}], \"surface\": [{\"colorbar\": {\"outlinewidth\": 0, \"ticks\": \"\"}, \"colorscale\": [[0.0, \"#0d0887\"], [0.1111111111111111, \"#46039f\"], [0.2222222222222222, \"#7201a8\"], [0.3333333333333333, \"#9c179e\"], [0.4444444444444444, \"#bd3786\"], [0.5555555555555556, \"#d8576b\"], [0.6666666666666666, \"#ed7953\"], [0.7777777777777778, \"#fb9f3a\"], [0.8888888888888888, \"#fdca26\"], [1.0, \"#f0f921\"]], \"type\": \"surface\"}], \"table\": [{\"cells\": {\"fill\": {\"color\": \"#EBF0F8\"}, \"line\": {\"color\": \"white\"}}, \"header\": {\"fill\": {\"color\": \"#C8D4E3\"}, \"line\": {\"color\": \"white\"}}, \"type\": \"table\"}]}, \"layout\": {\"annotationdefaults\": {\"arrowcolor\": \"#2a3f5f\", \"arrowhead\": 0, \"arrowwidth\": 1}, \"coloraxis\": {\"colorbar\": {\"outlinewidth\": 0, \"ticks\": \"\"}}, \"colorscale\": {\"diverging\": [[0, \"#8e0152\"], [0.1, \"#c51b7d\"], [0.2, \"#de77ae\"], [0.3, \"#f1b6da\"], [0.4, \"#fde0ef\"], [0.5, \"#f7f7f7\"], [0.6, \"#e6f5d0\"], [0.7, \"#b8e186\"], [0.8, \"#7fbc41\"], [0.9, \"#4d9221\"], [1, \"#276419\"]], \"sequential\": [[0.0, \"#0d0887\"], [0.1111111111111111, \"#46039f\"], [0.2222222222222222, \"#7201a8\"], [0.3333333333333333, \"#9c179e\"], [0.4444444444444444, \"#bd3786\"], [0.5555555555555556, \"#d8576b\"], [0.6666666666666666, \"#ed7953\"], [0.7777777777777778, \"#fb9f3a\"], [0.8888888888888888, \"#fdca26\"], [1.0, \"#f0f921\"]], \"sequentialminus\": [[0.0, \"#0d0887\"], [0.1111111111111111, \"#46039f\"], [0.2222222222222222, \"#7201a8\"], [0.3333333333333333, \"#9c179e\"], [0.4444444444444444, \"#bd3786\"], [0.5555555555555556, \"#d8576b\"], [0.6666666666666666, \"#ed7953\"], [0.7777777777777778, \"#fb9f3a\"], [0.8888888888888888, \"#fdca26\"], [1.0, \"#f0f921\"]]}, \"colorway\": [\"#636efa\", \"#EF553B\", \"#00cc96\", \"#ab63fa\", \"#FFA15A\", \"#19d3f3\", \"#FF6692\", \"#B6E880\", \"#FF97FF\", \"#FECB52\"], \"font\": {\"color\": \"#2a3f5f\"}, \"geo\": {\"bgcolor\": \"white\", \"lakecolor\": \"white\", \"landcolor\": \"#E5ECF6\", \"showlakes\": true, \"showland\": true, \"subunitcolor\": \"white\"}, \"hoverlabel\": {\"align\": \"left\"}, \"hovermode\": \"closest\", \"mapbox\": {\"style\": \"light\"}, \"paper_bgcolor\": \"white\", \"plot_bgcolor\": \"#E5ECF6\", \"polar\": {\"angularaxis\": {\"gridcolor\": \"white\", \"linecolor\": \"white\", \"ticks\": \"\"}, \"bgcolor\": \"#E5ECF6\", \"radialaxis\": {\"gridcolor\": \"white\", \"linecolor\": \"white\", \"ticks\": \"\"}}, \"scene\": {\"xaxis\": {\"backgroundcolor\": \"#E5ECF6\", \"gridcolor\": \"white\", \"gridwidth\": 2, \"linecolor\": \"white\", \"showbackground\": true, \"ticks\": \"\", \"zerolinecolor\": \"white\"}, \"yaxis\": {\"backgroundcolor\": \"#E5ECF6\", \"gridcolor\": \"white\", \"gridwidth\": 2, \"linecolor\": \"white\", \"showbackground\": true, \"ticks\": \"\", \"zerolinecolor\": \"white\"}, \"zaxis\": {\"backgroundcolor\": \"#E5ECF6\", \"gridcolor\": \"white\", \"gridwidth\": 2, \"linecolor\": \"white\", \"showbackground\": true, \"ticks\": \"\", \"zerolinecolor\": \"white\"}}, \"shapedefaults\": {\"line\": {\"color\": \"#2a3f5f\"}}, \"ternary\": {\"aaxis\": {\"gridcolor\": \"white\", \"linecolor\": \"white\", \"ticks\": \"\"}, \"baxis\": {\"gridcolor\": \"white\", \"linecolor\": \"white\", \"ticks\": \"\"}, \"bgcolor\": \"#E5ECF6\", \"caxis\": {\"gridcolor\": \"white\", \"linecolor\": \"white\", \"ticks\": \"\"}}, \"title\": {\"x\": 0.05}, \"xaxis\": {\"automargin\": true, \"gridcolor\": \"white\", \"linecolor\": \"white\", \"ticks\": \"\", \"title\": {\"standoff\": 15}, \"zerolinecolor\": \"white\", \"zerolinewidth\": 2}, \"yaxis\": {\"automargin\": true, \"gridcolor\": \"white\", \"linecolor\": \"white\", \"ticks\": \"\", \"title\": {\"standoff\": 15}, \"zerolinecolor\": \"white\", \"zerolinewidth\": 2}}}, \"title\": {\"text\": \"<b>Motion chart</b><br><span style=\\\"color:#666666\\\">\\u0418\\u043d\\u0434\\u0435\\u043a\\u0441 \\u0411\\u0438\\u0433 \\u041c\\u0430\\u043a\\u0430 \\u0434\\u043b\\u044f \\u0441\\u0442\\u0440\\u0430\\u043d \\u043c\\u0438\\u0440\\u0430 \\u0441 2005 \\u043f\\u043e 2019 \\u0433\\u043e\\u0434 </span>\"}, \"updatemenus\": [{\"buttons\": [{\"args\": [null, {\"frame\": {\"duration\": 500, \"redraw\": false}, \"fromcurrent\": true, \"transition\": {\"duration\": 300, \"easing\": \"quadratic-in-out\"}}], \"label\": \"Play\", \"method\": \"animate\"}, {\"args\": [[null], {\"frame\": {\"duration\": 0, \"redraw\": false}, \"mode\": \"immediate\", \"transition\": {\"duration\": 0}}], \"label\": \"Pause\", \"method\": \"animate\"}], \"direction\": \"left\", \"pad\": {\"r\": 10, \"t\": 87}, \"showactive\": false, \"type\": \"buttons\", \"x\": 0.1, \"xanchor\": \"right\", \"y\": 0, \"yanchor\": \"top\"}], \"xaxis\": {\"gridcolor\": \"lightgray\", \"gridwidth\": 0.5, \"nticks\": 4, \"tickfont\": {\"color\": \"black\", \"family\": \"Open Sans, light\", \"size\": 12}, \"title\": {\"text\": \"\\u0427\\u0438\\u0441\\u043b\\u0435\\u043d\\u043d\\u043e\\u0441\\u0442\\u044c \\u043d\\u0430\\u0441\\u0435\\u043b\\u0435\\u043d\\u0438\\u044f\"}, \"type\": \"log\"}, \"yaxis\": {\"gridcolor\": \"lightgray\", \"gridwidth\": 0.5, \"nticks\": 4, \"range\": [2, 5.5], \"tickfont\": {\"color\": \"black\", \"family\": \"Open Sans, light\", \"size\": 12}, \"title\": {\"text\": \"\\u0412\\u0412\\u041f \\u043d\\u0430 \\u0434\\u0443\\u0448\\u0443 \\u043d\\u0430\\u0441\\u0435\\u043b\\u0435\\u043d\\u0438\\u044f (\\u0432 $)\"}, \"type\": \"log\"}},\n",
       "                        {\"responsive\": true}\n",
       "                    ).then(function(){\n",
       "                            Plotly.addFrames('cdc1c1f9-d985-4d7e-9e6e-5b9666a09b0f', [{\"data\": [{\"customdata\": [1.6, 2.4, 2.5, 2.8, 2.8, 1.8], \"hovertemplate\": \"<b>%{text}</b><br>\\u0412\\u0412\\u041f \\u043d\\u0430 \\u0434\\u0443\\u0448\\u0443 \\u043d\\u0430\\u0441\\u0435\\u043b\\u0435\\u043d\\u0438\\u044f: %{y}<br>\\u0427\\u0438\\u0441\\u043b\\u0435\\u043d\\u043d\\u043e\\u0441\\u0442\\u044c \\u043d\\u0430\\u0441\\u0435\\u043b\\u0435\\u043d\\u0438\\u044f: %{x}<br>\\u0421\\u0442\\u043e\\u0438\\u043c\\u043e\\u0441\\u0442\\u044c \\u0411\\u0438\\u0433 \\u041c\\u0430\\u043a\\u0430: %{customdata}$<extra></extra>\", \"marker\": {\"size\": [32792544.01104591, 47874066.861408636, 50637184.57253776, 55849121.45035873, 55244884.16395256, 36476683.93782383], \"sizemode\": \"area\", \"sizeref\": 200000}, \"mode\": \"markers\", \"name\": \"South America\", \"text\": [\"Argentina\", \"Brazil\", \"Chile\", \"Colombia\", \"Peru\", \"Uruguay\"], \"x\": [38892931.0, 186127103.0, 16182721.0, 42647723.0, 27866145.0, 3321803.0], \"y\": [5109.851325226221, 4790.43708777366, 7598.525121088908, 3414.465833172242, 2729.4986823834442, 5226.937805720117], \"type\": \"scatter\"}, {\"customdata\": [2.5, 3.2], \"hovertemplate\": \"<b>%{text}</b><br>\\u0412\\u0412\\u041f \\u043d\\u0430 \\u0434\\u0443\\u0448\\u0443 \\u043d\\u0430\\u0441\\u0435\\u043b\\u0435\\u043d\\u0438\\u044f: %{y}<br>\\u0427\\u0438\\u0441\\u043b\\u0435\\u043d\\u043d\\u043e\\u0441\\u0442\\u044c \\u043d\\u0430\\u0441\\u0435\\u043b\\u0435\\u043d\\u0438\\u044f: %{x}<br>\\u0421\\u0442\\u043e\\u0438\\u043c\\u043e\\u0441\\u0442\\u044c \\u0411\\u0438\\u0433 \\u041c\\u0430\\u043a\\u0430: %{customdata}$<extra></extra>\", \"marker\": {\"size\": [49942374.183634266, 63467161.092490904], \"sizemode\": \"area\", \"sizeref\": 200000}, \"mode\": \"markers\", \"name\": \"Oceania\", \"text\": [\"Australia\", \"New Zealand\"], \"x\": [20394800.0, 4133900.0], \"y\": [33999.24285758355, 27751.065470885846], \"type\": \"scatter\"}, {\"customdata\": [0.0, 0.0, 0.0, 3.4, 0.0, 2.3, 4.6, 0.0, 3.6, 0.0, 0.0, 0.0, 0.0, 2.6, 0.0, 0.0, 0.0, 0.0, 0.0, 0.0, 6.1, 2.0, 0.0, 0.0, 1.5, 0.0, 0.0, 0.0, 4.2, 5.1, 2.9, 1.4], \"hovertemplate\": \"<b>%{text}</b><br>\\u0412\\u0412\\u041f \\u043d\\u0430 \\u0434\\u0443\\u0448\\u0443 \\u043d\\u0430\\u0441\\u0435\\u043b\\u0435\\u043d\\u0438\\u044f: %{y}<br>\\u0427\\u0438\\u0441\\u043b\\u0435\\u043d\\u043d\\u043e\\u0441\\u0442\\u044c \\u043d\\u0430\\u0441\\u0435\\u043b\\u0435\\u043d\\u0438\\u044f: %{x}<br>\\u0421\\u0442\\u043e\\u0438\\u043c\\u043e\\u0441\\u0442\\u044c \\u0411\\u0438\\u0433 \\u041c\\u0430\\u043a\\u0430: %{customdata}$<extra></extra>\", \"marker\": {\"size\": [0.0, 0.0, 0.0, 68808000.05435832, 0.0, 45980383.767506495, 91513182.84498821, 0.0, 71662639.96460581, 0.0, 0.0, 0.0, 0.0, 52051875.09514199, 0.0, 0.0, 0.0, 0.0, 0.0, 0.0, 121257345.39688462, 39279671.25936669, 0.0, 0.0, 29571737.867666475, 0.0, 0.0, 0.0, 83331093.25018144, 101002004.00801602, 58436815.19357195, 28656126.48221344], \"sizemode\": \"area\", \"sizeref\": 200000}, \"mode\": \"markers\", \"name\": \"Europe\", \"text\": [\"Austria\", \"Azerbaijan\", \"Belgium\", \"Britain\", \"Croatia\", \"Czech Republic\", \"Denmark\", \"Estonia\", \"Euro area\", \"Finland\", \"France\", \"Germany\", \"Greece\", \"Hungary\", \"Ireland\", \"Italy\", \"Latvia\", \"Lithuania\", \"Moldova\", \"Netherlands\", \"Norway\", \"Poland\", \"Portugal\", \"Romania\", \"Russia\", \"Slovakia\", \"Slovenia\", \"Spain\", \"Sweden\", \"Switzerland\", \"Turkey\", \"Ukraine\"], \"x\": [8227829.0, 8391850.0, 10478617.0, 60401206.0, 4310145.0, 10211216.0, 5419432.0, 1354775.0, 329380417.0, 5246096.0, 63179351.0, 82469422.0, 10987314.0, 10087065.0, 4159914.0, 57969484.0, 2238799.0, 3322528.0, 2888111.0, 16319868.0, 4623291.0, 38165445.0, 10503330.0, 21319685.0, 143518814.0, 5372807.0, 2000474.0, 43653155.0, 9029572.0, 7437115.0, 67903469.0, 47105171.0], \"y\": [38403.13387707146, 1578.4023902960253, 36795.97688196391, 42030.28661381364, 10530.21990963079, 13346.176389885788, 48799.82560112757, 10406.39687591755, 31936.04537349833, 39040.2888825052, 34760.18776638652, 34507.36881423323, 22551.73574409906, 11200.576949626378, 50878.223611636444, 32043.140368411936, 7552.873894203365, 7863.162008651665, 1034.7070581674318, 41979.05584578809, 66810.47852086792, 8020.963164358964, 18773.125361635404, 4617.9290164325785, 5323.463082633835, 11685.754822439145, 18098.90873050002, 26419.2968638221, 43437.06311647761, 54952.67371814972, 7384.251627901721, 1826.9313911481734], \"type\": \"scatter\"}, {\"customdata\": [0.0, 1.3, 1.5, 0.0, 1.5, 0.0, 2.3, 0.0, 0.0, 0.0, 1.4, 0.0, 2.2, 1.5, 0.0, 2.4, 2.2, 2.5, 1.8, 1.5, 2.5, 0.0], \"hovertemplate\": \"<b>%{text}</b><br>\\u0412\\u0412\\u041f \\u043d\\u0430 \\u0434\\u0443\\u0448\\u0443 \\u043d\\u0430\\u0441\\u0435\\u043b\\u0435\\u043d\\u0438\\u044f: %{y}<br>\\u0427\\u0438\\u0441\\u043b\\u0435\\u043d\\u043d\\u043e\\u0441\\u0442\\u044c \\u043d\\u0430\\u0441\\u0435\\u043b\\u0435\\u043d\\u0438\\u044f: %{x}<br>\\u0421\\u0442\\u043e\\u0438\\u043c\\u043e\\u0441\\u0442\\u044c \\u0411\\u0438\\u0433 \\u041c\\u0430\\u043a\\u0430: %{customdata}$<extra></extra>\", \"marker\": {\"size\": [0.0, 25373350.732202407, 30845553.74195124, 0.0, 30591932.949188057, 0.0, 46853769.38574708, 0.0, 0.0, 0.0, 27631578.94736842, 0.0, 43609527.00436095, 29330889.092575617, 0.0, 47998720.03413242, 43355211.657734685, 49726504.226752855, 35019260.59332633, 29607698.001480386, 49012933.96868618, 0.0], \"sizemode\": \"area\", \"sizeref\": 200000}, \"mode\": \"markers\", \"name\": \"Asia\", \"text\": [\"Bahrain\", \"China\", \"Hong Kong\", \"India\", \"Indonesia\", \"Israel\", \"Japan\", \"Jordan\", \"Kuwait\", \"Lebanon\", \"Malaysia\", \"Oman\", \"Pakistan\", \"Philippines\", \"Qatar\", \"Saudi Arabia\", \"Singapore\", \"South Korea\", \"Sri Lanka\", \"Thailand\", \"UAE\", \"Vietnam\"], \"x\": [889164.0, 1303720000.0, 6813200.0, 1147609927.0, 226289470.0, 6930100.0, 127773000.0, 5765635.0, 2270198.0, 4698763.0, 25690611.0, 2511251.0, 160304008.0, 86326250.0, 865416.0, 23816183.0, 4265762.0, 48184561.0, 19544988.0, 65416189.0, 4588225.0, 83832661.0], \"y\": [17959.255440228462, 1753.4178292582303, 26649.75080170698, 714.8610134956614, 1263.287320545746, 20566.64548986422, 37217.648727917, 2214.017817251959, 35591.00577878507, 4575.105511593541, 5587.025649623397, 12377.068073789995, 748.9225845989952, 1244.3490409949234, 51455.59419457752, 13791.446293644578, 29961.263277456874, 19402.502625954898, 1248.6981851703413, 2894.062655964015, 39365.433901912395, 687.4797355922306], \"type\": \"scatter\"}, {\"customdata\": [2.6, 2.4, 0.0, 0.0, 2.6, 0.0, 3.1], \"hovertemplate\": \"<b>%{text}</b><br>\\u0412\\u0412\\u041f \\u043d\\u0430 \\u0434\\u0443\\u0448\\u0443 \\u043d\\u0430\\u0441\\u0435\\u043b\\u0435\\u043d\\u0438\\u044f: %{y}<br>\\u0427\\u0438\\u0441\\u043b\\u0435\\u043d\\u043d\\u043e\\u0441\\u0442\\u044c \\u043d\\u0430\\u0441\\u0435\\u043b\\u0435\\u043d\\u0438\\u044f: %{x}<br>\\u0421\\u0442\\u043e\\u0438\\u043c\\u043e\\u0441\\u0442\\u044c \\u0411\\u0438\\u0433 \\u041c\\u0430\\u043a\\u0430: %{customdata}$<extra></extra>\", \"marker\": {\"size\": [52505202.49719865, 47548916.473806016, 0.0, 0.0, 51529790.66022544, 0.0, 61200000.0], \"sizemode\": \"area\", \"sizeref\": 200000}, \"mode\": \"markers\", \"name\": \"North America\", \"text\": [\"Canada\", \"Costa Rica\", \"Guatemala\", \"Honduras\", \"Mexico\", \"Nicaragua\", \"United States\"], \"x\": [32243753.0, 4285502.0, 12948292.0, 7458985.0, 106005203.0, 5438690.0, 295516599.0], \"y\": [36266.18712358514, 4654.82482200979, 2101.541817822482, 1296.6959592220564, 8277.671251496033, 1162.29011254959, 44114.74777767052], \"type\": \"scatter\"}, {\"customdata\": [1.6, 2.1], \"hovertemplate\": \"<b>%{text}</b><br>\\u0412\\u0412\\u041f \\u043d\\u0430 \\u0434\\u0443\\u0448\\u0443 \\u043d\\u0430\\u0441\\u0435\\u043b\\u0435\\u043d\\u0438\\u044f: %{y}<br>\\u0427\\u0438\\u0441\\u043b\\u0435\\u043d\\u043d\\u043e\\u0441\\u0442\\u044c \\u043d\\u0430\\u0441\\u0435\\u043b\\u0435\\u043d\\u0438\\u044f: %{x}<br>\\u0421\\u0442\\u043e\\u0438\\u043c\\u043e\\u0441\\u0442\\u044c \\u0411\\u0438\\u0433 \\u041c\\u0430\\u043a\\u0430: %{customdata}$<extra></extra>\", \"marker\": {\"size\": [31034482.75862069, 41966246.50281279], \"sizemode\": \"area\", \"sizeref\": 200000}, \"mode\": \"markers\", \"name\": \"Africa\", \"text\": [\"Egypt\", \"South Africa\"], \"x\": [75523569.0, 47880601.0], \"y\": [1187.5196897838832, 5383.656542509836], \"type\": \"scatter\"}], \"name\": \"2005\"}, {\"data\": [{\"customdata\": [1.6, 2.7, 3.0, 2.6, 2.8, 1.8], \"hovertemplate\": \"<b>%{text}</b><br>\\u0412\\u0412\\u041f \\u043d\\u0430 \\u0434\\u0443\\u0448\\u0443 \\u043d\\u0430\\u0441\\u0435\\u043b\\u0435\\u043d\\u0438\\u044f: %{y}<br>\\u0427\\u0438\\u0441\\u043b\\u0435\\u043d\\u043d\\u043e\\u0441\\u0442\\u044c \\u043d\\u0430\\u0441\\u0435\\u043b\\u0435\\u043d\\u0438\\u044f: %{x}<br>\\u0421\\u0442\\u043e\\u0438\\u043c\\u043e\\u0441\\u0442\\u044c \\u0411\\u0438\\u0433 \\u041c\\u0430\\u043a\\u0430: %{customdata}$<extra></extra>\", \"marker\": {\"size\": [31007245.903779622, 54830864.4704842, 59684361.54949785, 51925227.6721521, 55136390.01741149, 35343782.65412748], \"sizemode\": \"area\", \"sizeref\": 200000}, \"mode\": \"markers\", \"name\": \"South America\", \"text\": [\"Argentina\", \"Brazil\", \"Chile\", \"Colombia\", \"Peru\", \"Uruguay\"], \"x\": [39289878.0, 188167356.0, 16354504.0, 43200897.0, 28102056.0, 3325401.0], \"y\": [5919.012037077539, 5886.463588377306, 9464.550242906053, 3741.0931711196877, 3154.331236894126, 5887.848703375563], \"type\": \"scatter\"}, {\"customdata\": [2.4, 3.1], \"hovertemplate\": \"<b>%{text}</b><br>\\u0412\\u0412\\u041f \\u043d\\u0430 \\u0434\\u0443\\u0448\\u0443 \\u043d\\u0430\\u0441\\u0435\\u043b\\u0435\\u043d\\u0438\\u044f: %{y}<br>\\u0427\\u0438\\u0441\\u043b\\u0435\\u043d\\u043d\\u043e\\u0441\\u0442\\u044c \\u043d\\u0430\\u0441\\u0435\\u043b\\u0435\\u043d\\u0438\\u044f: %{x}<br>\\u0421\\u0442\\u043e\\u0438\\u043c\\u043e\\u0441\\u0442\\u044c \\u0411\\u0438\\u0433 \\u041c\\u0430\\u043a\\u0430: %{customdata}$<extra></extra>\", \"marker\": {\"size\": [48842801.322512776, 61519319.83134028], \"sizemode\": \"area\", \"sizeref\": 200000}, \"mode\": \"markers\", \"name\": \"Oceania\", \"text\": [\"Australia\", \"New Zealand\"], \"x\": [20697900.0, 4184600.0], \"y\": [36044.92281084849, 26671.329417718065], \"type\": \"scatter\"}, {\"customdata\": [0.0, 0.0, 0.0, 3.3, 0.0, 2.6, 4.5, 0.0, 3.5, 0.0, 0.0, 0.0, 0.0, 2.7, 0.0, 0.0, 0.0, 0.0, 0.0, 0.0, 7.0, 2.1, 0.0, 0.0, 1.6, 0.0, 0.0, 0.0, 4.3, 4.9, 3.1, 1.7], \"hovertemplate\": \"<b>%{text}</b><br>\\u0412\\u0412\\u041f \\u043d\\u0430 \\u0434\\u0443\\u0448\\u0443 \\u043d\\u0430\\u0441\\u0435\\u043b\\u0435\\u043d\\u0438\\u044f: %{y}<br>\\u0427\\u0438\\u0441\\u043b\\u0435\\u043d\\u043d\\u043e\\u0441\\u0442\\u044c \\u043d\\u0430\\u0441\\u0435\\u043b\\u0435\\u043d\\u0438\\u044f: %{x}<br>\\u0421\\u0442\\u043e\\u0438\\u043c\\u043e\\u0441\\u0442\\u044c \\u0411\\u0438\\u0433 \\u041c\\u0430\\u043a\\u0430: %{customdata}$<extra></extra>\", \"marker\": {\"size\": [0.0, 0.0, 0.0, 66322639.961818054, 0.0, 52018877.81856319, 89850896.08055821, 0.0, 70276499.99121544, 0.0, 0.0, 0.0, 0.0, 54117783.49021049, 0.0, 0.0, 0.0, 0.0, 0.0, 0.0, 140930468.83961788, 41732207.633783825, 0.0, 0.0, 32089291.942797348, 0.0, 0.0, 0.0, 85582022.58846718, 98622417.03193487, 61354283.576505795, 33663366.33663367], \"sizemode\": \"area\", \"sizeref\": 200000}, \"mode\": \"markers\", \"name\": \"Europe\", \"text\": [\"Austria\", \"Azerbaijan\", \"Belgium\", \"Britain\", \"Croatia\", \"Czech Republic\", \"Denmark\", \"Estonia\", \"Euro area\", \"Finland\", \"France\", \"Germany\", \"Greece\", \"Hungary\", \"Ireland\", \"Italy\", \"Latvia\", \"Lithuania\", \"Moldova\", \"Netherlands\", \"Norway\", \"Poland\", \"Portugal\", \"Romania\", \"Russia\", \"Slovakia\", \"Slovenia\", \"Spain\", \"Sweden\", \"Switzerland\", \"Turkey\", \"Ukraine\"], \"x\": [8268641.0, 8484550.0, 10547958.0, 60846820.0, 4311159.0, 10238905.0, 5437272.0, 1346810.0, 330922789.0, 5266268.0, 63621381.0, 82376451.0, 11020362.0, 10071370.0, 4273591.0, 58143979.0, 2218357.0, 3269909.0, 2880095.0, 16346101.0, 4660677.0, 38141267.0, 10522288.0, 21193760.0, 143049637.0, 5373054.0, 2006868.0, 44397319.0, 9080505.0, 7483934.0, 68756810.0, 46787786.0], \"y\": [40635.28181597242, 2473.0818186353667, 38672.70594297673, 44599.69756856973, 11703.337890827874, 15183.636054137529, 52026.99951427223, 12631.567772361506, 33767.09251663717, 41188.09369973025, 36443.623441441174, 36323.44774218217, 24801.157806503543, 11475.822705709254, 54306.429316689646, 33501.65816730448, 9663.373451366575, 9240.642547974394, 1183.37921117185, 44863.350631428686, 74148.32007571861, 9038.654807308132, 19822.846028733584, 5757.4964285719, 6920.189124832907, 13159.75944139644, 19672.965492901825, 28365.31348963459, 46593.60216461111, 57579.50195380918, 8035.3773381232495, 2300.769709258716], \"type\": \"scatter\"}, {\"customdata\": [0.0, 1.3, 1.5, 0.0, 1.5, 0.0, 2.2, 0.0, 0.0, 0.0, 1.5, 0.0, 2.2, 1.6, 0.0, 2.4, 2.2, 2.6, 1.8, 1.5, 2.5, 0.0], \"hovertemplate\": \"<b>%{text}</b><br>\\u0412\\u0412\\u041f \\u043d\\u0430 \\u0434\\u0443\\u0448\\u0443 \\u043d\\u0430\\u0441\\u0435\\u043b\\u0435\\u043d\\u0438\\u044f: %{y}<br>\\u0427\\u0438\\u0441\\u043b\\u0435\\u043d\\u043d\\u043e\\u0441\\u0442\\u044c \\u043d\\u0430\\u0441\\u0435\\u043b\\u0435\\u043d\\u0438\\u044f: %{x}<br>\\u0421\\u0442\\u043e\\u0438\\u043c\\u043e\\u0441\\u0442\\u044c \\u0411\\u0438\\u0433 \\u041c\\u0430\\u043a\\u0430: %{customdata}$<extra></extra>\", \"marker\": {\"size\": [0.0, 26041343.733336642, 30962947.672618434, 0.0, 30866807.610993657, 0.0, 43742618.4331394, 0.0, 0.0, 0.0, 29342723.004694834, 0.0, 43293647.48980102, 31190566.755420312, 0.0, 48012803.4142438, 44028618.602091365, 51153511.68857741, 36909329.31863435, 30184882.404728964, 49011599.41186081, 0.0], \"sizemode\": \"area\", \"sizeref\": 200000}, \"mode\": \"markers\", \"name\": \"Asia\", \"text\": [\"Bahrain\", \"China\", \"Hong Kong\", \"India\", \"Indonesia\", \"Israel\", \"Japan\", \"Jordan\", \"Kuwait\", \"Lebanon\", \"Malaysia\", \"Oman\", \"Pakistan\", \"Philippines\", \"Qatar\", \"Saudi Arabia\", \"Singapore\", \"South Korea\", \"Sri Lanka\", \"Thailand\", \"UAE\", \"Vietnam\"], \"x\": [958418.0, 1311020000.0, 6857100.0, 1165486291.0, 229318262.0, 7053700.0, 127854000.0, 5991540.0, 2373672.0, 4759753.0, 26201961.0, 2580758.0, 164022627.0, 87888675.0, 1022711.0, 24498310.0, 4401365.0, 48438292.0, 19695972.0, 65812536.0, 5300174.0, 84617540.0], \"y\": [19307.60966331799, 2099.229434604476, 28224.215060938877, 806.753280628799, 1589.801488661422, 21837.378488378577, 35433.988963743024, 2548.2686582439574, 42781.36649511474, 4626.859807965308, 6209.124508256309, 14420.51705716995, 836.860521116047, 1452.4386555473272, 59530.15354009373, 15384.740151926722, 33769.15416335001, 21743.477451425413, 1435.8171774712007, 3369.543402869873, 41907.405655967894, 784.3724222784497], \"type\": \"scatter\"}, {\"customdata\": [3.0, 2.2, 0.0, 0.0, 2.7, 0.0, 3.2], \"hovertemplate\": \"<b>%{text}</b><br>\\u0412\\u0412\\u041f \\u043d\\u0430 \\u0434\\u0443\\u0448\\u0443 \\u043d\\u0430\\u0441\\u0435\\u043b\\u0435\\u043d\\u0438\\u044f: %{y}<br>\\u0427\\u0438\\u0441\\u043b\\u0435\\u043d\\u043d\\u043e\\u0441\\u0442\\u044c \\u043d\\u0430\\u0441\\u0435\\u043b\\u0435\\u043d\\u0438\\u044f: %{x}<br>\\u0421\\u0442\\u043e\\u0438\\u043c\\u043e\\u0441\\u0442\\u044c \\u0411\\u0438\\u0433 \\u041c\\u0430\\u043a\\u0430: %{customdata}$<extra></extra>\", \"marker\": {\"size\": [60150375.93984962, 44354166.05336238, 0.0, 0.0, 53118330.56675361, 0.0, 63000000.0], \"sizemode\": \"area\", \"sizeref\": 200000}, \"mode\": \"markers\", \"name\": \"North America\", \"text\": [\"Canada\", \"Costa Rica\", \"Guatemala\", \"Honduras\", \"Mexico\", \"Nicaragua\", \"United States\"], \"x\": [32571174.0, 4345412.0, 13213330.0, 7634298.0, 107560153.0, 5513763.0, 298379912.0], \"y\": [40385.86995547689, 5201.5140947006175, 2287.9357153063006, 1420.136120936961, 9068.294387012345, 1226.6429742834014, 46298.73144409266], \"type\": \"scatter\"}, {\"customdata\": [1.6, 2.3], \"hovertemplate\": \"<b>%{text}</b><br>\\u0412\\u0412\\u041f \\u043d\\u0430 \\u0434\\u0443\\u0448\\u0443 \\u043d\\u0430\\u0441\\u0435\\u043b\\u0435\\u043d\\u0438\\u044f: %{y}<br>\\u0427\\u0438\\u0441\\u043b\\u0435\\u043d\\u043d\\u043e\\u0441\\u0442\\u044c \\u043d\\u0430\\u0441\\u0435\\u043b\\u0435\\u043d\\u0438\\u044f: %{x}<br>\\u0421\\u0442\\u043e\\u0438\\u043c\\u043e\\u0441\\u0442\\u044c \\u0411\\u0438\\u0433 \\u041c\\u0430\\u043a\\u0430: %{customdata}$<extra></extra>\", \"marker\": {\"size\": [32229965.156794425, 45885893.78813545], \"sizemode\": \"area\", \"sizeref\": 200000}, \"mode\": \"markers\", \"name\": \"Africa\", \"text\": [\"Egypt\", \"South Africa\"], \"x\": [76873663.0, 48489459.0], \"y\": [1398.1906244141637, 5602.011043804571], \"type\": \"scatter\"}], \"name\": \"2006\"}, {\"data\": [{\"customdata\": [2.7, 3.0, 3.1, 3.1, 3.0, 2.3], \"hovertemplate\": \"<b>%{text}</b><br>\\u0412\\u0412\\u041f \\u043d\\u0430 \\u0434\\u0443\\u0448\\u0443 \\u043d\\u0430\\u0441\\u0435\\u043b\\u0435\\u043d\\u0438\\u044f: %{y}<br>\\u0427\\u0438\\u0441\\u043b\\u0435\\u043d\\u043d\\u043e\\u0441\\u0442\\u044c \\u043d\\u0430\\u0441\\u0435\\u043b\\u0435\\u043d\\u0438\\u044f: %{x}<br>\\u0421\\u0442\\u043e\\u0438\\u043c\\u043e\\u0441\\u0442\\u044c \\u0411\\u0438\\u0433 \\u041c\\u0430\\u043a\\u0430: %{customdata}$<extra></extra>\", \"marker\": {\"size\": [53419668.150546335, 59995312.86618233, 61834675.5530871, 61625713.10551171, 59570465.59021791, 45977011.49425287], \"sizemode\": \"area\", \"sizeref\": 200000}, \"mode\": \"markers\", \"name\": \"South America\", \"text\": [\"Argentina\", \"Brazil\", \"Chile\", \"Colombia\", \"Peru\", \"Uruguay\"], \"x\": [39684295.0, 190130443.0, 16530195.0, 43737516.0, 28333052.0, 3331749.0], \"y\": [7245.448317289446, 7348.030793555507, 10502.354520273657, 4714.072541012022, 3606.070434774764, 7026.511491206181], \"type\": \"scatter\"}, {\"customdata\": [2.7, 3.2], \"hovertemplate\": \"<b>%{text}</b><br>\\u0412\\u0412\\u041f \\u043d\\u0430 \\u0434\\u0443\\u0448\\u0443 \\u043d\\u0430\\u0441\\u0435\\u043b\\u0435\\u043d\\u0438\\u044f: %{y}<br>\\u0427\\u0438\\u0441\\u043b\\u0435\\u043d\\u043d\\u043e\\u0441\\u0442\\u044c \\u043d\\u0430\\u0441\\u0435\\u043b\\u0435\\u043d\\u0438\\u044f: %{x}<br>\\u0421\\u0442\\u043e\\u0438\\u043c\\u043e\\u0441\\u0442\\u044c \\u0411\\u0438\\u0433 \\u041c\\u0430\\u043a\\u0430: %{customdata}$<extra></extra>\", \"marker\": {\"size\": [54465156.11371378, 64427575.002100885], \"sizemode\": \"area\", \"sizeref\": 200000}, \"mode\": \"markers\", \"name\": \"Oceania\", \"text\": [\"Australia\", \"New Zealand\"], \"x\": [20827600.0, 4223800.0], \"y\": [40960.05449481986, 32511.126663932002], \"type\": \"scatter\"}, {\"customdata\": [0.0, 0.0, 0.0, 3.8, 0.0, 2.4, 4.8, 0.0, 3.8, 0.0, 0.0, 0.0, 0.0, 3.0, 0.0, 0.0, 0.0, 0.0, 0.0, 0.0, 6.8, 2.3, 0.0, 0.0, 1.8, 0.0, 0.0, 0.0, 4.5, 5.0, 3.2, 1.8], \"hovertemplate\": \"<b>%{text}</b><br>\\u0412\\u0412\\u041f \\u043d\\u0430 \\u0434\\u0443\\u0448\\u0443 \\u043d\\u0430\\u0441\\u0435\\u043b\\u0435\\u043d\\u0438\\u044f: %{y}<br>\\u0427\\u0438\\u0441\\u043b\\u0435\\u043d\\u043d\\u043e\\u0441\\u0442\\u044c \\u043d\\u0430\\u0441\\u0435\\u043b\\u0435\\u043d\\u0438\\u044f: %{x}<br>\\u0421\\u0442\\u043e\\u0438\\u043c\\u043e\\u0441\\u0442\\u044c \\u0411\\u0438\\u0433 \\u041c\\u0430\\u043a\\u0430: %{customdata}$<extra></extra>\", \"marker\": {\"size\": [0.0, 0.0, 0.0, 76674619.99193765, 0.0, 48462524.09754827, 96470567.78578319, 0.0, 76184219.95319241, 0.0, 0.0, 0.0, 0.0, 60692189.27527868, 0.0, 0.0, 0.0, 0.0, 0.0, 0.0, 136014289.6940498, 46437284.42836712, 0.0, 0.0, 36934441.36657433, 0.0, 0.0, 0.0, 90892952.24569501, 100921105.32639167, 64550452.20783826, 35643564.35643564], \"sizemode\": \"area\", \"sizeref\": 200000}, \"mode\": \"markers\", \"name\": \"Europe\", \"text\": [\"Austria\", \"Azerbaijan\", \"Belgium\", \"Britain\", \"Croatia\", \"Czech Republic\", \"Denmark\", \"Estonia\", \"Euro area\", \"Finland\", \"France\", \"Germany\", \"Greece\", \"Hungary\", \"Ireland\", \"Italy\", \"Latvia\", \"Lithuania\", \"Moldova\", \"Netherlands\", \"Norway\", \"Poland\", \"Portugal\", \"Romania\", \"Russia\", \"Slovakia\", \"Slovenia\", \"Spain\", \"Sweden\", \"Switzerland\", \"Turkey\", \"Ukraine\"], \"x\": [8295487.0, 8581300.0, 10625700.0, 61322463.0, 4310217.0, 10298828.0, 5461438.0, 1340680.0, 332645165.0, 5288720.0, 64016225.0, 82266372.0, 11048473.0, 10055780.0, 4398942.0, 58438310.0, 2200325.0, 3231294.0, 2873429.0, 16381696.0, 4709153.0, 38120560.0, 10542964.0, 20882982.0, 142805114.0, 5374622.0, 2018122.0, 45226803.0, 9148092.0, 7551117.0, 69581848.0, 46509355.0], \"y\": [46855.77174520953, 3851.4378687117223, 44262.89600099542, 50566.82659568289, 13962.847567804567, 18373.648997691293, 58487.05496776967, 16741.939124566787, 38666.73429236886, 48414.84509297221, 41508.4339850416, 41587.21289842635, 28827.326355522342, 13918.960191013723, 61359.74138125031, 37822.66523774267, 14042.462420021224, 12297.91534803961, 1531.685476182143, 51733.44213179649, 85139.96044695449, 11255.379833752993, 22782.094622462904, 8360.166321324847, 9101.255049056717, 16085.61152333805, 23787.646692313545, 32549.970978551366, 53700.005336306305, 63555.23749955046, 9711.873593975559, 3065.611293908419], \"type\": \"scatter\"}, {\"customdata\": [0.0, 1.4, 1.5, 0.0, 1.7, 0.0, 2.3, 0.0, 0.0, 0.0, 1.6, 0.0, 2.3, 1.7, 0.0, 2.4, 2.3, 3.1, 1.8, 1.8, 2.7, 0.0], \"hovertemplate\": \"<b>%{text}</b><br>\\u0412\\u0412\\u041f \\u043d\\u0430 \\u0434\\u0443\\u0448\\u0443 \\u043d\\u0430\\u0441\\u0435\\u043b\\u0435\\u043d\\u0438\\u044f: %{y}<br>\\u0427\\u0438\\u0441\\u043b\\u0435\\u043d\\u043d\\u043e\\u0441\\u0442\\u044c \\u043d\\u0430\\u0441\\u0435\\u043b\\u0435\\u043d\\u0438\\u044f: %{x}<br>\\u0421\\u0442\\u043e\\u0438\\u043c\\u043e\\u0441\\u0442\\u044c \\u0411\\u0438\\u0433 \\u041c\\u0430\\u043a\\u0430: %{customdata}$<extra></extra>\", \"marker\": {\"size\": [0.0, 28298367.69869956, 30775346.38293507, 0.0, 34983498.349834986, 0.0, 46058313.11428219, 0.0, 0.0, 0.0, 31410622.501427755, 0.0, 46623928.06593956, 34658511.7227319, 0.0, 48012803.4142438, 46815566.175753444, 61692283.14630645, 36909329.31863435, 35127478.75354108, 54457332.67984534, 0.0], \"sizemode\": \"area\", \"sizeref\": 200000}, \"mode\": \"markers\", \"name\": \"Asia\", \"text\": [\"Bahrain\", \"China\", \"Hong Kong\", \"India\", \"Indonesia\", \"Israel\", \"Japan\", \"Jordan\", \"Kuwait\", \"Lebanon\", \"Malaysia\", \"Oman\", \"Pakistan\", \"Philippines\", \"Qatar\", \"Saudi Arabia\", \"Singapore\", \"South Korea\", \"Sri Lanka\", \"Thailand\", \"UAE\", \"Vietnam\"], \"x\": [1035919.0, 1317885000.0, 6916300.0, 1183209472.0, 232374245.0, 7180100.0, 128001000.0, 6255280.0, 2504019.0, 4767344.0, 26720370.0, 2657158.0, 167808105.0, 89405482.0, 1218434.0, 25184597.0, 4588599.0, 48683638.0, 19842044.0, 66182067.0, 6168838.0, 85419591.0], \"y\": [20976.543532843785, 2693.969826834853, 30594.01784102309, 1028.3347710766636, 1860.0027631068194, 24924.33094966477, 35275.22843126671, 2773.740242127802, 45782.27655576974, 5207.79600017536, 7243.45598744703, 15838.465605612273, 908.0950905912201, 1744.640312678735, 65421.7527679693, 16516.623620108552, 39432.938349376134, 24086.410439167674, 1630.3889060432282, 3973.016991482375, 41809.51638284196, 906.284198109134], \"type\": \"scatter\"}, {\"customdata\": [3.1, 2.2, 0.0, 0.0, 2.7, 0.0, 3.2], \"hovertemplate\": \"<b>%{text}</b><br>\\u0412\\u0412\\u041f \\u043d\\u0430 \\u0434\\u0443\\u0448\\u0443 \\u043d\\u0430\\u0441\\u0435\\u043b\\u0435\\u043d\\u0438\\u044f: %{y}<br>\\u0427\\u0438\\u0441\\u043b\\u0435\\u043d\\u043d\\u043e\\u0441\\u0442\\u044c \\u043d\\u0430\\u0441\\u0435\\u043b\\u0435\\u043d\\u0438\\u044f: %{x}<br>\\u0421\\u0442\\u043e\\u0438\\u043c\\u043e\\u0441\\u0442\\u044c \\u0411\\u0438\\u0433 \\u041c\\u0430\\u043a\\u0430: %{customdata}$<extra></extra>\", \"marker\": {\"size\": [61795122.7816317, 44354166.05336238, 0.0, 0.0, 53262806.03155362, 0.0, 64400000.00000001], \"sizemode\": \"area\", \"sizeref\": 200000}, \"mode\": \"markers\", \"name\": \"North America\", \"text\": [\"Canada\", \"Costa Rica\", \"Guatemala\", \"Honduras\", \"Mexico\", \"Nicaragua\", \"United States\"], \"x\": [32889025.0, 4404628.0, 13477017.0, 7808518.0, 109170502.0, 5590055.0, 301231207.0], \"y\": [44543.04103590027, 6071.789164515528, 2531.2060801227008, 1572.065503889099, 9642.680605049156, 1327.9596986927481, 47975.967675885586], \"type\": \"scatter\"}, {\"customdata\": [1.6, 2.2], \"hovertemplate\": \"<b>%{text}</b><br>\\u0412\\u0412\\u041f \\u043d\\u0430 \\u0434\\u0443\\u0448\\u0443 \\u043d\\u0430\\u0441\\u0435\\u043b\\u0435\\u043d\\u0438\\u044f: %{y}<br>\\u0427\\u0438\\u0441\\u043b\\u0435\\u043d\\u043d\\u043e\\u0441\\u0442\\u044c \\u043d\\u0430\\u0441\\u0435\\u043b\\u0435\\u043d\\u0438\\u044f: %{x}<br>\\u0421\\u0442\\u043e\\u0438\\u043c\\u043e\\u0441\\u0442\\u044c \\u0411\\u0438\\u0433 \\u041c\\u0430\\u043a\\u0430: %{customdata}$<extra></extra>\", \"marker\": {\"size\": [31894736.842105262, 43602095.71363269], \"sizemode\": \"area\", \"sizeref\": 200000}, \"mode\": \"markers\", \"name\": \"Africa\", \"text\": [\"Egypt\", \"South Africa\"], \"x\": [78232126.0, 49119759.0], \"y\": [1667.8437205260025, 6095.622438870232], \"type\": \"scatter\"}], \"name\": \"2007\"}, {\"data\": [{\"customdata\": [3.6, 4.7, 3.1, 3.9, 3.3, 3.2], \"hovertemplate\": \"<b>%{text}</b><br>\\u0412\\u0412\\u041f \\u043d\\u0430 \\u0434\\u0443\\u0448\\u0443 \\u043d\\u0430\\u0441\\u0435\\u043b\\u0435\\u043d\\u0438\\u044f: %{y}<br>\\u0427\\u0438\\u0441\\u043b\\u0435\\u043d\\u043d\\u043e\\u0441\\u0442\\u044c \\u043d\\u0430\\u0441\\u0435\\u043b\\u0435\\u043d\\u0438\\u044f: %{x}<br>\\u0421\\u0442\\u043e\\u0438\\u043c\\u043e\\u0441\\u0442\\u044c \\u0411\\u0438\\u0433 \\u041c\\u0430\\u043a\\u0430: %{customdata}$<extra></extra>\", \"marker\": {\"size\": [72859744.99089254, 94661113.21469142, 62670575.154149406, 77836154.89394824, 66901408.45070423, 63707571.801566586], \"sizemode\": \"area\", \"sizeref\": 200000}, \"mode\": \"markers\", \"name\": \"South America\", \"text\": [\"Argentina\", \"Brazil\", \"Chile\", \"Colombia\", \"Peru\", \"Uruguay\"], \"x\": [40080160.0, 192030362.0, 16708258.0, 44254975.0, 28562317.0, 3340221.0], \"y\": [9020.87309807194, 8831.023116975637, 10751.479674217024, 5472.536133452409, 4220.61696939506, 9091.079039169204], \"type\": \"scatter\"}, {\"customdata\": [3.4, 3.7], \"hovertemplate\": \"<b>%{text}</b><br>\\u0412\\u0412\\u041f \\u043d\\u0430 \\u0434\\u0443\\u0448\\u0443 \\u043d\\u0430\\u0441\\u0435\\u043b\\u0435\\u043d\\u0438\\u044f: %{y}<br>\\u0427\\u0438\\u0441\\u043b\\u0435\\u043d\\u043d\\u043e\\u0441\\u0442\\u044c \\u043d\\u0430\\u0441\\u0435\\u043b\\u0435\\u043d\\u0438\\u044f: %{x}<br>\\u0421\\u0442\\u043e\\u0438\\u043c\\u043e\\u0441\\u0442\\u044c \\u0411\\u0438\\u0433 \\u041c\\u0430\\u043a\\u0430: %{customdata}$<extra></extra>\", \"marker\": {\"size\": [67251461.9883041, 74372011.83881004], \"sizemode\": \"area\", \"sizeref\": 200000}, \"mode\": \"markers\", \"name\": \"Oceania\", \"text\": [\"Australia\", \"New Zealand\"], \"x\": [21249200.0, 4259800.0], \"y\": [49601.65670821772, 31290.253724534723], \"type\": \"scatter\"}, {\"customdata\": [0.0, 0.0, 0.0, 4.6, 0.0, 4.6, 6.0, 0.0, 5.3, 0.0, 0.0, 0.0, 0.0, 4.6, 0.0, 0.0, 0.0, 0.0, 0.0, 0.0, 7.9, 3.4, 0.0, 0.0, 2.5, 0.0, 0.0, 0.0, 6.4, 6.4, 4.3, 2.4], \"hovertemplate\": \"<b>%{text}</b><br>\\u0412\\u0412\\u041f \\u043d\\u0430 \\u0434\\u0443\\u0448\\u0443 \\u043d\\u0430\\u0441\\u0435\\u043b\\u0435\\u043d\\u0438\\u044f: %{y}<br>\\u0427\\u0438\\u0441\\u043b\\u0435\\u043d\\u043d\\u043e\\u0441\\u0442\\u044c \\u043d\\u0430\\u0441\\u0435\\u043b\\u0435\\u043d\\u0438\\u044f: %{x}<br>\\u0421\\u0442\\u043e\\u0438\\u043c\\u043e\\u0441\\u0442\\u044c \\u0411\\u0438\\u0433 \\u041c\\u0430\\u043a\\u0430: %{customdata}$<extra></extra>\", \"marker\": {\"size\": [0.0, 0.0, 0.0, 91409930.05270238, 0.0, 91157715.40114291, 119037496.81149563, 0.0, 106854091.76006944, 0.0, 0.0, 0.0, 0.0, 92889257.98119754, 0.0, 0.0, 0.0, 0.0, 0.0, 0.0, 157506669.42303336, 68916291.31900859, 0.0, 0.0, 50788513.18779699, 0.0, 0.0, 0.0, 127498594.99903537, 127182898.79176247, 86355061.83190107, 47826086.95652175], \"sizemode\": \"area\", \"sizeref\": 200000}, \"mode\": \"markers\", \"name\": \"Europe\", \"text\": [\"Austria\", \"Azerbaijan\", \"Belgium\", \"Britain\", \"Croatia\", \"Czech Republic\", \"Denmark\", \"Estonia\", \"Euro area\", \"Finland\", \"France\", \"Germany\", \"Greece\", \"Hungary\", \"Ireland\", \"Italy\", \"Latvia\", \"Lithuania\", \"Moldova\", \"Netherlands\", \"Norway\", \"Poland\", \"Portugal\", \"Romania\", \"Russia\", \"Slovakia\", \"Slovenia\", \"Spain\", \"Sweden\", \"Switzerland\", \"Turkey\", \"Ukraine\"], \"x\": [8321496.0, 8763400.0, 10709973.0, 61806995.0, 4309705.0, 10384603.0, 5493621.0, 1337090.0, 334274725.0, 5313399.0, 64374984.0, 82110097.0, 11077841.0, 10038188.0, 4489544.0, 58826731.0, 2177322.0, 3198231.0, 2867964.0, 16445593.0, 4768212.0, 38125759.0, 10558177.0, 20537875.0, 142742366.0, 5379233.0, 2021316.0, 45954106.0, 9219637.0, 7647675.0, 70418604.0, 46258189.0], \"y\": [51708.765754175816, 5574.603802186127, 48106.892915787925, 47286.99849283661, 16309.439014886957, 22698.853957260475, 64322.063502084144, 18227.12007819391, 42177.820921053186, 53554.038922467334, 45334.11443582463, 45427.151677488946, 31997.28201088136, 15753.473284019487, 61262.1005610307, 40778.342736721, 16376.998363393333, 14961.568175918657, 2111.201495041974, 57644.47997493523, 96944.0956064873, 14001.38155991654, 24847.54513509103, 10435.04398410371, 11635.272933788838, 18677.292710931837, 27483.3369524581, 35366.25960119842, 56152.552340314054, 72487.8459296849, 10854.172252915096, 3887.2423368052514], \"type\": \"scatter\"}, {\"customdata\": [0.0, 1.8, 1.7, 0.0, 2.0, 0.0, 2.6, 0.0, 0.0, 0.0, 1.7, 0.0, 2.0, 2.0, 0.0, 2.7, 2.9, 3.1, 2.0, 1.9, 2.7, 0.0], \"hovertemplate\": \"<b>%{text}</b><br>\\u0412\\u0412\\u041f \\u043d\\u0430 \\u0434\\u0443\\u0448\\u0443 \\u043d\\u0430\\u0441\\u0435\\u043b\\u0435\\u043d\\u0438\\u044f: %{y}<br>\\u0427\\u0438\\u0441\\u043b\\u0435\\u043d\\u043d\\u043e\\u0441\\u0442\\u044c \\u043d\\u0430\\u0441\\u0435\\u043b\\u0435\\u043d\\u0438\\u044f: %{x}<br>\\u0421\\u0442\\u043e\\u0438\\u043c\\u043e\\u0441\\u0442\\u044c \\u0411\\u0438\\u0433 \\u041c\\u0430\\u043a\\u0430: %{customdata}$<extra></extra>\", \"marker\": {\"size\": [0.0, 36581796.89786363, 34113935.4143689, 0.0, 40865384.615384616, 0.0, 52407468.06419914, 0.0, 0.0, 0.0, 33971587.3996294, 0.0, 39492242.59520451, 39114308.19377318, 0.0, 53339734.101425506, 58399556.45906487, 62865281.665929966, 39051603.90516039, 37170263.788968824, 54453625.930816665, 0.0], \"sizemode\": \"area\", \"sizeref\": 200000}, \"mode\": \"markers\", \"name\": \"Asia\", \"text\": [\"Bahrain\", \"China\", \"Hong Kong\", \"India\", \"Indonesia\", \"Israel\", \"Japan\", \"Jordan\", \"Kuwait\", \"Lebanon\", \"Malaysia\", \"Oman\", \"Pakistan\", \"Philippines\", \"Qatar\", \"Saudi Arabia\", \"Singapore\", \"South Korea\", \"Sri Lanka\", \"Thailand\", \"UAE\", \"Vietnam\"], \"x\": [1114641.0, 1324655000.0, 6957800.0, 1200669765.0, 235469762.0, 7308800.0, 128063000.0, 6556478.0, 2656009.0, 4764741.0, 27236006.0, 2750963.0, 171648986.0, 90901965.0, 1436665.0, 25888541.0, 4839396.0, 49054708.0, 19983984.0, 66530984.0, 7089487.0, 86243413.0], \"y\": [23066.53375868921, 3468.304463247472, 31515.662771301842, 998.522339019264, 2166.8541670002537, 29567.80387567795, 39339.29757318258, 3398.1517215430295, 55494.95099064574, 6111.332411479512, 8474.586828762263, 22139.640409369298, 990.8465996199068, 1991.2315416658153, 80234.47007134926, 20078.257789807467, 40007.469261214, 21350.427979823056, 2037.3221030266836, 4379.658523879611, 44498.934230163344, 1149.4246418462983], \"type\": \"scatter\"}, {\"customdata\": [4.1, 3.3, 0.0, 0.0, 3.1, 0.0, 3.6], \"hovertemplate\": \"<b>%{text}</b><br>\\u0412\\u0412\\u041f \\u043d\\u0430 \\u0434\\u0443\\u0448\\u0443 \\u043d\\u0430\\u0441\\u0435\\u043b\\u0435\\u043d\\u0438\\u044f: %{y}<br>\\u0427\\u0438\\u0441\\u043b\\u0435\\u043d\\u043d\\u043e\\u0441\\u0442\\u044c \\u043d\\u0430\\u0441\\u0435\\u043b\\u0435\\u043d\\u0438\\u044f: %{x}<br>\\u0421\\u0442\\u043e\\u0438\\u043c\\u043e\\u0441\\u0442\\u044c \\u0411\\u0438\\u0433 \\u041c\\u0430\\u043a\\u0430: %{customdata}$<extra></extra>\", \"marker\": {\"size\": [81510637.2378058, 65333381.72843091, 0.0, 0.0, 62939469.93165167, 0.0, 71400000.0], \"sizemode\": \"area\", \"sizeref\": 200000}, \"mode\": \"markers\", \"name\": \"North America\", \"text\": [\"Canada\", \"Costa Rica\", \"Guatemala\", \"Honduras\", \"Mexico\", \"Nicaragua\", \"United States\"], \"x\": [33247118.0, 4463125.0, 13739299.0, 7980955.0, 110815271.0, 5667432.0, 304093966.0], \"y\": [46594.45095352896, 6859.079021783325, 2848.5031597140874, 1727.827701384358, 10016.571304388364, 1499.2586780452787, 48382.558449055185], \"type\": \"scatter\"}, {\"customdata\": [2.4, 2.2], \"hovertemplate\": \"<b>%{text}</b><br>\\u0412\\u0412\\u041f \\u043d\\u0430 \\u0434\\u0443\\u0448\\u0443 \\u043d\\u0430\\u0441\\u0435\\u043b\\u0435\\u043d\\u0438\\u044f: %{y}<br>\\u0427\\u0438\\u0441\\u043b\\u0435\\u043d\\u043d\\u043e\\u0441\\u0442\\u044c \\u043d\\u0430\\u0441\\u0435\\u043b\\u0435\\u043d\\u0438\\u044f: %{x}<br>\\u0421\\u0442\\u043e\\u0438\\u043c\\u043e\\u0441\\u0442\\u044c \\u0411\\u0438\\u0433 \\u041c\\u0430\\u043a\\u0430: %{customdata}$<extra></extra>\", \"marker\": {\"size\": [48941176.47058824, 44822001.12385549], \"sizemode\": \"area\", \"sizeref\": 200000}, \"mode\": \"markers\", \"name\": \"Africa\", \"text\": [\"Egypt\", \"South Africa\"], \"x\": [79636079.0, 49779471.0], \"y\": [2044.5278554985362, 5760.805287238308], \"type\": \"scatter\"}], \"name\": \"2008\"}, {\"data\": [{\"customdata\": [3.0, 4.0, 3.2, 3.3, 2.7, 2.6], \"hovertemplate\": \"<b>%{text}</b><br>\\u0412\\u0412\\u041f \\u043d\\u0430 \\u0434\\u0443\\u0448\\u0443 \\u043d\\u0430\\u0441\\u0435\\u043b\\u0435\\u043d\\u0438\\u044f: %{y}<br>\\u0427\\u0438\\u0441\\u043b\\u0435\\u043d\\u043d\\u043e\\u0441\\u0442\\u044c \\u043d\\u0430\\u0441\\u0435\\u043b\\u0435\\u043d\\u0438\\u044f: %{x}<br>\\u0421\\u0442\\u043e\\u0438\\u043c\\u043e\\u0441\\u0442\\u044c \\u0411\\u0438\\u0433 \\u041c\\u0430\\u043a\\u0430: %{customdata}$<extra></extra>\", \"marker\": {\"size\": [60347654.968842246, 80416604.07591006, 63804575.6995716, 66806642.489024624, 53220585.32073727, 52654294.34613724], \"sizemode\": \"area\", \"sizeref\": 200000}, \"mode\": \"markers\", \"name\": \"South America\", \"text\": [\"Argentina\", \"Brazil\", \"Chile\", \"Colombia\", \"Peru\", \"Uruguay\"], \"x\": [40482788.0, 193886508.0, 16886186.0, 44750054.0, 28792655.0, 3349676.0], \"y\": [8225.13717626412, 8597.91535151626, 10208.906762286108, 5193.241450755456, 4196.312793018879, 9451.932448699337], \"type\": \"scatter\"}, {\"customdata\": [3.4, 3.1], \"hovertemplate\": \"<b>%{text}</b><br>\\u0412\\u0412\\u041f \\u043d\\u0430 \\u0434\\u0443\\u0448\\u0443 \\u043d\\u0430\\u0441\\u0435\\u043b\\u0435\\u043d\\u0438\\u044f: %{y}<br>\\u0427\\u0438\\u0441\\u043b\\u0435\\u043d\\u043d\\u043e\\u0441\\u0442\\u044c \\u043d\\u0430\\u0441\\u0435\\u043b\\u0435\\u043d\\u0438\\u044f: %{x}<br>\\u0421\\u0442\\u043e\\u0438\\u043c\\u043e\\u0441\\u0442\\u044c \\u0411\\u0438\\u0433 \\u041c\\u0430\\u043a\\u0430: %{customdata}$<extra></extra>\", \"marker\": {\"size\": [67448908.22907764, 61544258.48588564], \"sizemode\": \"area\", \"sizeref\": 200000}, \"mode\": \"markers\", \"name\": \"Oceania\", \"text\": [\"Australia\", \"New Zealand\"], \"x\": [21691700.0, 4302600.0], \"y\": [42772.359166449794, 28205.73284358295], \"type\": \"scatter\"}, {\"customdata\": [0.0, 0.0, 0.0, 3.7, 0.0, 3.6, 5.5, 0.0, 4.6, 0.0, 0.0, 0.0, 0.0, 3.6, 0.0, 0.0, 0.0, 0.0, 0.0, 0.0, 6.1, 2.4, 0.0, 0.0, 2.0, 0.0, 0.0, 0.0, 4.9, 6.0, 3.6, 1.8], \"hovertemplate\": \"<b>%{text}</b><br>\\u0412\\u0412\\u041f \\u043d\\u0430 \\u0434\\u0443\\u0448\\u0443 \\u043d\\u0430\\u0441\\u0435\\u043b\\u0435\\u043d\\u0438\\u044f: %{y}<br>\\u0427\\u0438\\u0441\\u043b\\u0435\\u043d\\u043d\\u043e\\u0441\\u0442\\u044c \\u043d\\u0430\\u0441\\u0435\\u043b\\u0435\\u043d\\u0438\\u044f: %{x}<br>\\u0421\\u0442\\u043e\\u0438\\u043c\\u043e\\u0441\\u0442\\u044c \\u0411\\u0438\\u0433 \\u041c\\u0430\\u043a\\u0430: %{customdata}$<extra></extra>\", \"marker\": {\"size\": [0.0, 0.0, 0.0, 73765480.01212704, 0.0, 72791381.20895639, 110538641.68618266, 0.0, 92342379.95123398, 0.0, 0.0, 0.0, 0.0, 72304510.44574223, 0.0, 0.0, 0.0, 0.0, 0.0, 0.0, 122902024.04270846, 48173678.78931939, 0.0, 0.0, 40858765.88232066, 0.0, 0.0, 0.0, 98619952.8394328, 119699829.65793471, 72900874.16534951, 36553524.804177545], \"sizemode\": \"area\", \"sizeref\": 200000}, \"mode\": \"markers\", \"name\": \"Europe\", \"text\": [\"Austria\", \"Azerbaijan\", \"Belgium\", \"Britain\", \"Croatia\", \"Czech Republic\", \"Denmark\", \"Estonia\", \"Euro area\", \"Finland\", \"France\", \"Germany\", \"Greece\", \"Hungary\", \"Ireland\", \"Italy\", \"Latvia\", \"Lithuania\", \"Moldova\", \"Netherlands\", \"Norway\", \"Poland\", \"Portugal\", \"Romania\", \"Russia\", \"Slovakia\", \"Slovenia\", \"Spain\", \"Sweden\", \"Switzerland\", \"Turkey\", \"Ukraine\"], \"x\": [8343323.0, 8947243.0, 10796493.0, 62276270.0, 4305181.0, 10443936.0, 5523095.0, 1334515.0, 335360890.0, 5338871.0, 64707040.0, 81902307.0, 11107017.0, 10022650.0, 4535375.0, 59095365.0, 2141669.0, 3162916.0, 2864346.0, 16530388.0, 4828726.0, 38151603.0, 10568247.0, 20367487.0, 142785349.0, 5386406.0, 2039669.0, 46362946.0, 9298515.0, 7743831.0, 71321399.0, 46053331.0], \"y\": [47963.179402321715, 4950.294791423749, 44583.544807081336, 38713.13742833539, 14555.996448113541, 19741.597627982588, 58163.27687628151, 14794.970792644894, 38423.21376227174, 47293.992833504315, 41575.41874837375, 41485.90164951397, 29710.97029502845, 13046.481008184763, 52105.15248377389, 37079.75867045461, 12257.216568305139, 11837.391027108593, 1899.0101165837755, 52514.02711653229, 79977.69708174931, 11527.534422646382, 23059.79744572946, 8548.118672186363, 8562.813277165153, 16531.670514070625, 24694.230555783462, 32042.474078661653, 46946.96027199547, 69927.46877011715, 9038.5201501726, 2542.995424175224], \"type\": \"scatter\"}, {\"customdata\": [0.0, 1.8, 1.7, 0.0, 2.0, 3.8, 3.5, 0.0, 0.0, 0.0, 1.9, 0.0, 2.3, 2.1, 0.0, 2.9, 2.9, 2.6, 1.8, 1.9, 2.7, 0.0], \"hovertemplate\": \"<b>%{text}</b><br>\\u0412\\u0412\\u041f \\u043d\\u0430 \\u0434\\u0443\\u0448\\u0443 \\u043d\\u0430\\u0441\\u0435\\u043b\\u0435\\u043d\\u0438\\u044f: %{y}<br>\\u0427\\u0438\\u0441\\u043b\\u0435\\u043d\\u043d\\u043e\\u0441\\u0442\\u044c \\u043d\\u0430\\u0441\\u0435\\u043b\\u0435\\u043d\\u0438\\u044f: %{x}<br>\\u0421\\u0442\\u043e\\u0438\\u043c\\u043e\\u0441\\u0442\\u044c \\u0411\\u0438\\u0433 \\u041c\\u0430\\u043a\\u0430: %{customdata}$<extra></extra>\", \"marker\": {\"size\": [0.0, 36588757.00674696, 34320366.42797239, 0.0, 40980392.15686274, 75485940.74353652, 69140603.89996219, 0.0, 0.0, 0.0, 37590227.651304826, 0.0, 46004842.61501211, 41082980.262478046, 0.0, 58660409.556314, 57630590.64527142, 51730696.08216052, 36566254.57078182, 37752085.46758378, 54451402.123604685, 0.0], \"sizemode\": \"area\", \"sizeref\": 200000}, \"mode\": \"markers\", \"name\": \"Asia\", \"text\": [\"Bahrain\", \"China\", \"Hong Kong\", \"India\", \"Indonesia\", \"Israel\", \"Japan\", \"Jordan\", \"Kuwait\", \"Lebanon\", \"Malaysia\", \"Oman\", \"Pakistan\", \"Philippines\", \"Qatar\", \"Saudi Arabia\", \"Singapore\", \"South Korea\", \"Sri Lanka\", \"Thailand\", \"UAE\", \"Vietnam\"], \"x\": [1185076.0, 1331260000.0, 6972800.0, 1217726215.0, 238620563.0, 7485600.0, 128047000.0, 6893260.0, 2821045.0, 4813026.0, 27735040.0, 2876186.0, 175525609.0, 92414158.0, 1654950.0, 26630303.0, 4987573.0, 49307835.0, 20123508.0, 66866839.0, 7917372.0, 87092252.0], \"y\": [19355.904672026434, 3832.2359515672747, 30697.34038351695, 1101.9608400223938, 2261.247223745763, 27715.63680831904, 40855.17563545964, 3504.002460374337, 37561.67266642999, 7354.953604784911, 7292.494447279074, 16823.77165070225, 957.9956807501063, 1905.8947105259674, 59094.44493691748, 16113.142485335862, 38927.206881771555, 19143.851605302567, 2090.4018261396022, 4213.006338721829, 32024.181603118686, 1217.2685553041158], \"type\": \"scatter\"}, {\"customdata\": [3.4, 3.4, 0.0, 0.0, 2.4, 0.0, 3.6], \"hovertemplate\": \"<b>%{text}</b><br>\\u0412\\u0412\\u041f \\u043d\\u0430 \\u0434\\u0443\\u0448\\u0443 \\u043d\\u0430\\u0441\\u0435\\u043b\\u0435\\u043d\\u0438\\u044f: %{y}<br>\\u0427\\u0438\\u0441\\u043b\\u0435\\u043d\\u043d\\u043e\\u0441\\u0442\\u044c \\u043d\\u0430\\u0441\\u0435\\u043b\\u0435\\u043d\\u0438\\u044f: %{x}<br>\\u0421\\u0442\\u043e\\u0438\\u043c\\u043e\\u0441\\u0442\\u044c \\u0411\\u0438\\u0433 \\u041c\\u0430\\u043a\\u0430: %{customdata}$<extra></extra>\", \"marker\": {\"size\": [67019856.139897496, 68661276.75644128, 0.0, 0.0, 47790071.25065168, 0.0, 71400000.0], \"sizemode\": \"area\", \"sizeref\": 200000}, \"mode\": \"markers\", \"name\": \"North America\", \"text\": [\"Canada\", \"Costa Rica\", \"Guatemala\", \"Honduras\", \"Mexico\", \"Nicaragua\", \"United States\"], \"x\": [33628895.0, 4520740.0, 14000190.0, 8150775.0, 112463887.0, 5745526.0, 306771529.0], \"y\": [40773.061528975006, 6760.4775154135605, 2695.2212644719893, 1789.706651107545, 8002.97210649807, 1444.3725271719804, 47099.980471134266], \"type\": \"scatter\"}, {\"customdata\": [2.3, 2.2], \"hovertemplate\": \"<b>%{text}</b><br>\\u0412\\u0412\\u041f \\u043d\\u0430 \\u0434\\u0443\\u0448\\u0443 \\u043d\\u0430\\u0441\\u0435\\u043b\\u0435\\u043d\\u0438\\u044f: %{y}<br>\\u0427\\u0438\\u0441\\u043b\\u0435\\u043d\\u043d\\u043e\\u0441\\u0442\\u044c \\u043d\\u0430\\u0441\\u0435\\u043b\\u0435\\u043d\\u0438\\u044f: %{x}<br>\\u0421\\u0442\\u043e\\u0438\\u043c\\u043e\\u0441\\u0442\\u044c \\u0411\\u0438\\u0433 \\u041c\\u0430\\u043a\\u0430: %{customdata}$<extra></extra>\", \"marker\": {\"size\": [46555351.627199076, 43354869.87500755], \"sizemode\": \"area\", \"sizeref\": 200000}, \"mode\": \"markers\", \"name\": \"Africa\", \"text\": [\"Egypt\", \"South Africa\"], \"x\": [81134798.0, 50477011.0], \"y\": [2329.2394799677077, 5862.797340211666], \"type\": \"scatter\"}], \"name\": \"2009\"}, {\"data\": [{\"customdata\": [1.8, 4.8, 3.2, 3.9, 2.8, 3.3], \"hovertemplate\": \"<b>%{text}</b><br>\\u0412\\u0412\\u041f \\u043d\\u0430 \\u0434\\u0443\\u0448\\u0443 \\u043d\\u0430\\u0441\\u0435\\u043b\\u0435\\u043d\\u0438\\u044f: %{y}<br>\\u0427\\u0438\\u0441\\u043b\\u0435\\u043d\\u043d\\u043e\\u0441\\u0442\\u044c \\u043d\\u0430\\u0441\\u0435\\u043b\\u0435\\u043d\\u0438\\u044f: %{x}<br>\\u0421\\u0442\\u043e\\u0438\\u043c\\u043e\\u0441\\u0442\\u044c \\u0411\\u0438\\u0433 \\u041c\\u0430\\u043a\\u0430: %{customdata}$<extra></extra>\", \"marker\": {\"size\": [36856653.942345664, 95166250.79788776, 63605645.00099383, 78259209.77285743, 56129594.14736109, 66465256.79758308], \"sizemode\": \"area\", \"sizeref\": 200000}, \"mode\": \"markers\", \"name\": \"South America\", \"text\": [\"Argentina\", \"Brazil\", \"Chile\", \"Colombia\", \"Peru\", \"Uruguay\"], \"x\": [40788453.0, 195713635.0, 17062536.0, 45222700.0, 29027674.0, 3359275.0], \"y\": [10385.964431955534, 11286.24301624575, 12808.03458642203, 6336.709213679878, 5082.354756663521, 11992.016626177405], \"type\": \"scatter\"}, {\"customdata\": [4.0, 3.6], \"hovertemplate\": \"<b>%{text}</b><br>\\u0412\\u0412\\u041f \\u043d\\u0430 \\u0434\\u0443\\u0448\\u0443 \\u043d\\u0430\\u0441\\u0435\\u043b\\u0435\\u043d\\u0438\\u044f: %{y}<br>\\u0427\\u0438\\u0441\\u043b\\u0435\\u043d\\u043d\\u043e\\u0441\\u0442\\u044c \\u043d\\u0430\\u0441\\u0435\\u043b\\u0435\\u043d\\u0438\\u044f: %{x}<br>\\u0421\\u0442\\u043e\\u0438\\u043c\\u043e\\u0441\\u0442\\u044c \\u0411\\u0438\\u0433 \\u041c\\u0430\\u043a\\u0430: %{customdata}$<extra></extra>\", \"marker\": {\"size\": [79557404.78258881, 72226111.95047353], \"sizemode\": \"area\", \"sizeref\": 200000}, \"mode\": \"markers\", \"name\": \"Oceania\", \"text\": [\"Australia\", \"New Zealand\"], \"x\": [22031750.0, 4350700.0], \"y\": [52022.125596187776, 33700.1260392461], \"type\": \"scatter\"}, {\"customdata\": [0.0, 0.0, 0.0, 3.7, 0.0, 3.7, 6.0, 0.0, 4.8, 0.0, 0.0, 0.0, 0.0, 3.9, 0.0, 0.0, 0.0, 0.0, 0.0, 0.0, 7.0, 2.9, 0.0, 0.0, 2.3, 0.0, 0.0, 0.0, 5.5, 6.3, 3.8, 1.8], \"hovertemplate\": \"<b>%{text}</b><br>\\u0412\\u0412\\u041f \\u043d\\u0430 \\u0434\\u0443\\u0448\\u0443 \\u043d\\u0430\\u0441\\u0435\\u043b\\u0435\\u043d\\u0438\\u044f: %{y}<br>\\u0427\\u0438\\u0441\\u043b\\u0435\\u043d\\u043d\\u043e\\u0441\\u0442\\u044c \\u043d\\u0430\\u0441\\u0435\\u043b\\u0435\\u043d\\u0438\\u044f: %{x}<br>\\u0421\\u0442\\u043e\\u0438\\u043c\\u043e\\u0441\\u0442\\u044c \\u0411\\u0438\\u0433 \\u041c\\u0430\\u043a\\u0430: %{customdata}$<extra></extra>\", \"marker\": {\"size\": [0.0, 0.0, 0.0, 73426560.00117482, 0.0, 74288648.30135009, 119877178.19816154, 0.0, 96878879.93967351, 0.0, 0.0, 0.0, 0.0, 77149414.8431188, 0.0, 0.0, 0.0, 0.0, 0.0, 0.0, 140460534.97906262, 57129758.60913724, 0.0, 0.0, 46780499.21475591, 0.0, 0.0, 0.0, 110136823.82344222, 126072831.3048538, 76633549.21840562, 36553524.804177545], \"sizemode\": \"area\", \"sizeref\": 200000}, \"mode\": \"markers\", \"name\": \"Europe\", \"text\": [\"Austria\", \"Azerbaijan\", \"Belgium\", \"Britain\", \"Croatia\", \"Czech Republic\", \"Denmark\", \"Estonia\", \"Euro area\", \"Finland\", \"France\", \"Germany\", \"Greece\", \"Hungary\", \"Ireland\", \"Italy\", \"Latvia\", \"Lithuania\", \"Moldova\", \"Netherlands\", \"Norway\", \"Poland\", \"Portugal\", \"Romania\", \"Russia\", \"Slovakia\", \"Slovenia\", \"Spain\", \"Sweden\", \"Switzerland\", \"Turkey\", \"Ukraine\"], \"x\": [8363404.0, 9054332.0, 10895586.0, 62766365.0, 4295427.0, 10474410.0, 5547683.0, 1331475.0, 336151479.0, 5363352.0, 65027507.0, 81776930.0, 11121341.0, 10000023.0, 4560155.0, 59277417.0, 2097555.0, 3097282.0, 2861487.0, 16615394.0, 4889252.0, 38042794.0, 10573100.0, 20246871.0, 142849468.0, 5391428.0, 2048583.0, 46576897.0, 9378126.0, 7824909.0, 72326988.0, 45870741.0], \"y\": [46858.0432733717, 5842.805783585757, 44141.87814157338, 39435.83990185046, 13923.628583705531, 19808.07109125182, 58041.39843633856, 14790.821222059369, 37567.13056398065, 46459.97325485424, 40638.33400426007, 41531.93419786888, 26917.758978725404, 13113.52596172769, 48715.17685539329, 36000.52011792552, 11348.40623046733, 11957.084213606446, 2437.5299784242247, 50950.03434351807, 87693.79006580987, 12599.533581870695, 22498.690858655642, 8209.919456216914, 10674.995782567492, 16727.291326461913, 23509.54339414932, 30502.71970807759, 52869.04428915862, 74605.72102070517, 10672.389245602997, 2965.1397152061704], \"type\": \"scatter\"}, {\"customdata\": [0.0, 1.8, 1.9, 0.0, 2.2, 4.0, 3.5, 0.0, 0.0, 0.0, 2.1, 0.0, 2.4, 2.2, 0.0, 2.7, 3.2, 3.0, 1.8, 2.1, 3.0, 0.0], \"hovertemplate\": \"<b>%{text}</b><br>\\u0412\\u0412\\u041f \\u043d\\u0430 \\u0434\\u0443\\u0448\\u0443 \\u043d\\u0430\\u0441\\u0435\\u043b\\u0435\\u043d\\u0438\\u044f: %{y}<br>\\u0427\\u0438\\u0441\\u043b\\u0435\\u043d\\u043d\\u043e\\u0441\\u0442\\u044c \\u043d\\u0430\\u0441\\u0435\\u043b\\u0435\\u043d\\u0438\\u044f: %{x}<br>\\u0421\\u0442\\u043e\\u0438\\u043c\\u043e\\u0441\\u0442\\u044c \\u0411\\u0438\\u0433 \\u041c\\u0430\\u043a\\u0430: %{customdata}$<extra></extra>\", \"marker\": {\"size\": [0.0, 36618232.950550735, 38161295.9369823, 0.0, 44849785.40772533, 79839249.83255191, 69914791.34804456, 0.0, 0.0, 0.0, 41623616.23616236, 0.0, 48426150.12106537, 44216027.87456446, 0.0, 53330489.040584505, 63774139.228261255, 59622972.38053485, 36566254.57078182, 42251395.805039994, 59896542.33596515, 0.0], \"sizemode\": \"area\", \"sizeref\": 200000}, \"mode\": \"markers\", \"name\": \"Asia\", \"text\": [\"Bahrain\", \"China\", \"Hong Kong\", \"India\", \"Indonesia\", \"Israel\", \"Japan\", \"Jordan\", \"Kuwait\", \"Lebanon\", \"Malaysia\", \"Oman\", \"Pakistan\", \"Philippines\", \"Qatar\", \"Saudi Arabia\", \"Singapore\", \"South Korea\", \"Sri Lanka\", \"Thailand\", \"UAE\", \"Vietnam\"], \"x\": [1240860.0, 1337705000.0, 7024200.0, 1234281170.0, 241834215.0, 7623600.0, 128070000.0, 7261539.0, 2991884.0, 4953061.0, 28208035.0, 3041434.0, 179424641.0, 93966780.0, 1856327.0, 27421461.0, 5076732.0, 49554112.0, 20261737.0, 67195028.0, 8549988.0, 87967651.0], \"y\": [20722.137289134713, 4550.453595838574, 32549.998231120982, 1357.5637191326186, 3122.3628152164943, 30693.593078687103, 44507.676385917155, 3690.1132677867186, 38577.49827882131, 7761.6461905721935, 9040.566251171731, 18756.979252000965, 987.4097230439213, 2217.4740085661547, 67403.16029781068, 19262.547681175703, 47236.96023454203, 23087.225643847476, 2799.6488761997207, 5076.340174387069, 33893.30351403897, 1317.890706178354], \"type\": \"scatter\"}, {\"customdata\": [4.0, 3.5, 0.0, 0.0, 2.5, 0.0, 3.6], \"hovertemplate\": \"<b>%{text}</b><br>\\u0412\\u0412\\u041f \\u043d\\u0430 \\u0434\\u0443\\u0448\\u0443 \\u043d\\u0430\\u0441\\u0435\\u043b\\u0435\\u043d\\u0438\\u044f: %{y}<br>\\u0427\\u0438\\u0441\\u043b\\u0435\\u043d\\u043d\\u043e\\u0441\\u0442\\u044c \\u043d\\u0430\\u0441\\u0435\\u043b\\u0435\\u043d\\u0438\\u044f: %{x}<br>\\u0421\\u0442\\u043e\\u0438\\u043c\\u043e\\u0441\\u0442\\u044c \\u0411\\u0438\\u0433 \\u041c\\u0430\\u043a\\u0430: %{customdata}$<extra></extra>\", \"marker\": {\"size\": [79475308.64197531, 70377808.6753523, 0.0, 0.0, 49946346.69788313, 0.0, 71600000.0], \"sizemode\": \"area\", \"sizeref\": 200000}, \"mode\": \"markers\", \"name\": \"North America\", \"text\": [\"Canada\", \"Costa Rica\", \"Guatemala\", \"Honduras\", \"Mexico\", \"Nicaragua\", \"United States\"], \"x\": [34004889.0, 4577378.0, 14259687.0, 8317470.0, 114092963.0, 5824065.0, 309321666.0], \"y\": [47448.013219838176, 8141.913126754618, 2898.942214704481, 1904.3464649688185, 9271.398233246427, 1503.8704232313567, 48467.51577692589], \"type\": \"scatter\"}, {\"customdata\": [2.4, 2.5], \"hovertemplate\": \"<b>%{text}</b><br>\\u0412\\u0412\\u041f \\u043d\\u0430 \\u0434\\u0443\\u0448\\u0443 \\u043d\\u0430\\u0441\\u0435\\u043b\\u0435\\u043d\\u0438\\u044f: %{y}<br>\\u0427\\u0438\\u0441\\u043b\\u0435\\u043d\\u043d\\u043e\\u0441\\u0442\\u044c \\u043d\\u0430\\u0441\\u0435\\u043b\\u0435\\u043d\\u0438\\u044f: %{x}<br>\\u0421\\u0442\\u043e\\u0438\\u043c\\u043e\\u0441\\u0442\\u044c \\u0411\\u0438\\u0433 \\u041c\\u0430\\u043a\\u0430: %{customdata}$<extra></extra>\", \"marker\": {\"size\": [47575480.32936871, 49147785.61160927], \"sizemode\": \"area\", \"sizeref\": 200000}, \"mode\": \"markers\", \"name\": \"Africa\", \"text\": [\"Egypt\", \"South Africa\"], \"x\": [82761235.0, 51216964.0], \"y\": [2644.817039097508, 7328.615628939661], \"type\": \"scatter\"}], \"name\": \"2010\"}, {\"data\": [{\"customdata\": [4.8, 6.2, 4.0, 4.7, 3.7, 4.9], \"hovertemplate\": \"<b>%{text}</b><br>\\u0412\\u0412\\u041f \\u043d\\u0430 \\u0434\\u0443\\u0448\\u0443 \\u043d\\u0430\\u0441\\u0435\\u043b\\u0435\\u043d\\u0438\\u044f: %{y}<br>\\u0427\\u0438\\u0441\\u043b\\u0435\\u043d\\u043d\\u043e\\u0441\\u0442\\u044c \\u043d\\u0430\\u0441\\u0435\\u043b\\u0435\\u043d\\u0438\\u044f: %{x}<br>\\u0421\\u0442\\u043e\\u0438\\u043c\\u043e\\u0441\\u0442\\u044c \\u0411\\u0438\\u0433 \\u041c\\u0430\\u043a\\u0430: %{customdata}$<extra></extra>\", \"marker\": {\"size\": [96793708.40895341, 123248572.91126102, 79956780.11885467, 94888449.59051116, 73059360.7305936, 97560975.6097561], \"sizemode\": \"area\", \"sizeref\": 200000}, \"mode\": \"markers\", \"name\": \"South America\", \"text\": [\"Argentina\", \"Brazil\", \"Chile\", \"Colombia\", \"Peru\", \"Uruguay\"], \"x\": [41261490.0, 197514534.0, 17233576.0, 45663099.0, 29264318.0, 3368934.0], \"y\": [12848.86419697054, 13245.612499544768, 14637.24023554032, 7335.110509636479, 5869.323079614737, 14236.681188686007], \"type\": \"scatter\"}, {\"customdata\": [4.9, 4.4], \"hovertemplate\": \"<b>%{text}</b><br>\\u0412\\u0412\\u041f \\u043d\\u0430 \\u0434\\u0443\\u0448\\u0443 \\u043d\\u0430\\u0441\\u0435\\u043b\\u0435\\u043d\\u0438\\u044f: %{y}<br>\\u0427\\u0438\\u0441\\u043b\\u0435\\u043d\\u043d\\u043e\\u0441\\u0442\\u044c \\u043d\\u0430\\u0441\\u0435\\u043b\\u0435\\u043d\\u0438\\u044f: %{x}<br>\\u0421\\u0442\\u043e\\u0438\\u043c\\u043e\\u0441\\u0442\\u044c \\u0411\\u0438\\u0433 \\u041c\\u0430\\u043a\\u0430: %{customdata}$<extra></extra>\", \"marker\": {\"size\": [98874480.02824348, 88230000.01235218], \"sizemode\": \"area\", \"sizeref\": 200000}, \"mode\": \"markers\", \"name\": \"Oceania\", \"text\": [\"Australia\", \"New Zealand\"], \"x\": [22340024.0, 4384000.0], \"y\": [62517.83374715041, 38437.5431572751], \"type\": \"scatter\"}, {\"customdata\": [4.4, 0.0, 5.4, 3.9, 0.0, 4.1, 5.5, 3.2, 4.9, 5.4, 5.0, 4.9, 4.7, 4.0, 5.4, 5.0, 0.0, 0.0, 0.0, 4.7, 8.3, 3.1, 4.2, 0.0, 2.7, 0.0, 0.0, 5.0, 7.6, 8.1, 3.8, 2.1], \"hovertemplate\": \"<b>%{text}</b><br>\\u0412\\u0412\\u041f \\u043d\\u0430 \\u0434\\u0443\\u0448\\u0443 \\u043d\\u0430\\u0441\\u0435\\u043b\\u0435\\u043d\\u0438\\u044f: %{y}<br>\\u0427\\u0438\\u0441\\u043b\\u0435\\u043d\\u043d\\u043e\\u0441\\u0442\\u044c \\u043d\\u0430\\u0441\\u0435\\u043b\\u0435\\u043d\\u0438\\u044f: %{x}<br>\\u0421\\u0442\\u043e\\u0438\\u043c\\u043e\\u0441\\u0442\\u044c \\u0411\\u0438\\u0433 \\u041c\\u0430\\u043a\\u0430: %{customdata}$<extra></extra>\", \"marker\": {\"size\": [88599570.03546198, 0.0, 107523750.04303637, 77832739.9949253, 0.0, 81448016.9663786, 109648068.17416729, 63080600.02524802, 98568036.71732485, 107523750.04303637, 100355500.04016729, 97488200.03901966, 93473980.03741296, 80819939.55519257, 108957400.0436102, 100355500.04016729, 0.0, 0.0, 0.0, 93187250.03729819, 166234150.03555563, 61713386.72768879, 83151700.03328148, 0.0, 54049184.758129895, 0.0, 0.0, 100355500.04016729, 152797070.33716378, 161260311.3564473, 75456365.90533128, 41280960.720540404], \"sizemode\": \"area\", \"sizeref\": 200000}, \"mode\": \"markers\", \"name\": \"Europe\", \"text\": [\"Austria\", \"Azerbaijan\", \"Belgium\", \"Britain\", \"Croatia\", \"Czech Republic\", \"Denmark\", \"Estonia\", \"Euro area\", \"Finland\", \"France\", \"Germany\", \"Greece\", \"Hungary\", \"Ireland\", \"Italy\", \"Latvia\", \"Lithuania\", \"Moldova\", \"Netherlands\", \"Norway\", \"Poland\", \"Portugal\", \"Romania\", \"Russia\", \"Slovakia\", \"Slovenia\", \"Spain\", \"Sweden\", \"Switzerland\", \"Turkey\", \"Ukraine\"], \"x\": [8391643.0, 9173082.0, 11038264.0, 63258810.0, 4280622.0, 10496088.0, 5570572.0, 1327439.0, 335419643.0, 5388272.0, 65342780.0, 80274983.0, 11104899.0, 9971727.0, 4580084.0, 59379449.0, 2059709.0, 3028115.0, 2859833.0, 16693074.0, 4953088.0, 38063255.0, 10557560.0, 20147528.0, 142960908.0, 5398384.0, 2052843.0, 46742697.0, 9449213.0, 7912398.0, 73443863.0, 45706086.0], \"y\": [51374.95840669342, 7189.691229207653, 47348.52502020164, 42038.57225019298, 14566.638468995323, 21717.45793922021, 61753.64713197693, 17621.547439279468, 40613.87427507041, 51081.99767031267, 43790.73204820196, 46644.776027968015, 25916.29352893511, 14150.96672636776, 51848.90973016215, 38599.0622070321, 13832.391178053647, 14354.188379295338, 2942.255948615293, 54159.34661261419, 100600.56240758917, 13893.509259001024, 23186.91312832785, 9104.995622030207, 14311.084315961187, 18338.36222884369, 25095.132628207124, 31636.446314255893, 60755.7595508465, 88415.6280609527, 11335.510509510126, 3569.7581208389843], \"type\": \"scatter\"}, {\"customdata\": [0.0, 2.3, 1.9, 1.9, 2.6, 4.7, 4.1, 0.0, 0.0, 0.0, 2.4, 0.0, 2.4, 2.8, 0.0, 2.7, 3.7, 3.5, 2.6, 2.4, 3.3, 0.0], \"hovertemplate\": \"<b>%{text}</b><br>\\u0412\\u0412\\u041f \\u043d\\u0430 \\u0434\\u0443\\u0448\\u0443 \\u043d\\u0430\\u0441\\u0435\\u043b\\u0435\\u043d\\u0438\\u044f: %{y}<br>\\u0427\\u0438\\u0441\\u043b\\u0435\\u043d\\u043d\\u043e\\u0441\\u0442\\u044c \\u043d\\u0430\\u0441\\u0435\\u043b\\u0435\\u043d\\u0438\\u044f: %{x}<br>\\u0421\\u0442\\u043e\\u0438\\u043c\\u043e\\u0441\\u0442\\u044c \\u0411\\u0438\\u0433 \\u041c\\u0430\\u043a\\u0430: %{customdata}$<extra></extra>\", \"marker\": {\"size\": [0.0, 45461598.13809155, 38758695.03837367, 37837837.83783784, 52878094.5676405, 93437348.49486536, 81669112.48644166, 0.0, 0.0, 0.0, 48435923.309788086, 0.0, 47514042.50390874, 55647253.00636643, 0.0, 53330489.040584505, 73070709.5812104, 70062488.16512023, 51153231.33135419, 47058823.52941176, 65340793.07387594, 0.0], \"sizemode\": \"area\", \"sizeref\": 200000}, \"mode\": \"markers\", \"name\": \"Asia\", \"text\": [\"Bahrain\", \"China\", \"Hong Kong\", \"India\", \"Indonesia\", \"Israel\", \"Japan\", \"Jordan\", \"Kuwait\", \"Lebanon\", \"Malaysia\", \"Oman\", \"Pakistan\", \"Philippines\", \"Qatar\", \"Saudi Arabia\", \"Singapore\", \"South Korea\", \"Sri Lanka\", \"Thailand\", \"UAE\", \"Vietnam\"], \"x\": [1278151.0, 1344130000.0, 7071600.0, 1250288729.0, 245116206.0, 7765800.0, 127833000.0, 7663131.0, 3168060.0, 5202343.0, 28650955.0, 3251108.0, 183340592.0, 95570047.0, 2035871.0, 28267685.0, 5183688.0, 49936638.0, 20398670.0, 67518382.0, 8946777.0, 88871561.0], \"y\": [22514.237945814617, 5618.132491349624, 35142.48793445429, 1458.1035268617702, 3643.0439361610147, 33669.24646928842, 48167.997268496554, 3816.279258089676, 48631.69130067896, 7674.835350378474, 10399.37275334501, 20921.14598208411, 1164.9761291487266, 2450.7336561578963, 82409.58033454722, 23745.80161434044, 53890.4287270505, 25096.263883823936, 3200.8338291401546, 5492.121255905584, 39194.67662084558, 1525.1159880010323], \"type\": \"scatter\"}, {\"customdata\": [5.0, 4.1, 0.0, 0.0, 2.7, 0.0, 4.1], \"hovertemplate\": \"<b>%{text}</b><br>\\u0412\\u0412\\u041f \\u043d\\u0430 \\u0434\\u0443\\u0448\\u0443 \\u043d\\u0430\\u0441\\u0435\\u043b\\u0435\\u043d\\u0438\\u044f: %{y}<br>\\u0427\\u0438\\u0441\\u043b\\u0435\\u043d\\u043d\\u043e\\u0441\\u0442\\u044c \\u043d\\u0430\\u0441\\u0435\\u043b\\u0435\\u043d\\u0438\\u044f: %{x}<br>\\u0421\\u0442\\u043e\\u0438\\u043c\\u043e\\u0441\\u0442\\u044c \\u0411\\u0438\\u0433 \\u041c\\u0430\\u043a\\u0430: %{customdata}$<extra></extra>\", \"marker\": {\"size\": [100015858.75138766, 81300006.9402445, 0.0, 0.0, 54837949.574791685, 0.0, 81300000.00000001], \"sizemode\": \"area\", \"sizeref\": 200000}, \"mode\": \"markers\", \"name\": \"North America\", \"text\": [\"Canada\", \"Costa Rica\", \"Guatemala\", \"Honduras\", \"Mexico\", \"Nicaragua\", \"United States\"], \"x\": [34339328.0, 4633086.0, 14521515.0, 8480671.0, 115695473.0, 5903039.0, 311556874.0], \"y\": [52087.44638356814, 9121.932517631876, 3281.667501760333, 2088.3153002869585, 10203.420854311302, 1655.8018237314423, 49886.81810949226], \"type\": \"scatter\"}, {\"customdata\": [2.4, 2.9], \"hovertemplate\": \"<b>%{text}</b><br>\\u0412\\u0412\\u041f \\u043d\\u0430 \\u0434\\u0443\\u0448\\u0443 \\u043d\\u0430\\u0441\\u0435\\u043b\\u0435\\u043d\\u0438\\u044f: %{y}<br>\\u0427\\u0438\\u0441\\u043b\\u0435\\u043d\\u043d\\u043e\\u0441\\u0442\\u044c \\u043d\\u0430\\u0441\\u0435\\u043b\\u0435\\u043d\\u0438\\u044f: %{x}<br>\\u0421\\u0442\\u043e\\u0438\\u043c\\u043e\\u0441\\u0442\\u044c \\u0411\\u0438\\u0433 \\u041c\\u0430\\u043a\\u0430: %{customdata}$<extra></extra>\", \"marker\": {\"size\": [47266018.114726596, 57469141.73013141], \"sizemode\": \"area\", \"sizeref\": 200000}, \"mode\": \"markers\", \"name\": \"Africa\", \"text\": [\"Egypt\", \"South Africa\"], \"x\": [84529250.0, 52004172.0], \"y\": [2791.9549618624915, 8007.412846344404], \"type\": \"scatter\"}], \"name\": \"2011\"}, {\"data\": [{\"customdata\": [4.6, 5.7, 4.1, 4.5, 3.7, 4.6], \"hovertemplate\": \"<b>%{text}</b><br>\\u0412\\u0412\\u041f \\u043d\\u0430 \\u0434\\u0443\\u0448\\u0443 \\u043d\\u0430\\u0441\\u0435\\u043b\\u0435\\u043d\\u0438\\u044f: %{y}<br>\\u0427\\u0438\\u0441\\u043b\\u0435\\u043d\\u043d\\u043e\\u0441\\u0442\\u044c \\u043d\\u0430\\u0441\\u0435\\u043b\\u0435\\u043d\\u0438\\u044f: %{x}<br>\\u0421\\u0442\\u043e\\u0438\\u043c\\u043e\\u0441\\u0442\\u044c \\u0411\\u0438\\u0433 \\u041c\\u0430\\u043a\\u0430: %{customdata}$<extra></extra>\", \"marker\": {\"size\": [92732120.08809552, 113573407.20221607, 81019662.08872642, 90705396.43117458, 74280408.54224698, 92544987.14652957], \"sizemode\": \"area\", \"sizeref\": 200000}, \"mode\": \"markers\", \"name\": \"South America\", \"text\": [\"Argentina\", \"Brazil\", \"Chile\", \"Colombia\", \"Peru\", \"Uruguay\"], \"x\": [41733271.0, 199287296.0, 17400347.0, 46076848.0, 29506788.0, 3378974.0], \"y\": [13082.664325571988, 12370.02420071488, 15351.551325769653, 8050.058414207564, 6528.972217853126, 15171.584663418806], \"type\": \"scatter\"}, {\"customdata\": [4.9, 4.0], \"hovertemplate\": \"<b>%{text}</b><br>\\u0412\\u0412\\u041f \\u043d\\u0430 \\u0434\\u0443\\u0448\\u0443 \\u043d\\u0430\\u0441\\u0435\\u043b\\u0435\\u043d\\u0438\\u044f: %{y}<br>\\u0427\\u0438\\u0441\\u043b\\u0435\\u043d\\u043d\\u043e\\u0441\\u0442\\u044c \\u043d\\u0430\\u0441\\u0435\\u043b\\u0435\\u043d\\u0438\\u044f: %{x}<br>\\u0421\\u0442\\u043e\\u0438\\u043c\\u043e\\u0441\\u0442\\u044c \\u0411\\u0438\\u0433 \\u041c\\u0430\\u043a\\u0430: %{customdata}$<extra></extra>\", \"marker\": {\"size\": [98731200.00084908, 80952300.00008096], \"sizemode\": \"area\", \"sizeref\": 200000}, \"mode\": \"markers\", \"name\": \"Oceania\", \"text\": [\"Australia\", \"New Zealand\"], \"x\": [22733465.0, 4408100.0], \"y\": [68012.14790059325, 39982.75430137837], \"type\": \"scatter\"}, {\"customdata\": [3.9, 0.0, 4.7, 3.8, 0.0, 3.4, 5.4, 2.6, 4.4, 4.8, 4.6, 4.5, 4.2, 2.6, 4.8, 4.4, 0.0, 0.0, 0.0, 4.1, 6.8, 2.6, 3.7, 0.0, 2.5, 0.0, 0.0, 4.4, 5.9, 6.8, 3.5, 2.1], \"hovertemplate\": \"<b>%{text}</b><br>\\u0412\\u0412\\u041f \\u043d\\u0430 \\u0434\\u0443\\u0448\\u0443 \\u043d\\u0430\\u0441\\u0435\\u043b\\u0435\\u043d\\u0438\\u044f: %{y}<br>\\u0427\\u0438\\u0441\\u043b\\u0435\\u043d\\u043d\\u043e\\u0441\\u0442\\u044c \\u043d\\u0430\\u0441\\u0435\\u043b\\u0435\\u043d\\u0438\\u044f: %{x}<br>\\u0421\\u0442\\u043e\\u0438\\u043c\\u043e\\u0441\\u0442\\u044c \\u0411\\u0438\\u0433 \\u041c\\u0430\\u043a\\u0430: %{customdata}$<extra></extra>\", \"marker\": {\"size\": [78402570.01493177, 0.0, 93880100.01787947, 76467900.03544287, 0.0, 68960268.29885074, 107483770.80365446, 51760920.00985786, 88614095.49288656, 95148750.01812108, 91342800.01739624, 89566690.01705796, 83730900.01594655, 52504281.235722855, 96417400.01836269, 88805500.01691301, 0.0, 0.0, 0.0, 82462250.01570494, 135763837.14962167, 51697936.3433652, 73581700.01401363, 0.0, 50992624.95553884, 0.0, 0.0, 88805500.01691301, 118261270.87599874, 136111401.94744006, 70855363.80471832, 42285927.49207139], \"sizemode\": \"area\", \"sizeref\": 200000}, \"mode\": \"markers\", \"name\": \"Europe\", \"text\": [\"Austria\", \"Azerbaijan\", \"Belgium\", \"Britain\", \"Croatia\", \"Czech Republic\", \"Denmark\", \"Estonia\", \"Euro area\", \"Finland\", \"France\", \"Germany\", \"Greece\", \"Hungary\", \"Ireland\", \"Italy\", \"Latvia\", \"Lithuania\", \"Moldova\", \"Netherlands\", \"Norway\", \"Poland\", \"Portugal\", \"Romania\", \"Russia\", \"Slovakia\", \"Slovenia\", \"Spain\", \"Sweden\", \"Switzerland\", \"Turkey\", \"Ukraine\"], \"x\": [8429991.0, 9295784.0, 11106932.0, 63700215.0, 4267558.0, 10510785.0, 5591572.0, 1322696.0, 336159194.0, 5413971.0, 65659809.0, 80425823.0, 11045011.0, 9920362.0, 4599533.0, 59539717.0, 2034319.0, 2987773.0, 2859458.0, 16754962.0, 5018573.0, 38063164.0, 10514844.0, 20058035.0, 143201721.0, 5407579.0, 2057159.0, 46773055.0, 9519374.0, 7996861.0, 74653016.0, 45593342.0], \"y\": [48567.69528641999, 7496.294647682627, 44673.11587559013, 42462.77156814495, 13238.10193328311, 19729.870511176377, 58507.508051785255, 17534.42154419232, 37598.0422605764, 47710.7902169415, 40874.703505345715, 43858.363055107686, 22242.681934771, 12918.247520538765, 48917.89755717656, 35053.52624425726, 13850.642815343364, 14339.287867289584, 3045.739874224164, 50073.005655930814, 101524.14185198482, 13145.539262786535, 20564.889861796906, 8535.0468756267, 15420.874541327265, 17460.046809354946, 22643.100251500688, 28324.42933639186, 58037.82131921721, 83538.23007838575, 11707.259712100084, 3855.4177285673204], \"type\": \"scatter\"}, {\"customdata\": [0.0, 2.4, 2.1, 1.6, 2.5, 4.1, 4.2, 0.0, 0.0, 0.0, 2.3, 0.0, 2.9, 2.7, 0.0, 2.7, 3.8, 3.2, 2.5, 2.5, 3.3, 0.0], \"hovertemplate\": \"<b>%{text}</b><br>\\u0412\\u0412\\u041f \\u043d\\u0430 \\u0434\\u0443\\u0448\\u0443 \\u043d\\u0430\\u0441\\u0435\\u043b\\u0435\\u043d\\u0438\\u044f: %{y}<br>\\u0427\\u0438\\u0441\\u043b\\u0435\\u043d\\u043d\\u043e\\u0441\\u0442\\u044c \\u043d\\u0430\\u0441\\u0435\\u043b\\u0435\\u043d\\u0438\\u044f: %{x}<br>\\u0421\\u0442\\u043e\\u0438\\u043c\\u043e\\u0441\\u0442\\u044c \\u0411\\u0438\\u0433 \\u041c\\u0430\\u043a\\u0430: %{customdata}$<extra></extra>\", \"marker\": {\"size\": [0.0, 48768901.90800411, 42485532.38878125, 32366824.00539447, 49200873.362445414, 82629595.94647264, 83203328.13312532, 0.0, 0.0, 0.0, 46821996.78297845, 0.0, 57745696.83509162, 53630269.28758095, 0.0, 53330489.040584505, 75030940.59405941, 63861920.172599785, 50908452.5585886, 49133858.267716534, 65341682.54832561, 0.0], \"sizemode\": \"area\", \"sizeref\": 200000}, \"mode\": \"markers\", \"name\": \"Asia\", \"text\": [\"Bahrain\", \"China\", \"Hong Kong\", \"India\", \"Indonesia\", \"Israel\", \"Japan\", \"Jordan\", \"Kuwait\", \"Lebanon\", \"Malaysia\", \"Oman\", \"Pakistan\", \"Philippines\", \"Qatar\", \"Saudi Arabia\", \"Singapore\", \"South Korea\", \"Sri Lanka\", \"Thailand\", \"UAE\", \"Vietnam\"], \"x\": [1299943.0, 1350695000.0, 7150100.0, 1265782790.0, 248452413.0, 7910500.0, 127629000.0, 8090872.0, 3348853.0, 5538634.0, 29068159.0, 3498029.0, 187281475.0, 97212638.0, 2196074.0, 29155187.0, 5312437.0, 50199853.0, 20425000.0, 67835957.0, 9141596.0, 89802487.0], \"y\": [23654.351391282773, 6316.918863356835, 36730.87670011273, 1443.8795293904257, 3694.34894603237, 32511.237852492508, 48603.47664977489, 3877.339344637784, 51979.105168063805, 7950.695378259621, 10817.442874285536, 21902.581356366056, 1198.1090005275214, 2694.3054729789455, 85076.14792739954, 25243.358698402448, 55546.48853869213, 25466.760517059483, 3350.521875892891, 5860.5825072559965, 40976.499711245495, 1735.1412764380568], \"type\": \"scatter\"}, {\"customdata\": [4.6, 4.0, 0.0, 0.0, 2.7, 0.0, 4.2], \"hovertemplate\": \"<b>%{text}</b><br>\\u0412\\u0412\\u041f \\u043d\\u0430 \\u0434\\u0443\\u0448\\u0443 \\u043d\\u0430\\u0441\\u0435\\u043b\\u0435\\u043d\\u0438\\u044f: %{y}<br>\\u0427\\u0438\\u0441\\u043b\\u0435\\u043d\\u043d\\u043e\\u0441\\u0442\\u044c \\u043d\\u0430\\u0441\\u0435\\u043b\\u0435\\u043d\\u0438\\u044f: %{x}<br>\\u0421\\u0442\\u043e\\u0438\\u043c\\u043e\\u0441\\u0442\\u044c \\u0411\\u0438\\u0433 \\u041c\\u0430\\u043a\\u0430: %{customdata}$<extra></extra>\", \"marker\": {\"size\": [92658798.1781674, 80464732.89633788, 0.0, 0.0, 54076174.329893894, 0.0, 83944400.0], \"sizemode\": \"area\", \"sizeref\": 200000}, \"mode\": \"markers\", \"name\": \"North America\", \"text\": [\"Canada\", \"Costa Rica\", \"Guatemala\", \"Honduras\", \"Mexico\", \"Nicaragua\", \"United States\"], \"x\": [34714222.0, 4688000.0, 14781942.0, 8640691.0, 117274155.0, 5982526.0, 313830990.0], \"y\": [52678.39012347706, 9913.209958523656, 3408.7849164023573, 2144.342611178203, 10241.727915374448, 1760.4543865498622, 51610.60527833787], \"type\": \"scatter\"}, {\"customdata\": [2.6, 2.5], \"hovertemplate\": \"<b>%{text}</b><br>\\u0412\\u0412\\u041f \\u043d\\u0430 \\u0434\\u0443\\u0448\\u0443 \\u043d\\u0430\\u0441\\u0435\\u043b\\u0435\\u043d\\u0438\\u044f: %{y}<br>\\u0427\\u0438\\u0441\\u043b\\u0435\\u043d\\u043d\\u043e\\u0441\\u0442\\u044c \\u043d\\u0430\\u0441\\u0435\\u043b\\u0435\\u043d\\u0438\\u044f: %{x}<br>\\u0421\\u0442\\u043e\\u0438\\u043c\\u043e\\u0441\\u0442\\u044c \\u0411\\u0438\\u0433 \\u041c\\u0430\\u043a\\u0430: %{customdata}$<extra></extra>\", \"marker\": {\"size\": [51350008.28225939, 49075076.25701072], \"sizemode\": \"area\", \"sizeref\": 200000}, \"mode\": \"markers\", \"name\": \"Africa\", \"text\": [\"Egypt\", \"South Africa\"], \"x\": [86422240.0, 52834005.0], \"y\": [3232.648891787947, 7501.469983952495], \"type\": \"scatter\"}], \"name\": \"2012\"}, {\"data\": [{\"customdata\": [3.8, 5.6, 4.3, 4.9, 3.9, 5.4], \"hovertemplate\": \"<b>%{text}</b><br>\\u0412\\u0412\\u041f \\u043d\\u0430 \\u0434\\u0443\\u0448\\u0443 \\u043d\\u0430\\u0441\\u0435\\u043b\\u0435\\u043d\\u0438\\u044f: %{y}<br>\\u0427\\u0438\\u0441\\u043b\\u0435\\u043d\\u043d\\u043e\\u0441\\u0442\\u044c \\u043d\\u0430\\u0441\\u0435\\u043b\\u0435\\u043d\\u0438\\u044f: %{x}<br>\\u0421\\u0442\\u043e\\u0438\\u043c\\u043e\\u0441\\u0442\\u044c \\u0411\\u0438\\u0433 \\u041c\\u0430\\u043a\\u0430: %{customdata}$<extra></extra>\", \"marker\": {\"size\": [76358886.7678087, 112875310.40710363, 86910439.85161632, 97001142.01925924, 78140261.76987693, 108921161.82572612], \"sizemode\": \"area\", \"sizeref\": 200000}, \"mode\": \"markers\", \"name\": \"South America\", \"text\": [\"Argentina\", \"Brazil\", \"Chile\", \"Colombia\", \"Peru\", \"Uruguay\"], \"x\": [42202935.0, 201035903.0, 17571507.0, 46497267.0, 29773987.0, 3389439.0], \"y\": [13080.254732336649, 12300.324882275729, 15842.940805212496, 8218.033995615655, 6756.752769265567, 16973.674213021714], \"type\": \"scatter\"}, {\"customdata\": [4.9, 4.3], \"hovertemplate\": \"<b>%{text}</b><br>\\u0412\\u0412\\u041f \\u043d\\u0430 \\u0434\\u0443\\u0448\\u0443 \\u043d\\u0430\\u0441\\u0435\\u043b\\u0435\\u043d\\u0438\\u044f: %{y}<br>\\u0427\\u0438\\u0441\\u043b\\u0435\\u043d\\u043d\\u043e\\u0441\\u0442\\u044c \\u043d\\u0430\\u0441\\u0435\\u043b\\u0435\\u043d\\u0438\\u044f: %{x}<br>\\u0421\\u0442\\u043e\\u0438\\u043c\\u043e\\u0441\\u0442\\u044c \\u0411\\u0438\\u0433 \\u041c\\u0430\\u043a\\u0430: %{customdata}$<extra></extra>\", \"marker\": {\"size\": [98009099.9676815, 86491600.02811842], \"sizemode\": \"area\", \"sizeref\": 200000}, \"mode\": \"markers\", \"name\": \"Oceania\", \"text\": [\"Australia\", \"New Zealand\"], \"x\": [23128129.0, 4442100.0], \"y\": [68150.10704132142, 42962.988214980294], \"type\": \"scatter\"}, {\"customdata\": [4.6, 0.0, 5.2, 4.2, 0.0, 3.7, 5.2, 3.7, 4.9, 5.1, 4.9, 4.9, 4.5, 3.8, 4.7, 5.2, 0.0, 0.0, 0.0, 4.7, 7.8, 2.9, 4.0, 0.0, 2.4, 0.0, 0.0, 4.7, 6.4, 7.1, 4.8, 2.3], \"hovertemplate\": \"<b>%{text}</b><br>\\u0412\\u0412\\u041f \\u043d\\u0430 \\u0434\\u0443\\u0448\\u0443 \\u043d\\u0430\\u0441\\u0435\\u043b\\u0435\\u043d\\u0438\\u044f: %{y}<br>\\u0427\\u0438\\u0441\\u043b\\u0435\\u043d\\u043d\\u043e\\u0441\\u0442\\u044c \\u043d\\u0430\\u0441\\u0435\\u043b\\u0435\\u043d\\u0438\\u044f: %{x}<br>\\u0421\\u0442\\u043e\\u0438\\u043c\\u043e\\u0441\\u0442\\u044c \\u0411\\u0438\\u0433 \\u041c\\u0430\\u043a\\u0430: %{customdata}$<extra></extra>\", \"marker\": {\"size\": [92001210.03573786, 0.0, 103128200.04006013, 84963649.96057686, 0.0, 74443171.3235547, 103675006.13865167, 73275300.02846378, 97560622.5724054, 101771250.03953303, 97700400.03795172, 98785960.0383734, 89558700.03478907, 76332595.83476935, 94715110.03679207, 104485150.04058725, 0.0, 0.0, 0.0, 93629550.03637038, 156845580.05507833, 58861578.26649417, 80060050.03109932, 0.0, 48513895.822932266, 0.0, 0.0, 94986500.03689751, 127761927.10892712, 142496985.64068836, 95547703.180212, 46660117.87819254], \"sizemode\": \"area\", \"sizeref\": 200000}, \"mode\": \"markers\", \"name\": \"Europe\", \"text\": [\"Austria\", \"Azerbaijan\", \"Belgium\", \"Britain\", \"Croatia\", \"Czech Republic\", \"Denmark\", \"Estonia\", \"Euro area\", \"Finland\", \"France\", \"Germany\", \"Greece\", \"Hungary\", \"Ireland\", \"Italy\", \"Latvia\", \"Lithuania\", \"Moldova\", \"Netherlands\", \"Norway\", \"Poland\", \"Portugal\", \"Romania\", \"Russia\", \"Slovakia\", \"Slovenia\", \"Spain\", \"Sweden\", \"Switzerland\", \"Turkey\", \"Ukraine\"], \"x\": [8479823.0, 9416801.0, 11159407.0, 64128273.0, 4255689.0, 10514272.0, 5614932.0, 1317997.0, 337302113.0, 5438972.0, 65998687.0, 80645605.0, 10965211.0, 9893082.0, 4623816.0, 60233948.0, 2012647.0, 2957689.0, 2858692.0, 16804432.0, 5079623.0, 38040196.0, 10457295.0, 19983693.0, 143506995.0, 5413393.0, 2059953.0, 46620045.0, 9600379.0, 8089346.0, 75928564.0, 45489648.0], \"y\": [50716.70870628632, 7875.756952542876, 46744.66254415158, 43444.53300195391, 13642.193664362128, 19916.019387372133, 61191.19370420283, 19174.100729108035, 39102.91308897463, 49878.04324445374, 42592.934094334174, 46285.7640688407, 21874.819504166677, 13687.246101281078, 51590.18844536287, 35549.97469729545, 15041.174458498135, 15702.143059565018, 3322.038436261497, 52184.061850493075, 102913.45084367364, 13781.062605381292, 21647.04181188692, 9555.244217331403, 15974.644627051664, 18236.98078888671, 23496.602305967273, 29059.547952232133, 61126.94319639787, 85112.46439841416, 12519.391425881911, 4029.7112516254474], \"type\": \"scatter\"}, {\"customdata\": [0.0, 2.6, 2.2, 1.7, 2.9, 4.0, 3.5, 0.0, 0.0, 0.0, 2.6, 0.0, 3.0, 2.9, 0.0, 2.9, 3.6, 3.4, 2.8, 2.9, 3.3, 0.0], \"hovertemplate\": \"<b>%{text}</b><br>\\u0412\\u0412\\u041f \\u043d\\u0430 \\u0434\\u0443\\u0448\\u0443 \\u043d\\u0430\\u0441\\u0435\\u043b\\u0435\\u043d\\u0438\\u044f: %{y}<br>\\u0427\\u0438\\u0441\\u043b\\u0435\\u043d\\u043d\\u043e\\u0441\\u0442\\u044c \\u043d\\u0430\\u0441\\u0435\\u043b\\u0435\\u043d\\u0438\\u044f: %{x}<br>\\u0421\\u0442\\u043e\\u0438\\u043c\\u043e\\u0441\\u0442\\u044c \\u0411\\u0438\\u0433 \\u041c\\u0430\\u043a\\u0430: %{customdata}$<extra></extra>\", \"marker\": {\"size\": [0.0, 51443637.06514051, 43819515.14995296, 33336454.72422511, 57208088.047094956, 80009665.59718624, 70279470.70773624, 0.0, 0.0, 0.0, 51573143.04249108, 0.0, 59386678.953565754, 58128078.81773399, 0.0, 58663537.94464295, 72883346.1554035, 68172919.68953684, 55357848.952155, 58477566.79549656, 65340793.07387594, 0.0], \"sizemode\": \"area\", \"sizeref\": 200000}, \"mode\": \"markers\", \"name\": \"Asia\", \"text\": [\"Bahrain\", \"China\", \"Hong Kong\", \"India\", \"Indonesia\", \"Israel\", \"Japan\", \"Jordan\", \"Kuwait\", \"Lebanon\", \"Malaysia\", \"Oman\", \"Pakistan\", \"Philippines\", \"Qatar\", \"Saudi Arabia\", \"Singapore\", \"South Korea\", \"Sri Lanka\", \"Thailand\", \"UAE\", \"Vietnam\"], \"x\": [1315029.0, 1357380000.0, 7178900.0, 1280846129.0, 251806402.0, 8059500.0, 127445000.0, 8520420.0, 3526376.0, 5914621.0, 29468872.0, 3764805.0, 191262919.0, 98871552.0, 2336574.0, 30052518.0, 5399162.0, 50428893.0, 20585000.0, 68144501.0, 9197910.0, 90753472.0], \"y\": [24744.29695855103, 7050.645919889632, 38403.777714547636, 1449.6059123386945, 3623.911582351341, 36309.468825688564, 40454.4474578903, 3998.0274727579863, 49388.13741193821, 7931.080475845265, 10970.123284901403, 20926.554049571118, 1208.9043102964406, 2871.430901784155, 85050.91097168204, 24844.74437094865, 56967.42579403841, 27182.734310193562, 3610.2893630489775, 6168.2629850121875, 42412.63027803642, 1886.6718963367152], \"type\": \"scatter\"}, {\"customdata\": [5.4, 4.4, 0.0, 0.0, 2.9, 0.0, 4.4], \"hovertemplate\": \"<b>%{text}</b><br>\\u0412\\u0412\\u041f \\u043d\\u0430 \\u0434\\u0443\\u0448\\u0443 \\u043d\\u0430\\u0441\\u0435\\u043b\\u0435\\u043d\\u0438\\u044f: %{y}<br>\\u0427\\u0438\\u0441\\u043b\\u0435\\u043d\\u043d\\u043e\\u0441\\u0442\\u044c \\u043d\\u0430\\u0441\\u0435\\u043b\\u0435\\u043d\\u0438\\u044f: %{x}<br>\\u0421\\u0442\\u043e\\u0438\\u043c\\u043e\\u0441\\u0442\\u044c \\u0411\\u0438\\u0433 \\u041c\\u0430\\u043a\\u0430: %{customdata}$<extra></extra>\", \"marker\": {\"size\": [107887127.33074087, 87854162.09092906, 0.0, 0.0, 58092068.07762356, 0.0, 87347916.66], \"sizemode\": \"area\", \"sizeref\": 200000}, \"mode\": \"markers\", \"name\": \"North America\", \"text\": [\"Canada\", \"Costa Rica\", \"Guatemala\", \"Honduras\", \"Mexico\", \"Nicaragua\", \"United States\"], \"x\": [35082954.0, 4742107.0, 15043981.0, 8798521.0, 118827161.0, 6062454.0, 315993715.0], \"y\": [52652.59368282785, 10490.081331293304, 3522.7736977543445, 2102.5931662649327, 10725.183316603601, 1811.6391933352731, 53117.66783083012], \"type\": \"scatter\"}, {\"customdata\": [2.4, 2.3], \"hovertemplate\": \"<b>%{text}</b><br>\\u0412\\u0412\\u041f \\u043d\\u0430 \\u0434\\u0443\\u0448\\u0443 \\u043d\\u0430\\u0441\\u0435\\u043b\\u0435\\u043d\\u0438\\u044f: %{y}<br>\\u0427\\u0438\\u0441\\u043b\\u0435\\u043d\\u043d\\u043e\\u0441\\u0442\\u044c \\u043d\\u0430\\u0441\\u0435\\u043b\\u0435\\u043d\\u0438\\u044f: %{x}<br>\\u0421\\u0442\\u043e\\u0438\\u043c\\u043e\\u0441\\u0442\\u044c \\u0411\\u0438\\u0433 \\u041c\\u0430\\u043a\\u0430: %{customdata}$<extra></extra>\", \"marker\": {\"size\": [47862992.18487082, 46203161.268928915], \"sizemode\": \"area\", \"sizeref\": 200000}, \"mode\": \"markers\", \"name\": \"Africa\", \"text\": [\"Egypt\", \"South Africa\"], \"x\": [88404640.0, 53689236.0], \"y\": [3264.3787871527675, 6832.456890967009], \"type\": \"scatter\"}], \"name\": \"2013\"}, {\"data\": [{\"customdata\": [3.0, 5.2, 3.7, 4.3, 3.6, 4.9], \"hovertemplate\": \"<b>%{text}</b><br>\\u0412\\u0412\\u041f \\u043d\\u0430 \\u0434\\u0443\\u0448\\u0443 \\u043d\\u0430\\u0441\\u0435\\u043b\\u0435\\u043d\\u0438\\u044f: %{y}<br>\\u0427\\u0438\\u0441\\u043b\\u0435\\u043d\\u043d\\u043e\\u0441\\u0442\\u044c \\u043d\\u0430\\u0441\\u0435\\u043b\\u0435\\u043d\\u0438\\u044f: %{x}<br>\\u0421\\u0442\\u043e\\u0438\\u043c\\u043e\\u0441\\u0442\\u044c \\u0411\\u0438\\u0433 \\u041c\\u0430\\u043a\\u0430: %{customdata}$<extra></extra>\", \"marker\": {\"size\": [60682680.15170671, 104949112.3759548, 73807546.82166252, 86746234.48213254, 71263139.14127918, 98222637.97942002], \"sizemode\": \"area\", \"sizeref\": 200000}, \"mode\": \"markers\", \"name\": \"South America\", \"text\": [\"Argentina\", \"Brazil\", \"Chile\", \"Colombia\", \"Peru\", \"Uruguay\"], \"x\": [42669500.0, 202763735.0, 17758959.0, 46969209.0, 30090359.0, 3400434.0], \"y\": [12334.798245389282, 12112.588205969721, 14670.996760602013, 8114.084069105443, 6672.880255485386, 16831.972944077814], \"type\": \"scatter\"}, {\"customdata\": [4.5, 4.6], \"hovertemplate\": \"<b>%{text}</b><br>\\u0412\\u0412\\u041f \\u043d\\u0430 \\u0434\\u0443\\u0448\\u0443 \\u043d\\u0430\\u0441\\u0435\\u043b\\u0435\\u043d\\u0438\\u044f: %{y}<br>\\u0427\\u0438\\u0441\\u043b\\u0435\\u043d\\u043d\\u043e\\u0441\\u0442\\u044c \\u043d\\u0430\\u0441\\u0435\\u043b\\u0435\\u043d\\u0438\\u044f: %{x}<br>\\u0421\\u0442\\u043e\\u0438\\u043c\\u043e\\u0441\\u0442\\u044c \\u0411\\u0438\\u0433 \\u041c\\u0430\\u043a\\u0430: %{customdata}$<extra></extra>\", \"marker\": {\"size\": [89470849.97541343, 91437499.9845699], \"sizemode\": \"area\", \"sizeref\": 200000}, \"mode\": \"markers\", \"name\": \"Oceania\", \"text\": [\"Australia\", \"New Zealand\"], \"x\": [23475686.0, 4509700.0], \"y\": [62510.7911705643, 44553.28221083864], \"type\": \"scatter\"}, {\"customdata\": [4.6, 0.0, 5.4, 4.6, 0.0, 3.5, 5.2, 3.8, 5.0, 5.6, 5.2, 5.0, 4.1, 3.9, 4.7, 5.2, 0.0, 3.5, 0.0, 4.7, 7.8, 3.0, 4.1, 0.0, 2.6, 0.0, 0.0, 5.0, 6.3, 7.1, 3.8, 2.3], \"hovertemplate\": \"<b>%{text}</b><br>\\u0412\\u0412\\u041f \\u043d\\u0430 \\u0434\\u0443\\u0448\\u0443 \\u043d\\u0430\\u0441\\u0435\\u043b\\u0435\\u043d\\u0438\\u044f: %{y}<br>\\u0427\\u0438\\u0441\\u043b\\u0435\\u043d\\u043d\\u043e\\u0441\\u0442\\u044c \\u043d\\u0430\\u0441\\u0435\\u043b\\u0435\\u043d\\u0438\\u044f: %{x}<br>\\u0421\\u0442\\u043e\\u0438\\u043c\\u043e\\u0441\\u0442\\u044c \\u0411\\u0438\\u0433 \\u041c\\u0430\\u043a\\u0430: %{customdata}$<extra></extra>\", \"marker\": {\"size\": [91967309.96194851, 0.0, 107159549.95566273, 92535929.99766345, 0.0, 69464301.56085153, 103609990.18431672, 75961199.96857104, 99236870.69833674, 111228899.95397903, 103090199.95734642, 99563429.95880564, 82743449.96576488, 77096492.31130578, 93866339.96116279, 104446649.95678519, 0.0, 69144338.80726017, 0.0, 93595049.96127506, 155908695.9699226, 59966106.11393559, 81386999.96632612, 0.0, 52446651.00142166, 0.0, 0.0, 99020849.95903012, 125750214.34695627, 142849293.99483544, 75169684.50841236, 45351473.922902495], \"sizemode\": \"area\", \"sizeref\": 200000}, \"mode\": \"markers\", \"name\": \"Europe\", \"text\": [\"Austria\", \"Azerbaijan\", \"Belgium\", \"Britain\", \"Croatia\", \"Czech Republic\", \"Denmark\", \"Estonia\", \"Euro area\", \"Finland\", \"France\", \"Germany\", \"Greece\", \"Hungary\", \"Ireland\", \"Italy\", \"Latvia\", \"Lithuania\", \"Moldova\", \"Netherlands\", \"Norway\", \"Poland\", \"Portugal\", \"Romania\", \"Russia\", \"Slovakia\", \"Slovenia\", \"Spain\", \"Sweden\", \"Switzerland\", \"Turkey\", \"Ukraine\"], \"x\": [8546356.0, 9535079.0, 11209057.0, 64602298.0, 4238389.0, 10525347.0, 5643475.0, 1314545.0, 338462222.0, 5461512.0, 66312067.0, 80982500.0, 10892413.0, 9866468.0, 4657740.0, 60789140.0, 1993782.0, 2932367.0, 2856950.0, 16865008.0, 5137232.0, 38011735.0, 10401062.0, 19908979.0, 143819666.0, 5418649.0, 2061980.0, 46480882.0, 9696110.0, 8188649.0, 77231907.0, 45272156.0], \"y\": [51717.495940551504, 7891.313147499858, 47700.540360117804, 47425.607680519504, 13600.194390748018, 19744.558609215925, 62548.98473329074, 20367.102656679916, 39857.29176355995, 50260.29985889585, 43011.26310284175, 47959.99327375989, 21760.97979949181, 14246.109801447083, 55492.98267621292, 35518.41529167496, 15740.326749071914, 16548.40640523857, 3328.801448921252, 52830.17423280546, 97019.18275274623, 14347.91457544561, 22074.30076342156, 10026.973578179422, 14318.22241536029, 18670.93017112273, 24214.92207172732, 29461.550333738935, 60020.36045765724, 86605.56337624203, 12095.854571813537, 2948.907743111218], \"type\": \"scatter\"}, {\"customdata\": [0.0, 2.7, 2.3, 1.5, 2.3, 5.0, 3.0, 0.0, 0.0, 0.0, 2.2, 0.0, 3.0, 3.0, 0.0, 2.9, 3.6, 3.5, 2.7, 2.9, 3.3, 2.8], \"hovertemplate\": \"<b>%{text}</b><br>\\u0412\\u0412\\u041f \\u043d\\u0430 \\u0434\\u0443\\u0448\\u0443 \\u043d\\u0430\\u0441\\u0435\\u043b\\u0435\\u043d\\u0438\\u044f: %{y}<br>\\u0427\\u0438\\u0441\\u043b\\u0435\\u043d\\u043d\\u043e\\u0441\\u0442\\u044c \\u043d\\u0430\\u0441\\u0435\\u043b\\u0435\\u043d\\u0438\\u044f: %{x}<br>\\u0421\\u0442\\u043e\\u0438\\u043c\\u043e\\u0441\\u0442\\u044c \\u0411\\u0438\\u0433 \\u041c\\u0430\\u043a\\u0430: %{customdata}$<extra></extra>\", \"marker\": {\"size\": [0.0, 54864244.04673376, 46404609.5245461, 30721966.20583717, 46028006.58978583, 100338283.3553122, 59475274.59350568, 0.0, 0.0, 0.0, 44531367.53422597, 0.0, 60712422.33078784, 59694892.77028521, 0.0, 58660409.556314, 71939633.26426086, 69333833.0366345, 53516819.57186543, 58403041.82509506, 65341682.54832561, 56523787.09373528], \"sizemode\": \"area\", \"sizeref\": 200000}, \"mode\": \"markers\", \"name\": \"Asia\", \"text\": [\"Bahrain\", \"China\", \"Hong Kong\", \"India\", \"Indonesia\", \"Israel\", \"Japan\", \"Jordan\", \"Kuwait\", \"Lebanon\", \"Malaysia\", \"Oman\", \"Pakistan\", \"Philippines\", \"Qatar\", \"Saudi Arabia\", \"Singapore\", \"South Korea\", \"Sri Lanka\", \"Thailand\", \"UAE\", \"Vietnam\"], \"x\": [1336075.0, 1364270000.0, 7229500.0, 1295604184.0, 255129004.0, 8215700.0, 127276000.0, 8920049.0, 3690941.0, 6262410.0, 29866559.0, 4027260.0, 195306825.0, 100513138.0, 2459198.0, 30916994.0, 5469724.0, 50746659.0, 20778000.0, 68438730.0, 9214175.0, 91714595.0], \"y\": [24989.400120470335, 7678.599431661034, 40315.285564055186, 1573.881492110518, 3491.6247908576674, 37678.8897743182, 38109.41211255728, 4072.765475350393, 44062.317037520785, 7686.25602996455, 11319.079757275555, 20131.916722258236, 1251.1641042283443, 2959.6484521205075, 83858.52837987222, 24463.903163850086, 57562.530793767844, 29249.57522097425, 3819.253529722644, 5951.883702336046, 43751.83888607216, 2030.2619547331806], \"type\": \"scatter\"}, {\"customdata\": [5.0, 4.3, 0.0, 0.0, 2.8, 0.0, 4.6], \"hovertemplate\": \"<b>%{text}</b><br>\\u0412\\u0412\\u041f \\u043d\\u0430 \\u0434\\u0443\\u0448\\u0443 \\u043d\\u0430\\u0441\\u0435\\u043b\\u0435\\u043d\\u0438\\u044f: %{y}<br>\\u0427\\u0438\\u0441\\u043b\\u0435\\u043d\\u043d\\u043e\\u0441\\u0442\\u044c \\u043d\\u0430\\u0441\\u0435\\u043b\\u0435\\u043d\\u0438\\u044f: %{x}<br>\\u0421\\u0442\\u043e\\u0438\\u043c\\u043e\\u0441\\u0442\\u044c \\u0411\\u0438\\u0433 \\u041c\\u0430\\u043a\\u0430: %{customdata}$<extra></extra>\", \"marker\": {\"size\": [100262419.69052574, 85671023.27064073, 0.0, 0.0, 55502428.23123512, 0.0, 92483333.34], \"sizemode\": \"area\", \"sizeref\": 200000}, \"mode\": \"markers\", \"name\": \"North America\", \"text\": [\"Canada\", \"Costa Rica\", \"Guatemala\", \"Honduras\", \"Mexico\", \"Nicaragua\", \"United States\"], \"x\": [35437435.0, 4795396.0, 15306316.0, 8955589.0, 120355128.0, 6142733.0, 318301008.0], \"y\": [50893.44671375481, 10547.151859355557, 3779.6423276808414, 2206.051934127738, 10922.376048864657, 1934.0695083466433, 55047.7255604544], \"type\": \"scatter\"}, {\"customdata\": [2.4, 2.2], \"hovertemplate\": \"<b>%{text}</b><br>\\u0412\\u0412\\u041f \\u043d\\u0430 \\u0434\\u0443\\u0448\\u0443 \\u043d\\u0430\\u0441\\u0435\\u043b\\u0435\\u043d\\u0438\\u044f: %{y}<br>\\u0427\\u0438\\u0441\\u043b\\u0435\\u043d\\u043d\\u043e\\u0441\\u0442\\u044c \\u043d\\u0430\\u0441\\u0435\\u043b\\u0435\\u043d\\u0438\\u044f: %{x}<br>\\u0421\\u0442\\u043e\\u0438\\u043c\\u043e\\u0441\\u0442\\u044c \\u0411\\u0438\\u0433 \\u041c\\u0430\\u043a\\u0430: %{customdata}$<extra></extra>\", \"marker\": {\"size\": [48642436.43154719, 43207861.99225017], \"sizemode\": \"area\", \"sizeref\": 200000}, \"mode\": \"markers\", \"name\": \"Africa\", \"text\": [\"Egypt\", \"South Africa\"], \"x\": [90424654.0, 54545991.0], \"y\": [3378.8313578555467, 6433.187276628946], \"type\": \"scatter\"}], \"name\": \"2014\"}, {\"data\": [{\"customdata\": [3.3, 5.2, 3.3, 3.3, 3.3, 4.6], \"hovertemplate\": \"<b>%{text}</b><br>\\u0412\\u0412\\u041f \\u043d\\u0430 \\u0434\\u0443\\u0448\\u0443 \\u043d\\u0430\\u0441\\u0435\\u043b\\u0435\\u043d\\u0438\\u044f: %{y}<br>\\u0427\\u0438\\u0441\\u043b\\u0435\\u043d\\u043d\\u043e\\u0441\\u0442\\u044c \\u043d\\u0430\\u0441\\u0435\\u043b\\u0435\\u043d\\u0438\\u044f: %{x}<br>\\u0421\\u0442\\u043e\\u0438\\u043c\\u043e\\u0441\\u0442\\u044c \\u0411\\u0438\\u0433 \\u041c\\u0430\\u043a\\u0430: %{customdata}$<extra></extra>\", \"marker\": {\"size\": [65040650.40650407, 104136534.5675441, 66933870.92918556, 66808175.96766146, 66489361.70212766, 92528147.38996929], \"sizemode\": \"area\", \"sizeref\": 200000}, \"mode\": \"markers\", \"name\": \"South America\", \"text\": [\"Argentina\", \"Brazil\", \"Chile\", \"Colombia\", \"Peru\", \"Uruguay\"], \"x\": [43131966.0, 204471769.0, 17969353.0, 47520667.0, 30470734.0, 3412009.0], \"y\": [13789.060424772013, 8814.00098681261, 13574.171830724012, 6175.8761315128, 6229.101696125961, 15613.76427264289], \"type\": \"scatter\"}, {\"customdata\": [4.3, 4.5], \"hovertemplate\": \"<b>%{text}</b><br>\\u0412\\u0412\\u041f \\u043d\\u0430 \\u0434\\u0443\\u0448\\u0443 \\u043d\\u0430\\u0441\\u0435\\u043b\\u0435\\u043d\\u0438\\u044f: %{y}<br>\\u0427\\u0438\\u0441\\u043b\\u0435\\u043d\\u043d\\u043e\\u0441\\u0442\\u044c \\u043d\\u0430\\u0441\\u0435\\u043b\\u0435\\u043d\\u0438\\u044f: %{x}<br>\\u0421\\u0442\\u043e\\u0438\\u043c\\u043e\\u0441\\u0442\\u044c \\u0411\\u0438\\u0433 \\u041c\\u0430\\u043a\\u0430: %{customdata}$<extra></extra>\", \"marker\": {\"size\": [86374099.9784151, 89851100.02105212], \"sizemode\": \"area\", \"sizeref\": 200000}, \"mode\": \"markers\", \"name\": \"Oceania\", \"text\": [\"Australia\", \"New Zealand\"], \"x\": [23815995.0, 4595700.0], \"y\": [56755.72171242478, 38615.99518490937], \"type\": \"scatter\"}, {\"customdata\": [3.9, 0.0, 4.3, 4.4, 0.0, 2.9, 5.4, 3.4, 4.3, 4.8, 4.5, 4.3, 3.5, 3.2, 4.0, 4.5, 0.0, 0.0, 0.0, 4.0, 6.3, 2.5, 3.5, 0.0, 1.4, 0.0, 0.0, 4.2, 5.0, 7.5, 4.0, 1.2], \"hovertemplate\": \"<b>%{text}</b><br>\\u0412\\u0412\\u041f \\u043d\\u0430 \\u0434\\u0443\\u0448\\u0443 \\u043d\\u0430\\u0441\\u0435\\u043b\\u0435\\u043d\\u0438\\u044f: %{y}<br>\\u0427\\u0438\\u0441\\u043b\\u0435\\u043d\\u043d\\u043e\\u0441\\u0442\\u044c \\u043d\\u0430\\u0441\\u0435\\u043b\\u0435\\u043d\\u0438\\u044f: %{x}<br>\\u0421\\u0442\\u043e\\u0438\\u043c\\u043e\\u0441\\u0442\\u044c \\u0411\\u0438\\u0433 \\u041c\\u0430\\u043a\\u0430: %{customdata}$<extra></extra>\", \"marker\": {\"size\": [78556470.03577462, 0.0, 85740100.03904603, 87364699.94806169, 0.0, 58384179.503382266, 107520179.5119519, 67201700.03060365, 85276640.03883497, 95009300.04326722, 90374700.04115663, 85044910.03872944, 70677650.03218658, 63376621.65391244, 80873770.03682992, 89216050.04062898, 0.0, 0.0, 0.0, 79946850.03640778, 125942932.10888816, 49641180.59677333, 69519000.03165895, 0.0, 27289312.707927696, 0.0, 0.0, 84581450.03851838, 99371906.07279544, 150873324.43567574, 79281750.19820437, 24017191.25268613], \"sizemode\": \"area\", \"sizeref\": 200000}, \"mode\": \"markers\", \"name\": \"Europe\", \"text\": [\"Austria\", \"Azerbaijan\", \"Belgium\", \"Britain\", \"Croatia\", \"Czech Republic\", \"Denmark\", \"Estonia\", \"Euro area\", \"Finland\", \"France\", \"Germany\", \"Greece\", \"Hungary\", \"Ireland\", \"Italy\", \"Latvia\", \"Lithuania\", \"Moldova\", \"Netherlands\", \"Norway\", \"Poland\", \"Portugal\", \"Romania\", \"Russia\", \"Slovakia\", \"Slovenia\", \"Spain\", \"Sweden\", \"Switzerland\", \"Turkey\", \"Ukraine\"], \"x\": [8642699.0, 9649341.0, 11274196.0, 65116219.0, 4203604.0, 10546059.0, 5683483.0, 1315407.0, 339488380.0, 5479531.0, 66548272.0, 81686611.0, 10820883.0, 9843028.0, 4701957.0, 60730582.0, 1977527.0, 2904910.0, 2834530.0, 16939923.0, 5188607.0, 37986412.0, 10358076.0, 19815616.0, 144096870.0, 5423801.0, 2063531.0, 46444832.0, 9799186.0, 8282396.0, 78529409.0, 45154036.0], \"y\": [44178.04737774322, 5500.310382444075, 40991.80813814324, 44974.83187717809, 11782.899079982892, 17715.616852300842, 53254.85600396306, 17522.23018625201, 34381.554791241455, 42784.69836164318, 36638.18492915699, 41139.54456855335, 18167.773716916265, 12651.568342300357, 61995.42277899288, 30230.226302129628, 13698.937947647591, 14249.114966602649, 2732.4571129373303, 45175.23189337986, 74355.51585756427, 12572.426604556123, 19242.36647109811, 8977.43738227169, 9462.253159605549, 16309.073235591975, 20881.766768694677, 25732.018364745512, 51545.48360953216, 82081.59712397923, 10948.724606902657, 2016.0093652469095], \"type\": \"scatter\"}, {\"customdata\": [0.0, 2.8, 2.4, 1.9, 2.2, 4.4, 3.1, 0.0, 0.0, 0.0, 2.1, 0.0, 3.0, 3.7, 0.0, 2.9, 3.5, 3.8, 2.7, 3.0, 3.5, 2.8], \"hovertemplate\": \"<b>%{text}</b><br>\\u0412\\u0412\\u041f \\u043d\\u0430 \\u0434\\u0443\\u0448\\u0443 \\u043d\\u0430\\u0441\\u0435\\u043b\\u0435\\u043d\\u0438\\u044f: %{y}<br>\\u0427\\u0438\\u0441\\u043b\\u0435\\u043d\\u043d\\u043e\\u0441\\u0442\\u044c \\u043d\\u0430\\u0441\\u0435\\u043b\\u0435\\u043d\\u0438\\u044f: %{x}<br>\\u0421\\u0442\\u043e\\u0438\\u043c\\u043e\\u0441\\u0442\\u044c \\u0411\\u0438\\u0433 \\u041c\\u0430\\u043a\\u0430: %{customdata}$<extra></extra>\", \"marker\": {\"size\": [0.0, 55381147.87088465, 48507679.30747547, 37734317.94205956, 44774038.461538464, 88964579.38817787, 62837005.901583664, 0.0, 0.0, 0.0, 42207163.601161666, 0.0, 59562217.69990569, 73406890.34001352, 0.0, 58558918.257073656, 70509695.08307391, 75694636.75805409, 53080568.720379144, 60726882.38000307, 70785859.1633656, 56127221.70252573], \"sizemode\": \"area\", \"sizeref\": 200000}, \"mode\": \"markers\", \"name\": \"Asia\", \"text\": [\"Bahrain\", \"China\", \"Hong Kong\", \"India\", \"Indonesia\", \"Israel\", \"Japan\", \"Jordan\", \"Kuwait\", \"Lebanon\", \"Malaysia\", \"Oman\", \"Pakistan\", \"Philippines\", \"Qatar\", \"Saudi Arabia\", \"Singapore\", \"South Korea\", \"Sri Lanka\", \"Thailand\", \"UAE\", \"Vietnam\"], \"x\": [1371851.0, 1371220000.0, 7291300.0, 1310152403.0, 258383256.0, 8380100.0, 127141000.0, 9266575.0, 3835591.0, 6532678.0, 30270962.0, 4267348.0, 199426964.0, 102113212.0, 2565710.0, 31717667.0, 5535002.0, 51014947.0, 20970000.0, 68714511.0, 9262900.0, 92677076.0], \"y\": [22688.944399814412, 8066.94242356748, 42431.88828172768, 1605.605433554878, 3331.6951275862825, 35776.79517101717, 34524.46986093369, 4105.448960832379, 29869.52939082478, 7644.548657182108, 9955.242126536117, 16028.751364553207, 1356.6677558264942, 3001.040371068565, 63039.01655480744, 20627.932782067484, 55646.618746950415, 28732.231076259864, 3843.780671844421, 5840.046522943255, 38663.38380663637, 2085.1014840987864], \"type\": \"scatter\"}, {\"customdata\": [4.6, 4.0, 0.0, 0.0, 3.3, 0.0, 4.8], \"hovertemplate\": \"<b>%{text}</b><br>\\u0412\\u0412\\u041f \\u043d\\u0430 \\u0434\\u0443\\u0448\\u0443 \\u043d\\u0430\\u0441\\u0435\\u043b\\u0435\\u043d\\u0438\\u044f: %{y}<br>\\u0427\\u0438\\u0441\\u043b\\u0435\\u043d\\u043d\\u043e\\u0441\\u0442\\u044c \\u043d\\u0430\\u0441\\u0435\\u043b\\u0435\\u043d\\u0438\\u044f: %{x}<br>\\u0421\\u0442\\u043e\\u0438\\u043c\\u043e\\u0441\\u0442\\u044c \\u0411\\u0438\\u0433 \\u041c\\u0430\\u043a\\u0430: %{customdata}$<extra></extra>\", \"marker\": {\"size\": [92792316.14504905, 80210412.43074857, 0.0, 0.0, 66997094.51375833, 0.0, 95800000.0], \"sizemode\": \"area\", \"sizeref\": 200000}, \"mode\": \"markers\", \"name\": \"North America\", \"text\": [\"Canada\", \"Costa Rica\", \"Guatemala\", \"Honduras\", \"Mexico\", \"Nicaragua\", \"United States\"], \"x\": [35702908.0, 4847804.0, 15567419.0, 9112916.0, 121858258.0, 6223240.0, 320635163.0], \"y\": [43585.51198177499, 11299.135542301112, 3994.6369128847437, 2302.2013793620395, 9605.952351031392, 2049.849689761491, 56822.518820245554], \"type\": \"scatter\"}, {\"customdata\": [2.3, 2.2], \"hovertemplate\": \"<b>%{text}</b><br>\\u0412\\u0412\\u041f \\u043d\\u0430 \\u0434\\u0443\\u0448\\u0443 \\u043d\\u0430\\u0441\\u0435\\u043b\\u0435\\u043d\\u0438\\u044f: %{y}<br>\\u0427\\u0438\\u0441\\u043b\\u0435\\u043d\\u043d\\u043e\\u0441\\u0442\\u044c \\u043d\\u0430\\u0441\\u0435\\u043b\\u0435\\u043d\\u0438\\u044f: %{x}<br>\\u0421\\u0442\\u043e\\u0438\\u043c\\u043e\\u0441\\u0442\\u044c \\u0411\\u0438\\u0433 \\u041c\\u0430\\u043a\\u0430: %{customdata}$<extra></extra>\", \"marker\": {\"size\": [46067713.82507602, 44429924.861156486], \"sizemode\": \"area\", \"sizeref\": 200000}, \"mode\": \"markers\", \"name\": \"Africa\", \"text\": [\"Egypt\", \"South Africa\"], \"x\": [92442547.0, 55386367.0], \"y\": [3598.970948202098, 5734.633629153307], \"type\": \"scatter\"}], \"name\": \"2015\"}, {\"data\": [{\"customdata\": [2.4, 3.4, 2.9, 2.4, 2.9, 3.7], \"hovertemplate\": \"<b>%{text}</b><br>\\u0412\\u0412\\u041f \\u043d\\u0430 \\u0434\\u0443\\u0448\\u0443 \\u043d\\u0430\\u0441\\u0435\\u043b\\u0435\\u043d\\u0438\\u044f: %{y}<br>\\u0427\\u0438\\u0441\\u043b\\u0435\\u043d\\u043d\\u043e\\u0441\\u0442\\u044c \\u043d\\u0430\\u0441\\u0435\\u043b\\u0435\\u043d\\u0438\\u044f: %{x}<br>\\u0421\\u0442\\u043e\\u0438\\u043c\\u043e\\u0441\\u0442\\u044c \\u0411\\u0438\\u0433 \\u041c\\u0430\\u043a\\u0430: %{customdata}$<extra></extra>\", \"marker\": {\"size\": [47794051.08894401, 67084078.711985685, 58723600.595625095, 48557116.0760933, 58513750.73142188, 74871624.97929434], \"sizemode\": \"area\", \"sizeref\": 200000}, \"mode\": \"markers\", \"name\": \"South America\", \"text\": [\"Argentina\", \"Brazil\", \"Chile\", \"Colombia\", \"Peru\", \"Uruguay\"], \"x\": [43590368.0, 206163058.0, 18209068.0, 48171392.0, 30926032.0, 3424132.0], \"y\": [12790.242473244709, 8710.096689541198, 13753.594437459786, 5871.2235753588975, 6204.997260039277, 15387.144029944639], \"type\": \"scatter\"}, {\"customdata\": [3.7, 3.9], \"hovertemplate\": \"<b>%{text}</b><br>\\u0412\\u0412\\u041f \\u043d\\u0430 \\u0434\\u0443\\u0448\\u0443 \\u043d\\u0430\\u0441\\u0435\\u043b\\u0435\\u043d\\u0438\\u044f: %{y}<br>\\u0427\\u0438\\u0441\\u043b\\u0435\\u043d\\u043d\\u043e\\u0441\\u0442\\u044c \\u043d\\u0430\\u0441\\u0435\\u043b\\u0435\\u043d\\u0438\\u044f: %{x}<br>\\u0421\\u0442\\u043e\\u0438\\u043c\\u043e\\u0441\\u0442\\u044c \\u0411\\u0438\\u0433 \\u041c\\u0430\\u043a\\u0430: %{customdata}$<extra></extra>\", \"marker\": {\"size\": [74873100.01968414, 78245799.98345102], \"sizemode\": \"area\", \"sizeref\": 200000}, \"mode\": \"markers\", \"name\": \"Oceania\", \"text\": [\"Australia\", \"New Zealand\"], \"x\": [24190907.0, 4693200.0], \"y\": [49971.13145612895, 40105.61338671354], \"type\": \"scatter\"}, {\"customdata\": [3.8, 0.0, 4.2, 4.2, 0.0, 3.0, 4.3, 3.2, 4.0, 4.4, 4.4, 3.9, 3.6, 3.1, 4.2, 4.3, 0.0, 0.0, 0.0, 3.7, 5.2, 2.4, 3.2, 0.0, 1.5, 0.0, 0.0, 3.8, 5.2, 6.4, 3.4, 1.5], \"hovertemplate\": \"<b>%{text}</b><br>\\u0412\\u0412\\u041f \\u043d\\u0430 \\u0434\\u0443\\u0448\\u0443 \\u043d\\u0430\\u0441\\u0435\\u043b\\u0435\\u043d\\u0438\\u044f: %{y}<br>\\u0427\\u0438\\u0441\\u043b\\u0435\\u043d\\u043d\\u043e\\u0441\\u0442\\u044c \\u043d\\u0430\\u0441\\u0435\\u043b\\u0435\\u043d\\u0438\\u044f: %{x}<br>\\u0421\\u0442\\u043e\\u0438\\u043c\\u043e\\u0441\\u0442\\u044c \\u0411\\u0438\\u0433 \\u041c\\u0430\\u043a\\u0430: %{customdata}$<extra></extra>\", \"marker\": {\"size\": [75250000.01128751, 0.0, 84925000.01273876, 84437130.04640242, 0.0, 59655904.74145131, 86449103.09055543, 64500000.009675, 79980000.01199701, 88150000.0132225, 88150000.0132225, 77185000.01157776, 72025000.01080376, 61500814.62954044, 84925000.01273876, 86000000.01290001, 0.0, 0.0, 0.0, 74175000.01112626, 104293760.7594725, 47434345.43073844, 64500000.009675, 0.0, 30540486.23668877, 0.0, 0.0, 75250000.01128751, 104628655.46365026, 128865979.3814433, 68115364.16799575, 30835117.77301927], \"sizemode\": \"area\", \"sizeref\": 200000}, \"mode\": \"markers\", \"name\": \"Europe\", \"text\": [\"Austria\", \"Azerbaijan\", \"Belgium\", \"Britain\", \"Croatia\", \"Czech Republic\", \"Denmark\", \"Estonia\", \"Euro area\", \"Finland\", \"France\", \"Germany\", \"Greece\", \"Hungary\", \"Ireland\", \"Italy\", \"Latvia\", \"Lithuania\", \"Moldova\", \"Netherlands\", \"Norway\", \"Poland\", \"Portugal\", \"Romania\", \"Russia\", \"Slovakia\", \"Slovenia\", \"Spain\", \"Sweden\", \"Switzerland\", \"Turkey\", \"Ukraine\"], \"x\": [8736668.0, 9757812.0, 11331422.0, 65611593.0, 4174349.0, 10566332.0, 5728010.0, 1315790.0, 340481753.0, 5495303.0, 66724104.0, 82348669.0, 10775971.0, 9814023.0, 4755335.0, 60627498.0, 1959537.0, 2868231.0, 2802170.0, 17030314.0, 5234519.0, 37970087.0, 10325452.0, 19702267.0, 144342396.0, 5430798.0, 2065042.0, 46484062.0, 9923085.0, 8373338.0, 79821724.0, 45004674.0], \"y\": [45237.80509215436, 3880.7387308955635, 41998.33575023893, 41064.13343162221, 12360.483816491913, 18463.38657565643, 54663.998371919566, 18237.295843268224, 35142.31547190724, 43784.28396220972, 37037.37418612201, 42098.920445354495, 18116.45962233352, 12992.375667514942, 63197.08237441947, 30939.71424622982, 14153.414922691636, 14999.479639132936, 2880.439281292955, 46007.852920654725, 70459.18250410285, 12431.815891623133, 19978.40121496802, 9567.129344847423, 8845.543752937356, 16505.97504655607, 21622.580683575976, 26505.34321552041, 51965.15715319853, 80172.23207479515, 10820.633842210813, 2074.362179103979], \"type\": \"scatter\"}, {\"customdata\": [0.0, 2.7, 2.5, 1.9, 2.2, 4.3, 3.1, 0.0, 0.0, 0.0, 1.8, 0.0, 2.9, 2.8, 0.0, 3.2, 3.3, 3.6, 2.4, 3.1, 3.5, 2.7], \"hovertemplate\": \"<b>%{text}</b><br>\\u0412\\u0412\\u041f \\u043d\\u0430 \\u0434\\u0443\\u0448\\u0443 \\u043d\\u0430\\u0441\\u0435\\u043b\\u0435\\u043d\\u0438\\u044f: %{y}<br>\\u0427\\u0438\\u0441\\u043b\\u0435\\u043d\\u043d\\u043e\\u0441\\u0442\\u044c \\u043d\\u0430\\u0441\\u0435\\u043b\\u0435\\u043d\\u0438\\u044f: %{x}<br>\\u0421\\u0442\\u043e\\u0438\\u043c\\u043e\\u0441\\u0442\\u044c \\u0411\\u0438\\u0433 \\u041c\\u0430\\u043a\\u0430: %{customdata}$<extra></extra>\", \"marker\": {\"size\": [0.0, 53673264.00536733, 49533367.301527925, 38022529.09696494, 43735436.45814662, 85763946.15648113, 62370938.51405454, 0.0, 0.0, 0.0, 36425725.66875356, 0.0, 57205510.797540165, 55718007.33691318, 0.0, 63926697.38699624, 65402678.726735085, 71801294.09309122, 48594238.11176675, 61844284.92545555, 70784895.592279, 53410481.80705464], \"sizemode\": \"area\", \"sizeref\": 200000}, \"mode\": \"markers\", \"name\": \"Asia\", \"text\": [\"Bahrain\", \"China\", \"Hong Kong\", \"India\", \"Indonesia\", \"Israel\", \"Japan\", \"Jordan\", \"Kuwait\", \"Lebanon\", \"Malaysia\", \"Oman\", \"Pakistan\", \"Philippines\", \"Qatar\", \"Saudi Arabia\", \"Singapore\", \"South Korea\", \"Sri Lanka\", \"Thailand\", \"UAE\", \"Vietnam\"], \"x\": [1425791.0, 1378665000.0, 7336600.0, 1324509589.0, 261554226.0, 8546000.0, 126994511.0, 9551467.0, 3956875.0, 6711121.0, 30684804.0, 4479219.0, 203627284.0, 103663927.0, 2654374.0, 32442572.0, 5607283.0, 51217803.0, 21203000.0, 68971331.0, 9360980.0, 93638724.0], \"y\": [22619.11667188487, 8147.938147782238, 43731.106824529896, 1732.5642617842761, 3562.845756419711, 37321.62403668454, 38761.81815019249, 4103.733599910674, 27653.066767764965, 7629.891117119524, 9817.740860962154, 14618.875376109763, 1368.4543262762863, 3073.653614969583, 57163.060991835744, 19879.29753041775, 56828.295347160114, 29288.8704389833, 3886.291501652389, 5994.231475471555, 38141.8467585491, 2192.2145386656593], \"type\": \"scatter\"}, {\"customdata\": [4.1, 4.0, 0.0, 0.0, 2.8, 0.0, 4.9], \"hovertemplate\": \"<b>%{text}</b><br>\\u0412\\u0412\\u041f \\u043d\\u0430 \\u0434\\u0443\\u0448\\u0443 \\u043d\\u0430\\u0441\\u0435\\u043b\\u0435\\u043d\\u0438\\u044f: %{y}<br>\\u0427\\u0438\\u0441\\u043b\\u0435\\u043d\\u043d\\u043e\\u0441\\u0442\\u044c \\u043d\\u0430\\u0441\\u0435\\u043b\\u0435\\u043d\\u0438\\u044f: %{x}<br>\\u0421\\u0442\\u043e\\u0438\\u043c\\u043e\\u0441\\u0442\\u044c \\u0411\\u0438\\u0433 \\u041c\\u0430\\u043a\\u0430: %{customdata}$<extra></extra>\", \"marker\": {\"size\": [82883905.76213454, 80336291.45259224, 0.0, 0.0, 56203134.18498287, 0.0, 98600000.0], \"sizemode\": \"area\", \"sizeref\": 200000}, \"mode\": \"markers\", \"name\": \"North America\", \"text\": [\"Canada\", \"Costa Rica\", \"Guatemala\", \"Honduras\", \"Mexico\", \"Nicaragua\", \"United States\"], \"x\": [36109487.0, 4899345.0, 15827690.0, 9270795.0, 123333376.0, 6303974.0, 322941311.0], \"y\": [42322.48478030386, 11666.455910775929, 4173.301666194739, 2342.5846511956743, 8739.756042809287, 2107.5671799242828, 57927.51685150619], \"type\": \"scatter\"}, {\"customdata\": [2.2, 1.8], \"hovertemplate\": \"<b>%{text}</b><br>\\u0412\\u0412\\u041f \\u043d\\u0430 \\u0434\\u0443\\u0448\\u0443 \\u043d\\u0430\\u0441\\u0435\\u043b\\u0435\\u043d\\u0438\\u044f: %{y}<br>\\u0427\\u0438\\u0441\\u043b\\u0435\\u043d\\u043d\\u043e\\u0441\\u0442\\u044c \\u043d\\u0430\\u0441\\u0435\\u043b\\u0435\\u043d\\u0438\\u044f: %{x}<br>\\u0421\\u0442\\u043e\\u0438\\u043c\\u043e\\u0441\\u0442\\u044c \\u0411\\u0438\\u0433 \\u041c\\u0430\\u043a\\u0430: %{customdata}$<extra></extra>\", \"marker\": {\"size\": [43243657.44790902, 35412220.37783574], \"sizemode\": \"area\", \"sizeref\": 200000}, \"mode\": \"markers\", \"name\": \"Africa\", \"text\": [\"Egypt\", \"South Africa\"], \"x\": [94447072.0, 56203654.0], \"y\": [3525.020164500579, 5272.918424754181], \"type\": \"scatter\"}], \"name\": \"2016\"}, {\"data\": [{\"customdata\": [3.5, 5.1, 3.6, 3.3, 3.2, 4.4], \"hovertemplate\": \"<b>%{text}</b><br>\\u0412\\u0412\\u041f \\u043d\\u0430 \\u0434\\u0443\\u0448\\u0443 \\u043d\\u0430\\u0441\\u0435\\u043b\\u0435\\u043d\\u0438\\u044f: %{y}<br>\\u0427\\u0438\\u0441\\u043b\\u0435\\u043d\\u043d\\u043e\\u0441\\u0442\\u044c \\u043d\\u0430\\u0441\\u0435\\u043b\\u0435\\u043d\\u0438\\u044f: %{x}<br>\\u0421\\u0442\\u043e\\u0438\\u043c\\u043e\\u0441\\u0442\\u044c \\u0411\\u0438\\u0433 \\u041c\\u0430\\u043a\\u0430: %{customdata}$<extra></extra>\", \"marker\": {\"size\": [69367807.03137317, 102358907.55129577, 72829423.08692713, 66118462.24485537, 64841286.21533202, 87032201.91470845], \"sizemode\": \"area\", \"sizeref\": 200000}, \"mode\": \"markers\", \"name\": \"South America\", \"text\": [\"Argentina\", \"Brazil\", \"Chile\", \"Colombia\", \"Peru\", \"Uruguay\"], \"x\": [44044811.0, 207833831.0, 18470439.0, 48901066.0, 31444297.0, 3436646.0], \"y\": [14591.863381054127, 9925.386237700395, 14999.37008855117, 6377.851363036646, 6710.5080289603875, 17322.14738911657], \"type\": \"scatter\"}, {\"customdata\": [4.3, 4.2], \"hovertemplate\": \"<b>%{text}</b><br>\\u0412\\u0412\\u041f \\u043d\\u0430 \\u0434\\u0443\\u0448\\u0443 \\u043d\\u0430\\u0441\\u0435\\u043b\\u0435\\u043d\\u0438\\u044f: %{y}<br>\\u0427\\u0438\\u0441\\u043b\\u0435\\u043d\\u043d\\u043e\\u0441\\u0442\\u044c \\u043d\\u0430\\u0441\\u0435\\u043b\\u0435\\u043d\\u0438\\u044f: %{x}<br>\\u0421\\u0442\\u043e\\u0438\\u043c\\u043e\\u0441\\u0442\\u044c \\u0411\\u0438\\u0433 \\u041c\\u0430\\u043a\\u0430: %{customdata}$<extra></extra>\", \"marker\": {\"size\": [85503600.02109374, 83706000.0021345], \"sizemode\": \"area\", \"sizeref\": 200000}, \"mode\": \"markers\", \"name\": \"Oceania\", \"text\": [\"Australia\", \"New Zealand\"], \"x\": [24601860.0, 4793900.0], \"y\": [54066.4712686118, 42849.42632470097], \"type\": \"scatter\"}, {\"customdata\": [3.6, 0.0, 4.1, 3.7, 0.0, 2.9, 4.2, 3.2, 4.1, 4.8, 4.3, 4.0, 3.5, 3.1, 4.2, 4.4, 0.0, 0.0, 0.0, 3.8, 5.7, 2.3, 3.2, 0.0, 2.2, 0.0, 0.0, 4.1, 5.3, 6.4, 2.7, 1.5], \"hovertemplate\": \"<b>%{text}</b><br>\\u0412\\u0412\\u041f \\u043d\\u0430 \\u0434\\u0443\\u0448\\u0443 \\u043d\\u0430\\u0441\\u0435\\u043b\\u0435\\u043d\\u0438\\u044f: %{y}<br>\\u0427\\u0438\\u0441\\u043b\\u0435\\u043d\\u043d\\u043e\\u0441\\u0442\\u044c \\u043d\\u0430\\u0441\\u0435\\u043b\\u0435\\u043d\\u0438\\u044f: %{x}<br>\\u0421\\u0442\\u043e\\u0438\\u043c\\u043e\\u0441\\u0442\\u044c \\u0411\\u0438\\u0433 \\u041c\\u0430\\u043a\\u0430: %{customdata}$<extra></extra>\", \"marker\": {\"size\": [71185800.03415494, 0.0, 82701150.03968002, 74567880.04011752, 0.0, 58113068.66059062, 84492166.87202957, 64904700.03114128, 81235560.0389768, 95263350.04570735, 85841700.04118684, 79351230.03807272, 70138950.03365266, 61096229.27649845, 83748000.04018229, 87935400.0421914, 0.0, 0.0, 0.0, 75582570.03626451, 113316412.95738493, 46019438.41904054, 63857850.03063899, 0.0, 43019648.39710445, 0.0, 0.0, 82701150.03968002, 105210667.92334965, 127002735.44353262, 54971044.322002485, 30842665.687534425], \"sizemode\": \"area\", \"sizeref\": 200000}, \"mode\": \"markers\", \"name\": \"Europe\", \"text\": [\"Austria\", \"Azerbaijan\", \"Belgium\", \"Britain\", \"Croatia\", \"Czech Republic\", \"Denmark\", \"Estonia\", \"Euro area\", \"Finland\", \"France\", \"Germany\", \"Greece\", \"Hungary\", \"Ireland\", \"Italy\", \"Latvia\", \"Lithuania\", \"Moldova\", \"Netherlands\", \"Norway\", \"Poland\", \"Portugal\", \"Romania\", \"Russia\", \"Slovakia\", \"Slovenia\", \"Spain\", \"Sweden\", \"Switzerland\", \"Turkey\", \"Ukraine\"], \"x\": [8797566.0, 9854033.0, 11375158.0, 66058859.0, 4124531.0, 10594438.0, 5764980.0, 1317384.0, 341163597.0, 5508214.0, 66864379.0, 82657002.0, 10754679.0, 9787966.0, 4807388.0, 60536709.0, 1942248.0, 2828403.0, 2755158.0, 17131296.0, 5276968.0, 37974826.0, 10300300.0, 19587290.0, 144496740.0, 5439232.0, 2066388.0, 46593236.0, 10057698.0, 8451840.0, 81101892.0, 44831135.0], \"y\": [47549.07904023488, 4147.089715691707, 44288.50804031241, 40361.41738321593, 13412.338290229676, 20379.896039641742, 57141.05983504141, 20388.209553033816, 37095.12027033119, 46316.74545883258, 38812.16103416813, 44349.58965527566, 18930.218585643328, 14457.608763614013, 69822.34717890962, 32406.720315013492, 15586.581893920034, 16882.639471199473, 3509.6934502581444, 48675.222335021244, 75496.7540581997, 13861.309364823554, 21490.429863103986, 10807.795390717909, 10894.35918810971, 17554.308321044366, 23500.752230870337, 28170.43456598078, 53791.50872984027, 80449.99456083658, 10513.64843243779, 2502.5098106076953], \"type\": \"scatter\"}, {\"customdata\": [0.0, 2.8, 2.5, 2.5, 2.3, 4.4, 3.3, 0.0, 0.0, 0.0, 1.8, 0.0, 3.6, 2.7, 0.0, 3.2, 3.9, 3.7, 3.7, 3.3, 3.5, 2.7], \"hovertemplate\": \"<b>%{text}</b><br>\\u0412\\u0412\\u041f \\u043d\\u0430 \\u0434\\u0443\\u0448\\u0443 \\u043d\\u0430\\u0441\\u0435\\u043b\\u0435\\u043d\\u0438\\u044f: %{y}<br>\\u0427\\u0438\\u0441\\u043b\\u0435\\u043d\\u043d\\u043e\\u0441\\u0442\\u044c \\u043d\\u0430\\u0441\\u0435\\u043b\\u0435\\u043d\\u0438\\u044f: %{x}<br>\\u0421\\u0442\\u043e\\u0438\\u043c\\u043e\\u0441\\u0442\\u044c \\u0411\\u0438\\u0433 \\u041c\\u0430\\u043a\\u0430: %{customdata}$<extra></extra>\", \"marker\": {\"size\": [0.0, 56593422.45834898, 49510375.90495039, 49760345.395338625, 46515117.41315928, 87678339.81841762, 65143787.76839669, 0.0, 0.0, 0.0, 35782176.00357822, 0.0, 71581961.34574087, 53612818.70402096, 0.0, 63988908.589177884, 77845351.86794092, 73550921.47603326, 73304011.72864187, 66904674.89388019, 70786822.76068608, 53163211.057947904], \"sizemode\": \"area\", \"sizeref\": 200000}, \"mode\": \"markers\", \"name\": \"Asia\", \"text\": [\"Bahrain\", \"China\", \"Hong Kong\", \"India\", \"Indonesia\", \"Israel\", \"Japan\", \"Jordan\", \"Kuwait\", \"Lebanon\", \"Malaysia\", \"Oman\", \"Pakistan\", \"Philippines\", \"Qatar\", \"Saudi Arabia\", \"Singapore\", \"South Korea\", \"Sri Lanka\", \"Thailand\", \"UAE\", \"Vietnam\"], \"x\": [1494074.0, 1386395000.0, 7391700.0, 1338658835.0, 264645886.0, 8713300.0, 126785797.0, 9779173.0, 4056099.0, 6811873.0, 31105028.0, 4665935.0, 207896686.0, 105173264.0, 2724724.0, 33099147.0, 5612253.0, 51361911.0, 21444000.0, 69209858.0, 9487203.0, 94596642.0], \"y\": [23709.430467983046, 8879.438148885058, 46165.8565115953, 1981.6510498992, 3837.6517312111555, 40541.862090708455, 38386.51114570569, 4162.820686572556, 29759.436486557406, 7801.178658075554, 10254.23402425878, 15130.94374439421, 1464.993305468549, 3123.2342294495015, 61264.396477797745, 20803.742565732373, 60913.74533349405, 31616.843400468297, 4077.0437212074708, 6592.914901698643, 40644.80404339203, 2365.6216656737456], \"type\": \"scatter\"}, {\"customdata\": [4.5, 4.1, 0.0, 0.0, 2.2, 0.0, 5.1], \"hovertemplate\": \"<b>%{text}</b><br>\\u0412\\u0412\\u041f \\u043d\\u0430 \\u0434\\u0443\\u0448\\u0443 \\u043d\\u0430\\u0441\\u0435\\u043b\\u0435\\u043d\\u0438\\u044f: %{y}<br>\\u0427\\u0438\\u0441\\u043b\\u0435\\u043d\\u043d\\u043e\\u0441\\u0442\\u044c \\u043d\\u0430\\u0441\\u0435\\u043b\\u0435\\u043d\\u0438\\u044f: %{x}<br>\\u0421\\u0442\\u043e\\u0438\\u043c\\u043e\\u0441\\u0442\\u044c \\u0411\\u0438\\u0433 \\u041c\\u0430\\u043a\\u0430: %{customdata}$<extra></extra>\", \"marker\": {\"size\": [90196078.43137257, 81179081.05280249, 0.0, 0.0, 44645907.83809024, 0.0, 101199999.99999999], \"sizemode\": \"area\", \"sizeref\": 200000}, \"mode\": \"markers\", \"name\": \"North America\", \"text\": [\"Canada\", \"Costa Rica\", \"Guatemala\", \"Honduras\", \"Mexico\", \"Nicaragua\", \"United States\"], \"x\": [36543321.0, 4949954.0, 16087418.0, 9429013.0, 124777324.0, 6384855.0, 324985539.0], \"y\": [45148.55270616538, 11814.626568766518, 4451.450989901965, 2453.727895974573, 9278.418168337621, 2159.1630793598442, 59957.725851303185], \"type\": \"scatter\"}, {\"customdata\": [1.5, 1.9], \"hovertemplate\": \"<b>%{text}</b><br>\\u0412\\u0412\\u041f \\u043d\\u0430 \\u0434\\u0443\\u0448\\u0443 \\u043d\\u0430\\u0441\\u0435\\u043b\\u0435\\u043d\\u0438\\u044f: %{y}<br>\\u0427\\u0438\\u0441\\u043b\\u0435\\u043d\\u043d\\u043e\\u0441\\u0442\\u044c \\u043d\\u0430\\u0441\\u0435\\u043b\\u0435\\u043d\\u0438\\u044f: %{x}<br>\\u0421\\u0442\\u043e\\u0438\\u043c\\u043e\\u0441\\u0442\\u044c \\u0411\\u0438\\u0433 \\u041c\\u0430\\u043a\\u0430: %{customdata}$<extra></extra>\", \"marker\": {\"size\": [29291422.482685134, 37728005.73373947], \"sizemode\": \"area\", \"sizeref\": 200000}, \"mode\": \"markers\", \"name\": \"Africa\", \"text\": [\"Egypt\", \"South Africa\"], \"x\": [96442593.0, 57000451.0], \"y\": [2440.510173111076, 6132.479840972101], \"type\": \"scatter\"}], \"name\": \"2017\"}, {\"data\": [{\"customdata\": [4.0, 5.1, 4.3, 3.8, 3.3, 4.9], \"hovertemplate\": \"<b>%{text}</b><br>\\u0412\\u0412\\u041f \\u043d\\u0430 \\u0434\\u0443\\u0448\\u0443 \\u043d\\u0430\\u0441\\u0435\\u043b\\u0435\\u043d\\u0438\\u044f: %{y}<br>\\u0427\\u0438\\u0441\\u043b\\u0435\\u043d\\u043d\\u043e\\u0441\\u0442\\u044c \\u043d\\u0430\\u0441\\u0435\\u043b\\u0435\\u043d\\u0438\\u044f: %{x}<br>\\u0421\\u0442\\u043e\\u0438\\u043c\\u043e\\u0441\\u0442\\u044c \\u0411\\u0438\\u0433 \\u041c\\u0430\\u043a\\u0430: %{customdata}$<extra></extra>\", \"marker\": {\"size\": [79207920.79207921, 102233650.36091577, 85817785.73609382, 76649367.8185168, 65379825.65379826, 97970608.8173548], \"sizemode\": \"area\", \"sizeref\": 200000}, \"mode\": \"markers\", \"name\": \"South America\", \"text\": [\"Argentina\", \"Brazil\", \"Chile\", \"Colombia\", \"Peru\", \"Uruguay\"], \"x\": [44494502.0, 209469333.0, 18729160.0, 49648685.0, 31989256.0, 3449299.0], \"y\": [11683.949621636286, 9001.234248635003, 15924.794239306462, 6718.585323913131, 6941.235847630122, 17277.9701101852], \"type\": \"scatter\"}, {\"customdata\": [4.7, 4.5], \"hovertemplate\": \"<b>%{text}</b><br>\\u0412\\u0412\\u041f \\u043d\\u0430 \\u0434\\u0443\\u0448\\u0443 \\u043d\\u0430\\u0441\\u0435\\u043b\\u0435\\u043d\\u0438\\u044f: %{y}<br>\\u0427\\u0438\\u0441\\u043b\\u0435\\u043d\\u043d\\u043e\\u0441\\u0442\\u044c \\u043d\\u0430\\u0441\\u0435\\u043b\\u0435\\u043d\\u0438\\u044f: %{x}<br>\\u0421\\u0442\\u043e\\u0438\\u043c\\u043e\\u0441\\u0442\\u044c \\u0411\\u0438\\u0433 \\u041c\\u0430\\u043a\\u0430: %{customdata}$<extra></extra>\", \"marker\": {\"size\": [94122699.99327494, 90203800.02785043], \"sizemode\": \"area\", \"sizeref\": 200000}, \"mode\": \"markers\", \"name\": \"Oceania\", \"text\": [\"Australia\", \"New Zealand\"], \"x\": [24982688.0, 4841000.0], \"y\": [57395.91946631684, 42949.930584951246], \"type\": \"scatter\"}, {\"customdata\": [4.2, 2.3, 5.0, 4.4, 3.3, 3.8, 4.9, 3.9, 4.8, 5.6, 5.1, 4.8, 4.1, 3.4, 5.0, 5.1, 3.2, 3.3, 2.6, 4.5, 6.2, 3.0, 3.9, 2.3, 2.3, 3.5, 2.7, 4.8, 6.1, 6.8, 2.8, 1.6], \"hovertemplate\": \"<b>%{text}</b><br>\\u0412\\u0412\\u041f \\u043d\\u0430 \\u0434\\u0443\\u0448\\u0443 \\u043d\\u0430\\u0441\\u0435\\u043b\\u0435\\u043d\\u0438\\u044f: %{y}<br>\\u0427\\u0438\\u0441\\u043b\\u0435\\u043d\\u043d\\u043e\\u0441\\u0442\\u044c \\u043d\\u0430\\u0441\\u0435\\u043b\\u0435\\u043d\\u0438\\u044f: %{x}<br>\\u0421\\u0442\\u043e\\u0438\\u043c\\u043e\\u0441\\u0442\\u044c \\u0411\\u0438\\u0433 \\u041c\\u0430\\u043a\\u0430: %{customdata}$<extra></extra>\", \"marker\": {\"size\": [83248999.9539425, 46422800.058763035, 100388499.94446005, 88260919.97511043, 66532018.533919446, 76155588.7598207, 98640406.39847437, 77127749.95732906, 96715749.94649202, 111651599.93822874, 102836999.94310543, 95491499.94716933, 82024749.9546198, 68532770.10606913, 99653949.94486646, 102836999.94310543, 63290699.999999955, 65634799.99999995, 51643587.18758632, 90839349.94974312, 124839174.02326085, 59311458.56272481, 78351999.95665175, 46309696.09261939, 45819014.891179845, 70322999.99999996, 53914299.999999955, 96715749.94649202, 122462213.7975757, 135296872.5607535, 56540261.926050596, 32735504.09193801], \"sizemode\": \"area\", \"sizeref\": 200000}, \"mode\": \"markers\", \"name\": \"Europe\", \"text\": [\"Austria\", \"Azerbaijan\", \"Belgium\", \"Britain\", \"Croatia\", \"Czech Republic\", \"Denmark\", \"Estonia\", \"Euro area\", \"Finland\", \"France\", \"Germany\", \"Greece\", \"Hungary\", \"Ireland\", \"Italy\", \"Latvia\", \"Lithuania\", \"Moldova\", \"Netherlands\", \"Norway\", \"Poland\", \"Portugal\", \"Romania\", \"Russia\", \"Slovakia\", \"Slovenia\", \"Spain\", \"Sweden\", \"Switzerland\", \"Turkey\", \"Ukraine\"], \"x\": [8840521.0, 9939771.0, 11427054.0, 66460344.0, 4087843.0, 10629928.0, 5793636.0, 1321977.0, 341843156.0, 5515525.0, 66965912.0, 82905782.0, 10732882.0, 9775564.0, 4867316.0, 60421760.0, 1927174.0, 2801543.0, 2706049.0, 17231624.0, 5311916.0, 37974750.0, 10283822.0, 19472545.0, 144477860.0, 5446771.0, 2073894.0, 46797754.0, 10175214.0, 8514329.0, 82319724.0, 44622518.0], \"y\": [51525.046434279044, 4739.8417102839285, 47491.32325946924, 43043.22781645503, 14920.191383192407, 23046.949126140178, 61390.693009701, 23258.467581430312, 39965.84033387318, 50021.29105677011, 41631.09073890445, 47639.00344071225, 20324.305013787536, 16150.77276137254, 78621.22795527165, 34520.08516240292, 17805.28031438168, 19080.61737175528, 4233.999555881361, 53048.09621043943, 81734.46557361016, 15460.644280546838, 23461.57186281151, 12408.596489129335, 11555.978814490745, 19428.116213573325, 26054.54210497846, 30337.6791331631, 54589.06038606058, 82818.10816174709, 9370.176354973091, 2933.5381392354416], \"type\": \"scatter\"}, {\"customdata\": [3.2, 3.2, 2.6, 2.8, 2.7, 4.8, 3.4, 2.7, 3.5, 4.3, 2.3, 2.7, 3.4, 2.6, 3.3, 3.2, 4.4, 4.1, 3.8, 3.7, 3.8, 2.9], \"hovertemplate\": \"<b>%{text}</b><br>\\u0412\\u0412\\u041f \\u043d\\u0430 \\u0434\\u0443\\u0448\\u0443 \\u043d\\u0430\\u0441\\u0435\\u043b\\u0435\\u043d\\u0438\\u044f: %{y}<br>\\u0427\\u0438\\u0441\\u043b\\u0435\\u043d\\u043d\\u043e\\u0441\\u0442\\u044c \\u043d\\u0430\\u0441\\u0435\\u043b\\u0435\\u043d\\u0438\\u044f: %{x}<br>\\u0421\\u0442\\u043e\\u0438\\u043c\\u043e\\u0441\\u0442\\u044c \\u0411\\u0438\\u0433 \\u041c\\u0430\\u043a\\u0430: %{customdata}$<extra></extra>\", \"marker\": {\"size\": [63232775.655381374, 63432835.820895515, 52436372.93771582, 56372213.196578525, 53521970.20735085, 96032127.11161552, 68638518.85301423, 54925709.45708048, 69421487.60330579, 86035737.92190602, 45523520.48558422, 54545454.54545455, 67870232.11619383, 52833908.329226226, 65915957.15462785, 63994880.40956723, 87709349.36297305, 82300678.04535891, 75422626.7880364, 74491392.80125196, 76231962.97304656, 57239724.36871189], \"sizemode\": \"area\", \"sizeref\": 200000}, \"mode\": \"markers\", \"name\": \"Asia\", \"text\": [\"Bahrain\", \"China\", \"Hong Kong\", \"India\", \"Indonesia\", \"Israel\", \"Japan\", \"Jordan\", \"Kuwait\", \"Lebanon\", \"Malaysia\", \"Oman\", \"Pakistan\", \"Philippines\", \"Qatar\", \"Saudi Arabia\", \"Singapore\", \"South Korea\", \"Sri Lanka\", \"Thailand\", \"UAE\", \"Vietnam\"], \"x\": [1569439.0, 1392730000.0, 7451000.0, 1352617328.0, 267663435.0, 8882800.0, 126529100.0, 9956011.0, 4137312.0, 6848925.0, 31528585.0, 4829483.0, 212215030.0, 106651922.0, 2781677.0, 33699947.0, 5638676.0, 51606633.0, 21670000.0, 69428524.0, 9630959.0, 95540395.0], \"y\": [23991.056676939977, 9976.676821807745, 48542.88733296107, 2005.8630045240334, 3893.846424755701, 41719.72544170565, 39159.42356339522, 4241.788782138539, 33994.3819171508, 8024.803270813872, 11373.233002567637, 16414.888017369147, 1482.305666843385, 3252.0923241266387, 68793.7844372614, 23338.96345811265, 66188.77939617989, 33340.26515168195, 4080.5671246955194, 7295.475616120947, 43839.35634914124, 2566.596949585115], \"type\": \"scatter\"}, {\"customdata\": [5.3, 4.0, 3.3, 3.5, 2.6, 3.3, 5.3], \"hovertemplate\": \"<b>%{text}</b><br>\\u0412\\u0412\\u041f \\u043d\\u0430 \\u0434\\u0443\\u0448\\u0443 \\u043d\\u0430\\u0441\\u0435\\u043b\\u0435\\u043d\\u0438\\u044f: %{y}<br>\\u0427\\u0438\\u0441\\u043b\\u0435\\u043d\\u043d\\u043e\\u0441\\u0442\\u044c \\u043d\\u0430\\u0441\\u0435\\u043b\\u0435\\u043d\\u0438\\u044f: %{x}<br>\\u0421\\u0442\\u043e\\u0438\\u043c\\u043e\\u0441\\u0442\\u044c \\u0411\\u0438\\u0433 \\u041c\\u0430\\u043a\\u0430: %{customdata}$<extra></extra>\", \"marker\": {\"size\": [105144875.19062525, 80558633.66928746, 66781530.899814345, 70855180.34727374, 51437297.398665845, 65216290.14284267, 105600000.0], \"sizemode\": \"area\", \"sizeref\": 200000}, \"mode\": \"markers\", \"name\": \"North America\", \"text\": [\"Canada\", \"Costa Rica\", \"Guatemala\", \"Honduras\", \"Mexico\", \"Nicaragua\", \"United States\"], \"x\": [37057765.0, 4999441.0, 16346950.0, 9587522.0, 126190788.0, 6465513.0, 326687501.0], \"y\": [46313.171371296135, 12112.134420645229, 4472.892362690135, 2505.7767518955993, 9673.44367360619, 2020.54702818624, 62840.02023879542], \"type\": \"scatter\"}, {\"customdata\": [1.9, 2.4], \"hovertemplate\": \"<b>%{text}</b><br>\\u0412\\u0412\\u041f \\u043d\\u0430 \\u0434\\u0443\\u0448\\u0443 \\u043d\\u0430\\u0441\\u0435\\u043b\\u0435\\u043d\\u0438\\u044f: %{y}<br>\\u0427\\u0438\\u0441\\u043b\\u0435\\u043d\\u043d\\u043e\\u0441\\u0442\\u044c \\u043d\\u0430\\u0441\\u0435\\u043b\\u0435\\u043d\\u0438\\u044f: %{x}<br>\\u0421\\u0442\\u043e\\u0438\\u043c\\u043e\\u0441\\u0442\\u044c \\u0411\\u0438\\u0433 \\u041c\\u0430\\u043a\\u0430: %{customdata}$<extra></extra>\", \"marker\": {\"size\": [38655367.231638424, 48947027.079942726], \"sizemode\": \"area\", \"sizeref\": 200000}, \"mode\": \"markers\", \"name\": \"Africa\", \"text\": [\"Egypt\", \"South Africa\"], \"x\": [98423595.0, 57779622.0], \"y\": [2549.1322517860885, 6374.0281957594325], \"type\": \"scatter\"}], \"name\": \"2018\"}, {\"data\": [{\"customdata\": [2.0, 4.5, 3.9, 3.7, 3.1, 4.3], \"hovertemplate\": \"<b>%{text}</b><br>\\u0412\\u0412\\u041f \\u043d\\u0430 \\u0434\\u0443\\u0448\\u0443 \\u043d\\u0430\\u0441\\u0435\\u043b\\u0435\\u043d\\u0438\\u044f: %{y}<br>\\u0427\\u0438\\u0441\\u043b\\u0435\\u043d\\u043d\\u043e\\u0441\\u0442\\u044c \\u043d\\u0430\\u0441\\u0435\\u043b\\u0435\\u043d\\u0438\\u044f: %{x}<br>\\u0421\\u0442\\u043e\\u0438\\u043c\\u043e\\u0441\\u0442\\u044c \\u0411\\u0438\\u0433 \\u041c\\u0430\\u043a\\u0430: %{customdata}$<extra></extra>\", \"marker\": {\"size\": [40048057.66920304, 90910313.47920224, 77762559.09512658, 74573084.75638415, 62714648.35000747, 86127345.43217473], \"sizemode\": \"area\", \"sizeref\": 200000}, \"mode\": \"markers\", \"name\": \"South America\", \"text\": [\"Argentina\", \"Brazil\", \"Chile\", \"Colombia\", \"Peru\", \"Uruguay\"], \"x\": [44938712.0, 211049527.0, 18952038.0, 50339443.0, 32510453.0, 3461734.0], \"y\": [10006.148973608166, 8717.186278108173, 14896.453866578888, 6432.38758339551, 6977.695783553831, 16190.12695728268], \"type\": \"scatter\"}, {\"customdata\": [4.4, 4.2], \"hovertemplate\": \"<b>%{text}</b><br>\\u0412\\u0412\\u041f \\u043d\\u0430 \\u0434\\u0443\\u0448\\u0443 \\u043d\\u0430\\u0441\\u0435\\u043b\\u0435\\u043d\\u0438\\u044f: %{y}<br>\\u0427\\u0438\\u0441\\u043b\\u0435\\u043d\\u043d\\u043e\\u0441\\u0442\\u044c \\u043d\\u0430\\u0441\\u0435\\u043b\\u0435\\u043d\\u0438\\u044f: %{x}<br>\\u0421\\u0442\\u043e\\u0438\\u043c\\u043e\\u0441\\u0442\\u044c \\u0411\\u0438\\u0433 \\u041c\\u0430\\u043a\\u0430: %{customdata}$<extra></extra>\", \"marker\": {\"size\": [87040900.0000003, 83824000.00000015], \"sizemode\": \"area\", \"sizeref\": 200000}, \"mode\": \"markers\", \"name\": \"Oceania\", \"text\": [\"Australia\", \"New Zealand\"], \"x\": [25364307.0, 4917000.0], \"y\": [54907.10191014247, 42084.35337480882], \"type\": \"scatter\"}, {\"customdata\": [4.3, 2.3, 4.8, 4.1, 3.2, 3.8, 4.6, 3.7, 4.6, 5.3, 4.8, 4.7, 3.8, 3.0, 4.7, 4.8, 3.2, 3.3, 2.3, 4.6, 5.9, 2.8, 3.7, 2.3, 1.7, 3.7, 2.6, 4.5, 5.8, 6.6, 2.0, 1.9], \"hovertemplate\": \"<b>%{text}</b><br>\\u0412\\u0412\\u041f \\u043d\\u0430 \\u0434\\u0443\\u0448\\u0443 \\u043d\\u0430\\u0441\\u0435\\u043b\\u0435\\u043d\\u0438\\u044f: %{y}<br>\\u0427\\u0438\\u0441\\u043b\\u0435\\u043d\\u043d\\u043e\\u0441\\u0442\\u044c \\u043d\\u0430\\u0441\\u0435\\u043b\\u0435\\u043d\\u0438\\u044f: %{x}<br>\\u0421\\u0442\\u043e\\u0438\\u043c\\u043e\\u0441\\u0442\\u044c \\u0411\\u0438\\u0433 \\u041c\\u0430\\u043a\\u0430: %{customdata}$<extra></extra>\", \"marker\": {\"size\": [86190480.00000001, 46566460.35956381, 96276600.00000003, 81459840.00000001, 64826319.48571119, 76193378.79538268, 92088804.30361678, 73353600.00000001, 92838150.0, 105904260.00000003, 96276600.00000003, 94442760.00000001, 76792050.00000001, 60656066.72167339, 93296610.00000001, 96276600.00000003, 64184400.0, 65330550.00000001, 46341887.27335921, 91692000.00000001, 117193451.22994527, 56023156.23791167, 74499750.00000001, 45734518.49666212, 33041913.473794702, 73353600.00000001, 52722900.00000001, 90545850.00000001, 116771929.82456142, 132430092.19171801, 39937585.91224876, 38848920.86330935], \"sizemode\": \"area\", \"sizeref\": 200000}, \"mode\": \"markers\", \"name\": \"Europe\", \"text\": [\"Austria\", \"Azerbaijan\", \"Belgium\", \"Britain\", \"Croatia\", \"Czech Republic\", \"Denmark\", \"Estonia\", \"Euro area\", \"Finland\", \"France\", \"Germany\", \"Greece\", \"Hungary\", \"Ireland\", \"Italy\", \"Latvia\", \"Lithuania\", \"Moldova\", \"Netherlands\", \"Norway\", \"Poland\", \"Portugal\", \"Romania\", \"Russia\", \"Slovakia\", \"Slovenia\", \"Spain\", \"Sweden\", \"Switzerland\", \"Turkey\", \"Ukraine\"], \"x\": [8877067.0, 10023318.0, 11484055.0, 66834405.0, 4067500.0, 10669709.0, 5818553.0, 1326590.0, 342597698.0, 5520314.0, 67059887.0, 83132799.0, 10716322.0, 9769949.0, 4941444.0, 60297396.0, 1912789.0, 2786844.0, 2657637.0, 17332850.0, 5347896.0, 37970874.0, 10269417.0, 19356544.0, 144373535.0, 5454073.0, 2087946.0, 47076781.0, 10285453.0, 8574832.0, 83429615.0, 44385155.0], \"y\": [50277.27508742132, 4793.587019669884, 46116.699233679916, 42300.26712582509, 14853.239837463454, 23101.777704985394, 59822.092960896814, 23659.872290033847, 38925.665107708046, 48685.85398669441, 40493.92857204561, 46258.87828970513, 19582.53601083292, 16475.741838940205, 78660.95646296022, 33189.56579885424, 17836.36488659575, 19455.45412663407, 4498.520850212312, 52447.83143919107, 75419.63486880896, 15595.22703342586, 23145.04081728281, 12919.529644190821, 11774.15638448799, 19329.09680079016, 25739.247814324604, 29613.6711379784, 51610.06605522013, 81993.7271494202, 9042.492982888822, 3464.6960029349457], \"type\": \"scatter\"}, {\"customdata\": [3.2, 3.1, 2.6, 2.6, 2.3, 4.6, 3.6, 2.7, 3.5, 4.3, 2.2, 2.7, 3.3, 2.7, 3.3, 3.2, 4.3, 4.0, 3.2, 3.7, 0.0, 2.8], \"hovertemplate\": \"<b>%{text}</b><br>\\u0412\\u0412\\u041f \\u043d\\u0430 \\u0434\\u0443\\u0448\\u0443 \\u043d\\u0430\\u0441\\u0435\\u043b\\u0435\\u043d\\u0438\\u044f: %{y}<br>\\u0427\\u0438\\u0441\\u043b\\u0435\\u043d\\u043d\\u043e\\u0441\\u0442\\u044c \\u043d\\u0430\\u0441\\u0435\\u043b\\u0435\\u043d\\u0438\\u044f: %{x}<br>\\u0421\\u0442\\u043e\\u0438\\u043c\\u043e\\u0441\\u0442\\u044c \\u0411\\u0438\\u0433 \\u041c\\u0430\\u043a\\u0430: %{customdata}$<extra></extra>\", \"marker\": {\"size\": [63660477.4535809, 61024570.41914244, 51057203.21405094, 51087034.51244888, 46841731.7246274, 91697344.82247125, 71929177.42530431, 54960541.14994363, 69284064.66512702, 86264100.86264102, 43958712.81117184, 54559625.87685113, 66244239.631336406, 53442763.75435416, 65911431.51390319, 63980379.350332566, 85552031.8607567, 80457715.00089398, 63650580.26283299, 74357572.44395845, 0.0, 56036898.1421613], \"sizemode\": \"area\", \"sizeref\": 200000}, \"mode\": \"markers\", \"name\": \"Asia\", \"text\": [\"Bahrain\", \"China\", \"Hong Kong\", \"India\", \"Indonesia\", \"Israel\", \"Japan\", \"Jordan\", \"Kuwait\", \"Lebanon\", \"Malaysia\", \"Oman\", \"Pakistan\", \"Philippines\", \"Qatar\", \"Saudi Arabia\", \"Singapore\", \"South Korea\", \"Sri Lanka\", \"Thailand\", \"UAE\", \"Vietnam\"], \"x\": [1641172.0, 1397715000.0, 7507400.0, 1366417754.0, 270625568.0, 9053300.0, 126264931.0, 10101694.0, 4207083.0, 6855713.0, 31949777.0, 4974986.0, 216565318.0, 108116615.0, 2832067.0, 34268528.0, 5703569.0, 51709098.0, 21803000.0, 69625582.0, 9770529.0, 96462106.0], \"y\": [23503.977126673013, 10261.679128374455, 48755.83507912873, 2104.1459000333293, 4135.569262815552, 43641.39773581081, 40246.880128416415, 4330.329345932573, 32031.980102598878, 7784.31685692976, 11414.837661866748, 15474.032475363449, 1284.7020409003856, 3485.0842183662153, 64781.733197416936, 23139.798656121413, 65233.282439230235, 31761.977692344586, 3853.0836928894187, 7808.1929162995, 43103.3230583165, 2715.2760364072083], \"type\": \"scatter\"}, {\"customdata\": [5.1, 3.8, 3.2, 3.5, 2.5, 3.2, 5.6], \"hovertemplate\": \"<b>%{text}</b><br>\\u0412\\u0412\\u041f \\u043d\\u0430 \\u0434\\u0443\\u0448\\u0443 \\u043d\\u0430\\u0441\\u0435\\u043b\\u0435\\u043d\\u0438\\u044f: %{y}<br>\\u0427\\u0438\\u0441\\u043b\\u0435\\u043d\\u043d\\u043e\\u0441\\u0442\\u044c \\u043d\\u0430\\u0441\\u0435\\u043b\\u0435\\u043d\\u0438\\u044f: %{x}<br>\\u0421\\u0442\\u043e\\u0438\\u043c\\u043e\\u0441\\u0442\\u044c \\u0411\\u0438\\u0433 \\u041c\\u0430\\u043a\\u0430: %{customdata}$<extra></extra>\", \"marker\": {\"size\": [101697461.31891243, 75456155.52535112, 64697281.42023472, 69846461.04416351, 50754191.75244384, 63657461.05615762, 111600000.0], \"sizemode\": \"area\", \"sizeref\": 200000}, \"mode\": \"markers\", \"name\": \"North America\", \"text\": [\"Canada\", \"Costa Rica\", \"Guatemala\", \"Honduras\", \"Mexico\", \"Nicaragua\", \"United States\"], \"x\": [37589262.0, 5047561.0, 16604026.0, 9746117.0, 127575529.0, 6545502.0, 328239523.0], \"y\": [46194.7252255168, 12238.37496439837, 4619.98709708493, 2574.9121906744294, 9863.072698875738, 1912.903745378689, 65118.35833281631], \"type\": \"scatter\"}, {\"customdata\": [2.2, 2.2], \"hovertemplate\": \"<b>%{text}</b><br>\\u0412\\u0412\\u041f \\u043d\\u0430 \\u0434\\u0443\\u0448\\u0443 \\u043d\\u0430\\u0441\\u0435\\u043b\\u0435\\u043d\\u0438\\u044f: %{y}<br>\\u0427\\u0438\\u0441\\u043b\\u0435\\u043d\\u043d\\u043e\\u0441\\u0442\\u044c \\u043d\\u0430\\u0441\\u0435\\u043b\\u0435\\u043d\\u0438\\u044f: %{x}<br>\\u0421\\u0442\\u043e\\u0438\\u043c\\u043e\\u0441\\u0442\\u044c \\u0411\\u0438\\u0433 \\u041c\\u0430\\u043a\\u0430: %{customdata}$<extra></extra>\", \"marker\": {\"size\": [44667783.3612507, 44708851.63151254], \"sizemode\": \"area\", \"sizeref\": 200000}, \"mode\": \"markers\", \"name\": \"Africa\", \"text\": [\"Egypt\", \"South Africa\"], \"x\": [100388073.0, 58558270.0], \"y\": [3020.031349715429, 6001.4008139488915], \"type\": \"scatter\"}], \"name\": \"2019\"}]);\n",
       "                        }).then(function(){\n",
       "                            \n",
       "var gd = document.getElementById('cdc1c1f9-d985-4d7e-9e6e-5b9666a09b0f');\n",
       "var x = new MutationObserver(function (mutations, observer) {{\n",
       "        var display = window.getComputedStyle(gd).display;\n",
       "        if (!display || display === 'none') {{\n",
       "            console.log([gd, 'removed!']);\n",
       "            Plotly.purge(gd);\n",
       "            observer.disconnect();\n",
       "        }}\n",
       "}});\n",
       "\n",
       "// Listen for the removal of the full notebook cells\n",
       "var notebookContainer = gd.closest('#notebook-container');\n",
       "if (notebookContainer) {{\n",
       "    x.observe(notebookContainer, {childList: true});\n",
       "}}\n",
       "\n",
       "// Listen for the clearing of the current output cell\n",
       "var outputEl = gd.closest('.output');\n",
       "if (outputEl) {{\n",
       "    x.observe(outputEl, {childList: true});\n",
       "}}\n",
       "\n",
       "                        })\n",
       "                };\n",
       "                });\n",
       "            </script>\n",
       "        </div>"
      ]
     },
     "metadata": {},
     "output_type": "display_data"
    }
   ],
   "source": [
    "fig_dict = {\n",
    "    \"data\": [],\n",
    "    \"layout\": {},\n",
    "    \"frames\": []\n",
    "}\n",
    "\n",
    "fig_dict[\"layout\"][\"xaxis\"] = {\"title\": \"Численность населения\", \"type\": \"log\"}\n",
    "fig_dict[\"layout\"][\"yaxis\"] = {\"title\": \"ВВП на душу населения (в $)\", \"type\": \"log\", \"range\":[2, 5.5]}\n",
    "fig_dict[\"layout\"][\"hovermode\"] = \"closest\"\n",
    "fig_dict[\"layout\"][\"updatemenus\"] = [\n",
    "    {\n",
    "        \"buttons\": [\n",
    "            {\n",
    "                \"args\": [None, {\"frame\": {\"duration\": 500, \"redraw\": False},\n",
    "                                \"fromcurrent\": True, \"transition\": {\"duration\": 300,\n",
    "                                                                    \"easing\": \"quadratic-in-out\"}}],\n",
    "                \"label\": \"Play\",\n",
    "                \"method\": \"animate\"\n",
    "            },\n",
    "            {\n",
    "                \"args\": [[None], {\"frame\": {\"duration\": 0, \"redraw\": False},\n",
    "                                  \"mode\": \"immediate\",\n",
    "                                  \"transition\": {\"duration\": 0}}],\n",
    "                \"label\": \"Pause\",\n",
    "                \"method\": \"animate\"\n",
    "            }\n",
    "        ],\n",
    "        \"direction\": \"left\",\n",
    "        \"pad\": {\"r\": 10, \"t\": 87},\n",
    "        \"showactive\": False,\n",
    "        \"type\": \"buttons\",\n",
    "        \"x\": 0.1,\n",
    "        \"xanchor\": \"right\",\n",
    "        \"y\": 0,\n",
    "        \"yanchor\": \"top\"\n",
    "    }\n",
    "]\n",
    "\n",
    "sliders_dict = {\n",
    "    \"active\": 0,\n",
    "    \"yanchor\": \"top\",\n",
    "    \"xanchor\": \"left\",\n",
    "    \"currentvalue\": {\n",
    "        \"font\": {\"size\": 20},\n",
    "        \"prefix\": \"Год: \",\n",
    "        \"visible\": True,\n",
    "        \"xanchor\": \"right\"\n",
    "    },\n",
    "    \"transition\": {\"duration\": 300, \"easing\": \"cubic-in-out\"},\n",
    "    \"pad\": {\"b\": 10, \"t\": 50},\n",
    "    \"len\": 0.9,\n",
    "    \"x\": 0.1,\n",
    "    \"y\": 0,\n",
    "    \"steps\": []\n",
    "}\n",
    "\n",
    "continents_list_from_df = list(bigmac_df['continent'].unique())\n",
    "year = 2005\n",
    "for continent in continents_list_from_df:\n",
    "    dataset_by_year = bigmac_df[bigmac_df[\"date\"] == year]\n",
    "    dataset_by_year_and_cont = dataset_by_year[dataset_by_year[\"continent\"] == continent]\n",
    "    \n",
    "    data_dict = {\n",
    "        \"x\": dataset_by_year_and_cont[\"population\"],\n",
    "        \"y\": dataset_by_year_and_cont[\"gdp_per_capita\"],\n",
    "        \"mode\": \"markers\",\n",
    "        \"text\": dataset_by_year_and_cont[\"name\"],\n",
    "        \"marker\": {\n",
    "            \"sizemode\": \"area\",\n",
    "            \"sizeref\": 200000,\n",
    "            \"size\":  np.array(dataset_by_year_and_cont[\"dollar_price\"]) * 20000000\n",
    "        },\n",
    "        \"name\": continent,\n",
    "        \"customdata\": np.array(dataset_by_year_and_cont[\"dollar_price\"]).round(1),\n",
    "        \"hovertemplate\": '<b>%{text}</b>' + '<br>' +\n",
    "                         'ВВП на душу населения: %{y}$' + '<br>' +\n",
    "                         'Численность населения: %{x}' + '<br>' +\n",
    "                         'Стоимость Биг Мака: %{customdata}$' +\n",
    "                         '<extra></extra>'\n",
    "    }\n",
    "    fig_dict[\"data\"].append(data_dict)\n",
    "\n",
    "for year in years:\n",
    "    frame = {\"data\": [], \"name\": str(year)}\n",
    "    for continent in continents_list_from_df:\n",
    "        dataset_by_year = bigmac_df[bigmac_df[\"date\"] == int(year)]\n",
    "        dataset_by_year_and_cont = dataset_by_year[dataset_by_year[\"continent\"] == continent]\n",
    "\n",
    "        data_dict = {\n",
    "            \"x\": list(dataset_by_year_and_cont[\"population\"]),\n",
    "            \"y\": list(dataset_by_year_and_cont[\"gdp_per_capita\"]),\n",
    "            \"mode\": \"markers\",\n",
    "            \"text\": list(dataset_by_year_and_cont[\"name\"]),\n",
    "            \"marker\": {\n",
    "                \"sizemode\": \"area\",\n",
    "                \"sizeref\": 200000,\n",
    "                \"size\": np.array(dataset_by_year_and_cont[\"dollar_price\"]) * 20000000\n",
    "            },\n",
    "            \"name\": continent,\n",
    "            \"customdata\": np.array(dataset_by_year_and_cont[\"dollar_price\"]).round(1),\n",
    "            \"hovertemplate\": '<b>%{text}</b>' + '<br>' +\n",
    "                             'ВВП на душу населения: %{y}' + '<br>' +\n",
    "                             'Численность населения: %{x}' + '<br>' +\n",
    "                             'Стоимость Биг Мака: %{customdata}$' +\n",
    "                             '<extra></extra>'\n",
    "        }\n",
    "        frame[\"data\"].append(data_dict)\n",
    "\n",
    "    fig_dict[\"frames\"].append(frame)\n",
    "    slider_step = {\"args\": [\n",
    "        [year],\n",
    "        {\"frame\": {\"duration\": 300, \"redraw\": False},\n",
    "         \"mode\": \"immediate\",\n",
    "         \"transition\": {\"duration\": 300}}\n",
    "    ],\n",
    "        \"label\": year,\n",
    "        \"method\": \"animate\"}\n",
    "    sliders_dict[\"steps\"].append(slider_step)\n",
    "\n",
    "    \n",
    "fig_dict[\"layout\"][\"sliders\"] = [sliders_dict]\n",
    "\n",
    "fig = go.Figure(fig_dict)\n",
    "\n",
    "fig.update_layout(\n",
    "    title ={'text':'<b>Motion chart</b><br><span style=\"color:#666666\">Индекс Биг Мака для стран мира с 2005 по 2019 год </span>'},\n",
    "    font={\n",
    "        'family':'Open Sans, light',\n",
    "        'color':'black',\n",
    "        'size':14\n",
    "    },\n",
    "    plot_bgcolor='rgba(0,0,0,0)'\n",
    ")\n",
    "fig.update_yaxes(nticks=4)\n",
    "fig.update_xaxes(tickfont=dict(family='Open Sans, light', color='black', size=12), nticks=4, gridcolor='lightgray', gridwidth=0.5)\n",
    "fig.update_yaxes(tickfont=dict(family='Open Sans, light', color='black', size=12), nticks=4, gridcolor='lightgray', gridwidth=0.5)\n",
    "\n",
    "fig.show()"
   ]
  },
  {
   "cell_type": "code",
   "execution_count": 51,
   "metadata": {},
   "outputs": [],
   "source": [
    "import chart_studio\n",
    "import chart_studio.plotly as py\n",
    "chart_studio.tools.set_credentials_file(username='Elisejj', api_key='kaBIWEaEti3hJo9ccaHF')\n",
    "url = py.plot(fig, filename = 'bigmac', auto_open=True)"
   ]
  },
  {
   "cell_type": "code",
   "execution_count": 52,
   "metadata": {},
   "outputs": [
    {
     "ename": "KeyError",
     "evalue": "''",
     "output_type": "error",
     "traceback": [
      "\u001b[0;31m---------------------------------------------------------------------------\u001b[0m",
      "\u001b[0;31mKeyError\u001b[0m                                  Traceback (most recent call last)",
      "\u001b[0;32m<ipython-input-52-059e905f33de>\u001b[0m in \u001b[0;36m<module>\u001b[0;34m\u001b[0m\n\u001b[0;32m----> 1\u001b[0;31m \u001b[0mfig_dict\u001b[0m\u001b[0;34m[\u001b[0m\u001b[0;34m'data'\u001b[0m\u001b[0;34m]\u001b[0m\u001b[0;34m[\u001b[0m\u001b[0;36m0\u001b[0m\u001b[0;34m]\u001b[0m\u001b[0;34m[\u001b[0m\u001b[0;34m''\u001b[0m\u001b[0;34m]\u001b[0m\u001b[0;34m\u001b[0m\u001b[0;34m\u001b[0m\u001b[0m\n\u001b[0m",
      "\u001b[0;31mKeyError\u001b[0m: ''"
     ]
    }
   ],
   "source": [
    "fig_dict['data'][0]['']"
   ]
  },
  {
   "cell_type": "code",
   "execution_count": 21,
   "metadata": {},
   "outputs": [
    {
     "data": {
      "text/html": [
       "<div>\n",
       "<style scoped>\n",
       "    .dataframe tbody tr th:only-of-type {\n",
       "        vertical-align: middle;\n",
       "    }\n",
       "\n",
       "    .dataframe tbody tr th {\n",
       "        vertical-align: top;\n",
       "    }\n",
       "\n",
       "    .dataframe thead th {\n",
       "        text-align: right;\n",
       "    }\n",
       "</style>\n",
       "<table border=\"1\" class=\"dataframe\">\n",
       "  <thead>\n",
       "    <tr style=\"text-align: right;\">\n",
       "      <th></th>\n",
       "      <th>name</th>\n",
       "      <th>date</th>\n",
       "      <th>dollar_price</th>\n",
       "      <th>continent</th>\n",
       "      <th>population</th>\n",
       "      <th>gdp</th>\n",
       "      <th>gdp_per_capita</th>\n",
       "    </tr>\n",
       "  </thead>\n",
       "  <tbody>\n",
       "    <tr>\n",
       "      <th>29</th>\n",
       "      <td>South Korea</td>\n",
       "      <td>2005</td>\n",
       "      <td>2.486325</td>\n",
       "      <td>Asia</td>\n",
       "      <td>112463887.0</td>\n",
       "      <td>9.000454e+11</td>\n",
       "      <td>8002.972106</td>\n",
       "    </tr>\n",
       "    <tr>\n",
       "      <th>65</th>\n",
       "      <td>South Korea</td>\n",
       "      <td>2006</td>\n",
       "      <td>2.557676</td>\n",
       "      <td>Asia</td>\n",
       "      <td>114092963.0</td>\n",
       "      <td>1.057801e+12</td>\n",
       "      <td>9271.398233</td>\n",
       "    </tr>\n",
       "    <tr>\n",
       "      <th>111</th>\n",
       "      <td>South Korea</td>\n",
       "      <td>2007</td>\n",
       "      <td>3.084614</td>\n",
       "      <td>Asia</td>\n",
       "      <td>115695473.0</td>\n",
       "      <td>1.180490e+12</td>\n",
       "      <td>10203.420854</td>\n",
       "    </tr>\n",
       "    <tr>\n",
       "      <th>152</th>\n",
       "      <td>South Korea</td>\n",
       "      <td>2008</td>\n",
       "      <td>3.143264</td>\n",
       "      <td>Asia</td>\n",
       "      <td>117274155.0</td>\n",
       "      <td>1.201090e+12</td>\n",
       "      <td>10241.727915</td>\n",
       "    </tr>\n",
       "    <tr>\n",
       "      <th>193</th>\n",
       "      <td>South Korea</td>\n",
       "      <td>2009</td>\n",
       "      <td>2.586535</td>\n",
       "      <td>Asia</td>\n",
       "      <td>118827161.0</td>\n",
       "      <td>1.274443e+12</td>\n",
       "      <td>10725.183317</td>\n",
       "    </tr>\n",
       "    <tr>\n",
       "      <th>234</th>\n",
       "      <td>South Korea</td>\n",
       "      <td>2010</td>\n",
       "      <td>2.981149</td>\n",
       "      <td>Asia</td>\n",
       "      <td>120355128.0</td>\n",
       "      <td>1.314564e+12</td>\n",
       "      <td>10922.376049</td>\n",
       "    </tr>\n",
       "    <tr>\n",
       "      <th>287</th>\n",
       "      <td>South Korea</td>\n",
       "      <td>2011</td>\n",
       "      <td>3.503124</td>\n",
       "      <td>Asia</td>\n",
       "      <td>121858258.0</td>\n",
       "      <td>1.170565e+12</td>\n",
       "      <td>9605.952351</td>\n",
       "    </tr>\n",
       "    <tr>\n",
       "      <th>342</th>\n",
       "      <td>South Korea</td>\n",
       "      <td>2012</td>\n",
       "      <td>3.193096</td>\n",
       "      <td>Asia</td>\n",
       "      <td>123333376.0</td>\n",
       "      <td>1.077904e+12</td>\n",
       "      <td>8739.756043</td>\n",
       "    </tr>\n",
       "    <tr>\n",
       "      <th>397</th>\n",
       "      <td>South Korea</td>\n",
       "      <td>2013</td>\n",
       "      <td>3.408646</td>\n",
       "      <td>Asia</td>\n",
       "      <td>124777324.0</td>\n",
       "      <td>1.157736e+12</td>\n",
       "      <td>9278.418168</td>\n",
       "    </tr>\n",
       "    <tr>\n",
       "      <th>453</th>\n",
       "      <td>South Korea</td>\n",
       "      <td>2014</td>\n",
       "      <td>3.466692</td>\n",
       "      <td>Asia</td>\n",
       "      <td>126190788.0</td>\n",
       "      <td>1.220699e+12</td>\n",
       "      <td>9673.443674</td>\n",
       "    </tr>\n",
       "    <tr>\n",
       "      <th>509</th>\n",
       "      <td>South Korea</td>\n",
       "      <td>2015</td>\n",
       "      <td>3.784732</td>\n",
       "      <td>Asia</td>\n",
       "      <td>127575529.0</td>\n",
       "      <td>1.258287e+12</td>\n",
       "      <td>9863.072699</td>\n",
       "    </tr>\n",
       "    <tr>\n",
       "      <th>565</th>\n",
       "      <td>South Korea</td>\n",
       "      <td>2016</td>\n",
       "      <td>3.590065</td>\n",
       "      <td>Asia</td>\n",
       "      <td>2888111.0</td>\n",
       "      <td>2.988349e+09</td>\n",
       "      <td>1034.707058</td>\n",
       "    </tr>\n",
       "    <tr>\n",
       "      <th>621</th>\n",
       "      <td>South Korea</td>\n",
       "      <td>2017</td>\n",
       "      <td>3.677546</td>\n",
       "      <td>Asia</td>\n",
       "      <td>2880095.0</td>\n",
       "      <td>3.408245e+09</td>\n",
       "      <td>1183.379211</td>\n",
       "    </tr>\n",
       "    <tr>\n",
       "      <th>677</th>\n",
       "      <td>South Korea</td>\n",
       "      <td>2018</td>\n",
       "      <td>4.115034</td>\n",
       "      <td>Asia</td>\n",
       "      <td>2873429.0</td>\n",
       "      <td>4.401189e+09</td>\n",
       "      <td>1531.685476</td>\n",
       "    </tr>\n",
       "    <tr>\n",
       "      <th>746</th>\n",
       "      <td>South Korea</td>\n",
       "      <td>2019</td>\n",
       "      <td>4.022886</td>\n",
       "      <td>Asia</td>\n",
       "      <td>2867964.0</td>\n",
       "      <td>6.054850e+09</td>\n",
       "      <td>2111.201495</td>\n",
       "    </tr>\n",
       "  </tbody>\n",
       "</table>\n",
       "</div>"
      ],
      "text/plain": [
       "            name  date  dollar_price continent   population           gdp  \\\n",
       "29   South Korea  2005      2.486325      Asia  112463887.0  9.000454e+11   \n",
       "65   South Korea  2006      2.557676      Asia  114092963.0  1.057801e+12   \n",
       "111  South Korea  2007      3.084614      Asia  115695473.0  1.180490e+12   \n",
       "152  South Korea  2008      3.143264      Asia  117274155.0  1.201090e+12   \n",
       "193  South Korea  2009      2.586535      Asia  118827161.0  1.274443e+12   \n",
       "234  South Korea  2010      2.981149      Asia  120355128.0  1.314564e+12   \n",
       "287  South Korea  2011      3.503124      Asia  121858258.0  1.170565e+12   \n",
       "342  South Korea  2012      3.193096      Asia  123333376.0  1.077904e+12   \n",
       "397  South Korea  2013      3.408646      Asia  124777324.0  1.157736e+12   \n",
       "453  South Korea  2014      3.466692      Asia  126190788.0  1.220699e+12   \n",
       "509  South Korea  2015      3.784732      Asia  127575529.0  1.258287e+12   \n",
       "565  South Korea  2016      3.590065      Asia    2888111.0  2.988349e+09   \n",
       "621  South Korea  2017      3.677546      Asia    2880095.0  3.408245e+09   \n",
       "677  South Korea  2018      4.115034      Asia    2873429.0  4.401189e+09   \n",
       "746  South Korea  2019      4.022886      Asia    2867964.0  6.054850e+09   \n",
       "\n",
       "     gdp_per_capita  \n",
       "29      8002.972106  \n",
       "65      9271.398233  \n",
       "111    10203.420854  \n",
       "152    10241.727915  \n",
       "193    10725.183317  \n",
       "234    10922.376049  \n",
       "287     9605.952351  \n",
       "342     8739.756043  \n",
       "397     9278.418168  \n",
       "453     9673.443674  \n",
       "509     9863.072699  \n",
       "565     1034.707058  \n",
       "621     1183.379211  \n",
       "677     1531.685476  \n",
       "746     2111.201495  "
      ]
     },
     "execution_count": 21,
     "metadata": {},
     "output_type": "execute_result"
    }
   ],
   "source": [
    "bigmac_df[bigmac_df.name == 'South Korea']"
   ]
  },
  {
   "cell_type": "code",
   "execution_count": null,
   "metadata": {},
   "outputs": [],
   "source": []
  }
 ],
 "metadata": {
  "kernelspec": {
   "display_name": "Python 3",
   "language": "python",
   "name": "python3"
  },
  "language_info": {
   "codemirror_mode": {
    "name": "ipython",
    "version": 3
   },
   "file_extension": ".py",
   "mimetype": "text/x-python",
   "name": "python",
   "nbconvert_exporter": "python",
   "pygments_lexer": "ipython3",
   "version": "3.7.6"
  }
 },
 "nbformat": 4,
 "nbformat_minor": 4
}
