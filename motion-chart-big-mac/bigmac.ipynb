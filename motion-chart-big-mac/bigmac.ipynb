{
 "cells": [
  {
   "cell_type": "code",
   "execution_count": 395,
   "metadata": {},
   "outputs": [],
   "source": [
    "import pandas as pd\n",
    "from pandas.errors import ParserError\n",
    "import plotly.graph_objects as go\n",
    "import numpy as np\n",
    "import requests\n",
    "import io"
   ]
  },
  {
   "cell_type": "code",
   "execution_count": 426,
   "metadata": {},
   "outputs": [],
   "source": [
    "def read_raw_file(link):\n",
    "    raw_csv = requests.get(link).content\n",
    "    try:\n",
    "        df = pd.read_csv(io.StringIO(raw_csv.decode('utf-8')))\n",
    "    except ParserError:\n",
    "        df = pd.read_csv(io.StringIO(raw_csv.decode('utf-8')), skiprows=3)\n",
    "    return df\n",
    "\n",
    "bigmac_df = read_raw_file('https://github.com/valiotti/leftjoin/raw/master/motion-chart-big-mac/big-mac.csv')\n",
    "population_df = read_raw_file('https://github.com/valiotti/leftjoin/raw/master/motion-chart-big-mac/population.csv')\n",
    "dgp_df = read_raw_file('https://github.com/valiotti/leftjoin/raw/master/motion-chart-big-mac/gdp.csv')\n",
    "continents_df = read_raw_file('https://github.com/valiotti/leftjoin/raw/master/motion-chart-big-mac/continents.csv')"
   ]
  },
  {
   "cell_type": "code",
   "execution_count": 427,
   "metadata": {},
   "outputs": [],
   "source": [
    "bigmac_df = bigmac_df[['name', 'local_price', 'dollar_ex', 'iso_a3', 'date']]\n",
    "bigmac_df = bigmac_df[bigmac_df['date'] >= '2005-01-01']\n",
    "bigmac_df = bigmac_df[bigmac_df['date'] < '2020-01-01']\n",
    "bigmac_df['date'] = pd.DatetimeIndex(bigmac_df['date']).year\n",
    "bigmac_df = bigmac_df.drop_duplicates(['date', 'name'])\n",
    "bigmac_df = bigmac_df.reset_index(drop=True)\n",
    "bigmac_df['dollar_price'] = bigmac_df['local_price'] / bigmac_df['dollar_ex']"
   ]
  },
  {
   "cell_type": "code",
   "execution_count": 428,
   "metadata": {},
   "outputs": [
    {
     "data": {
      "text/html": [
       "<div>\n",
       "<style scoped>\n",
       "    .dataframe tbody tr th:only-of-type {\n",
       "        vertical-align: middle;\n",
       "    }\n",
       "\n",
       "    .dataframe tbody tr th {\n",
       "        vertical-align: top;\n",
       "    }\n",
       "\n",
       "    .dataframe thead th {\n",
       "        text-align: right;\n",
       "    }\n",
       "</style>\n",
       "<table border=\"1\" class=\"dataframe\">\n",
       "  <thead>\n",
       "    <tr style=\"text-align: right;\">\n",
       "      <th></th>\n",
       "      <th>name</th>\n",
       "      <th>local_price</th>\n",
       "      <th>dollar_ex</th>\n",
       "      <th>iso_a3</th>\n",
       "      <th>date</th>\n",
       "      <th>dollar_price</th>\n",
       "    </tr>\n",
       "  </thead>\n",
       "  <tbody>\n",
       "    <tr>\n",
       "      <th>0</th>\n",
       "      <td>Argentina</td>\n",
       "      <td>4.75</td>\n",
       "      <td>2.897000</td>\n",
       "      <td>ARG</td>\n",
       "      <td>2005</td>\n",
       "      <td>1.639627</td>\n",
       "    </tr>\n",
       "    <tr>\n",
       "      <th>1</th>\n",
       "      <td>Australia</td>\n",
       "      <td>3.25</td>\n",
       "      <td>1.301500</td>\n",
       "      <td>AUS</td>\n",
       "      <td>2005</td>\n",
       "      <td>2.497119</td>\n",
       "    </tr>\n",
       "    <tr>\n",
       "      <th>2</th>\n",
       "      <td>Brazil</td>\n",
       "      <td>5.90</td>\n",
       "      <td>2.464800</td>\n",
       "      <td>BRA</td>\n",
       "      <td>2005</td>\n",
       "      <td>2.393703</td>\n",
       "    </tr>\n",
       "    <tr>\n",
       "      <th>3</th>\n",
       "      <td>Britain</td>\n",
       "      <td>1.88</td>\n",
       "      <td>0.546448</td>\n",
       "      <td>GBR</td>\n",
       "      <td>2005</td>\n",
       "      <td>3.440400</td>\n",
       "    </tr>\n",
       "    <tr>\n",
       "      <th>4</th>\n",
       "      <td>Canada</td>\n",
       "      <td>3.28</td>\n",
       "      <td>1.249400</td>\n",
       "      <td>CAN</td>\n",
       "      <td>2005</td>\n",
       "      <td>2.625260</td>\n",
       "    </tr>\n",
       "    <tr>\n",
       "      <th>...</th>\n",
       "      <td>...</td>\n",
       "      <td>...</td>\n",
       "      <td>...</td>\n",
       "      <td>...</td>\n",
       "      <td>...</td>\n",
       "      <td>...</td>\n",
       "    </tr>\n",
       "    <tr>\n",
       "      <th>776</th>\n",
       "      <td>Ukraine</td>\n",
       "      <td>54.00</td>\n",
       "      <td>27.800000</td>\n",
       "      <td>UKR</td>\n",
       "      <td>2019</td>\n",
       "      <td>1.942446</td>\n",
       "    </tr>\n",
       "    <tr>\n",
       "      <th>777</th>\n",
       "      <td>Uruguay</td>\n",
       "      <td>140.00</td>\n",
       "      <td>32.510000</td>\n",
       "      <td>URY</td>\n",
       "      <td>2019</td>\n",
       "      <td>4.306367</td>\n",
       "    </tr>\n",
       "    <tr>\n",
       "      <th>778</th>\n",
       "      <td>United States</td>\n",
       "      <td>5.58</td>\n",
       "      <td>1.000000</td>\n",
       "      <td>USA</td>\n",
       "      <td>2019</td>\n",
       "      <td>5.580000</td>\n",
       "    </tr>\n",
       "    <tr>\n",
       "      <th>779</th>\n",
       "      <td>Vietnam</td>\n",
       "      <td>65000.00</td>\n",
       "      <td>23199.000000</td>\n",
       "      <td>VNM</td>\n",
       "      <td>2019</td>\n",
       "      <td>2.801845</td>\n",
       "    </tr>\n",
       "    <tr>\n",
       "      <th>780</th>\n",
       "      <td>South Africa</td>\n",
       "      <td>31.00</td>\n",
       "      <td>13.867500</td>\n",
       "      <td>ZAF</td>\n",
       "      <td>2019</td>\n",
       "      <td>2.235443</td>\n",
       "    </tr>\n",
       "  </tbody>\n",
       "</table>\n",
       "<p>781 rows × 6 columns</p>\n",
       "</div>"
      ],
      "text/plain": [
       "              name  local_price     dollar_ex iso_a3  date  dollar_price\n",
       "0        Argentina         4.75      2.897000    ARG  2005      1.639627\n",
       "1        Australia         3.25      1.301500    AUS  2005      2.497119\n",
       "2           Brazil         5.90      2.464800    BRA  2005      2.393703\n",
       "3          Britain         1.88      0.546448    GBR  2005      3.440400\n",
       "4           Canada         3.28      1.249400    CAN  2005      2.625260\n",
       "..             ...          ...           ...    ...   ...           ...\n",
       "776        Ukraine        54.00     27.800000    UKR  2019      1.942446\n",
       "777        Uruguay       140.00     32.510000    URY  2019      4.306367\n",
       "778  United States         5.58      1.000000    USA  2019      5.580000\n",
       "779        Vietnam     65000.00  23199.000000    VNM  2019      2.801845\n",
       "780   South Africa        31.00     13.867500    ZAF  2019      2.235443\n",
       "\n",
       "[781 rows x 6 columns]"
      ]
     },
     "execution_count": 428,
     "metadata": {},
     "output_type": "execute_result"
    }
   ],
   "source": [
    "bigmac_df"
   ]
  },
  {
   "cell_type": "code",
   "execution_count": 429,
   "metadata": {},
   "outputs": [],
   "source": [
    "continents_df = continents_df[['Continent_Name', 'Three_Letter_Country_Code']]\n",
    "continents_list = []\n",
    "for country in bigmac_df['iso_a3']:\n",
    "    try:\n",
    "        continents_list.append(continents_df.loc[continents_df['Three_Letter_Country_Code'] == country]['Continent_Name'].item())\n",
    "    except ValueError:\n",
    "        continents_list.append('Europe')\n",
    "bigmac_df['continent'] = continents_list"
   ]
  },
  {
   "cell_type": "code",
   "execution_count": 430,
   "metadata": {},
   "outputs": [],
   "source": [
    "bigmac_df = bigmac_df.drop(['local_price', 'iso_a3', 'dollar_ex'], axis=1)"
   ]
  },
  {
   "cell_type": "code",
   "execution_count": 431,
   "metadata": {},
   "outputs": [],
   "source": [
    "bigmac_df = bigmac_df.sort_values(by=['name', 'date'])\n",
    "bigmac_df['date'] = bigmac_df['date'].astype(int)"
   ]
  },
  {
   "cell_type": "code",
   "execution_count": 432,
   "metadata": {},
   "outputs": [
    {
     "data": {
      "text/html": [
       "<div>\n",
       "<style scoped>\n",
       "    .dataframe tbody tr th:only-of-type {\n",
       "        vertical-align: middle;\n",
       "    }\n",
       "\n",
       "    .dataframe tbody tr th {\n",
       "        vertical-align: top;\n",
       "    }\n",
       "\n",
       "    .dataframe thead th {\n",
       "        text-align: right;\n",
       "    }\n",
       "</style>\n",
       "<table border=\"1\" class=\"dataframe\">\n",
       "  <thead>\n",
       "    <tr style=\"text-align: right;\">\n",
       "      <th></th>\n",
       "      <th>name</th>\n",
       "      <th>date</th>\n",
       "      <th>dollar_price</th>\n",
       "      <th>continent</th>\n",
       "    </tr>\n",
       "  </thead>\n",
       "  <tbody>\n",
       "    <tr>\n",
       "      <th>0</th>\n",
       "      <td>Argentina</td>\n",
       "      <td>2005</td>\n",
       "      <td>1.639627</td>\n",
       "      <td>South America</td>\n",
       "    </tr>\n",
       "    <tr>\n",
       "      <th>41</th>\n",
       "      <td>Argentina</td>\n",
       "      <td>2006</td>\n",
       "      <td>1.550362</td>\n",
       "      <td>South America</td>\n",
       "    </tr>\n",
       "    <tr>\n",
       "      <th>82</th>\n",
       "      <td>Argentina</td>\n",
       "      <td>2007</td>\n",
       "      <td>2.670983</td>\n",
       "      <td>South America</td>\n",
       "    </tr>\n",
       "    <tr>\n",
       "      <th>123</th>\n",
       "      <td>Argentina</td>\n",
       "      <td>2008</td>\n",
       "      <td>3.642987</td>\n",
       "      <td>South America</td>\n",
       "    </tr>\n",
       "    <tr>\n",
       "      <th>163</th>\n",
       "      <td>Argentina</td>\n",
       "      <td>2009</td>\n",
       "      <td>3.017383</td>\n",
       "      <td>South America</td>\n",
       "    </tr>\n",
       "    <tr>\n",
       "      <th>...</th>\n",
       "      <td>...</td>\n",
       "      <td>...</td>\n",
       "      <td>...</td>\n",
       "      <td>...</td>\n",
       "    </tr>\n",
       "    <tr>\n",
       "      <th>522</th>\n",
       "      <td>Vietnam</td>\n",
       "      <td>2015</td>\n",
       "      <td>2.806361</td>\n",
       "      <td>Asia</td>\n",
       "    </tr>\n",
       "    <tr>\n",
       "      <th>578</th>\n",
       "      <td>Vietnam</td>\n",
       "      <td>2016</td>\n",
       "      <td>2.670524</td>\n",
       "      <td>Asia</td>\n",
       "    </tr>\n",
       "    <tr>\n",
       "      <th>634</th>\n",
       "      <td>Vietnam</td>\n",
       "      <td>2017</td>\n",
       "      <td>2.658161</td>\n",
       "      <td>Asia</td>\n",
       "    </tr>\n",
       "    <tr>\n",
       "      <th>690</th>\n",
       "      <td>Vietnam</td>\n",
       "      <td>2018</td>\n",
       "      <td>2.861986</td>\n",
       "      <td>Asia</td>\n",
       "    </tr>\n",
       "    <tr>\n",
       "      <th>779</th>\n",
       "      <td>Vietnam</td>\n",
       "      <td>2019</td>\n",
       "      <td>2.801845</td>\n",
       "      <td>Asia</td>\n",
       "    </tr>\n",
       "  </tbody>\n",
       "</table>\n",
       "<p>781 rows × 4 columns</p>\n",
       "</div>"
      ],
      "text/plain": [
       "          name  date  dollar_price      continent\n",
       "0    Argentina  2005      1.639627  South America\n",
       "41   Argentina  2006      1.550362  South America\n",
       "82   Argentina  2007      2.670983  South America\n",
       "123  Argentina  2008      3.642987  South America\n",
       "163  Argentina  2009      3.017383  South America\n",
       "..         ...   ...           ...            ...\n",
       "522    Vietnam  2015      2.806361           Asia\n",
       "578    Vietnam  2016      2.670524           Asia\n",
       "634    Vietnam  2017      2.658161           Asia\n",
       "690    Vietnam  2018      2.861986           Asia\n",
       "779    Vietnam  2019      2.801845           Asia\n",
       "\n",
       "[781 rows x 4 columns]"
      ]
     },
     "execution_count": 432,
     "metadata": {},
     "output_type": "execute_result"
    }
   ],
   "source": [
    "bigmac_df"
   ]
  },
  {
   "cell_type": "code",
   "execution_count": 433,
   "metadata": {},
   "outputs": [],
   "source": [
    "countries_list = list(bigmac_df['name'].unique())\n",
    "\n",
    "for country in countries_list:\n",
    "    if len(bigmac_df[bigmac_df['name'] == country]) < 15:\n",
    "        bigmac_df = bigmac_df[bigmac_df['name'] != country]\n",
    "bigmac_df = bigmac_df[bigmac_df['name'] != 'Taiwan']"
   ]
  },
  {
   "cell_type": "code",
   "execution_count": 434,
   "metadata": {},
   "outputs": [],
   "source": [
    "years = [str(i) for i in range(2005, 2020)]"
   ]
  },
  {
   "cell_type": "code",
   "execution_count": 435,
   "metadata": {},
   "outputs": [],
   "source": [
    "countries_replace_dict = {\n",
    "    'Russian Federation': 'Russia',\n",
    "    'Egypt, Arab Rep.': 'Egypt',\n",
    "    'Hong Kong SAR, China': 'Hong Kong',\n",
    "    'United Kingdom': 'Britain',\n",
    "    'Korea, Rep.': 'South Korea',\n",
    "    'United Arab Emirates': 'UAE',\n",
    "    'Venezuela, RB': 'Venezuela'\n",
    "}\n",
    "for key, value in countries_replace_dict.items():\n",
    "    population_df['Country Name'] = population_df['Country Name'].replace(key, value)\n",
    "    gdp_df['Country Name'] = gdp_df['Country Name'].replace(key, value)"
   ]
  },
  {
   "cell_type": "code",
   "execution_count": 436,
   "metadata": {},
   "outputs": [],
   "source": [
    "countries_list = list(bigmac_df['name'].unique())\n",
    "\n",
    "population_list = []\n",
    "gdp_list = []\n",
    "for country in countries_list:\n",
    "    population_for_country_df = population_df[population_df['Country Name'] == country][years]\n",
    "    population_list.extend(list(population_for_country_df.values[0]))\n",
    "    gdp_for_country_df = gdp_df[gdp_df['Country Name'] == country][years]\n",
    "    gdp_list.extend(list(gdp_for_country_df.values[0]))\n",
    "    \n",
    "bigmac_df['population'] = population_list\n",
    "bigmac_df['gdp'] = gdp_list"
   ]
  },
  {
   "cell_type": "code",
   "execution_count": 437,
   "metadata": {},
   "outputs": [],
   "source": [
    "fig_dict = {\n",
    "    \"data\": [],\n",
    "    \"layout\": {},\n",
    "    \"frames\": []\n",
    "}\n",
    "\n",
    "fig_dict[\"layout\"][\"xaxis\"] = {\"title\": \"Численность населения\", \"type\": \"log\"}\n",
    "fig_dict[\"layout\"][\"yaxis\"] = {\"title\": \"ВВП на душу населения\", \"type\": \"log\"}\n",
    "fig_dict[\"layout\"][\"hovermode\"] = \"closest\"\n",
    "fig_dict[\"layout\"][\"updatemenus\"] = [\n",
    "    {\n",
    "        \"buttons\": [\n",
    "            {\n",
    "                \"args\": [None, {\"frame\": {\"duration\": 500, \"redraw\": False},\n",
    "                                \"fromcurrent\": True, \"transition\": {\"duration\": 300,\n",
    "                                                                    \"easing\": \"quadratic-in-out\"}}],\n",
    "                \"label\": \"Play\",\n",
    "                \"method\": \"animate\"\n",
    "            },\n",
    "            {\n",
    "                \"args\": [[None], {\"frame\": {\"duration\": 0, \"redraw\": False},\n",
    "                                  \"mode\": \"immediate\",\n",
    "                                  \"transition\": {\"duration\": 0}}],\n",
    "                \"label\": \"Pause\",\n",
    "                \"method\": \"animate\"\n",
    "            }\n",
    "        ],\n",
    "        \"direction\": \"left\",\n",
    "        \"pad\": {\"r\": 10, \"t\": 87},\n",
    "        \"showactive\": False,\n",
    "        \"type\": \"buttons\",\n",
    "        \"x\": 0.1,\n",
    "        \"xanchor\": \"right\",\n",
    "        \"y\": 0,\n",
    "        \"yanchor\": \"top\"\n",
    "    }\n",
    "]"
   ]
  },
  {
   "cell_type": "code",
   "execution_count": 438,
   "metadata": {},
   "outputs": [],
   "source": [
    "sliders_dict = {\n",
    "    \"active\": 0,\n",
    "    \"yanchor\": \"top\",\n",
    "    \"xanchor\": \"left\",\n",
    "    \"currentvalue\": {\n",
    "        \"font\": {\"size\": 20},\n",
    "        \"prefix\": \"Year:\",\n",
    "        \"visible\": True,\n",
    "        \"xanchor\": \"right\"\n",
    "    },\n",
    "    \"transition\": {\"duration\": 300, \"easing\": \"cubic-in-out\"},\n",
    "    \"pad\": {\"b\": 10, \"t\": 50},\n",
    "    \"len\": 0.9,\n",
    "    \"x\": 0.1,\n",
    "    \"y\": 0,\n",
    "    \"steps\": []\n",
    "}"
   ]
  },
  {
   "cell_type": "code",
   "execution_count": 439,
   "metadata": {},
   "outputs": [],
   "source": [
    "continents_list_from_df = list(df['continent'].unique())"
   ]
  },
  {
   "cell_type": "code",
   "execution_count": 440,
   "metadata": {},
   "outputs": [],
   "source": [
    "# make data\n",
    "\n",
    "year = 2005\n",
    "for continent in continents_list_from_df:\n",
    "    dataset_by_year = bigmac_df[bigmac_df[\"date\"] == year]\n",
    "    dataset_by_year_and_cont = dataset_by_year[dataset_by_year[\"continent\"] == continent]\n",
    "    \n",
    "    data_dict = {\n",
    "        \"x\": dataset_by_year_and_cont[\"population\"],\n",
    "        \"y\": dataset_by_year_and_cont[\"gdp\"],\n",
    "        \"mode\": \"markers\",\n",
    "        \"text\": dataset_by_year_and_cont[\"name\"],\n",
    "        \"marker\": {\n",
    "            \"sizemode\": \"area\",\n",
    "            \"sizeref\": 200000,\n",
    "            \"size\":  np.array(dataset_by_year_and_cont[\"dollar_price\"]) * 20000000\n",
    "        },\n",
    "        \"name\": continent\n",
    "    }\n",
    "    fig_dict[\"data\"].append(data_dict)"
   ]
  },
  {
   "cell_type": "code",
   "execution_count": 441,
   "metadata": {},
   "outputs": [],
   "source": [
    "# make frames\n",
    "for year in years:\n",
    "    frame = {\"data\": [], \"name\": str(year)}\n",
    "    for continent in continents_list_from_df:\n",
    "        dataset_by_year = bigmac_df[bigmac_df[\"date\"] == int(year)]\n",
    "        dataset_by_year_and_cont = dataset_by_year[dataset_by_year[\"continent\"] == continent]\n",
    "\n",
    "        data_dict = {\n",
    "            \"x\": list(dataset_by_year_and_cont[\"population\"]),\n",
    "            \"y\": list(dataset_by_year_and_cont[\"gdp\"]),\n",
    "            \"mode\": \"markers\",\n",
    "            \"text\": list(dataset_by_year_and_cont[\"name\"]),\n",
    "            \"marker\": {\n",
    "                \"sizemode\": \"area\",\n",
    "                \"sizeref\": 200000,\n",
    "                \"size\": np.array(dataset_by_year_and_cont[\"dollar_price\"]) * 20000000\n",
    "            },\n",
    "            \"name\": continent\n",
    "        }\n",
    "        frame[\"data\"].append(data_dict)\n",
    "\n",
    "    fig_dict[\"frames\"].append(frame)\n",
    "    slider_step = {\"args\": [\n",
    "        [year],\n",
    "        {\"frame\": {\"duration\": 300, \"redraw\": False},\n",
    "         \"mode\": \"immediate\",\n",
    "         \"transition\": {\"duration\": 300}}\n",
    "    ],\n",
    "        \"label\": year,\n",
    "        \"method\": \"animate\"}\n",
    "    sliders_dict[\"steps\"].append(slider_step)"
   ]
  },
  {
   "cell_type": "code",
   "execution_count": 442,
   "metadata": {},
   "outputs": [
    {
     "data": {
      "application/vnd.plotly.v1+json": {
       "config": {
        "plotlyServerURL": "https://plotly.com"
       },
       "data": [
        {
         "marker": {
          "size": [
           32792544.01104591,
           47874066.861408636,
           50637184.57253776,
           55849121.45035873,
           55244884.16395256,
           36476683.93782383
          ],
          "sizemode": "area",
          "sizeref": 200000
         },
         "mode": "markers",
         "name": "South America",
         "text": [
          "Argentina",
          "Brazil",
          "Chile",
          "Colombia",
          "Peru",
          "Uruguay"
         ],
         "type": "scatter",
         "x": [
          38892931,
          186127103,
          16182721,
          42647723,
          27866145,
          3321803
         ],
         "y": [
          198737095012.28198,
          891630177251.068,
          122964812046.07301,
          145619193046.094,
          76060606060.606,
          17362857683.8545
         ]
        },
        {
         "marker": {
          "size": [
           49942374.183634266,
           63467161.092490904
          ],
          "sizemode": "area",
          "sizeref": 200000
         },
         "mode": "markers",
         "name": "Oceania",
         "text": [
          "Australia",
          "New Zealand"
         ],
         "type": "scatter",
         "x": [
          20394800,
          4133900
         ],
         "y": [
          693407758231.845,
          114720129550.095
         ]
        },
        {
         "marker": {
          "size": [
           68808000.05435832,
           45980383.767506495,
           91513182.84498821,
           71662639.96460581,
           52051875.09514199,
           121257345.39688462,
           39279671.25936669,
           29571737.867666475,
           83331093.25018144,
           101002004.00801602,
           58436815.19357195,
           28656126.48221344
          ],
          "sizemode": "area",
          "sizeref": 200000
         },
         "mode": "markers",
         "name": "Europe",
         "text": [
          "Britain",
          "Czech Republic",
          "Denmark",
          "Euro area",
          "Hungary",
          "Norway",
          "Poland",
          "Russia",
          "Sweden",
          "Switzerland",
          "Turkey",
          "Ukraine"
         ],
         "type": "scatter",
         "x": [
          60401206,
          10211216,
          5419432,
          329380417,
          10087065,
          4623291,
          38165445,
          143518814,
          9029572,
          7437115,
          67903469,
          47105171
         ],
         "y": [
          2538680000000,
          136280689891.224,
          264467336457.17,
          10519107942453.8,
          112980947728.38301,
          308884284051.222,
          306123628496.368,
          764017107992.3921,
          392218088878.779,
          408689353999.35706,
          501416301503.424,
          86057915585.3026
         ]
        },
        {
         "marker": {
          "size": [
           52505202.49719865,
           47548916.473806016,
           51529790.66022544,
           61200000
          ],
          "sizemode": "area",
          "sizeref": 200000
         },
         "mode": "markers",
         "name": "North America",
         "text": [
          "Canada",
          "Costa Rica",
          "Mexico",
          "United States"
         ],
         "type": "scatter",
         "x": [
          32243753,
          4285502,
          106005203,
          295516599
         ],
         "y": [
          1169357979864.66,
          19948261084.3726,
          877476221382.101,
          13036640229000
         ]
        },
        {
         "marker": {
          "size": [
           25373350.732202407,
           30845553.74195124,
           30591932.949188057,
           46853769.38574708,
           27631578.94736842,
           43609527.00436095,
           29330889.092575617,
           47998720.03413242,
           43355211.657734685,
           49726504.226752855,
           35019260.59332633,
           29607698.001480386
          ],
          "sizemode": "area",
          "sizeref": 200000
         },
         "mode": "markers",
         "name": "Asia",
         "text": [
          "China",
          "Hong Kong",
          "Indonesia",
          "Japan",
          "Malaysia",
          "Pakistan",
          "Philippines",
          "Saudi Arabia",
          "Singapore",
          "South Korea",
          "Sri Lanka",
          "Thailand"
         ],
         "type": "scatter",
         "x": [
          1303720000,
          6813200,
          226289470,
          127773000,
          25690611,
          160304008,
          86326250,
          23816183,
          4265762,
          48184561,
          19544988,
          65416189
         ],
         "y": [
          2285965892360.54,
          181570082162.19,
          285868618224.01697,
          4755410630912.14,
          143534102611.49698,
          120055291992.938,
          107419986400.188,
          328459608764.111,
          127807618360.971,
          934901071332.984,
          24405791044.7761,
          189318549680.38397
         ]
        },
        {
         "marker": {
          "size": [
           31034482.75862069,
           41966246.50281279
          ],
          "sizemode": "area",
          "sizeref": 200000
         },
         "mode": "markers",
         "name": "Africa",
         "text": [
          "Egypt",
          "South Africa"
         ],
         "type": "scatter",
         "x": [
          75523569,
          47880601
         ],
         "y": [
          89685725230.2517,
          257772710832.953
         ]
        }
       ],
       "frames": [
        {
         "data": [
          {
           "marker": {
            "size": [
             32792544.01104591,
             47874066.861408636,
             50637184.57253776,
             55849121.45035873,
             55244884.16395256,
             36476683.93782383
            ],
            "sizemode": "area",
            "sizeref": 200000
           },
           "mode": "markers",
           "name": "South America",
           "text": [
            "Argentina",
            "Brazil",
            "Chile",
            "Colombia",
            "Peru",
            "Uruguay"
           ],
           "type": "scatter",
           "x": [
            38892931,
            186127103,
            16182721,
            42647723,
            27866145,
            3321803
           ],
           "y": [
            198737095012.28198,
            891630177251.068,
            122964812046.07301,
            145619193046.094,
            76060606060.606,
            17362857683.8545
           ]
          },
          {
           "marker": {
            "size": [
             49942374.183634266,
             63467161.092490904
            ],
            "sizemode": "area",
            "sizeref": 200000
           },
           "mode": "markers",
           "name": "Oceania",
           "text": [
            "Australia",
            "New Zealand"
           ],
           "type": "scatter",
           "x": [
            20394800,
            4133900
           ],
           "y": [
            693407758231.845,
            114720129550.095
           ]
          },
          {
           "marker": {
            "size": [
             68808000.05435832,
             45980383.767506495,
             91513182.84498821,
             71662639.96460581,
             52051875.09514199,
             121257345.39688462,
             39279671.25936669,
             29571737.867666475,
             83331093.25018144,
             101002004.00801602,
             58436815.19357195,
             28656126.48221344
            ],
            "sizemode": "area",
            "sizeref": 200000
           },
           "mode": "markers",
           "name": "Europe",
           "text": [
            "Britain",
            "Czech Republic",
            "Denmark",
            "Euro area",
            "Hungary",
            "Norway",
            "Poland",
            "Russia",
            "Sweden",
            "Switzerland",
            "Turkey",
            "Ukraine"
           ],
           "type": "scatter",
           "x": [
            60401206,
            10211216,
            5419432,
            329380417,
            10087065,
            4623291,
            38165445,
            143518814,
            9029572,
            7437115,
            67903469,
            47105171
           ],
           "y": [
            2538680000000,
            136280689891.224,
            264467336457.17,
            10519107942453.8,
            112980947728.38301,
            308884284051.222,
            306123628496.368,
            764017107992.3921,
            392218088878.779,
            408689353999.35706,
            501416301503.424,
            86057915585.3026
           ]
          },
          {
           "marker": {
            "size": [
             52505202.49719865,
             47548916.473806016,
             51529790.66022544,
             61200000
            ],
            "sizemode": "area",
            "sizeref": 200000
           },
           "mode": "markers",
           "name": "North America",
           "text": [
            "Canada",
            "Costa Rica",
            "Mexico",
            "United States"
           ],
           "type": "scatter",
           "x": [
            32243753,
            4285502,
            106005203,
            295516599
           ],
           "y": [
            1169357979864.66,
            19948261084.3726,
            877476221382.101,
            13036640229000
           ]
          },
          {
           "marker": {
            "size": [
             25373350.732202407,
             30845553.74195124,
             30591932.949188057,
             46853769.38574708,
             27631578.94736842,
             43609527.00436095,
             29330889.092575617,
             47998720.03413242,
             43355211.657734685,
             49726504.226752855,
             35019260.59332633,
             29607698.001480386
            ],
            "sizemode": "area",
            "sizeref": 200000
           },
           "mode": "markers",
           "name": "Asia",
           "text": [
            "China",
            "Hong Kong",
            "Indonesia",
            "Japan",
            "Malaysia",
            "Pakistan",
            "Philippines",
            "Saudi Arabia",
            "Singapore",
            "South Korea",
            "Sri Lanka",
            "Thailand"
           ],
           "type": "scatter",
           "x": [
            1303720000,
            6813200,
            226289470,
            127773000,
            25690611,
            160304008,
            86326250,
            23816183,
            4265762,
            48184561,
            19544988,
            65416189
           ],
           "y": [
            2285965892360.54,
            181570082162.19,
            285868618224.01697,
            4755410630912.14,
            143534102611.49698,
            120055291992.938,
            107419986400.188,
            328459608764.111,
            127807618360.971,
            934901071332.984,
            24405791044.7761,
            189318549680.38397
           ]
          },
          {
           "marker": {
            "size": [
             31034482.75862069,
             41966246.50281279
            ],
            "sizemode": "area",
            "sizeref": 200000
           },
           "mode": "markers",
           "name": "Africa",
           "text": [
            "Egypt",
            "South Africa"
           ],
           "type": "scatter",
           "x": [
            75523569,
            47880601
           ],
           "y": [
            89685725230.2517,
            257772710832.953
           ]
          }
         ],
         "name": "2005"
        },
        {
         "data": [
          {
           "marker": {
            "size": [
             31007245.903779622,
             54830864.4704842,
             59684361.54949785,
             51925227.6721521,
             55136390.01741149,
             35343782.65412748
            ],
            "sizemode": "area",
            "sizeref": 200000
           },
           "mode": "markers",
           "name": "South America",
           "text": [
            "Argentina",
            "Brazil",
            "Chile",
            "Colombia",
            "Peru",
            "Uruguay"
           ],
           "type": "scatter",
           "x": [
            39289878,
            188167356,
            16354504,
            43200897,
            28102056,
            3325401
           ],
           "y": [
            232557260817.308,
            1107640289615.23,
            154788024805.808,
            161618580752.945,
            88643193061.748,
            19579457966.0538
           ]
          },
          {
           "marker": {
            "size": [
             48842801.322512776,
             61519319.83134028
            ],
            "sizemode": "area",
            "sizeref": 200000
           },
           "mode": "markers",
           "name": "Oceania",
           "text": [
            "Australia",
            "New Zealand"
           ],
           "type": "scatter",
           "x": [
            20697900,
            4184600
           ],
           "y": [
            746054207846.6609,
            111608845081.38301
           ]
          },
          {
           "marker": {
            "size": [
             66322639.961818054,
             52018877.81856319,
             89850896.08055821,
             70276499.99121544,
             54117783.49021049,
             140930468.83961788,
             41732207.633783825,
             32089291.942797348,
             85582022.58846718,
             98622417.03193487,
             61354283.576505795,
             33663366.33663367
            ],
            "sizemode": "area",
            "sizeref": 200000
           },
           "mode": "markers",
           "name": "Europe",
           "text": [
            "Britain",
            "Czech Republic",
            "Denmark",
            "Euro area",
            "Hungary",
            "Norway",
            "Poland",
            "Russia",
            "Sweden",
            "Switzerland",
            "Turkey",
            "Ukraine"
           ],
           "type": "scatter",
           "x": [
            60846820,
            10238905,
            5437272,
            330922789,
            10071370,
            4660677,
            38141267,
            143049637,
            9080505,
            7483934,
            68756810,
            46787786
           ],
           "y": [
            2713749770009.2,
            155463807112.889,
            282884947702.966,
            11174300432026.6,
            115577256523.599,
            345581369965.54,
            344745746326.373,
            989930542278.695,
            423093437423.762,
            430921192375.17896,
            552486912915.646,
            107647920792.07901
           ]
          },
          {
           "marker": {
            "size": [
             60150375.93984962,
             44354166.05336238,
             53118330.56675361,
             63000000
            ],
            "sizemode": "area",
            "sizeref": 200000
           },
           "mode": "markers",
           "name": "North America",
           "text": [
            "Canada",
            "Costa Rica",
            "Mexico",
            "United States"
           ],
           "type": "scatter",
           "x": [
            32571174,
            4345412,
            107560153,
            298379912
           ],
           "y": [
            1315415197461.21,
            22602721765.2812,
            975387131716.0891,
            13814611414000
           ]
          },
          {
           "marker": {
            "size": [
             26041343.733336642,
             30962947.672618434,
             30866807.610993657,
             43742618.4331394,
             29342723.004694834,
             43293647.48980102,
             31190566.755420312,
             48012803.4142438,
             44028618.602091365,
             51153511.68857741,
             36909329.31863435,
             30184882.404728964
            ],
            "sizemode": "area",
            "sizeref": 200000
           },
           "mode": "markers",
           "name": "Asia",
           "text": [
            "China",
            "Hong Kong",
            "Indonesia",
            "Japan",
            "Malaysia",
            "Pakistan",
            "Philippines",
            "Saudi Arabia",
            "Singapore",
            "South Korea",
            "Sri Lanka",
            "Thailand"
           ],
           "type": "scatter",
           "x": [
            1311020000,
            6857100,
            229318262,
            127854000,
            26201961,
            164022627,
            87888675,
            24498310,
            4401365,
            48438292,
            19695972,
            65812536
           ],
           "y": [
            2752131773355.16,
            193536265094.36398,
            364570514304.85,
            4530377224970.4,
            162691238209.47598,
            137264061106.04301,
            127652908954.836,
            376900133511.34796,
            148630373214.173,
            1053216909887.56,
            28279814924.5918,
            221758196504.936
           ]
          },
          {
           "marker": {
            "size": [
             32229965.156794425,
             45885893.78813545
            ],
            "sizemode": "area",
            "sizeref": 200000
           },
           "mode": "markers",
           "name": "Africa",
           "text": [
            "Egypt",
            "South Africa"
           ],
           "type": "scatter",
           "x": [
            76873663,
            48489459
           ],
           "y": [
            107484034870.974,
            271638484826.10898
           ]
          }
         ],
         "name": "2006"
        },
        {
         "data": [
          {
           "marker": {
            "size": [
             53419668.150546335,
             59995312.86618233,
             61834675.5530871,
             61625713.10551171,
             59570465.59021791,
             45977011.49425287
            ],
            "sizemode": "area",
            "sizeref": 200000
           },
           "mode": "markers",
           "name": "South America",
           "text": [
            "Argentina",
            "Brazil",
            "Chile",
            "Colombia",
            "Peru",
            "Uruguay"
           ],
           "type": "scatter",
           "x": [
            39684295,
            190130443,
            16530195,
            43737516,
            28333052,
            3331749
           ],
           "y": [
            287530508430.568,
            1397084349956.35,
            173605968179.255,
            206181823187.67398,
            102170981144.136,
            23410572634.3147
           ]
          },
          {
           "marker": {
            "size": [
             54465156.11371378,
             64427575.002100885
            ],
            "sizemode": "area",
            "sizeref": 200000
           },
           "mode": "markers",
           "name": "Oceania",
           "text": [
            "Australia",
            "New Zealand"
           ],
           "type": "scatter",
           "x": [
            20827600,
            4223800
           ],
           "y": [
            853099630996.31,
            137320496803.116
           ]
          },
          {
           "marker": {
            "size": [
             76674619.99193765,
             48462524.09754827,
             96470567.78578319,
             76184219.95319241,
             60692189.27527868,
             136014289.6940498,
             46437284.42836712,
             36934441.36657433,
             90892952.24569501,
             100921105.32639167,
             64550452.20783826,
             35643564.35643564
            ],
            "sizemode": "area",
            "sizeref": 200000
           },
           "mode": "markers",
           "name": "Europe",
           "text": [
            "Britain",
            "Czech Republic",
            "Denmark",
            "Euro area",
            "Hungary",
            "Norway",
            "Poland",
            "Russia",
            "Sweden",
            "Switzerland",
            "Turkey",
            "Ukraine"
           ],
           "type": "scatter",
           "x": [
            61322463,
            10298828,
            5461438,
            332645165,
            10055780,
            4709153,
            38120560,
            142805114,
            9148092,
            7551117,
            69581848,
            46509355
           ],
           "y": [
            3100882352941.18,
            189227050759.595,
            319423424509.06604,
            12862302208696.2,
            139966001509.59198,
            400937100158.65704,
            429061382275.37103,
            1299705764823.62,
            491252589217.021,
            479913034321.89294,
            675770112211.2211,
            142579603960.396
           ]
          },
          {
           "marker": {
            "size": [
             61795122.7816317,
             44354166.05336238,
             53262806.03155362,
             64400000.00000001
            ],
            "sizemode": "area",
            "sizeref": 200000
           },
           "mode": "markers",
           "name": "North America",
           "text": [
            "Canada",
            "Costa Rica",
            "Mexico",
            "United States"
           ],
           "type": "scatter",
           "x": [
            32889025,
            4404628,
            109170502,
            301231207
           ],
           "y": [
            1464977190205.75,
            26743972564.1217,
            1052696282278.88,
            14451858650000
           ]
          },
          {
           "marker": {
            "size": [
             28298367.69869956,
             30775346.38293507,
             34983498.349834986,
             46058313.11428219,
             31410622.501427755,
             46623928.06593956,
             34658511.7227319,
             48012803.4142438,
             46815566.175753444,
             61692283.14630645,
             36909329.31863435,
             35127478.75354108
            ],
            "sizemode": "area",
            "sizeref": 200000
           },
           "mode": "markers",
           "name": "Asia",
           "text": [
            "China",
            "Hong Kong",
            "Indonesia",
            "Japan",
            "Malaysia",
            "Pakistan",
            "Philippines",
            "Saudi Arabia",
            "Singapore",
            "South Korea",
            "Sri Lanka",
            "Thailand"
           ],
           "type": "scatter",
           "x": [
            1317885000,
            6916300,
            232374245,
            128001000,
            26720370,
            167808105,
            89405482,
            25184597,
            4588599,
            48683638,
            19842044,
            66182067
           ],
           "y": [
            3550342425238.25,
            211597405593.868,
            432216737774.861,
            4515264514430.57,
            193547824063.3,
            152385716311.916,
            155980408071.673,
            415964509673.115,
            180941941477.00897,
            1172614086539.86,
            32350248410.8216,
            262942476722.425
           ]
          },
          {
           "marker": {
            "size": [
             31894736.842105262,
             43602095.71363269
            ],
            "sizemode": "area",
            "sizeref": 200000
           },
           "mode": "markers",
           "name": "Africa",
           "text": [
            "Egypt",
            "South Africa"
           ],
           "type": "scatter",
           "x": [
            78232126,
            49119759
           ],
           "y": [
            130478960092.49901,
            299415505152.29803
           ]
          }
         ],
         "name": "2007"
        },
        {
         "data": [
          {
           "marker": {
            "size": [
             72859744.99089254,
             94661113.21469142,
             62670575.154149406,
             77836154.89394824,
             66901408.45070423,
             63707571.801566586
            ],
            "sizemode": "area",
            "sizeref": 200000
           },
           "mode": "markers",
           "name": "South America",
           "text": [
            "Argentina",
            "Brazil",
            "Chile",
            "Colombia",
            "Peru",
            "Uruguay"
           ],
           "type": "scatter",
           "x": [
            40080160,
            192030362,
            16708258,
            44254975,
            28562317,
            3340221
           ],
           "y": [
            361558037110.419,
            1695824565983.2,
            179638496278.57397,
            242186949772.53302,
            120550599815.441,
            30366213119.2928
           ]
          },
          {
           "marker": {
            "size": [
             67251461.9883041,
             74372011.83881004
            ],
            "sizemode": "area",
            "sizeref": 200000
           },
           "mode": "markers",
           "name": "Oceania",
           "text": [
            "Australia",
            "New Zealand"
           ],
           "type": "scatter",
           "x": [
            21249200,
            4259800
           ],
           "y": [
            1053995523724.26,
            133290222815.77301
           ]
          },
          {
           "marker": {
            "size": [
             91409930.05270238,
             91157715.40114291,
             119037496.81149563,
             106854091.76006944,
             92889257.98119754,
             157506669.42303336,
             68916291.31900859,
             50788513.18779699,
             127498594.99903537,
             127182898.79176247,
             86355061.83190107,
             47826086.95652175
            ],
            "sizemode": "area",
            "sizeref": 200000
           },
           "mode": "markers",
           "name": "Europe",
           "text": [
            "Britain",
            "Czech Republic",
            "Denmark",
            "Euro area",
            "Hungary",
            "Norway",
            "Poland",
            "Russia",
            "Sweden",
            "Switzerland",
            "Turkey",
            "Ukraine"
           ],
           "type": "scatter",
           "x": [
            61806995,
            10384603,
            5493621,
            334274725,
            10038188,
            4768212,
            38125759,
            142742366,
            9219637,
            7647675,
            70418604,
            46258189
           ],
           "y": [
            2922667279411.76,
            235718586901.129,
            353361038818.383,
            14098979489484.3,
            158136326477.965,
            462250000000,
            533813299020.42206,
            1660846387624.78,
            517706149201.19604,
            554363487120.303,
            764335657625.8159,
            179816790704.73898
           ]
          },
          {
           "marker": {
            "size": [
             81510637.2378058,
             65333381.72843091,
             62939469.93165167,
             71400000
            ],
            "sizemode": "area",
            "sizeref": 200000
           },
           "mode": "markers",
           "name": "North America",
           "text": [
            "Canada",
            "Costa Rica",
            "Mexico",
            "United States"
           ],
           "type": "scatter",
           "x": [
            33247118,
            4463125,
            110815271,
            304093966
           ],
           "y": [
            1549131208997.19,
            30612927059.0967,
            1109989063586.62,
            14712844084000
           ]
          },
          {
           "marker": {
            "size": [
             36581796.89786363,
             34113935.4143689,
             40865384.615384616,
             52407468.06419914,
             33971587.3996294,
             39492242.59520451,
             39114308.19377318,
             53339734.101425506,
             58399556.45906487,
             62865281.665929966,
             39051603.90516039,
             37170263.788968824
            ],
            "sizemode": "area",
            "sizeref": 200000
           },
           "mode": "markers",
           "name": "Asia",
           "text": [
            "China",
            "Hong Kong",
            "Indonesia",
            "Japan",
            "Malaysia",
            "Pakistan",
            "Philippines",
            "Saudi Arabia",
            "Singapore",
            "South Korea",
            "Sri Lanka",
            "Thailand"
           ],
           "type": "scatter",
           "x": [
            1324655000,
            6957800,
            235469762,
            128063000,
            27236006,
            171648986,
            90901965,
            25888541,
            4839396,
            49054708,
            19983984,
            66530984
           ],
           "y": [
            4594306848763.08,
            219279678430.16397,
            510228634992.258,
            5037908465114.48,
            230813897715.69,
            170077814106.305,
            181006859907.40198,
            519796800000,
            193611986712.84198,
            1047339010225.25,
            40713812309.7316,
            291382991177.698
           ]
          },
          {
           "marker": {
            "size": [
             48941176.47058824,
             44822001.12385549
            ],
            "sizemode": "area",
            "sizeref": 200000
           },
           "mode": "markers",
           "name": "Africa",
           "text": [
            "Egypt",
            "South Africa"
           ],
           "type": "scatter",
           "x": [
            79636079,
            49779471
           ],
           "y": [
            162818181818.182,
            286769839732.726
           ]
          }
         ],
         "name": "2008"
        },
        {
         "data": [
          {
           "marker": {
            "size": [
             60347654.968842246,
             80416604.07591006,
             63804575.6995716,
             66806642.489024624,
             53220585.32073727,
             52654294.34613724
            ],
            "sizemode": "area",
            "sizeref": 200000
           },
           "mode": "markers",
           "name": "South America",
           "text": [
            "Argentina",
            "Brazil",
            "Chile",
            "Colombia",
            "Peru",
            "Uruguay"
           ],
           "type": "scatter",
           "x": [
            40482788,
            193886508,
            16886186,
            44750054,
            28792655,
            3349676
           ],
           "y": [
            332976484577.61896,
            1667019783585.08,
            172389498444.621,
            232397835356.345,
            120822986521.479,
            31660911277.0294
           ]
          },
          {
           "marker": {
            "size": [
             67448908.22907764,
             61544258.48588564
            ],
            "sizemode": "area",
            "sizeref": 200000
           },
           "mode": "markers",
           "name": "Oceania",
           "text": [
            "Australia",
            "New Zealand"
           ],
           "type": "scatter",
           "x": [
            21691700,
            4302600
           ],
           "y": [
            927805183330.879,
            121357986132.8
           ]
          },
          {
           "marker": {
            "size": [
             73765480.01212704,
             72791381.20895639,
             110538641.68618266,
             92342379.95123398,
             72304510.44574223,
             122902024.04270846,
             48173678.78931939,
             40858765.88232066,
             98619952.8394328,
             119699829.65793471,
             72900874.16534951,
             36553524.804177545
            ],
            "sizemode": "area",
            "sizeref": 200000
           },
           "mode": "markers",
           "name": "Europe",
           "text": [
            "Britain",
            "Czech Republic",
            "Denmark",
            "Euro area",
            "Hungary",
            "Norway",
            "Poland",
            "Russia",
            "Sweden",
            "Switzerland",
            "Turkey",
            "Ukraine"
           ],
           "type": "scatter",
           "x": [
            62276270,
            10443936,
            5523095,
            335360890,
            10022650,
            4828726,
            38151603,
            142785349,
            9298515,
            7743831,
            71321399,
            46053331
           ],
           "y": [
            2410909799034.12,
            206179982164.40198,
            321241303699.00604,
            12885643163975.7,
            130760312876.68301,
            386190385318.767,
            439793916861.639,
            1222644282201.86,
            436537014293.55396,
            541506500413.565,
            644639902000,
            117113410001.027
           ]
          },
          {
           "marker": {
            "size": [
             67019856.139897496,
             68661276.75644128,
             47790071.25065168,
             71400000
            ],
            "sizemode": "area",
            "sizeref": 200000
           },
           "mode": "markers",
           "name": "North America",
           "text": [
            "Canada",
            "Costa Rica",
            "Mexico",
            "United States"
           ],
           "type": "scatter",
           "x": [
            33628895,
            4520740,
            112463887,
            306771529
           ],
           "y": [
            1371153004986.44,
            30562361123.0307,
            900045350649.351,
            14448933025000
           ]
          },
          {
           "marker": {
            "size": [
             36588757.00674696,
             34320366.42797239,
             40980392.15686274,
             69140603.89996219,
             37590227.651304826,
             46004842.61501211,
             41082980.262478046,
             58660409.556314,
             57630590.64527142,
             51730696.08216052,
             36566254.57078182,
             37752085.46758378
            ],
            "sizemode": "area",
            "sizeref": 200000
           },
           "mode": "markers",
           "name": "Asia",
           "text": [
            "China",
            "Hong Kong",
            "Indonesia",
            "Japan",
            "Malaysia",
            "Pakistan",
            "Philippines",
            "Saudi Arabia",
            "Singapore",
            "South Korea",
            "Sri Lanka",
            "Thailand"
           ],
           "type": "scatter",
           "x": [
            1331260000,
            6972800,
            238620563,
            128047000,
            27735040,
            175525609,
            92414158,
            26630303,
            4987573,
            49307835,
            20123508,
            66866839
           ],
           "y": [
            5101702432883.45,
            214046415026.18698,
            539580085612.401,
            5231382674593.7,
            202257625195.06302,
            168152775283.03198,
            176131654909.911,
            429097866666.66705,
            194152286008.93802,
            943941876218.744,
            42066217871.5349,
            281710416557.292
           ]
          },
          {
           "marker": {
            "size": [
             46555351.627199076,
             43354869.87500755
            ],
            "sizemode": "area",
            "sizeref": 200000
           },
           "mode": "markers",
           "name": "Africa",
           "text": [
            "Egypt",
            "South Africa"
           ],
           "type": "scatter",
           "x": [
            81134798,
            50477011
           ],
           "y": [
            188982374700.805,
            295936485832.635
           ]
          }
         ],
         "name": "2009"
        },
        {
         "data": [
          {
           "marker": {
            "size": [
             36856653.942345664,
             95166250.79788776,
             63605645.00099383,
             78259209.77285743,
             56129594.14736109,
             66465256.79758308
            ],
            "sizemode": "area",
            "sizeref": 200000
           },
           "mode": "markers",
           "name": "South America",
           "text": [
            "Argentina",
            "Brazil",
            "Chile",
            "Colombia",
            "Peru",
            "Uruguay"
           ],
           "type": "scatter",
           "x": [
            40788453,
            195713635,
            17062536,
            45222700,
            29027674,
            3359275
           ],
           "y": [
            423627422092.49,
            2208871646202.82,
            218537551220.071,
            286563099757.481,
            147528937028.778,
            40284481651.9021
           ]
          },
          {
           "marker": {
            "size": [
             79557404.78258881,
             72226111.95047353
            ],
            "sizemode": "area",
            "sizeref": 200000
           },
           "mode": "markers",
           "name": "Oceania",
           "text": [
            "Australia",
            "New Zealand"
           ],
           "type": "scatter",
           "x": [
            22031750,
            4350700
           ],
           "y": [
            1146138465603.81,
            146619138358.948
           ]
          },
          {
           "marker": {
            "size": [
             73426560.00117482,
             74288648.30135009,
             119877178.19816154,
             96878879.93967351,
             77149414.8431188,
             140460534.97906262,
             57129758.60913724,
             46780499.21475591,
             110136823.82344222,
             126072831.3048538,
             76633549.21840562,
             36553524.804177545
            ],
            "sizemode": "area",
            "sizeref": 200000
           },
           "mode": "markers",
           "name": "Europe",
           "text": [
            "Britain",
            "Czech Republic",
            "Denmark",
            "Euro area",
            "Hungary",
            "Norway",
            "Poland",
            "Russia",
            "Sweden",
            "Switzerland",
            "Turkey",
            "Ukraine"
           ],
           "type": "scatter",
           "x": [
            62766365,
            10474410,
            5547683,
            336151479,
            10000023,
            4889252,
            38042794,
            142849468,
            9378126,
            7824909,
            72326988,
            45870741
           ],
           "y": [
            2475244321361.11,
            207477857918.91898,
            321995279401.502,
            12628246500868.2,
            131135561228.37401,
            428757038466.841,
            479321460551.18896,
            1524917468442.01,
            495812558843.31,
            583782977866.405,
            771901768898.057,
            136013155905.036
           ]
          },
          {
           "marker": {
            "size": [
             79475308.64197531,
             70377808.6753523,
             49946346.69788313,
             71600000
            ],
            "sizemode": "area",
            "sizeref": 200000
           },
           "mode": "markers",
           "name": "North America",
           "text": [
            "Canada",
            "Costa Rica",
            "Mexico",
            "United States"
           ],
           "type": "scatter",
           "x": [
            34004889,
            4577378,
            114092963,
            309321666
           ],
           "y": [
            1613464422811.13,
            37268614024.3178,
            1057801295584.05,
            14992052727000
           ]
          },
          {
           "marker": {
            "size": [
             36618232.950550735,
             38161295.9369823,
             44849785.40772533,
             69914791.34804456,
             41623616.23616236,
             48426150.12106537,
             44216027.87456446,
             53330489.040584505,
             63774139.228261255,
             59622972.38053485,
             36566254.57078182,
             42251395.805039994
            ],
            "sizemode": "area",
            "sizeref": 200000
           },
           "mode": "markers",
           "name": "Asia",
           "text": [
            "China",
            "Hong Kong",
            "Indonesia",
            "Japan",
            "Malaysia",
            "Pakistan",
            "Philippines",
            "Saudi Arabia",
            "Singapore",
            "South Korea",
            "Sri Lanka",
            "Thailand"
           ],
           "type": "scatter",
           "x": [
            1337705000,
            7024200,
            241834215,
            128070000,
            28208035,
            179424641,
            93966780,
            27421461,
            5076732,
            49554112,
            20261737,
            67195028
           ],
           "y": [
            6087164527421.24,
            228637697575.04,
            755094160363.0709,
            5700098114744.41,
            255016609232.871,
            177165635077.065,
            208368892318.654,
            528207200000,
            239809387605.427,
            1144066965324.49,
            56725749221.9043,
            341104820155.464
           ]
          },
          {
           "marker": {
            "size": [
             47575480.32936871,
             49147785.61160927
            ],
            "sizemode": "area",
            "sizeref": 200000
           },
           "mode": "markers",
           "name": "Africa",
           "text": [
            "Egypt",
            "South Africa"
           ],
           "type": "scatter",
           "x": [
            82761235,
            51216964
           ],
           "y": [
            218888324504.75302,
            375349442837.24
           ]
          }
         ],
         "name": "2010"
        },
        {
         "data": [
          {
           "marker": {
            "size": [
             96793708.40895341,
             123248572.91126102,
             79956780.11885467,
             94888449.59051116,
             73059360.7305936,
             97560975.6097561
            ],
            "sizemode": "area",
            "sizeref": 200000
           },
           "mode": "markers",
           "name": "South America",
           "text": [
            "Argentina",
            "Brazil",
            "Chile",
            "Colombia",
            "Peru",
            "Uruguay"
           ],
           "type": "scatter",
           "x": [
            41261490,
            197514534,
            17233576,
            45663099,
            29264318,
            3368934
           ],
           "y": [
            530163281574.65796,
            2616200980392.16,
            252251992029.442,
            334943877377.471,
            171761737046.585,
            47962439303.7247
           ]
          },
          {
           "marker": {
            "size": [
             98874480.02824348,
             88230000.01235218
            ],
            "sizemode": "area",
            "sizeref": 200000
           },
           "mode": "markers",
           "name": "Oceania",
           "text": [
            "Australia",
            "New Zealand"
           ],
           "type": "scatter",
           "x": [
            22340024,
            4384000
           ],
           "y": [
            1396649906339.35,
            168510189201.49402
           ]
          },
          {
           "marker": {
            "size": [
             77832739.9949253,
             81448016.9663786,
             109648068.17416729,
             98568036.71732485,
             80819939.55519257,
             166234150.03555563,
             61713386.72768879,
             54049184.758129895,
             152797070.33716378,
             161260311.3564473,
             75456365.90533128,
             41280960.720540404
            ],
            "sizemode": "area",
            "sizeref": 200000
           },
           "mode": "markers",
           "name": "Europe",
           "text": [
            "Britain",
            "Czech Republic",
            "Denmark",
            "Euro area",
            "Hungary",
            "Norway",
            "Poland",
            "Russia",
            "Sweden",
            "Switzerland",
            "Turkey",
            "Ukraine"
           ],
           "type": "scatter",
           "x": [
            63258810,
            10496088,
            5570572,
            335419643,
            9971727,
            4953088,
            38063255,
            142960908,
            9449213,
            7912398,
            73443863,
            45706086
           ],
           "y": [
            2659310054646.23,
            227948349666.35397,
            344003137611.271,
            13622691210191,
            141109576981.423,
            498283438454.281,
            528832185770.21704,
            2045925608274.37,
            574094112972.7329,
            699579638638.2261,
            832523680895.522,
            163159671670.265
           ]
          },
          {
           "marker": {
            "size": [
             100015858.75138766,
             81300006.9402445,
             54837949.574791685,
             81300000.00000001
            ],
            "sizemode": "area",
            "sizeref": 200000
           },
           "mode": "markers",
           "name": "North America",
           "text": [
            "Canada",
            "Costa Rica",
            "Mexico",
            "United States"
           ],
           "type": "scatter",
           "x": [
            34339328,
            4633086,
            115695473,
            311556874
           ],
           "y": [
            1788647906047.76,
            42262697840.385,
            1180489601957.61,
            15542581104000
           ]
          },
          {
           "marker": {
            "size": [
             45461598.13809155,
             38758695.03837367,
             52878094.5676405,
             81669112.48644166,
             48435923.309788086,
             47514042.50390874,
             55647253.00636643,
             53330489.040584505,
             73070709.5812104,
             70062488.16512023,
             51153231.33135419,
             47058823.52941176
            ],
            "sizemode": "area",
            "sizeref": 200000
           },
           "mode": "markers",
           "name": "Asia",
           "text": [
            "China",
            "Hong Kong",
            "Indonesia",
            "Japan",
            "Malaysia",
            "Pakistan",
            "Philippines",
            "Saudi Arabia",
            "Singapore",
            "South Korea",
            "Sri Lanka",
            "Thailand"
           ],
           "type": "scatter",
           "x": [
            1344130000,
            7071600,
            245116206,
            127833000,
            28650955,
            183340592,
            95570047,
            28267685,
            5183688,
            49936638,
            20398670,
            67518382
           ],
           "y": [
            7551500425597.77,
            248513617677.287,
            892969107923.0941,
            6157459594823.72,
            297951960784.31396,
            213587413183.996,
            234216730703.492,
            671238840106.667,
            279351168707.26697,
            1253223044718.99,
            65292753005.4664,
            370819140946.553
           ]
          },
          {
           "marker": {
            "size": [
             47266018.114726596,
             57469141.73013141
            ],
            "sizemode": "area",
            "sizeref": 200000
           },
           "mode": "markers",
           "name": "Africa",
           "text": [
            "Egypt",
            "South Africa"
           ],
           "type": "scatter",
           "x": [
            84529250,
            52004172
           ],
           "y": [
            236001858960.015,
            416418874936.30396
           ]
          }
         ],
         "name": "2011"
        },
        {
         "data": [
          {
           "marker": {
            "size": [
             92732120.08809552,
             113573407.20221607,
             81019662.08872642,
             90705396.43117458,
             74280408.54224698,
             92544987.14652957
            ],
            "sizemode": "area",
            "sizeref": 200000
           },
           "mode": "markers",
           "name": "South America",
           "text": [
            "Argentina",
            "Brazil",
            "Chile",
            "Colombia",
            "Peru",
            "Uruguay"
           ],
           "type": "scatter",
           "x": [
            41733271,
            199287296,
            17400347,
            46076848,
            29506788,
            3378974
           ],
           "y": [
            545982375701.128,
            2465188674415.03,
            267122320056.702,
            370921317942.563,
            192648999090.082,
            51264390116.4909
           ]
          },
          {
           "marker": {
            "size": [
             98731200.00084908,
             80952300.00008096
            ],
            "sizemode": "area",
            "sizeref": 200000
           },
           "mode": "markers",
           "name": "Oceania",
           "text": [
            "Australia",
            "New Zealand"
           ],
           "type": "scatter",
           "x": [
            22733465,
            4408100
           ],
           "y": [
            1546151783872.96,
            176247979235.906
           ]
          },
          {
           "marker": {
            "size": [
             76467900.03544287,
             68960268.29885074,
             107483770.80365446,
             88614095.49288656,
             52504281.235722855,
             135763837.14962167,
             51697936.3433652,
             50992624.95553884,
             118261270.87599874,
             136111401.94744006,
             70855363.80471832,
             42285927.49207139
            ],
            "sizemode": "area",
            "sizeref": 200000
           },
           "mode": "markers",
           "name": "Europe",
           "text": [
            "Britain",
            "Czech Republic",
            "Denmark",
            "Euro area",
            "Hungary",
            "Norway",
            "Poland",
            "Russia",
            "Sweden",
            "Switzerland",
            "Turkey",
            "Ukraine"
           ],
           "type": "scatter",
           "x": [
            63700215,
            10510785,
            5591572,
            336159194,
            9920362,
            5018573,
            38063164,
            143201721,
            9519374,
            7996861,
            74653016,
            45593342
           ],
           "y": [
            2704887678386.72,
            207376427020.815,
            327148943812.13696,
            12638927582293.3,
            128153691809.34698,
            509506317146.541,
            500360816827.883,
            2208295773643.15,
            552483727282.802,
            668043614122.87,
            873982246603.563,
            175781379051.433
           ]
          },
          {
           "marker": {
            "size": [
             92658798.1781674,
             80464732.89633788,
             54076174.329893894,
             83944400
            ],
            "sizemode": "area",
            "sizeref": 200000
           },
           "mode": "markers",
           "name": "North America",
           "text": [
            "Canada",
            "Costa Rica",
            "Mexico",
            "United States"
           ],
           "type": "scatter",
           "x": [
            34714222,
            4688000,
            117274155,
            313830990
           ],
           "y": [
            1828689329348.99,
            46473128285.5589,
            1201089987015.45,
            16197007349000
           ]
          },
          {
           "marker": {
            "size": [
             48768901.90800411,
             42485532.38878125,
             49200873.362445414,
             83203328.13312532,
             46821996.78297845,
             57745696.83509162,
             53630269.28758095,
             53330489.040584505,
             75030940.59405941,
             63861920.172599785,
             50908452.5585886,
             49133858.267716534
            ],
            "sizemode": "area",
            "sizeref": 200000
           },
           "mode": "markers",
           "name": "Asia",
           "text": [
            "China",
            "Hong Kong",
            "Indonesia",
            "Japan",
            "Malaysia",
            "Pakistan",
            "Philippines",
            "Saudi Arabia",
            "Singapore",
            "South Korea",
            "Sri Lanka",
            "Thailand"
           ],
           "type": "scatter",
           "x": [
            1350695000,
            7150100,
            248452413,
            127629000,
            29068159,
            187281475,
            97212638,
            29155187,
            5312437,
            50199853,
            20425000,
            67835957
           ],
           "y": [
            8532230724141.76,
            262629441493.476,
            917869910105.749,
            6203213121334.12,
            314443149443.149,
            224383620829.57,
            261920542606.121,
            735974843360,
            295087220933.024,
            1278427634342.59,
            68434409315.1123,
            397558222957.17
           ]
          },
          {
           "marker": {
            "size": [
             51350008.28225939,
             49075076.25701072
            ],
            "sizemode": "area",
            "sizeref": 200000
           },
           "mode": "markers",
           "name": "Africa",
           "text": [
            "Egypt",
            "South Africa"
           ],
           "type": "scatter",
           "x": [
            86422240,
            52834005
           ],
           "y": [
            279372758361.832,
            396332702639.49603
           ]
          }
         ],
         "name": "2012"
        },
        {
         "data": [
          {
           "marker": {
            "size": [
             76358886.7678087,
             112875310.40710363,
             86910439.85161632,
             97001142.01925924,
             78140261.76987693,
             108921161.82572612
            ],
            "sizemode": "area",
            "sizeref": 200000
           },
           "mode": "markers",
           "name": "South America",
           "text": [
            "Argentina",
            "Brazil",
            "Chile",
            "Colombia",
            "Peru",
            "Uruguay"
           ],
           "type": "scatter",
           "x": [
            42202935,
            201035903,
            17571507,
            46497267,
            29773987,
            3389439
           ],
           "y": [
            552025140252.246,
            2472806919901.67,
            278384345259.377,
            382116120909.21796,
            201175469114.327,
            57531233350.9101
           ]
          },
          {
           "marker": {
            "size": [
             98009099.9676815,
             86491600.02811842
            ],
            "sizemode": "area",
            "sizeref": 200000
           },
           "mode": "markers",
           "name": "Oceania",
           "text": [
            "Australia",
            "New Zealand"
           ],
           "type": "scatter",
           "x": [
            23128129,
            4442100
           ],
           "y": [
            1576184467015.49,
            190845889949.76398
           ]
          },
          {
           "marker": {
            "size": [
             84963649.96057686,
             74443171.3235547,
             103675006.13865167,
             97560622.5724054,
             76332595.83476935,
             156845580.05507833,
             58861578.26649417,
             48513895.822932266,
             127761927.10892712,
             142496985.64068836,
             95547703.180212,
             46660117.87819254
            ],
            "sizemode": "area",
            "sizeref": 200000
           },
           "mode": "markers",
           "name": "Europe",
           "text": [
            "Britain",
            "Czech Republic",
            "Denmark",
            "Euro area",
            "Hungary",
            "Norway",
            "Poland",
            "Russia",
            "Sweden",
            "Switzerland",
            "Turkey",
            "Ukraine"
           ],
           "type": "scatter",
           "x": [
            64128273,
            10514272,
            5614932,
            337302113,
            9893082,
            5079623,
            38040196,
            143506995,
            9600379,
            8089346,
            75928564,
            45489648
           ],
           "y": [
            2786022872706.81,
            209402444996.10397,
            343584391647.927,
            13189495209366.5,
            135409048034.154,
            522761531914.894,
            524234322596.975,
            2292473246621.08,
            586841821796.891,
            688504173431.454,
            950579413121.126,
            183310146378.08102
           ]
          },
          {
           "marker": {
            "size": [
             107887127.33074087,
             87854162.09092906,
             58092068.07762356,
             87347916.66
            ],
            "sizemode": "area",
            "sizeref": 200000
           },
           "mode": "markers",
           "name": "North America",
           "text": [
            "Canada",
            "Costa Rica",
            "Mexico",
            "United States"
           ],
           "type": "scatter",
           "x": [
            35082954,
            4742107,
            118827161,
            315993715
           ],
           "y": [
            1847208522155.34,
            49745088111.6953,
            1274443084716.57,
            16784849190000
           ]
          },
          {
           "marker": {
            "size": [
             51443637.06514051,
             43819515.14995296,
             57208088.047094956,
             70279470.70773624,
             51573143.04249108,
             59386678.953565754,
             58128078.81773399,
             58663537.94464295,
             72883346.1554035,
             68172919.68953684,
             55357848.952155,
             58477566.79549656
            ],
            "sizemode": "area",
            "sizeref": 200000
           },
           "mode": "markers",
           "name": "Asia",
           "text": [
            "China",
            "Hong Kong",
            "Indonesia",
            "Japan",
            "Malaysia",
            "Pakistan",
            "Philippines",
            "Saudi Arabia",
            "Singapore",
            "South Korea",
            "Sri Lanka",
            "Thailand"
           ],
           "type": "scatter",
           "x": [
            1357380000,
            7178900,
            251806402,
            127445000,
            29468872,
            191262919,
            98871552,
            30052518,
            5399162,
            50428893,
            20585000,
            68144501
           ],
           "y": [
            9570405758739.79,
            275696879834.966,
            912524136718.018,
            5155717056270.83,
            323277158906.979,
            231218567178.97897,
            283902829720.159,
            746647127413.333,
            307576360584.992,
            1370795199976.18,
            74317806538.3632,
            420333203150.426
           ]
          },
          {
           "marker": {
            "size": [
             47862992.18487082,
             46203161.268928915
            ],
            "sizemode": "area",
            "sizeref": 200000
           },
           "mode": "markers",
           "name": "Africa",
           "text": [
            "Egypt",
            "South Africa"
           ],
           "type": "scatter",
           "x": [
            88404640,
            53689236
           ],
           "y": [
            288586231501.877,
            366829390478.954
           ]
          }
         ],
         "name": "2013"
        },
        {
         "data": [
          {
           "marker": {
            "size": [
             60682680.15170671,
             104949112.3759548,
             73807546.82166252,
             86746234.48213254,
             71263139.14127918,
             98222637.97942002
            ],
            "sizemode": "area",
            "sizeref": 200000
           },
           "mode": "markers",
           "name": "South America",
           "text": [
            "Argentina",
            "Brazil",
            "Chile",
            "Colombia",
            "Peru",
            "Uruguay"
           ],
           "type": "scatter",
           "x": [
            42669500,
            202763735,
            17758959,
            46969209,
            30090359,
            3400434
           ],
           "y": [
            526319673731.63794,
            2455993625159.37,
            260541629960.66397,
            381112110485.384,
            200789362451.567,
            57236013086.1223
           ]
          },
          {
           "marker": {
            "size": [
             89470849.97541343,
             91437499.9845699
            ],
            "sizemode": "area",
            "sizeref": 200000
           },
           "mode": "markers",
           "name": "Oceania",
           "text": [
            "Australia",
            "New Zealand"
           ],
           "type": "scatter",
           "x": [
            23475686,
            4509700
           ],
           "y": [
            1467483705131.74,
            200921936786.219
           ]
          },
          {
           "marker": {
            "size": [
             92535929.99766345,
             69464301.56085153,
             103609990.18431672,
             99236870.69833674,
             77096492.31130578,
             155908695.9699226,
             59966106.11393559,
             52446651.00142166,
             125750214.34695627,
             142849293.99483544,
             75169684.50841236,
             45351473.922902495
            ],
            "sizemode": "area",
            "sizeref": 200000
           },
           "mode": "markers",
           "name": "Europe",
           "text": [
            "Britain",
            "Czech Republic",
            "Denmark",
            "Euro area",
            "Hungary",
            "Norway",
            "Poland",
            "Russia",
            "Sweden",
            "Switzerland",
            "Turkey",
            "Ukraine"
           ],
           "type": "scatter",
           "x": [
            64602298,
            10525347,
            5643475,
            338462222,
            9866468,
            5137232,
            38011735,
            143819666,
            9696110,
            8188649,
            77231907,
            45272156
           ],
           "y": [
            3063803240208.01,
            207818330723.835,
            352993631617.70795,
            13490187533196.8,
            140558786480.464,
            498410050251.25604,
            545389126644.476,
            2059241965490.83,
            581964017237.095,
            709182559935.3009,
            934185915375.828,
            133503411375.739
           ]
          },
          {
           "marker": {
            "size": [
             100262419.69052574,
             85671023.27064073,
             55502428.23123512,
             92483333.34
            ],
            "sizemode": "area",
            "sizeref": 200000
           },
           "mode": "markers",
           "name": "North America",
           "text": [
            "Canada",
            "Costa Rica",
            "Mexico",
            "United States"
           ],
           "type": "scatter",
           "x": [
            35437435,
            4795396,
            120355128,
            318301008
           ],
           "y": [
            1803533209844.65,
            50577769837.7462,
            1314563967425.24,
            17521746534000
           ]
          },
          {
           "marker": {
            "size": [
             54864244.04673376,
             46404609.5245461,
             46028006.58978583,
             59475274.59350568,
             44531367.53422597,
             60712422.33078784,
             59694892.77028521,
             58660409.556314,
             71939633.26426086,
             69333833.0366345,
             53516819.57186543,
             58403041.82509506
            ],
            "sizemode": "area",
            "sizeref": 200000
           },
           "mode": "markers",
           "name": "Asia",
           "text": [
            "China",
            "Hong Kong",
            "Indonesia",
            "Japan",
            "Malaysia",
            "Pakistan",
            "Philippines",
            "Saudi Arabia",
            "Singapore",
            "South Korea",
            "Sri Lanka",
            "Thailand"
           ],
           "type": "scatter",
           "x": [
            1364270000,
            7229500,
            255129004,
            127276000,
            29866559,
            195306825,
            100513138,
            30916994,
            5469724,
            50746659,
            20778000,
            68438730
           ],
           "y": [
            10475682846632.2,
            291459356985.337,
            890814755233.225,
            4850413536037.84,
            338061963396.37604,
            244360888750.807,
            297483553299.475,
            756350347333.3341,
            314851156183.411,
            1484318219633.63,
            79356449840.5771,
            407339361695.577
           ]
          },
          {
           "marker": {
            "size": [
             48642436.43154719,
             43207861.99225017
            ],
            "sizemode": "area",
            "sizeref": 200000
           },
           "mode": "markers",
           "name": "Africa",
           "text": [
            "Egypt",
            "South Africa"
           ],
           "type": "scatter",
           "x": [
            90424654,
            54545991
           ],
           "y": [
            305529656458.438,
            350904575292.317
           ]
          }
         ],
         "name": "2014"
        },
        {
         "data": [
          {
           "marker": {
            "size": [
             65040650.40650407,
             104136534.5675441,
             66933870.92918556,
             66808175.96766146,
             66489361.70212766,
             92528147.38996929
            ],
            "sizemode": "area",
            "sizeref": 200000
           },
           "mode": "markers",
           "name": "South America",
           "text": [
            "Argentina",
            "Brazil",
            "Chile",
            "Colombia",
            "Peru",
            "Uruguay"
           ],
           "type": "scatter",
           "x": [
            43131966,
            204471769,
            17969353,
            47520667,
            30470734,
            3412009
           ],
           "y": [
            594749285413.212,
            1802214373741.32,
            243919085308.936,
            293481753078.868,
            189805300841.603,
            53274304222.135994
           ]
          },
          {
           "marker": {
            "size": [
             86374099.9784151,
             89851100.02105212
            ],
            "sizemode": "area",
            "sizeref": 200000
           },
           "mode": "markers",
           "name": "Oceania",
           "text": [
            "Australia",
            "New Zealand"
           ],
           "type": "scatter",
           "x": [
            23815995,
            4595700
           ],
           "y": [
            1351693984524.5,
            177467529071.288
           ]
          },
          {
           "marker": {
            "size": [
             87364699.94806169,
             58384179.503382266,
             107520179.5119519,
             85276640.03883497,
             63376621.65391244,
             125942932.10888816,
             49641180.59677333,
             27289312.707927696,
             99371906.07279544,
             150873324.43567574,
             79281750.19820437,
             24017191.25268613
            ],
            "sizemode": "area",
            "sizeref": 200000
           },
           "mode": "markers",
           "name": "Europe",
           "text": [
            "Britain",
            "Czech Republic",
            "Denmark",
            "Euro area",
            "Hungary",
            "Norway",
            "Poland",
            "Russia",
            "Sweden",
            "Switzerland",
            "Turkey",
            "Ukraine"
           ],
           "type": "scatter",
           "x": [
            65116219,
            10546059,
            5683483,
            339488380,
            9843028,
            5188607,
            37986412,
            144096870,
            9799186,
            8282396,
            78529409,
            45154036
           ],
           "y": [
            2928591002002.51,
            186829940545.75897,
            302673068765.972,
            11672138337959.8,
            124529741437.176,
            385801550067.169,
            477581376840.43,
            1363481063446.77,
            505103781349.757,
            679832291693.2571,
            859796872683.823,
            91030959454.6961
           ]
          },
          {
           "marker": {
            "size": [
             92792316.14504905,
             80210412.43074857,
             66997094.51375833,
             95800000
            ],
            "sizemode": "area",
            "sizeref": 200000
           },
           "mode": "markers",
           "name": "North America",
           "text": [
            "Canada",
            "Costa Rica",
            "Mexico",
            "United States"
           ],
           "type": "scatter",
           "x": [
            35702908,
            4847804,
            121858258,
            320635163
           ],
           "y": [
            1556129524418.21,
            54775994478.5095,
            1170564619927.69,
            18219297584000
           ]
          },
          {
           "marker": {
            "size": [
             55381147.87088465,
             48507679.30747547,
             44774038.461538464,
             62837005.901583664,
             42207163.601161666,
             59562217.69990569,
             73406890.34001352,
             58558918.257073656,
             70509695.08307391,
             75694636.75805409,
             53080568.720379144,
             60726882.38000307
            ],
            "sizemode": "area",
            "sizeref": 200000
           },
           "mode": "markers",
           "name": "Asia",
           "text": [
            "China",
            "Hong Kong",
            "Indonesia",
            "Japan",
            "Malaysia",
            "Pakistan",
            "Philippines",
            "Saudi Arabia",
            "Singapore",
            "South Korea",
            "Sri Lanka",
            "Thailand"
           ],
           "type": "scatter",
           "x": [
            1371220000,
            7291300,
            258383256,
            127141000,
            30270962,
            199426964,
            102113212,
            31717667,
            5535002,
            51014947,
            20970000,
            68714511
           ],
           "y": [
            11061552790044.2,
            309383627028.56104,
            860854235065.0791,
            4389475622588.97,
            301354756113.174,
            270556131701.17102,
            306445871631.48303,
            654269902880,
            308004146057.60803,
            1465773245547.15,
            80604080688.5775,
            401295941041.296
           ]
          },
          {
           "marker": {
            "size": [
             46067713.82507602,
             44429924.861156486
            ],
            "sizemode": "area",
            "sizeref": 200000
           },
           "mode": "markers",
           "name": "Africa",
           "text": [
            "Egypt",
            "South Africa"
           ],
           "type": "scatter",
           "x": [
            92442547,
            55386367
           ],
           "y": [
            332698041030.807,
            317620522794.82697
           ]
          }
         ],
         "name": "2015"
        },
        {
         "data": [
          {
           "marker": {
            "size": [
             47794051.08894401,
             67084078.711985685,
             58723600.595625095,
             48557116.0760933,
             58513750.73142188,
             74871624.97929434
            ],
            "sizemode": "area",
            "sizeref": 200000
           },
           "mode": "markers",
           "name": "South America",
           "text": [
            "Argentina",
            "Brazil",
            "Chile",
            "Colombia",
            "Peru",
            "Uruguay"
           ],
           "type": "scatter",
           "x": [
            43590368,
            206163058,
            18209068,
            48171392,
            30926032,
            3424132
           ],
           "y": [
            557531376217.967,
            1795700168991.49,
            250440136356.12698,
            282825012368.255,
            191895943823.887,
            52687612261.5424
           ]
          },
          {
           "marker": {
            "size": [
             74873100.01968414,
             78245799.98345102
            ],
            "sizemode": "area",
            "sizeref": 200000
           },
           "mode": "markers",
           "name": "Oceania",
           "text": [
            "Australia",
            "New Zealand"
           ],
           "type": "scatter",
           "x": [
            24190907,
            4693200
           ],
           "y": [
            1208846993739.99,
            188223664746.524
           ]
          },
          {
           "marker": {
            "size": [
             84437130.04640242,
             59655904.74145131,
             86449103.09055543,
             79980000.01199701,
             61500814.62954044,
             104293760.7594725,
             47434345.43073844,
             30540486.23668877,
             104628655.46365026,
             128865979.3814433,
             68115364.16799575,
             30835117.77301927
            ],
            "sizemode": "area",
            "sizeref": 200000
           },
           "mode": "markers",
           "name": "Europe",
           "text": [
            "Britain",
            "Czech Republic",
            "Denmark",
            "Euro area",
            "Hungary",
            "Norway",
            "Poland",
            "Russia",
            "Sweden",
            "Switzerland",
            "Turkey",
            "Ukraine"
           ],
           "type": "scatter",
           "x": [
            65611593,
            10566332,
            5728010,
            340481753,
            9814023,
            5234519,
            37970087,
            144342396,
            9923085,
            8373338,
            79821724,
            45004674
           ],
           "y": [
            2694283209613.29,
            195090272402.72897,
            313115929314.339,
            11965317176354,
            127507473625.63199,
            368819929542.194,
            472037130972.91296,
            1276786979221.81,
            515654671469.54706,
            671309197376.701,
            863721648058.011,
            93355993628.5042
           ]
          },
          {
           "marker": {
            "size": [
             82883905.76213454,
             80336291.45259224,
             56203134.18498287,
             98600000
            ],
            "sizemode": "area",
            "sizeref": 200000
           },
           "mode": "markers",
           "name": "North America",
           "text": [
            "Canada",
            "Costa Rica",
            "Mexico",
            "United States"
           ],
           "type": "scatter",
           "x": [
            36109487,
            4899345,
            123333376,
            322941311
           ],
           "y": [
            1528243213982.08,
            57157992434.1805,
            1077903618176.07,
            18707188235000
           ]
          },
          {
           "marker": {
            "size": [
             53673264.00536733,
             49533367.301527925,
             43735436.45814662,
             62370938.51405454,
             36425725.66875356,
             57205510.797540165,
             55718007.33691318,
             63926697.38699624,
             65402678.726735085,
             71801294.09309122,
             48594238.11176675,
             61844284.92545555
            ],
            "sizemode": "area",
            "sizeref": 200000
           },
           "mode": "markers",
           "name": "Asia",
           "text": [
            "China",
            "Hong Kong",
            "Indonesia",
            "Japan",
            "Malaysia",
            "Pakistan",
            "Philippines",
            "Saudi Arabia",
            "Singapore",
            "South Korea",
            "Sri Lanka",
            "Thailand"
           ],
           "type": "scatter",
           "x": [
            1378665000,
            7336600,
            261554226,
            126994511,
            30684804,
            203627284,
            103663927,
            32442572,
            5607283,
            51217803,
            21203000,
            68971331
           ],
           "y": [
            11233277146512.2,
            320837638328.846,
            931877364177.7421,
            4922538141454.62,
            301255454041.415,
            278654637737.69,
            318627003965.493,
            644935541440,
            318652334419.11,
            1500111596236.37,
            82401038709.5356,
            413430123185.367
           ]
          },
          {
           "marker": {
            "size": [
             43243657.44790902,
             35412220.37783574
            ],
            "sizemode": "area",
            "sizeref": 200000
           },
           "mode": "markers",
           "name": "Africa",
           "text": [
            "Egypt",
            "South Africa"
           ],
           "type": "scatter",
           "x": [
            94447072,
            56203654
           ],
           "y": [
            332927833278.038,
            296357282715.109
           ]
          }
         ],
         "name": "2016"
        },
        {
         "data": [
          {
           "marker": {
            "size": [
             69367807.03137317,
             102358907.55129577,
             72829423.08692713,
             66118462.24485537,
             64841286.21533202,
             87032201.91470845
            ],
            "sizemode": "area",
            "sizeref": 200000
           },
           "mode": "markers",
           "name": "South America",
           "text": [
            "Argentina",
            "Brazil",
            "Chile",
            "Colombia",
            "Peru",
            "Uruguay"
           ],
           "type": "scatter",
           "x": [
            44044811,
            207833831,
            18470439,
            48901066,
            31444297,
            3436646
           ],
           "y": [
            642695864756.35,
            2062831045935.95,
            277044950259.009,
            311883730442.045,
            211007207483.515,
            59530088536.2179
           ]
          },
          {
           "marker": {
            "size": [
             85503600.02109374,
             83706000.0021345
            ],
            "sizemode": "area",
            "sizeref": 200000
           },
           "mode": "markers",
           "name": "Oceania",
           "text": [
            "Australia",
            "New Zealand"
           ],
           "type": "scatter",
           "x": [
            24601860,
            4793900
           ],
           "y": [
            1330135756844.41,
            205415864857.98398
           ]
          },
          {
           "marker": {
            "size": [
             74567880.04011752,
             58113068.66059062,
             84492166.87202957,
             81235560.0389768,
             61096229.27649845,
             113316412.95738493,
             46019438.41904054,
             43019648.39710445,
             105210667.92334965,
             127002735.44353262,
             54971044.322002485,
             30842665.687534425
            ],
            "sizemode": "area",
            "sizeref": 200000
           },
           "mode": "markers",
           "name": "Europe",
           "text": [
            "Britain",
            "Czech Republic",
            "Denmark",
            "Euro area",
            "Hungary",
            "Norway",
            "Poland",
            "Russia",
            "Sweden",
            "Switzerland",
            "Turkey",
            "Ukraine"
           ],
           "type": "scatter",
           "x": [
            66058859,
            10594438,
            5764980,
            341163597,
            9787966,
            5276968,
            37974826,
            144496740,
            10057698,
            8451840,
            81101892,
            44831135
           ],
           "y": [
            2666229179958.01,
            215913545038.43,
            329417067127.817,
            12655504662573.8,
            141510583019.556,
            398393955268.99,
            526380811261.345,
            1574199387070.9,
            541018749769.09705,
            679950482029.061,
            852676779693.5391,
            112190355158.17801
           ]
          },
          {
           "marker": {
            "size": [
             90196078.43137257,
             81179081.05280249,
             44645907.83809024,
             101199999.99999999
            ],
            "sizemode": "area",
            "sizeref": 200000
           },
           "mode": "markers",
           "name": "North America",
           "text": [
            "Canada",
            "Costa Rica",
            "Mexico",
            "United States"
           ],
           "type": "scatter",
           "x": [
            36543321,
            4949954,
            124777324,
            324985539
           ],
           "y": [
            1649878054226.82,
            58481858042.5721,
            1157736189998.15,
            19485393853000
           ]
          },
          {
           "marker": {
            "size": [
             56593422.45834898,
             49510375.90495039,
             46515117.41315928,
             65143787.76839669,
             35782176.00357822,
             71581961.34574087,
             53612818.70402096,
             63988908.589177884,
             77845351.86794092,
             73550921.47603326,
             73304011.72864187,
             66904674.89388019
            ],
            "sizemode": "area",
            "sizeref": 200000
           },
           "mode": "markers",
           "name": "Asia",
           "text": [
            "China",
            "Hong Kong",
            "Indonesia",
            "Japan",
            "Malaysia",
            "Pakistan",
            "Philippines",
            "Saudi Arabia",
            "Singapore",
            "South Korea",
            "Sri Lanka",
            "Thailand"
           ],
           "type": "scatter",
           "x": [
            1386395000,
            7391700,
            264645886,
            126785797,
            31105028,
            207896686,
            105173264,
            33099147,
            5612253,
            51361911,
            21444000,
            69209858
           ],
           "y": [
            12310408652423.5,
            341244161576.759,
            1015618742565.81,
            4866864409657.68,
            318958236443.122,
            304567253219.097,
            328480738147.729,
            688586133333.333,
            341863349989.138,
            1623901496835.79,
            87428125557.573,
            456294704152.64703
           ]
          },
          {
           "marker": {
            "size": [
             29291422.482685134,
             37728005.73373947
            ],
            "sizemode": "area",
            "sizeref": 200000
           },
           "mode": "markers",
           "name": "Africa",
           "text": [
            "Egypt",
            "South Africa"
           ],
           "type": "scatter",
           "x": [
            96442593,
            57000451
           ],
           "y": [
            235369129337.71103,
            349554116683.818
           ]
          }
         ],
         "name": "2017"
        },
        {
         "data": [
          {
           "marker": {
            "size": [
             79207920.79207921,
             102233650.36091577,
             85817785.73609382,
             76649367.8185168,
             65379825.65379826,
             97970608.8173548
            ],
            "sizemode": "area",
            "sizeref": 200000
           },
           "mode": "markers",
           "name": "South America",
           "text": [
            "Argentina",
            "Brazil",
            "Chile",
            "Colombia",
            "Peru",
            "Uruguay"
           ],
           "type": "scatter",
           "x": [
            44494502,
            209469333,
            18729160,
            49648685,
            31989256,
            3449299
           ],
           "y": [
            519871519807.795,
            1885482534238.33,
            298258019275.049,
            333568926392.586,
            222044970486.21698,
            59596885023.0917
           ]
          },
          {
           "marker": {
            "size": [
             94122699.99327494,
             90203800.02785043
            ],
            "sizemode": "area",
            "sizeref": 200000
           },
           "mode": "markers",
           "name": "Oceania",
           "text": [
            "Australia",
            "New Zealand"
           ],
           "type": "scatter",
           "x": [
            24982688,
            4841000
           ],
           "y": [
            1433904348500.12,
            207920613961.749
           ]
          },
          {
           "marker": {
            "size": [
             88260919.97511043,
             76155588.7598207,
             98640406.39847437,
             96715749.94649202,
             68532770.10606913,
             124839174.02326085,
             59311458.56272481,
             45819014.891179845,
             122462213.7975757,
             135296872.5607535,
             56540261.926050596,
             32735504.09193801
            ],
            "sizemode": "area",
            "sizeref": 200000
           },
           "mode": "markers",
           "name": "Europe",
           "text": [
            "Britain",
            "Czech Republic",
            "Denmark",
            "Euro area",
            "Hungary",
            "Norway",
            "Poland",
            "Russia",
            "Sweden",
            "Switzerland",
            "Turkey",
            "Ukraine"
           ],
           "type": "scatter",
           "x": [
            66460344,
            10629928,
            5793636,
            341843156,
            9775564,
            5311916,
            37974750,
            144477860,
            10175214,
            8514329,
            82319724,
            44622518
           ],
           "y": [
            2860667727551.97,
            244987409830.53302,
            355675329085.952,
            13662048991923.3,
            157882912778.254,
            434166615431.909,
            587114101392.696,
            1669583089322.96,
            555455371487.089,
            705140620046.7,
            771350331372.7109,
            130901858421.72
           ]
          },
          {
           "marker": {
            "size": [
             105144875.19062525,
             80558633.66928746,
             51437297.398665845,
             105600000
            ],
            "sizemode": "area",
            "sizeref": 200000
           },
           "mode": "markers",
           "name": "North America",
           "text": [
            "Canada",
            "Costa Rica",
            "Mexico",
            "United States"
           ],
           "type": "scatter",
           "x": [
            37057765,
            4999441,
            126190788,
            326687501
           ],
           "y": [
            1716262621082.22,
            60553901420.085,
            1220699479845.98,
            20529049174601.5
           ]
          },
          {
           "marker": {
            "size": [
             63432835.820895515,
             52436372.93771582,
             53521970.20735085,
             68638518.85301423,
             45523520.48558422,
             67870232.11619383,
             52833908.329226226,
             63994880.40956723,
             87709349.36297305,
             82300678.04535891,
             75422626.7880364,
             74491392.80125196
            ],
            "sizemode": "area",
            "sizeref": 200000
           },
           "mode": "markers",
           "name": "Asia",
           "text": [
            "China",
            "Hong Kong",
            "Indonesia",
            "Japan",
            "Malaysia",
            "Pakistan",
            "Philippines",
            "Saudi Arabia",
            "Singapore",
            "South Korea",
            "Sri Lanka",
            "Thailand"
           ],
           "type": "scatter",
           "x": [
            1392730000,
            7451000,
            267663435,
            126529100,
            31528585,
            212215030,
            106651922,
            33699947,
            5638676,
            51606633,
            21670000,
            69428524
           ],
           "y": [
            13894817110036.3,
            361693053517.89294,
            1042240309412.58,
            4954806619995.19,
            358581943446.259,
            314567541558.339,
            346841896889.553,
            786521831573.333,
            373217081850.534,
            1720578827805.54,
            88425889592.1519,
            506514103905.26794
           ]
          },
          {
           "marker": {
            "size": [
             38655367.231638424,
             48947027.079942726
            ],
            "sizemode": "area",
            "sizeref": 200000
           },
           "mode": "markers",
           "name": "Africa",
           "text": [
            "Egypt",
            "South Africa"
           ],
           "type": "scatter",
           "x": [
            98423595,
            57779622
           ],
           "y": [
            250894760351.232,
            368288939768.322
           ]
          }
         ],
         "name": "2018"
        },
        {
         "data": [
          {
           "marker": {
            "size": [
             40048057.66920304,
             90910313.47920224,
             77762559.09512658,
             74573084.75638415,
             62714648.35000747,
             86127345.43217473
            ],
            "sizemode": "area",
            "sizeref": 200000
           },
           "mode": "markers",
           "name": "South America",
           "text": [
            "Argentina",
            "Brazil",
            "Chile",
            "Colombia",
            "Peru",
            "Uruguay"
           ],
           "type": "scatter",
           "x": [
            44938712,
            211049527,
            18952038,
            50339443,
            32510453,
            3461734
           ],
           "y": [
            449663446954.073,
            1839758040765.62,
            282318159744.65,
            323802808108.24603,
            226848050819.525,
            56045912952.342
           ]
          },
          {
           "marker": {
            "size": [
             87040900.0000003,
             83824000.00000015
            ],
            "sizemode": "area",
            "sizeref": 200000
           },
           "mode": "markers",
           "name": "Oceania",
           "text": [
            "Australia",
            "New Zealand"
           ],
           "type": "scatter",
           "x": [
            25364307,
            4917000
           ],
           "y": [
            1392680589329.14,
            206928765543.935
           ]
          },
          {
           "marker": {
            "size": [
             81459840.00000001,
             76193378.79538268,
             92088804.30361678,
             92838150,
             60656066.72167339,
             117193451.22994527,
             56023156.23791167,
             33041913.473794702,
             116771929.82456142,
             132430092.19171801,
             39937585.91224876,
             38848920.86330935
            ],
            "sizemode": "area",
            "sizeref": 200000
           },
           "mode": "markers",
           "name": "Europe",
           "text": [
            "Britain",
            "Czech Republic",
            "Denmark",
            "Euro area",
            "Hungary",
            "Norway",
            "Poland",
            "Russia",
            "Sweden",
            "Switzerland",
            "Turkey",
            "Ukraine"
           ],
           "type": "scatter",
           "x": [
            66834405,
            10669709,
            5818553,
            342597698,
            9769949,
            5347896,
            37970874,
            144373535,
            10285453,
            8574832,
            83429615,
            44385155
           ],
           "y": [
            2827113184695.58,
            246489245494.882,
            348078018463.905,
            13335843259019.7,
            160967157503.612,
            403336363636.364,
            592164400687.607,
            1699876578871.35,
            530832908737.86206,
            703082435360.1171,
            754411708202.616,
            153781069118.148
           ]
          },
          {
           "marker": {
            "size": [
             101697461.31891243,
             75456155.52535112,
             50754191.75244384,
             111600000
            ],
            "sizemode": "area",
            "sizeref": 200000
           },
           "mode": "markers",
           "name": "North America",
           "text": [
            "Canada",
            "Costa Rica",
            "Mexico",
            "United States"
           ],
           "type": "scatter",
           "x": [
            37589262,
            5047561,
            127575529,
            328239523
           ],
           "y": [
            1736425629519.96,
            61773944173.6736,
            1258286717124.53,
            21374418877706.7
           ]
          },
          {
           "marker": {
            "size": [
             61024570.41914244,
             51057203.21405094,
             46841731.7246274,
             71929177.42530431,
             43958712.81117184,
             66244239.631336406,
             53442763.75435416,
             63980379.350332566,
             85552031.8607567,
             80457715.00089398,
             63650580.26283299,
             74357572.44395845
            ],
            "sizemode": "area",
            "sizeref": 200000
           },
           "mode": "markers",
           "name": "Asia",
           "text": [
            "China",
            "Hong Kong",
            "Indonesia",
            "Japan",
            "Malaysia",
            "Pakistan",
            "Philippines",
            "Saudi Arabia",
            "Singapore",
            "South Korea",
            "Sri Lanka",
            "Thailand"
           ],
           "type": "scatter",
           "x": [
            1397715000,
            7507400,
            270625568,
            126264931,
            31949777,
            216565318,
            108116615,
            34268528,
            5703569,
            51709098,
            21803000,
            69625582
           ],
           "y": [
            14342902842915.9,
            366029556273.051,
            1119190780752.8,
            5081769542379.77,
            364701517787.844,
            278221906022.841,
            376795508679.676,
            792966838161.659,
            372062527488.63794,
            1642383217167.26,
            84008783756.068,
            543649976165.63
           ]
          },
          {
           "marker": {
            "size": [
             44667783.3612507,
             44708851.63151254
            ],
            "sizemode": "area",
            "sizeref": 200000
           },
           "mode": "markers",
           "name": "Africa",
           "text": [
            "Egypt",
            "South Africa"
           ],
           "type": "scatter",
           "x": [
            100388073,
            58558270
           ],
           "y": [
            303175127597.521,
            351431649241.43896
           ]
          }
         ],
         "name": "2019"
        }
       ],
       "layout": {
        "font": {
         "color": "black",
         "family": "Open Sans, light",
         "size": 14
        },
        "hovermode": "closest",
        "plot_bgcolor": "rgba(0,0,0,0)",
        "sliders": [
         {
          "active": 0,
          "currentvalue": {
           "font": {
            "size": 20
           },
           "prefix": "Year:",
           "visible": true,
           "xanchor": "right"
          },
          "len": 0.9,
          "pad": {
           "b": 10,
           "t": 50
          },
          "steps": [
           {
            "args": [
             [
              "2005"
             ],
             {
              "frame": {
               "duration": 300,
               "redraw": false
              },
              "mode": "immediate",
              "transition": {
               "duration": 300
              }
             }
            ],
            "label": "2005",
            "method": "animate"
           },
           {
            "args": [
             [
              "2006"
             ],
             {
              "frame": {
               "duration": 300,
               "redraw": false
              },
              "mode": "immediate",
              "transition": {
               "duration": 300
              }
             }
            ],
            "label": "2006",
            "method": "animate"
           },
           {
            "args": [
             [
              "2007"
             ],
             {
              "frame": {
               "duration": 300,
               "redraw": false
              },
              "mode": "immediate",
              "transition": {
               "duration": 300
              }
             }
            ],
            "label": "2007",
            "method": "animate"
           },
           {
            "args": [
             [
              "2008"
             ],
             {
              "frame": {
               "duration": 300,
               "redraw": false
              },
              "mode": "immediate",
              "transition": {
               "duration": 300
              }
             }
            ],
            "label": "2008",
            "method": "animate"
           },
           {
            "args": [
             [
              "2009"
             ],
             {
              "frame": {
               "duration": 300,
               "redraw": false
              },
              "mode": "immediate",
              "transition": {
               "duration": 300
              }
             }
            ],
            "label": "2009",
            "method": "animate"
           },
           {
            "args": [
             [
              "2010"
             ],
             {
              "frame": {
               "duration": 300,
               "redraw": false
              },
              "mode": "immediate",
              "transition": {
               "duration": 300
              }
             }
            ],
            "label": "2010",
            "method": "animate"
           },
           {
            "args": [
             [
              "2011"
             ],
             {
              "frame": {
               "duration": 300,
               "redraw": false
              },
              "mode": "immediate",
              "transition": {
               "duration": 300
              }
             }
            ],
            "label": "2011",
            "method": "animate"
           },
           {
            "args": [
             [
              "2012"
             ],
             {
              "frame": {
               "duration": 300,
               "redraw": false
              },
              "mode": "immediate",
              "transition": {
               "duration": 300
              }
             }
            ],
            "label": "2012",
            "method": "animate"
           },
           {
            "args": [
             [
              "2013"
             ],
             {
              "frame": {
               "duration": 300,
               "redraw": false
              },
              "mode": "immediate",
              "transition": {
               "duration": 300
              }
             }
            ],
            "label": "2013",
            "method": "animate"
           },
           {
            "args": [
             [
              "2014"
             ],
             {
              "frame": {
               "duration": 300,
               "redraw": false
              },
              "mode": "immediate",
              "transition": {
               "duration": 300
              }
             }
            ],
            "label": "2014",
            "method": "animate"
           },
           {
            "args": [
             [
              "2015"
             ],
             {
              "frame": {
               "duration": 300,
               "redraw": false
              },
              "mode": "immediate",
              "transition": {
               "duration": 300
              }
             }
            ],
            "label": "2015",
            "method": "animate"
           },
           {
            "args": [
             [
              "2016"
             ],
             {
              "frame": {
               "duration": 300,
               "redraw": false
              },
              "mode": "immediate",
              "transition": {
               "duration": 300
              }
             }
            ],
            "label": "2016",
            "method": "animate"
           },
           {
            "args": [
             [
              "2017"
             ],
             {
              "frame": {
               "duration": 300,
               "redraw": false
              },
              "mode": "immediate",
              "transition": {
               "duration": 300
              }
             }
            ],
            "label": "2017",
            "method": "animate"
           },
           {
            "args": [
             [
              "2018"
             ],
             {
              "frame": {
               "duration": 300,
               "redraw": false
              },
              "mode": "immediate",
              "transition": {
               "duration": 300
              }
             }
            ],
            "label": "2018",
            "method": "animate"
           },
           {
            "args": [
             [
              "2019"
             ],
             {
              "frame": {
               "duration": 300,
               "redraw": false
              },
              "mode": "immediate",
              "transition": {
               "duration": 300
              }
             }
            ],
            "label": "2019",
            "method": "animate"
           }
          ],
          "transition": {
           "duration": 300,
           "easing": "cubic-in-out"
          },
          "x": 0.1,
          "xanchor": "left",
          "y": 0,
          "yanchor": "top"
         }
        ],
        "template": {
         "data": {
          "bar": [
           {
            "error_x": {
             "color": "#2a3f5f"
            },
            "error_y": {
             "color": "#2a3f5f"
            },
            "marker": {
             "line": {
              "color": "#E5ECF6",
              "width": 0.5
             }
            },
            "type": "bar"
           }
          ],
          "barpolar": [
           {
            "marker": {
             "line": {
              "color": "#E5ECF6",
              "width": 0.5
             }
            },
            "type": "barpolar"
           }
          ],
          "carpet": [
           {
            "aaxis": {
             "endlinecolor": "#2a3f5f",
             "gridcolor": "white",
             "linecolor": "white",
             "minorgridcolor": "white",
             "startlinecolor": "#2a3f5f"
            },
            "baxis": {
             "endlinecolor": "#2a3f5f",
             "gridcolor": "white",
             "linecolor": "white",
             "minorgridcolor": "white",
             "startlinecolor": "#2a3f5f"
            },
            "type": "carpet"
           }
          ],
          "choropleth": [
           {
            "colorbar": {
             "outlinewidth": 0,
             "ticks": ""
            },
            "type": "choropleth"
           }
          ],
          "contour": [
           {
            "colorbar": {
             "outlinewidth": 0,
             "ticks": ""
            },
            "colorscale": [
             [
              0,
              "#0d0887"
             ],
             [
              0.1111111111111111,
              "#46039f"
             ],
             [
              0.2222222222222222,
              "#7201a8"
             ],
             [
              0.3333333333333333,
              "#9c179e"
             ],
             [
              0.4444444444444444,
              "#bd3786"
             ],
             [
              0.5555555555555556,
              "#d8576b"
             ],
             [
              0.6666666666666666,
              "#ed7953"
             ],
             [
              0.7777777777777778,
              "#fb9f3a"
             ],
             [
              0.8888888888888888,
              "#fdca26"
             ],
             [
              1,
              "#f0f921"
             ]
            ],
            "type": "contour"
           }
          ],
          "contourcarpet": [
           {
            "colorbar": {
             "outlinewidth": 0,
             "ticks": ""
            },
            "type": "contourcarpet"
           }
          ],
          "heatmap": [
           {
            "colorbar": {
             "outlinewidth": 0,
             "ticks": ""
            },
            "colorscale": [
             [
              0,
              "#0d0887"
             ],
             [
              0.1111111111111111,
              "#46039f"
             ],
             [
              0.2222222222222222,
              "#7201a8"
             ],
             [
              0.3333333333333333,
              "#9c179e"
             ],
             [
              0.4444444444444444,
              "#bd3786"
             ],
             [
              0.5555555555555556,
              "#d8576b"
             ],
             [
              0.6666666666666666,
              "#ed7953"
             ],
             [
              0.7777777777777778,
              "#fb9f3a"
             ],
             [
              0.8888888888888888,
              "#fdca26"
             ],
             [
              1,
              "#f0f921"
             ]
            ],
            "type": "heatmap"
           }
          ],
          "heatmapgl": [
           {
            "colorbar": {
             "outlinewidth": 0,
             "ticks": ""
            },
            "colorscale": [
             [
              0,
              "#0d0887"
             ],
             [
              0.1111111111111111,
              "#46039f"
             ],
             [
              0.2222222222222222,
              "#7201a8"
             ],
             [
              0.3333333333333333,
              "#9c179e"
             ],
             [
              0.4444444444444444,
              "#bd3786"
             ],
             [
              0.5555555555555556,
              "#d8576b"
             ],
             [
              0.6666666666666666,
              "#ed7953"
             ],
             [
              0.7777777777777778,
              "#fb9f3a"
             ],
             [
              0.8888888888888888,
              "#fdca26"
             ],
             [
              1,
              "#f0f921"
             ]
            ],
            "type": "heatmapgl"
           }
          ],
          "histogram": [
           {
            "marker": {
             "colorbar": {
              "outlinewidth": 0,
              "ticks": ""
             }
            },
            "type": "histogram"
           }
          ],
          "histogram2d": [
           {
            "colorbar": {
             "outlinewidth": 0,
             "ticks": ""
            },
            "colorscale": [
             [
              0,
              "#0d0887"
             ],
             [
              0.1111111111111111,
              "#46039f"
             ],
             [
              0.2222222222222222,
              "#7201a8"
             ],
             [
              0.3333333333333333,
              "#9c179e"
             ],
             [
              0.4444444444444444,
              "#bd3786"
             ],
             [
              0.5555555555555556,
              "#d8576b"
             ],
             [
              0.6666666666666666,
              "#ed7953"
             ],
             [
              0.7777777777777778,
              "#fb9f3a"
             ],
             [
              0.8888888888888888,
              "#fdca26"
             ],
             [
              1,
              "#f0f921"
             ]
            ],
            "type": "histogram2d"
           }
          ],
          "histogram2dcontour": [
           {
            "colorbar": {
             "outlinewidth": 0,
             "ticks": ""
            },
            "colorscale": [
             [
              0,
              "#0d0887"
             ],
             [
              0.1111111111111111,
              "#46039f"
             ],
             [
              0.2222222222222222,
              "#7201a8"
             ],
             [
              0.3333333333333333,
              "#9c179e"
             ],
             [
              0.4444444444444444,
              "#bd3786"
             ],
             [
              0.5555555555555556,
              "#d8576b"
             ],
             [
              0.6666666666666666,
              "#ed7953"
             ],
             [
              0.7777777777777778,
              "#fb9f3a"
             ],
             [
              0.8888888888888888,
              "#fdca26"
             ],
             [
              1,
              "#f0f921"
             ]
            ],
            "type": "histogram2dcontour"
           }
          ],
          "mesh3d": [
           {
            "colorbar": {
             "outlinewidth": 0,
             "ticks": ""
            },
            "type": "mesh3d"
           }
          ],
          "parcoords": [
           {
            "line": {
             "colorbar": {
              "outlinewidth": 0,
              "ticks": ""
             }
            },
            "type": "parcoords"
           }
          ],
          "pie": [
           {
            "automargin": true,
            "type": "pie"
           }
          ],
          "scatter": [
           {
            "marker": {
             "colorbar": {
              "outlinewidth": 0,
              "ticks": ""
             }
            },
            "type": "scatter"
           }
          ],
          "scatter3d": [
           {
            "line": {
             "colorbar": {
              "outlinewidth": 0,
              "ticks": ""
             }
            },
            "marker": {
             "colorbar": {
              "outlinewidth": 0,
              "ticks": ""
             }
            },
            "type": "scatter3d"
           }
          ],
          "scattercarpet": [
           {
            "marker": {
             "colorbar": {
              "outlinewidth": 0,
              "ticks": ""
             }
            },
            "type": "scattercarpet"
           }
          ],
          "scattergeo": [
           {
            "marker": {
             "colorbar": {
              "outlinewidth": 0,
              "ticks": ""
             }
            },
            "type": "scattergeo"
           }
          ],
          "scattergl": [
           {
            "marker": {
             "colorbar": {
              "outlinewidth": 0,
              "ticks": ""
             }
            },
            "type": "scattergl"
           }
          ],
          "scattermapbox": [
           {
            "marker": {
             "colorbar": {
              "outlinewidth": 0,
              "ticks": ""
             }
            },
            "type": "scattermapbox"
           }
          ],
          "scatterpolar": [
           {
            "marker": {
             "colorbar": {
              "outlinewidth": 0,
              "ticks": ""
             }
            },
            "type": "scatterpolar"
           }
          ],
          "scatterpolargl": [
           {
            "marker": {
             "colorbar": {
              "outlinewidth": 0,
              "ticks": ""
             }
            },
            "type": "scatterpolargl"
           }
          ],
          "scatterternary": [
           {
            "marker": {
             "colorbar": {
              "outlinewidth": 0,
              "ticks": ""
             }
            },
            "type": "scatterternary"
           }
          ],
          "surface": [
           {
            "colorbar": {
             "outlinewidth": 0,
             "ticks": ""
            },
            "colorscale": [
             [
              0,
              "#0d0887"
             ],
             [
              0.1111111111111111,
              "#46039f"
             ],
             [
              0.2222222222222222,
              "#7201a8"
             ],
             [
              0.3333333333333333,
              "#9c179e"
             ],
             [
              0.4444444444444444,
              "#bd3786"
             ],
             [
              0.5555555555555556,
              "#d8576b"
             ],
             [
              0.6666666666666666,
              "#ed7953"
             ],
             [
              0.7777777777777778,
              "#fb9f3a"
             ],
             [
              0.8888888888888888,
              "#fdca26"
             ],
             [
              1,
              "#f0f921"
             ]
            ],
            "type": "surface"
           }
          ],
          "table": [
           {
            "cells": {
             "fill": {
              "color": "#EBF0F8"
             },
             "line": {
              "color": "white"
             }
            },
            "header": {
             "fill": {
              "color": "#C8D4E3"
             },
             "line": {
              "color": "white"
             }
            },
            "type": "table"
           }
          ]
         },
         "layout": {
          "annotationdefaults": {
           "arrowcolor": "#2a3f5f",
           "arrowhead": 0,
           "arrowwidth": 1
          },
          "coloraxis": {
           "colorbar": {
            "outlinewidth": 0,
            "ticks": ""
           }
          },
          "colorscale": {
           "diverging": [
            [
             0,
             "#8e0152"
            ],
            [
             0.1,
             "#c51b7d"
            ],
            [
             0.2,
             "#de77ae"
            ],
            [
             0.3,
             "#f1b6da"
            ],
            [
             0.4,
             "#fde0ef"
            ],
            [
             0.5,
             "#f7f7f7"
            ],
            [
             0.6,
             "#e6f5d0"
            ],
            [
             0.7,
             "#b8e186"
            ],
            [
             0.8,
             "#7fbc41"
            ],
            [
             0.9,
             "#4d9221"
            ],
            [
             1,
             "#276419"
            ]
           ],
           "sequential": [
            [
             0,
             "#0d0887"
            ],
            [
             0.1111111111111111,
             "#46039f"
            ],
            [
             0.2222222222222222,
             "#7201a8"
            ],
            [
             0.3333333333333333,
             "#9c179e"
            ],
            [
             0.4444444444444444,
             "#bd3786"
            ],
            [
             0.5555555555555556,
             "#d8576b"
            ],
            [
             0.6666666666666666,
             "#ed7953"
            ],
            [
             0.7777777777777778,
             "#fb9f3a"
            ],
            [
             0.8888888888888888,
             "#fdca26"
            ],
            [
             1,
             "#f0f921"
            ]
           ],
           "sequentialminus": [
            [
             0,
             "#0d0887"
            ],
            [
             0.1111111111111111,
             "#46039f"
            ],
            [
             0.2222222222222222,
             "#7201a8"
            ],
            [
             0.3333333333333333,
             "#9c179e"
            ],
            [
             0.4444444444444444,
             "#bd3786"
            ],
            [
             0.5555555555555556,
             "#d8576b"
            ],
            [
             0.6666666666666666,
             "#ed7953"
            ],
            [
             0.7777777777777778,
             "#fb9f3a"
            ],
            [
             0.8888888888888888,
             "#fdca26"
            ],
            [
             1,
             "#f0f921"
            ]
           ]
          },
          "colorway": [
           "#636efa",
           "#EF553B",
           "#00cc96",
           "#ab63fa",
           "#FFA15A",
           "#19d3f3",
           "#FF6692",
           "#B6E880",
           "#FF97FF",
           "#FECB52"
          ],
          "font": {
           "color": "#2a3f5f"
          },
          "geo": {
           "bgcolor": "white",
           "lakecolor": "white",
           "landcolor": "#E5ECF6",
           "showlakes": true,
           "showland": true,
           "subunitcolor": "white"
          },
          "hoverlabel": {
           "align": "left"
          },
          "hovermode": "closest",
          "mapbox": {
           "style": "light"
          },
          "paper_bgcolor": "white",
          "plot_bgcolor": "#E5ECF6",
          "polar": {
           "angularaxis": {
            "gridcolor": "white",
            "linecolor": "white",
            "ticks": ""
           },
           "bgcolor": "#E5ECF6",
           "radialaxis": {
            "gridcolor": "white",
            "linecolor": "white",
            "ticks": ""
           }
          },
          "scene": {
           "xaxis": {
            "backgroundcolor": "#E5ECF6",
            "gridcolor": "white",
            "gridwidth": 2,
            "linecolor": "white",
            "showbackground": true,
            "ticks": "",
            "zerolinecolor": "white"
           },
           "yaxis": {
            "backgroundcolor": "#E5ECF6",
            "gridcolor": "white",
            "gridwidth": 2,
            "linecolor": "white",
            "showbackground": true,
            "ticks": "",
            "zerolinecolor": "white"
           },
           "zaxis": {
            "backgroundcolor": "#E5ECF6",
            "gridcolor": "white",
            "gridwidth": 2,
            "linecolor": "white",
            "showbackground": true,
            "ticks": "",
            "zerolinecolor": "white"
           }
          },
          "shapedefaults": {
           "line": {
            "color": "#2a3f5f"
           }
          },
          "ternary": {
           "aaxis": {
            "gridcolor": "white",
            "linecolor": "white",
            "ticks": ""
           },
           "baxis": {
            "gridcolor": "white",
            "linecolor": "white",
            "ticks": ""
           },
           "bgcolor": "#E5ECF6",
           "caxis": {
            "gridcolor": "white",
            "linecolor": "white",
            "ticks": ""
           }
          },
          "title": {
           "x": 0.05
          },
          "xaxis": {
           "automargin": true,
           "gridcolor": "white",
           "linecolor": "white",
           "ticks": "",
           "title": {
            "standoff": 15
           },
           "zerolinecolor": "white",
           "zerolinewidth": 2
          },
          "yaxis": {
           "automargin": true,
           "gridcolor": "white",
           "linecolor": "white",
           "ticks": "",
           "title": {
            "standoff": 15
           },
           "zerolinecolor": "white",
           "zerolinewidth": 2
          }
         }
        },
        "title": {
         "text": "<b>Motion chart</b><br><span style=\"color:#666666\">Индекс Биг Мака для стран мира с 2005 по 2019 год </span>"
        },
        "updatemenus": [
         {
          "buttons": [
           {
            "args": [
             null,
             {
              "frame": {
               "duration": 500,
               "redraw": false
              },
              "fromcurrent": true,
              "transition": {
               "duration": 300,
               "easing": "quadratic-in-out"
              }
             }
            ],
            "label": "Play",
            "method": "animate"
           },
           {
            "args": [
             [
              null
             ],
             {
              "frame": {
               "duration": 0,
               "redraw": false
              },
              "mode": "immediate",
              "transition": {
               "duration": 0
              }
             }
            ],
            "label": "Pause",
            "method": "animate"
           }
          ],
          "direction": "left",
          "pad": {
           "r": 10,
           "t": 87
          },
          "showactive": false,
          "type": "buttons",
          "x": 0.1,
          "xanchor": "right",
          "y": 0,
          "yanchor": "top"
         }
        ],
        "xaxis": {
         "gridcolor": "lightgray",
         "gridwidth": 0.5,
         "nticks": 4,
         "tickfont": {
          "color": "black",
          "family": "Open Sans, light",
          "size": 12
         },
         "title": {
          "text": "Численность населения"
         },
         "type": "log"
        },
        "yaxis": {
         "gridcolor": "lightgray",
         "gridwidth": 0.5,
         "nticks": 4,
         "tickfont": {
          "color": "black",
          "family": "Open Sans, light",
          "size": 12
         },
         "title": {
          "text": "ВВП на душу населения"
         },
         "type": "log"
        }
       }
      },
      "text/html": [
       "<div>\n",
       "        \n",
       "        \n",
       "            <div id=\"23cc7aba-91d1-4211-b66c-d541f29342e1\" class=\"plotly-graph-div\" style=\"height:525px; width:100%;\"></div>\n",
       "            <script type=\"text/javascript\">\n",
       "                require([\"plotly\"], function(Plotly) {\n",
       "                    window.PLOTLYENV=window.PLOTLYENV || {};\n",
       "                    \n",
       "                if (document.getElementById(\"23cc7aba-91d1-4211-b66c-d541f29342e1\")) {\n",
       "                    Plotly.newPlot(\n",
       "                        '23cc7aba-91d1-4211-b66c-d541f29342e1',\n",
       "                        [{\"marker\": {\"size\": [32792544.01104591, 47874066.861408636, 50637184.57253776, 55849121.45035873, 55244884.16395256, 36476683.93782383], \"sizemode\": \"area\", \"sizeref\": 200000}, \"mode\": \"markers\", \"name\": \"South America\", \"text\": [\"Argentina\", \"Brazil\", \"Chile\", \"Colombia\", \"Peru\", \"Uruguay\"], \"type\": \"scatter\", \"x\": [38892931.0, 186127103.0, 16182721.0, 42647723.0, 27866145.0, 3321803.0], \"y\": [198737095012.28198, 891630177251.068, 122964812046.07301, 145619193046.094, 76060606060.606, 17362857683.8545]}, {\"marker\": {\"size\": [49942374.183634266, 63467161.092490904], \"sizemode\": \"area\", \"sizeref\": 200000}, \"mode\": \"markers\", \"name\": \"Oceania\", \"text\": [\"Australia\", \"New Zealand\"], \"type\": \"scatter\", \"x\": [20394800.0, 4133900.0], \"y\": [693407758231.845, 114720129550.095]}, {\"marker\": {\"size\": [68808000.05435832, 45980383.767506495, 91513182.84498821, 71662639.96460581, 52051875.09514199, 121257345.39688462, 39279671.25936669, 29571737.867666475, 83331093.25018144, 101002004.00801602, 58436815.19357195, 28656126.48221344], \"sizemode\": \"area\", \"sizeref\": 200000}, \"mode\": \"markers\", \"name\": \"Europe\", \"text\": [\"Britain\", \"Czech Republic\", \"Denmark\", \"Euro area\", \"Hungary\", \"Norway\", \"Poland\", \"Russia\", \"Sweden\", \"Switzerland\", \"Turkey\", \"Ukraine\"], \"type\": \"scatter\", \"x\": [60401206.0, 10211216.0, 5419432.0, 329380417.0, 10087065.0, 4623291.0, 38165445.0, 143518814.0, 9029572.0, 7437115.0, 67903469.0, 47105171.0], \"y\": [2538680000000.0, 136280689891.224, 264467336457.17, 10519107942453.8, 112980947728.38301, 308884284051.222, 306123628496.368, 764017107992.3921, 392218088878.779, 408689353999.35706, 501416301503.424, 86057915585.3026]}, {\"marker\": {\"size\": [52505202.49719865, 47548916.473806016, 51529790.66022544, 61200000.0], \"sizemode\": \"area\", \"sizeref\": 200000}, \"mode\": \"markers\", \"name\": \"North America\", \"text\": [\"Canada\", \"Costa Rica\", \"Mexico\", \"United States\"], \"type\": \"scatter\", \"x\": [32243753.0, 4285502.0, 106005203.0, 295516599.0], \"y\": [1169357979864.66, 19948261084.3726, 877476221382.101, 13036640229000.0]}, {\"marker\": {\"size\": [25373350.732202407, 30845553.74195124, 30591932.949188057, 46853769.38574708, 27631578.94736842, 43609527.00436095, 29330889.092575617, 47998720.03413242, 43355211.657734685, 49726504.226752855, 35019260.59332633, 29607698.001480386], \"sizemode\": \"area\", \"sizeref\": 200000}, \"mode\": \"markers\", \"name\": \"Asia\", \"text\": [\"China\", \"Hong Kong\", \"Indonesia\", \"Japan\", \"Malaysia\", \"Pakistan\", \"Philippines\", \"Saudi Arabia\", \"Singapore\", \"South Korea\", \"Sri Lanka\", \"Thailand\"], \"type\": \"scatter\", \"x\": [1303720000.0, 6813200.0, 226289470.0, 127773000.0, 25690611.0, 160304008.0, 86326250.0, 23816183.0, 4265762.0, 48184561.0, 19544988.0, 65416189.0], \"y\": [2285965892360.54, 181570082162.19, 285868618224.01697, 4755410630912.14, 143534102611.49698, 120055291992.938, 107419986400.188, 328459608764.111, 127807618360.971, 934901071332.984, 24405791044.7761, 189318549680.38397]}, {\"marker\": {\"size\": [31034482.75862069, 41966246.50281279], \"sizemode\": \"area\", \"sizeref\": 200000}, \"mode\": \"markers\", \"name\": \"Africa\", \"text\": [\"Egypt\", \"South Africa\"], \"type\": \"scatter\", \"x\": [75523569.0, 47880601.0], \"y\": [89685725230.2517, 257772710832.953]}],\n",
       "                        {\"font\": {\"color\": \"black\", \"family\": \"Open Sans, light\", \"size\": 14}, \"hovermode\": \"closest\", \"plot_bgcolor\": \"rgba(0,0,0,0)\", \"sliders\": [{\"active\": 0, \"currentvalue\": {\"font\": {\"size\": 20}, \"prefix\": \"Year:\", \"visible\": true, \"xanchor\": \"right\"}, \"len\": 0.9, \"pad\": {\"b\": 10, \"t\": 50}, \"steps\": [{\"args\": [[\"2005\"], {\"frame\": {\"duration\": 300, \"redraw\": false}, \"mode\": \"immediate\", \"transition\": {\"duration\": 300}}], \"label\": \"2005\", \"method\": \"animate\"}, {\"args\": [[\"2006\"], {\"frame\": {\"duration\": 300, \"redraw\": false}, \"mode\": \"immediate\", \"transition\": {\"duration\": 300}}], \"label\": \"2006\", \"method\": \"animate\"}, {\"args\": [[\"2007\"], {\"frame\": {\"duration\": 300, \"redraw\": false}, \"mode\": \"immediate\", \"transition\": {\"duration\": 300}}], \"label\": \"2007\", \"method\": \"animate\"}, {\"args\": [[\"2008\"], {\"frame\": {\"duration\": 300, \"redraw\": false}, \"mode\": \"immediate\", \"transition\": {\"duration\": 300}}], \"label\": \"2008\", \"method\": \"animate\"}, {\"args\": [[\"2009\"], {\"frame\": {\"duration\": 300, \"redraw\": false}, \"mode\": \"immediate\", \"transition\": {\"duration\": 300}}], \"label\": \"2009\", \"method\": \"animate\"}, {\"args\": [[\"2010\"], {\"frame\": {\"duration\": 300, \"redraw\": false}, \"mode\": \"immediate\", \"transition\": {\"duration\": 300}}], \"label\": \"2010\", \"method\": \"animate\"}, {\"args\": [[\"2011\"], {\"frame\": {\"duration\": 300, \"redraw\": false}, \"mode\": \"immediate\", \"transition\": {\"duration\": 300}}], \"label\": \"2011\", \"method\": \"animate\"}, {\"args\": [[\"2012\"], {\"frame\": {\"duration\": 300, \"redraw\": false}, \"mode\": \"immediate\", \"transition\": {\"duration\": 300}}], \"label\": \"2012\", \"method\": \"animate\"}, {\"args\": [[\"2013\"], {\"frame\": {\"duration\": 300, \"redraw\": false}, \"mode\": \"immediate\", \"transition\": {\"duration\": 300}}], \"label\": \"2013\", \"method\": \"animate\"}, {\"args\": [[\"2014\"], {\"frame\": {\"duration\": 300, \"redraw\": false}, \"mode\": \"immediate\", \"transition\": {\"duration\": 300}}], \"label\": \"2014\", \"method\": \"animate\"}, {\"args\": [[\"2015\"], {\"frame\": {\"duration\": 300, \"redraw\": false}, \"mode\": \"immediate\", \"transition\": {\"duration\": 300}}], \"label\": \"2015\", \"method\": \"animate\"}, {\"args\": [[\"2016\"], {\"frame\": {\"duration\": 300, \"redraw\": false}, \"mode\": \"immediate\", \"transition\": {\"duration\": 300}}], \"label\": \"2016\", \"method\": \"animate\"}, {\"args\": [[\"2017\"], {\"frame\": {\"duration\": 300, \"redraw\": false}, \"mode\": \"immediate\", \"transition\": {\"duration\": 300}}], \"label\": \"2017\", \"method\": \"animate\"}, {\"args\": [[\"2018\"], {\"frame\": {\"duration\": 300, \"redraw\": false}, \"mode\": \"immediate\", \"transition\": {\"duration\": 300}}], \"label\": \"2018\", \"method\": \"animate\"}, {\"args\": [[\"2019\"], {\"frame\": {\"duration\": 300, \"redraw\": false}, \"mode\": \"immediate\", \"transition\": {\"duration\": 300}}], \"label\": \"2019\", \"method\": \"animate\"}], \"transition\": {\"duration\": 300, \"easing\": \"cubic-in-out\"}, \"x\": 0.1, \"xanchor\": \"left\", \"y\": 0, \"yanchor\": \"top\"}], \"template\": {\"data\": {\"bar\": [{\"error_x\": {\"color\": \"#2a3f5f\"}, \"error_y\": {\"color\": \"#2a3f5f\"}, \"marker\": {\"line\": {\"color\": \"#E5ECF6\", \"width\": 0.5}}, \"type\": \"bar\"}], \"barpolar\": [{\"marker\": {\"line\": {\"color\": \"#E5ECF6\", \"width\": 0.5}}, \"type\": \"barpolar\"}], \"carpet\": [{\"aaxis\": {\"endlinecolor\": \"#2a3f5f\", \"gridcolor\": \"white\", \"linecolor\": \"white\", \"minorgridcolor\": \"white\", \"startlinecolor\": \"#2a3f5f\"}, \"baxis\": {\"endlinecolor\": \"#2a3f5f\", \"gridcolor\": \"white\", \"linecolor\": \"white\", \"minorgridcolor\": \"white\", \"startlinecolor\": \"#2a3f5f\"}, \"type\": \"carpet\"}], \"choropleth\": [{\"colorbar\": {\"outlinewidth\": 0, \"ticks\": \"\"}, \"type\": \"choropleth\"}], \"contour\": [{\"colorbar\": {\"outlinewidth\": 0, \"ticks\": \"\"}, \"colorscale\": [[0.0, \"#0d0887\"], [0.1111111111111111, \"#46039f\"], [0.2222222222222222, \"#7201a8\"], [0.3333333333333333, \"#9c179e\"], [0.4444444444444444, \"#bd3786\"], [0.5555555555555556, \"#d8576b\"], [0.6666666666666666, \"#ed7953\"], [0.7777777777777778, \"#fb9f3a\"], [0.8888888888888888, \"#fdca26\"], [1.0, \"#f0f921\"]], \"type\": \"contour\"}], \"contourcarpet\": [{\"colorbar\": {\"outlinewidth\": 0, \"ticks\": \"\"}, \"type\": \"contourcarpet\"}], \"heatmap\": [{\"colorbar\": {\"outlinewidth\": 0, \"ticks\": \"\"}, \"colorscale\": [[0.0, \"#0d0887\"], [0.1111111111111111, \"#46039f\"], [0.2222222222222222, \"#7201a8\"], [0.3333333333333333, \"#9c179e\"], [0.4444444444444444, \"#bd3786\"], [0.5555555555555556, \"#d8576b\"], [0.6666666666666666, \"#ed7953\"], [0.7777777777777778, \"#fb9f3a\"], [0.8888888888888888, \"#fdca26\"], [1.0, \"#f0f921\"]], \"type\": \"heatmap\"}], \"heatmapgl\": [{\"colorbar\": {\"outlinewidth\": 0, \"ticks\": \"\"}, \"colorscale\": [[0.0, \"#0d0887\"], [0.1111111111111111, \"#46039f\"], [0.2222222222222222, \"#7201a8\"], [0.3333333333333333, \"#9c179e\"], [0.4444444444444444, \"#bd3786\"], [0.5555555555555556, \"#d8576b\"], [0.6666666666666666, \"#ed7953\"], [0.7777777777777778, \"#fb9f3a\"], [0.8888888888888888, \"#fdca26\"], [1.0, \"#f0f921\"]], \"type\": \"heatmapgl\"}], \"histogram\": [{\"marker\": {\"colorbar\": {\"outlinewidth\": 0, \"ticks\": \"\"}}, \"type\": \"histogram\"}], \"histogram2d\": [{\"colorbar\": {\"outlinewidth\": 0, \"ticks\": \"\"}, \"colorscale\": [[0.0, \"#0d0887\"], [0.1111111111111111, \"#46039f\"], [0.2222222222222222, \"#7201a8\"], [0.3333333333333333, \"#9c179e\"], [0.4444444444444444, \"#bd3786\"], [0.5555555555555556, \"#d8576b\"], [0.6666666666666666, \"#ed7953\"], [0.7777777777777778, \"#fb9f3a\"], [0.8888888888888888, \"#fdca26\"], [1.0, \"#f0f921\"]], \"type\": \"histogram2d\"}], \"histogram2dcontour\": [{\"colorbar\": {\"outlinewidth\": 0, \"ticks\": \"\"}, \"colorscale\": [[0.0, \"#0d0887\"], [0.1111111111111111, \"#46039f\"], [0.2222222222222222, \"#7201a8\"], [0.3333333333333333, \"#9c179e\"], [0.4444444444444444, \"#bd3786\"], [0.5555555555555556, \"#d8576b\"], [0.6666666666666666, \"#ed7953\"], [0.7777777777777778, \"#fb9f3a\"], [0.8888888888888888, \"#fdca26\"], [1.0, \"#f0f921\"]], \"type\": \"histogram2dcontour\"}], \"mesh3d\": [{\"colorbar\": {\"outlinewidth\": 0, \"ticks\": \"\"}, \"type\": \"mesh3d\"}], \"parcoords\": [{\"line\": {\"colorbar\": {\"outlinewidth\": 0, \"ticks\": \"\"}}, \"type\": \"parcoords\"}], \"pie\": [{\"automargin\": true, \"type\": \"pie\"}], \"scatter\": [{\"marker\": {\"colorbar\": {\"outlinewidth\": 0, \"ticks\": \"\"}}, \"type\": \"scatter\"}], \"scatter3d\": [{\"line\": {\"colorbar\": {\"outlinewidth\": 0, \"ticks\": \"\"}}, \"marker\": {\"colorbar\": {\"outlinewidth\": 0, \"ticks\": \"\"}}, \"type\": \"scatter3d\"}], \"scattercarpet\": [{\"marker\": {\"colorbar\": {\"outlinewidth\": 0, \"ticks\": \"\"}}, \"type\": \"scattercarpet\"}], \"scattergeo\": [{\"marker\": {\"colorbar\": {\"outlinewidth\": 0, \"ticks\": \"\"}}, \"type\": \"scattergeo\"}], \"scattergl\": [{\"marker\": {\"colorbar\": {\"outlinewidth\": 0, \"ticks\": \"\"}}, \"type\": \"scattergl\"}], \"scattermapbox\": [{\"marker\": {\"colorbar\": {\"outlinewidth\": 0, \"ticks\": \"\"}}, \"type\": \"scattermapbox\"}], \"scatterpolar\": [{\"marker\": {\"colorbar\": {\"outlinewidth\": 0, \"ticks\": \"\"}}, \"type\": \"scatterpolar\"}], \"scatterpolargl\": [{\"marker\": {\"colorbar\": {\"outlinewidth\": 0, \"ticks\": \"\"}}, \"type\": \"scatterpolargl\"}], \"scatterternary\": [{\"marker\": {\"colorbar\": {\"outlinewidth\": 0, \"ticks\": \"\"}}, \"type\": \"scatterternary\"}], \"surface\": [{\"colorbar\": {\"outlinewidth\": 0, \"ticks\": \"\"}, \"colorscale\": [[0.0, \"#0d0887\"], [0.1111111111111111, \"#46039f\"], [0.2222222222222222, \"#7201a8\"], [0.3333333333333333, \"#9c179e\"], [0.4444444444444444, \"#bd3786\"], [0.5555555555555556, \"#d8576b\"], [0.6666666666666666, \"#ed7953\"], [0.7777777777777778, \"#fb9f3a\"], [0.8888888888888888, \"#fdca26\"], [1.0, \"#f0f921\"]], \"type\": \"surface\"}], \"table\": [{\"cells\": {\"fill\": {\"color\": \"#EBF0F8\"}, \"line\": {\"color\": \"white\"}}, \"header\": {\"fill\": {\"color\": \"#C8D4E3\"}, \"line\": {\"color\": \"white\"}}, \"type\": \"table\"}]}, \"layout\": {\"annotationdefaults\": {\"arrowcolor\": \"#2a3f5f\", \"arrowhead\": 0, \"arrowwidth\": 1}, \"coloraxis\": {\"colorbar\": {\"outlinewidth\": 0, \"ticks\": \"\"}}, \"colorscale\": {\"diverging\": [[0, \"#8e0152\"], [0.1, \"#c51b7d\"], [0.2, \"#de77ae\"], [0.3, \"#f1b6da\"], [0.4, \"#fde0ef\"], [0.5, \"#f7f7f7\"], [0.6, \"#e6f5d0\"], [0.7, \"#b8e186\"], [0.8, \"#7fbc41\"], [0.9, \"#4d9221\"], [1, \"#276419\"]], \"sequential\": [[0.0, \"#0d0887\"], [0.1111111111111111, \"#46039f\"], [0.2222222222222222, \"#7201a8\"], [0.3333333333333333, \"#9c179e\"], [0.4444444444444444, \"#bd3786\"], [0.5555555555555556, \"#d8576b\"], [0.6666666666666666, \"#ed7953\"], [0.7777777777777778, \"#fb9f3a\"], [0.8888888888888888, \"#fdca26\"], [1.0, \"#f0f921\"]], \"sequentialminus\": [[0.0, \"#0d0887\"], [0.1111111111111111, \"#46039f\"], [0.2222222222222222, \"#7201a8\"], [0.3333333333333333, \"#9c179e\"], [0.4444444444444444, \"#bd3786\"], [0.5555555555555556, \"#d8576b\"], [0.6666666666666666, \"#ed7953\"], [0.7777777777777778, \"#fb9f3a\"], [0.8888888888888888, \"#fdca26\"], [1.0, \"#f0f921\"]]}, \"colorway\": [\"#636efa\", \"#EF553B\", \"#00cc96\", \"#ab63fa\", \"#FFA15A\", \"#19d3f3\", \"#FF6692\", \"#B6E880\", \"#FF97FF\", \"#FECB52\"], \"font\": {\"color\": \"#2a3f5f\"}, \"geo\": {\"bgcolor\": \"white\", \"lakecolor\": \"white\", \"landcolor\": \"#E5ECF6\", \"showlakes\": true, \"showland\": true, \"subunitcolor\": \"white\"}, \"hoverlabel\": {\"align\": \"left\"}, \"hovermode\": \"closest\", \"mapbox\": {\"style\": \"light\"}, \"paper_bgcolor\": \"white\", \"plot_bgcolor\": \"#E5ECF6\", \"polar\": {\"angularaxis\": {\"gridcolor\": \"white\", \"linecolor\": \"white\", \"ticks\": \"\"}, \"bgcolor\": \"#E5ECF6\", \"radialaxis\": {\"gridcolor\": \"white\", \"linecolor\": \"white\", \"ticks\": \"\"}}, \"scene\": {\"xaxis\": {\"backgroundcolor\": \"#E5ECF6\", \"gridcolor\": \"white\", \"gridwidth\": 2, \"linecolor\": \"white\", \"showbackground\": true, \"ticks\": \"\", \"zerolinecolor\": \"white\"}, \"yaxis\": {\"backgroundcolor\": \"#E5ECF6\", \"gridcolor\": \"white\", \"gridwidth\": 2, \"linecolor\": \"white\", \"showbackground\": true, \"ticks\": \"\", \"zerolinecolor\": \"white\"}, \"zaxis\": {\"backgroundcolor\": \"#E5ECF6\", \"gridcolor\": \"white\", \"gridwidth\": 2, \"linecolor\": \"white\", \"showbackground\": true, \"ticks\": \"\", \"zerolinecolor\": \"white\"}}, \"shapedefaults\": {\"line\": {\"color\": \"#2a3f5f\"}}, \"ternary\": {\"aaxis\": {\"gridcolor\": \"white\", \"linecolor\": \"white\", \"ticks\": \"\"}, \"baxis\": {\"gridcolor\": \"white\", \"linecolor\": \"white\", \"ticks\": \"\"}, \"bgcolor\": \"#E5ECF6\", \"caxis\": {\"gridcolor\": \"white\", \"linecolor\": \"white\", \"ticks\": \"\"}}, \"title\": {\"x\": 0.05}, \"xaxis\": {\"automargin\": true, \"gridcolor\": \"white\", \"linecolor\": \"white\", \"ticks\": \"\", \"title\": {\"standoff\": 15}, \"zerolinecolor\": \"white\", \"zerolinewidth\": 2}, \"yaxis\": {\"automargin\": true, \"gridcolor\": \"white\", \"linecolor\": \"white\", \"ticks\": \"\", \"title\": {\"standoff\": 15}, \"zerolinecolor\": \"white\", \"zerolinewidth\": 2}}}, \"title\": {\"text\": \"<b>Motion chart</b><br><span style=\\\"color:#666666\\\">\\u0418\\u043d\\u0434\\u0435\\u043a\\u0441 \\u0411\\u0438\\u0433 \\u041c\\u0430\\u043a\\u0430 \\u0434\\u043b\\u044f \\u0441\\u0442\\u0440\\u0430\\u043d \\u043c\\u0438\\u0440\\u0430 \\u0441 2005 \\u043f\\u043e 2019 \\u0433\\u043e\\u0434 </span>\"}, \"updatemenus\": [{\"buttons\": [{\"args\": [null, {\"frame\": {\"duration\": 500, \"redraw\": false}, \"fromcurrent\": true, \"transition\": {\"duration\": 300, \"easing\": \"quadratic-in-out\"}}], \"label\": \"Play\", \"method\": \"animate\"}, {\"args\": [[null], {\"frame\": {\"duration\": 0, \"redraw\": false}, \"mode\": \"immediate\", \"transition\": {\"duration\": 0}}], \"label\": \"Pause\", \"method\": \"animate\"}], \"direction\": \"left\", \"pad\": {\"r\": 10, \"t\": 87}, \"showactive\": false, \"type\": \"buttons\", \"x\": 0.1, \"xanchor\": \"right\", \"y\": 0, \"yanchor\": \"top\"}], \"xaxis\": {\"gridcolor\": \"lightgray\", \"gridwidth\": 0.5, \"nticks\": 4, \"tickfont\": {\"color\": \"black\", \"family\": \"Open Sans, light\", \"size\": 12}, \"title\": {\"text\": \"\\u0427\\u0438\\u0441\\u043b\\u0435\\u043d\\u043d\\u043e\\u0441\\u0442\\u044c \\u043d\\u0430\\u0441\\u0435\\u043b\\u0435\\u043d\\u0438\\u044f\"}, \"type\": \"log\"}, \"yaxis\": {\"gridcolor\": \"lightgray\", \"gridwidth\": 0.5, \"nticks\": 4, \"tickfont\": {\"color\": \"black\", \"family\": \"Open Sans, light\", \"size\": 12}, \"title\": {\"text\": \"\\u0412\\u0412\\u041f \\u043d\\u0430 \\u0434\\u0443\\u0448\\u0443 \\u043d\\u0430\\u0441\\u0435\\u043b\\u0435\\u043d\\u0438\\u044f\"}, \"type\": \"log\"}},\n",
       "                        {\"responsive\": true}\n",
       "                    ).then(function(){\n",
       "                            Plotly.addFrames('23cc7aba-91d1-4211-b66c-d541f29342e1', [{\"data\": [{\"marker\": {\"size\": [32792544.01104591, 47874066.861408636, 50637184.57253776, 55849121.45035873, 55244884.16395256, 36476683.93782383], \"sizemode\": \"area\", \"sizeref\": 200000}, \"mode\": \"markers\", \"name\": \"South America\", \"text\": [\"Argentina\", \"Brazil\", \"Chile\", \"Colombia\", \"Peru\", \"Uruguay\"], \"x\": [38892931.0, 186127103.0, 16182721.0, 42647723.0, 27866145.0, 3321803.0], \"y\": [198737095012.28198, 891630177251.068, 122964812046.07301, 145619193046.094, 76060606060.606, 17362857683.8545], \"type\": \"scatter\"}, {\"marker\": {\"size\": [49942374.183634266, 63467161.092490904], \"sizemode\": \"area\", \"sizeref\": 200000}, \"mode\": \"markers\", \"name\": \"Oceania\", \"text\": [\"Australia\", \"New Zealand\"], \"x\": [20394800.0, 4133900.0], \"y\": [693407758231.845, 114720129550.095], \"type\": \"scatter\"}, {\"marker\": {\"size\": [68808000.05435832, 45980383.767506495, 91513182.84498821, 71662639.96460581, 52051875.09514199, 121257345.39688462, 39279671.25936669, 29571737.867666475, 83331093.25018144, 101002004.00801602, 58436815.19357195, 28656126.48221344], \"sizemode\": \"area\", \"sizeref\": 200000}, \"mode\": \"markers\", \"name\": \"Europe\", \"text\": [\"Britain\", \"Czech Republic\", \"Denmark\", \"Euro area\", \"Hungary\", \"Norway\", \"Poland\", \"Russia\", \"Sweden\", \"Switzerland\", \"Turkey\", \"Ukraine\"], \"x\": [60401206.0, 10211216.0, 5419432.0, 329380417.0, 10087065.0, 4623291.0, 38165445.0, 143518814.0, 9029572.0, 7437115.0, 67903469.0, 47105171.0], \"y\": [2538680000000.0, 136280689891.224, 264467336457.17, 10519107942453.8, 112980947728.38301, 308884284051.222, 306123628496.368, 764017107992.3921, 392218088878.779, 408689353999.35706, 501416301503.424, 86057915585.3026], \"type\": \"scatter\"}, {\"marker\": {\"size\": [52505202.49719865, 47548916.473806016, 51529790.66022544, 61200000.0], \"sizemode\": \"area\", \"sizeref\": 200000}, \"mode\": \"markers\", \"name\": \"North America\", \"text\": [\"Canada\", \"Costa Rica\", \"Mexico\", \"United States\"], \"x\": [32243753.0, 4285502.0, 106005203.0, 295516599.0], \"y\": [1169357979864.66, 19948261084.3726, 877476221382.101, 13036640229000.0], \"type\": \"scatter\"}, {\"marker\": {\"size\": [25373350.732202407, 30845553.74195124, 30591932.949188057, 46853769.38574708, 27631578.94736842, 43609527.00436095, 29330889.092575617, 47998720.03413242, 43355211.657734685, 49726504.226752855, 35019260.59332633, 29607698.001480386], \"sizemode\": \"area\", \"sizeref\": 200000}, \"mode\": \"markers\", \"name\": \"Asia\", \"text\": [\"China\", \"Hong Kong\", \"Indonesia\", \"Japan\", \"Malaysia\", \"Pakistan\", \"Philippines\", \"Saudi Arabia\", \"Singapore\", \"South Korea\", \"Sri Lanka\", \"Thailand\"], \"x\": [1303720000.0, 6813200.0, 226289470.0, 127773000.0, 25690611.0, 160304008.0, 86326250.0, 23816183.0, 4265762.0, 48184561.0, 19544988.0, 65416189.0], \"y\": [2285965892360.54, 181570082162.19, 285868618224.01697, 4755410630912.14, 143534102611.49698, 120055291992.938, 107419986400.188, 328459608764.111, 127807618360.971, 934901071332.984, 24405791044.7761, 189318549680.38397], \"type\": \"scatter\"}, {\"marker\": {\"size\": [31034482.75862069, 41966246.50281279], \"sizemode\": \"area\", \"sizeref\": 200000}, \"mode\": \"markers\", \"name\": \"Africa\", \"text\": [\"Egypt\", \"South Africa\"], \"x\": [75523569.0, 47880601.0], \"y\": [89685725230.2517, 257772710832.953], \"type\": \"scatter\"}], \"name\": \"2005\"}, {\"data\": [{\"marker\": {\"size\": [31007245.903779622, 54830864.4704842, 59684361.54949785, 51925227.6721521, 55136390.01741149, 35343782.65412748], \"sizemode\": \"area\", \"sizeref\": 200000}, \"mode\": \"markers\", \"name\": \"South America\", \"text\": [\"Argentina\", \"Brazil\", \"Chile\", \"Colombia\", \"Peru\", \"Uruguay\"], \"x\": [39289878.0, 188167356.0, 16354504.0, 43200897.0, 28102056.0, 3325401.0], \"y\": [232557260817.308, 1107640289615.23, 154788024805.808, 161618580752.945, 88643193061.748, 19579457966.0538], \"type\": \"scatter\"}, {\"marker\": {\"size\": [48842801.322512776, 61519319.83134028], \"sizemode\": \"area\", \"sizeref\": 200000}, \"mode\": \"markers\", \"name\": \"Oceania\", \"text\": [\"Australia\", \"New Zealand\"], \"x\": [20697900.0, 4184600.0], \"y\": [746054207846.6609, 111608845081.38301], \"type\": \"scatter\"}, {\"marker\": {\"size\": [66322639.961818054, 52018877.81856319, 89850896.08055821, 70276499.99121544, 54117783.49021049, 140930468.83961788, 41732207.633783825, 32089291.942797348, 85582022.58846718, 98622417.03193487, 61354283.576505795, 33663366.33663367], \"sizemode\": \"area\", \"sizeref\": 200000}, \"mode\": \"markers\", \"name\": \"Europe\", \"text\": [\"Britain\", \"Czech Republic\", \"Denmark\", \"Euro area\", \"Hungary\", \"Norway\", \"Poland\", \"Russia\", \"Sweden\", \"Switzerland\", \"Turkey\", \"Ukraine\"], \"x\": [60846820.0, 10238905.0, 5437272.0, 330922789.0, 10071370.0, 4660677.0, 38141267.0, 143049637.0, 9080505.0, 7483934.0, 68756810.0, 46787786.0], \"y\": [2713749770009.2, 155463807112.889, 282884947702.966, 11174300432026.6, 115577256523.599, 345581369965.54, 344745746326.373, 989930542278.695, 423093437423.762, 430921192375.17896, 552486912915.646, 107647920792.07901], \"type\": \"scatter\"}, {\"marker\": {\"size\": [60150375.93984962, 44354166.05336238, 53118330.56675361, 63000000.0], \"sizemode\": \"area\", \"sizeref\": 200000}, \"mode\": \"markers\", \"name\": \"North America\", \"text\": [\"Canada\", \"Costa Rica\", \"Mexico\", \"United States\"], \"x\": [32571174.0, 4345412.0, 107560153.0, 298379912.0], \"y\": [1315415197461.21, 22602721765.2812, 975387131716.0891, 13814611414000.0], \"type\": \"scatter\"}, {\"marker\": {\"size\": [26041343.733336642, 30962947.672618434, 30866807.610993657, 43742618.4331394, 29342723.004694834, 43293647.48980102, 31190566.755420312, 48012803.4142438, 44028618.602091365, 51153511.68857741, 36909329.31863435, 30184882.404728964], \"sizemode\": \"area\", \"sizeref\": 200000}, \"mode\": \"markers\", \"name\": \"Asia\", \"text\": [\"China\", \"Hong Kong\", \"Indonesia\", \"Japan\", \"Malaysia\", \"Pakistan\", \"Philippines\", \"Saudi Arabia\", \"Singapore\", \"South Korea\", \"Sri Lanka\", \"Thailand\"], \"x\": [1311020000.0, 6857100.0, 229318262.0, 127854000.0, 26201961.0, 164022627.0, 87888675.0, 24498310.0, 4401365.0, 48438292.0, 19695972.0, 65812536.0], \"y\": [2752131773355.16, 193536265094.36398, 364570514304.85, 4530377224970.4, 162691238209.47598, 137264061106.04301, 127652908954.836, 376900133511.34796, 148630373214.173, 1053216909887.56, 28279814924.5918, 221758196504.936], \"type\": \"scatter\"}, {\"marker\": {\"size\": [32229965.156794425, 45885893.78813545], \"sizemode\": \"area\", \"sizeref\": 200000}, \"mode\": \"markers\", \"name\": \"Africa\", \"text\": [\"Egypt\", \"South Africa\"], \"x\": [76873663.0, 48489459.0], \"y\": [107484034870.974, 271638484826.10898], \"type\": \"scatter\"}], \"name\": \"2006\"}, {\"data\": [{\"marker\": {\"size\": [53419668.150546335, 59995312.86618233, 61834675.5530871, 61625713.10551171, 59570465.59021791, 45977011.49425287], \"sizemode\": \"area\", \"sizeref\": 200000}, \"mode\": \"markers\", \"name\": \"South America\", \"text\": [\"Argentina\", \"Brazil\", \"Chile\", \"Colombia\", \"Peru\", \"Uruguay\"], \"x\": [39684295.0, 190130443.0, 16530195.0, 43737516.0, 28333052.0, 3331749.0], \"y\": [287530508430.568, 1397084349956.35, 173605968179.255, 206181823187.67398, 102170981144.136, 23410572634.3147], \"type\": \"scatter\"}, {\"marker\": {\"size\": [54465156.11371378, 64427575.002100885], \"sizemode\": \"area\", \"sizeref\": 200000}, \"mode\": \"markers\", \"name\": \"Oceania\", \"text\": [\"Australia\", \"New Zealand\"], \"x\": [20827600.0, 4223800.0], \"y\": [853099630996.31, 137320496803.116], \"type\": \"scatter\"}, {\"marker\": {\"size\": [76674619.99193765, 48462524.09754827, 96470567.78578319, 76184219.95319241, 60692189.27527868, 136014289.6940498, 46437284.42836712, 36934441.36657433, 90892952.24569501, 100921105.32639167, 64550452.20783826, 35643564.35643564], \"sizemode\": \"area\", \"sizeref\": 200000}, \"mode\": \"markers\", \"name\": \"Europe\", \"text\": [\"Britain\", \"Czech Republic\", \"Denmark\", \"Euro area\", \"Hungary\", \"Norway\", \"Poland\", \"Russia\", \"Sweden\", \"Switzerland\", \"Turkey\", \"Ukraine\"], \"x\": [61322463.0, 10298828.0, 5461438.0, 332645165.0, 10055780.0, 4709153.0, 38120560.0, 142805114.0, 9148092.0, 7551117.0, 69581848.0, 46509355.0], \"y\": [3100882352941.18, 189227050759.595, 319423424509.06604, 12862302208696.2, 139966001509.59198, 400937100158.65704, 429061382275.37103, 1299705764823.62, 491252589217.021, 479913034321.89294, 675770112211.2211, 142579603960.396], \"type\": \"scatter\"}, {\"marker\": {\"size\": [61795122.7816317, 44354166.05336238, 53262806.03155362, 64400000.00000001], \"sizemode\": \"area\", \"sizeref\": 200000}, \"mode\": \"markers\", \"name\": \"North America\", \"text\": [\"Canada\", \"Costa Rica\", \"Mexico\", \"United States\"], \"x\": [32889025.0, 4404628.0, 109170502.0, 301231207.0], \"y\": [1464977190205.75, 26743972564.1217, 1052696282278.88, 14451858650000.0], \"type\": \"scatter\"}, {\"marker\": {\"size\": [28298367.69869956, 30775346.38293507, 34983498.349834986, 46058313.11428219, 31410622.501427755, 46623928.06593956, 34658511.7227319, 48012803.4142438, 46815566.175753444, 61692283.14630645, 36909329.31863435, 35127478.75354108], \"sizemode\": \"area\", \"sizeref\": 200000}, \"mode\": \"markers\", \"name\": \"Asia\", \"text\": [\"China\", \"Hong Kong\", \"Indonesia\", \"Japan\", \"Malaysia\", \"Pakistan\", \"Philippines\", \"Saudi Arabia\", \"Singapore\", \"South Korea\", \"Sri Lanka\", \"Thailand\"], \"x\": [1317885000.0, 6916300.0, 232374245.0, 128001000.0, 26720370.0, 167808105.0, 89405482.0, 25184597.0, 4588599.0, 48683638.0, 19842044.0, 66182067.0], \"y\": [3550342425238.25, 211597405593.868, 432216737774.861, 4515264514430.57, 193547824063.3, 152385716311.916, 155980408071.673, 415964509673.115, 180941941477.00897, 1172614086539.86, 32350248410.8216, 262942476722.425], \"type\": \"scatter\"}, {\"marker\": {\"size\": [31894736.842105262, 43602095.71363269], \"sizemode\": \"area\", \"sizeref\": 200000}, \"mode\": \"markers\", \"name\": \"Africa\", \"text\": [\"Egypt\", \"South Africa\"], \"x\": [78232126.0, 49119759.0], \"y\": [130478960092.49901, 299415505152.29803], \"type\": \"scatter\"}], \"name\": \"2007\"}, {\"data\": [{\"marker\": {\"size\": [72859744.99089254, 94661113.21469142, 62670575.154149406, 77836154.89394824, 66901408.45070423, 63707571.801566586], \"sizemode\": \"area\", \"sizeref\": 200000}, \"mode\": \"markers\", \"name\": \"South America\", \"text\": [\"Argentina\", \"Brazil\", \"Chile\", \"Colombia\", \"Peru\", \"Uruguay\"], \"x\": [40080160.0, 192030362.0, 16708258.0, 44254975.0, 28562317.0, 3340221.0], \"y\": [361558037110.419, 1695824565983.2, 179638496278.57397, 242186949772.53302, 120550599815.441, 30366213119.2928], \"type\": \"scatter\"}, {\"marker\": {\"size\": [67251461.9883041, 74372011.83881004], \"sizemode\": \"area\", \"sizeref\": 200000}, \"mode\": \"markers\", \"name\": \"Oceania\", \"text\": [\"Australia\", \"New Zealand\"], \"x\": [21249200.0, 4259800.0], \"y\": [1053995523724.26, 133290222815.77301], \"type\": \"scatter\"}, {\"marker\": {\"size\": [91409930.05270238, 91157715.40114291, 119037496.81149563, 106854091.76006944, 92889257.98119754, 157506669.42303336, 68916291.31900859, 50788513.18779699, 127498594.99903537, 127182898.79176247, 86355061.83190107, 47826086.95652175], \"sizemode\": \"area\", \"sizeref\": 200000}, \"mode\": \"markers\", \"name\": \"Europe\", \"text\": [\"Britain\", \"Czech Republic\", \"Denmark\", \"Euro area\", \"Hungary\", \"Norway\", \"Poland\", \"Russia\", \"Sweden\", \"Switzerland\", \"Turkey\", \"Ukraine\"], \"x\": [61806995.0, 10384603.0, 5493621.0, 334274725.0, 10038188.0, 4768212.0, 38125759.0, 142742366.0, 9219637.0, 7647675.0, 70418604.0, 46258189.0], \"y\": [2922667279411.76, 235718586901.129, 353361038818.383, 14098979489484.3, 158136326477.965, 462250000000.0, 533813299020.42206, 1660846387624.78, 517706149201.19604, 554363487120.303, 764335657625.8159, 179816790704.73898], \"type\": \"scatter\"}, {\"marker\": {\"size\": [81510637.2378058, 65333381.72843091, 62939469.93165167, 71400000.0], \"sizemode\": \"area\", \"sizeref\": 200000}, \"mode\": \"markers\", \"name\": \"North America\", \"text\": [\"Canada\", \"Costa Rica\", \"Mexico\", \"United States\"], \"x\": [33247118.0, 4463125.0, 110815271.0, 304093966.0], \"y\": [1549131208997.19, 30612927059.0967, 1109989063586.62, 14712844084000.0], \"type\": \"scatter\"}, {\"marker\": {\"size\": [36581796.89786363, 34113935.4143689, 40865384.615384616, 52407468.06419914, 33971587.3996294, 39492242.59520451, 39114308.19377318, 53339734.101425506, 58399556.45906487, 62865281.665929966, 39051603.90516039, 37170263.788968824], \"sizemode\": \"area\", \"sizeref\": 200000}, \"mode\": \"markers\", \"name\": \"Asia\", \"text\": [\"China\", \"Hong Kong\", \"Indonesia\", \"Japan\", \"Malaysia\", \"Pakistan\", \"Philippines\", \"Saudi Arabia\", \"Singapore\", \"South Korea\", \"Sri Lanka\", \"Thailand\"], \"x\": [1324655000.0, 6957800.0, 235469762.0, 128063000.0, 27236006.0, 171648986.0, 90901965.0, 25888541.0, 4839396.0, 49054708.0, 19983984.0, 66530984.0], \"y\": [4594306848763.08, 219279678430.16397, 510228634992.258, 5037908465114.48, 230813897715.69, 170077814106.305, 181006859907.40198, 519796800000.0, 193611986712.84198, 1047339010225.25, 40713812309.7316, 291382991177.698], \"type\": \"scatter\"}, {\"marker\": {\"size\": [48941176.47058824, 44822001.12385549], \"sizemode\": \"area\", \"sizeref\": 200000}, \"mode\": \"markers\", \"name\": \"Africa\", \"text\": [\"Egypt\", \"South Africa\"], \"x\": [79636079.0, 49779471.0], \"y\": [162818181818.182, 286769839732.726], \"type\": \"scatter\"}], \"name\": \"2008\"}, {\"data\": [{\"marker\": {\"size\": [60347654.968842246, 80416604.07591006, 63804575.6995716, 66806642.489024624, 53220585.32073727, 52654294.34613724], \"sizemode\": \"area\", \"sizeref\": 200000}, \"mode\": \"markers\", \"name\": \"South America\", \"text\": [\"Argentina\", \"Brazil\", \"Chile\", \"Colombia\", \"Peru\", \"Uruguay\"], \"x\": [40482788.0, 193886508.0, 16886186.0, 44750054.0, 28792655.0, 3349676.0], \"y\": [332976484577.61896, 1667019783585.08, 172389498444.621, 232397835356.345, 120822986521.479, 31660911277.0294], \"type\": \"scatter\"}, {\"marker\": {\"size\": [67448908.22907764, 61544258.48588564], \"sizemode\": \"area\", \"sizeref\": 200000}, \"mode\": \"markers\", \"name\": \"Oceania\", \"text\": [\"Australia\", \"New Zealand\"], \"x\": [21691700.0, 4302600.0], \"y\": [927805183330.879, 121357986132.8], \"type\": \"scatter\"}, {\"marker\": {\"size\": [73765480.01212704, 72791381.20895639, 110538641.68618266, 92342379.95123398, 72304510.44574223, 122902024.04270846, 48173678.78931939, 40858765.88232066, 98619952.8394328, 119699829.65793471, 72900874.16534951, 36553524.804177545], \"sizemode\": \"area\", \"sizeref\": 200000}, \"mode\": \"markers\", \"name\": \"Europe\", \"text\": [\"Britain\", \"Czech Republic\", \"Denmark\", \"Euro area\", \"Hungary\", \"Norway\", \"Poland\", \"Russia\", \"Sweden\", \"Switzerland\", \"Turkey\", \"Ukraine\"], \"x\": [62276270.0, 10443936.0, 5523095.0, 335360890.0, 10022650.0, 4828726.0, 38151603.0, 142785349.0, 9298515.0, 7743831.0, 71321399.0, 46053331.0], \"y\": [2410909799034.12, 206179982164.40198, 321241303699.00604, 12885643163975.7, 130760312876.68301, 386190385318.767, 439793916861.639, 1222644282201.86, 436537014293.55396, 541506500413.565, 644639902000.0, 117113410001.027], \"type\": \"scatter\"}, {\"marker\": {\"size\": [67019856.139897496, 68661276.75644128, 47790071.25065168, 71400000.0], \"sizemode\": \"area\", \"sizeref\": 200000}, \"mode\": \"markers\", \"name\": \"North America\", \"text\": [\"Canada\", \"Costa Rica\", \"Mexico\", \"United States\"], \"x\": [33628895.0, 4520740.0, 112463887.0, 306771529.0], \"y\": [1371153004986.44, 30562361123.0307, 900045350649.351, 14448933025000.0], \"type\": \"scatter\"}, {\"marker\": {\"size\": [36588757.00674696, 34320366.42797239, 40980392.15686274, 69140603.89996219, 37590227.651304826, 46004842.61501211, 41082980.262478046, 58660409.556314, 57630590.64527142, 51730696.08216052, 36566254.57078182, 37752085.46758378], \"sizemode\": \"area\", \"sizeref\": 200000}, \"mode\": \"markers\", \"name\": \"Asia\", \"text\": [\"China\", \"Hong Kong\", \"Indonesia\", \"Japan\", \"Malaysia\", \"Pakistan\", \"Philippines\", \"Saudi Arabia\", \"Singapore\", \"South Korea\", \"Sri Lanka\", \"Thailand\"], \"x\": [1331260000.0, 6972800.0, 238620563.0, 128047000.0, 27735040.0, 175525609.0, 92414158.0, 26630303.0, 4987573.0, 49307835.0, 20123508.0, 66866839.0], \"y\": [5101702432883.45, 214046415026.18698, 539580085612.401, 5231382674593.7, 202257625195.06302, 168152775283.03198, 176131654909.911, 429097866666.66705, 194152286008.93802, 943941876218.744, 42066217871.5349, 281710416557.292], \"type\": \"scatter\"}, {\"marker\": {\"size\": [46555351.627199076, 43354869.87500755], \"sizemode\": \"area\", \"sizeref\": 200000}, \"mode\": \"markers\", \"name\": \"Africa\", \"text\": [\"Egypt\", \"South Africa\"], \"x\": [81134798.0, 50477011.0], \"y\": [188982374700.805, 295936485832.635], \"type\": \"scatter\"}], \"name\": \"2009\"}, {\"data\": [{\"marker\": {\"size\": [36856653.942345664, 95166250.79788776, 63605645.00099383, 78259209.77285743, 56129594.14736109, 66465256.79758308], \"sizemode\": \"area\", \"sizeref\": 200000}, \"mode\": \"markers\", \"name\": \"South America\", \"text\": [\"Argentina\", \"Brazil\", \"Chile\", \"Colombia\", \"Peru\", \"Uruguay\"], \"x\": [40788453.0, 195713635.0, 17062536.0, 45222700.0, 29027674.0, 3359275.0], \"y\": [423627422092.49, 2208871646202.82, 218537551220.071, 286563099757.481, 147528937028.778, 40284481651.9021], \"type\": \"scatter\"}, {\"marker\": {\"size\": [79557404.78258881, 72226111.95047353], \"sizemode\": \"area\", \"sizeref\": 200000}, \"mode\": \"markers\", \"name\": \"Oceania\", \"text\": [\"Australia\", \"New Zealand\"], \"x\": [22031750.0, 4350700.0], \"y\": [1146138465603.81, 146619138358.948], \"type\": \"scatter\"}, {\"marker\": {\"size\": [73426560.00117482, 74288648.30135009, 119877178.19816154, 96878879.93967351, 77149414.8431188, 140460534.97906262, 57129758.60913724, 46780499.21475591, 110136823.82344222, 126072831.3048538, 76633549.21840562, 36553524.804177545], \"sizemode\": \"area\", \"sizeref\": 200000}, \"mode\": \"markers\", \"name\": \"Europe\", \"text\": [\"Britain\", \"Czech Republic\", \"Denmark\", \"Euro area\", \"Hungary\", \"Norway\", \"Poland\", \"Russia\", \"Sweden\", \"Switzerland\", \"Turkey\", \"Ukraine\"], \"x\": [62766365.0, 10474410.0, 5547683.0, 336151479.0, 10000023.0, 4889252.0, 38042794.0, 142849468.0, 9378126.0, 7824909.0, 72326988.0, 45870741.0], \"y\": [2475244321361.11, 207477857918.91898, 321995279401.502, 12628246500868.2, 131135561228.37401, 428757038466.841, 479321460551.18896, 1524917468442.01, 495812558843.31, 583782977866.405, 771901768898.057, 136013155905.036], \"type\": \"scatter\"}, {\"marker\": {\"size\": [79475308.64197531, 70377808.6753523, 49946346.69788313, 71600000.0], \"sizemode\": \"area\", \"sizeref\": 200000}, \"mode\": \"markers\", \"name\": \"North America\", \"text\": [\"Canada\", \"Costa Rica\", \"Mexico\", \"United States\"], \"x\": [34004889.0, 4577378.0, 114092963.0, 309321666.0], \"y\": [1613464422811.13, 37268614024.3178, 1057801295584.05, 14992052727000.0], \"type\": \"scatter\"}, {\"marker\": {\"size\": [36618232.950550735, 38161295.9369823, 44849785.40772533, 69914791.34804456, 41623616.23616236, 48426150.12106537, 44216027.87456446, 53330489.040584505, 63774139.228261255, 59622972.38053485, 36566254.57078182, 42251395.805039994], \"sizemode\": \"area\", \"sizeref\": 200000}, \"mode\": \"markers\", \"name\": \"Asia\", \"text\": [\"China\", \"Hong Kong\", \"Indonesia\", \"Japan\", \"Malaysia\", \"Pakistan\", \"Philippines\", \"Saudi Arabia\", \"Singapore\", \"South Korea\", \"Sri Lanka\", \"Thailand\"], \"x\": [1337705000.0, 7024200.0, 241834215.0, 128070000.0, 28208035.0, 179424641.0, 93966780.0, 27421461.0, 5076732.0, 49554112.0, 20261737.0, 67195028.0], \"y\": [6087164527421.24, 228637697575.04, 755094160363.0709, 5700098114744.41, 255016609232.871, 177165635077.065, 208368892318.654, 528207200000.0, 239809387605.427, 1144066965324.49, 56725749221.9043, 341104820155.464], \"type\": \"scatter\"}, {\"marker\": {\"size\": [47575480.32936871, 49147785.61160927], \"sizemode\": \"area\", \"sizeref\": 200000}, \"mode\": \"markers\", \"name\": \"Africa\", \"text\": [\"Egypt\", \"South Africa\"], \"x\": [82761235.0, 51216964.0], \"y\": [218888324504.75302, 375349442837.24], \"type\": \"scatter\"}], \"name\": \"2010\"}, {\"data\": [{\"marker\": {\"size\": [96793708.40895341, 123248572.91126102, 79956780.11885467, 94888449.59051116, 73059360.7305936, 97560975.6097561], \"sizemode\": \"area\", \"sizeref\": 200000}, \"mode\": \"markers\", \"name\": \"South America\", \"text\": [\"Argentina\", \"Brazil\", \"Chile\", \"Colombia\", \"Peru\", \"Uruguay\"], \"x\": [41261490.0, 197514534.0, 17233576.0, 45663099.0, 29264318.0, 3368934.0], \"y\": [530163281574.65796, 2616200980392.16, 252251992029.442, 334943877377.471, 171761737046.585, 47962439303.7247], \"type\": \"scatter\"}, {\"marker\": {\"size\": [98874480.02824348, 88230000.01235218], \"sizemode\": \"area\", \"sizeref\": 200000}, \"mode\": \"markers\", \"name\": \"Oceania\", \"text\": [\"Australia\", \"New Zealand\"], \"x\": [22340024.0, 4384000.0], \"y\": [1396649906339.35, 168510189201.49402], \"type\": \"scatter\"}, {\"marker\": {\"size\": [77832739.9949253, 81448016.9663786, 109648068.17416729, 98568036.71732485, 80819939.55519257, 166234150.03555563, 61713386.72768879, 54049184.758129895, 152797070.33716378, 161260311.3564473, 75456365.90533128, 41280960.720540404], \"sizemode\": \"area\", \"sizeref\": 200000}, \"mode\": \"markers\", \"name\": \"Europe\", \"text\": [\"Britain\", \"Czech Republic\", \"Denmark\", \"Euro area\", \"Hungary\", \"Norway\", \"Poland\", \"Russia\", \"Sweden\", \"Switzerland\", \"Turkey\", \"Ukraine\"], \"x\": [63258810.0, 10496088.0, 5570572.0, 335419643.0, 9971727.0, 4953088.0, 38063255.0, 142960908.0, 9449213.0, 7912398.0, 73443863.0, 45706086.0], \"y\": [2659310054646.23, 227948349666.35397, 344003137611.271, 13622691210191.0, 141109576981.423, 498283438454.281, 528832185770.21704, 2045925608274.37, 574094112972.7329, 699579638638.2261, 832523680895.522, 163159671670.265], \"type\": \"scatter\"}, {\"marker\": {\"size\": [100015858.75138766, 81300006.9402445, 54837949.574791685, 81300000.00000001], \"sizemode\": \"area\", \"sizeref\": 200000}, \"mode\": \"markers\", \"name\": \"North America\", \"text\": [\"Canada\", \"Costa Rica\", \"Mexico\", \"United States\"], \"x\": [34339328.0, 4633086.0, 115695473.0, 311556874.0], \"y\": [1788647906047.76, 42262697840.385, 1180489601957.61, 15542581104000.0], \"type\": \"scatter\"}, {\"marker\": {\"size\": [45461598.13809155, 38758695.03837367, 52878094.5676405, 81669112.48644166, 48435923.309788086, 47514042.50390874, 55647253.00636643, 53330489.040584505, 73070709.5812104, 70062488.16512023, 51153231.33135419, 47058823.52941176], \"sizemode\": \"area\", \"sizeref\": 200000}, \"mode\": \"markers\", \"name\": \"Asia\", \"text\": [\"China\", \"Hong Kong\", \"Indonesia\", \"Japan\", \"Malaysia\", \"Pakistan\", \"Philippines\", \"Saudi Arabia\", \"Singapore\", \"South Korea\", \"Sri Lanka\", \"Thailand\"], \"x\": [1344130000.0, 7071600.0, 245116206.0, 127833000.0, 28650955.0, 183340592.0, 95570047.0, 28267685.0, 5183688.0, 49936638.0, 20398670.0, 67518382.0], \"y\": [7551500425597.77, 248513617677.287, 892969107923.0941, 6157459594823.72, 297951960784.31396, 213587413183.996, 234216730703.492, 671238840106.667, 279351168707.26697, 1253223044718.99, 65292753005.4664, 370819140946.553], \"type\": \"scatter\"}, {\"marker\": {\"size\": [47266018.114726596, 57469141.73013141], \"sizemode\": \"area\", \"sizeref\": 200000}, \"mode\": \"markers\", \"name\": \"Africa\", \"text\": [\"Egypt\", \"South Africa\"], \"x\": [84529250.0, 52004172.0], \"y\": [236001858960.015, 416418874936.30396], \"type\": \"scatter\"}], \"name\": \"2011\"}, {\"data\": [{\"marker\": {\"size\": [92732120.08809552, 113573407.20221607, 81019662.08872642, 90705396.43117458, 74280408.54224698, 92544987.14652957], \"sizemode\": \"area\", \"sizeref\": 200000}, \"mode\": \"markers\", \"name\": \"South America\", \"text\": [\"Argentina\", \"Brazil\", \"Chile\", \"Colombia\", \"Peru\", \"Uruguay\"], \"x\": [41733271.0, 199287296.0, 17400347.0, 46076848.0, 29506788.0, 3378974.0], \"y\": [545982375701.128, 2465188674415.03, 267122320056.702, 370921317942.563, 192648999090.082, 51264390116.4909], \"type\": \"scatter\"}, {\"marker\": {\"size\": [98731200.00084908, 80952300.00008096], \"sizemode\": \"area\", \"sizeref\": 200000}, \"mode\": \"markers\", \"name\": \"Oceania\", \"text\": [\"Australia\", \"New Zealand\"], \"x\": [22733465.0, 4408100.0], \"y\": [1546151783872.96, 176247979235.906], \"type\": \"scatter\"}, {\"marker\": {\"size\": [76467900.03544287, 68960268.29885074, 107483770.80365446, 88614095.49288656, 52504281.235722855, 135763837.14962167, 51697936.3433652, 50992624.95553884, 118261270.87599874, 136111401.94744006, 70855363.80471832, 42285927.49207139], \"sizemode\": \"area\", \"sizeref\": 200000}, \"mode\": \"markers\", \"name\": \"Europe\", \"text\": [\"Britain\", \"Czech Republic\", \"Denmark\", \"Euro area\", \"Hungary\", \"Norway\", \"Poland\", \"Russia\", \"Sweden\", \"Switzerland\", \"Turkey\", \"Ukraine\"], \"x\": [63700215.0, 10510785.0, 5591572.0, 336159194.0, 9920362.0, 5018573.0, 38063164.0, 143201721.0, 9519374.0, 7996861.0, 74653016.0, 45593342.0], \"y\": [2704887678386.72, 207376427020.815, 327148943812.13696, 12638927582293.3, 128153691809.34698, 509506317146.541, 500360816827.883, 2208295773643.15, 552483727282.802, 668043614122.87, 873982246603.563, 175781379051.433], \"type\": \"scatter\"}, {\"marker\": {\"size\": [92658798.1781674, 80464732.89633788, 54076174.329893894, 83944400.0], \"sizemode\": \"area\", \"sizeref\": 200000}, \"mode\": \"markers\", \"name\": \"North America\", \"text\": [\"Canada\", \"Costa Rica\", \"Mexico\", \"United States\"], \"x\": [34714222.0, 4688000.0, 117274155.0, 313830990.0], \"y\": [1828689329348.99, 46473128285.5589, 1201089987015.45, 16197007349000.0], \"type\": \"scatter\"}, {\"marker\": {\"size\": [48768901.90800411, 42485532.38878125, 49200873.362445414, 83203328.13312532, 46821996.78297845, 57745696.83509162, 53630269.28758095, 53330489.040584505, 75030940.59405941, 63861920.172599785, 50908452.5585886, 49133858.267716534], \"sizemode\": \"area\", \"sizeref\": 200000}, \"mode\": \"markers\", \"name\": \"Asia\", \"text\": [\"China\", \"Hong Kong\", \"Indonesia\", \"Japan\", \"Malaysia\", \"Pakistan\", \"Philippines\", \"Saudi Arabia\", \"Singapore\", \"South Korea\", \"Sri Lanka\", \"Thailand\"], \"x\": [1350695000.0, 7150100.0, 248452413.0, 127629000.0, 29068159.0, 187281475.0, 97212638.0, 29155187.0, 5312437.0, 50199853.0, 20425000.0, 67835957.0], \"y\": [8532230724141.76, 262629441493.476, 917869910105.749, 6203213121334.12, 314443149443.149, 224383620829.57, 261920542606.121, 735974843360.0, 295087220933.024, 1278427634342.59, 68434409315.1123, 397558222957.17], \"type\": \"scatter\"}, {\"marker\": {\"size\": [51350008.28225939, 49075076.25701072], \"sizemode\": \"area\", \"sizeref\": 200000}, \"mode\": \"markers\", \"name\": \"Africa\", \"text\": [\"Egypt\", \"South Africa\"], \"x\": [86422240.0, 52834005.0], \"y\": [279372758361.832, 396332702639.49603], \"type\": \"scatter\"}], \"name\": \"2012\"}, {\"data\": [{\"marker\": {\"size\": [76358886.7678087, 112875310.40710363, 86910439.85161632, 97001142.01925924, 78140261.76987693, 108921161.82572612], \"sizemode\": \"area\", \"sizeref\": 200000}, \"mode\": \"markers\", \"name\": \"South America\", \"text\": [\"Argentina\", \"Brazil\", \"Chile\", \"Colombia\", \"Peru\", \"Uruguay\"], \"x\": [42202935.0, 201035903.0, 17571507.0, 46497267.0, 29773987.0, 3389439.0], \"y\": [552025140252.246, 2472806919901.67, 278384345259.377, 382116120909.21796, 201175469114.327, 57531233350.9101], \"type\": \"scatter\"}, {\"marker\": {\"size\": [98009099.9676815, 86491600.02811842], \"sizemode\": \"area\", \"sizeref\": 200000}, \"mode\": \"markers\", \"name\": \"Oceania\", \"text\": [\"Australia\", \"New Zealand\"], \"x\": [23128129.0, 4442100.0], \"y\": [1576184467015.49, 190845889949.76398], \"type\": \"scatter\"}, {\"marker\": {\"size\": [84963649.96057686, 74443171.3235547, 103675006.13865167, 97560622.5724054, 76332595.83476935, 156845580.05507833, 58861578.26649417, 48513895.822932266, 127761927.10892712, 142496985.64068836, 95547703.180212, 46660117.87819254], \"sizemode\": \"area\", \"sizeref\": 200000}, \"mode\": \"markers\", \"name\": \"Europe\", \"text\": [\"Britain\", \"Czech Republic\", \"Denmark\", \"Euro area\", \"Hungary\", \"Norway\", \"Poland\", \"Russia\", \"Sweden\", \"Switzerland\", \"Turkey\", \"Ukraine\"], \"x\": [64128273.0, 10514272.0, 5614932.0, 337302113.0, 9893082.0, 5079623.0, 38040196.0, 143506995.0, 9600379.0, 8089346.0, 75928564.0, 45489648.0], \"y\": [2786022872706.81, 209402444996.10397, 343584391647.927, 13189495209366.5, 135409048034.154, 522761531914.894, 524234322596.975, 2292473246621.08, 586841821796.891, 688504173431.454, 950579413121.126, 183310146378.08102], \"type\": \"scatter\"}, {\"marker\": {\"size\": [107887127.33074087, 87854162.09092906, 58092068.07762356, 87347916.66], \"sizemode\": \"area\", \"sizeref\": 200000}, \"mode\": \"markers\", \"name\": \"North America\", \"text\": [\"Canada\", \"Costa Rica\", \"Mexico\", \"United States\"], \"x\": [35082954.0, 4742107.0, 118827161.0, 315993715.0], \"y\": [1847208522155.34, 49745088111.6953, 1274443084716.57, 16784849190000.0], \"type\": \"scatter\"}, {\"marker\": {\"size\": [51443637.06514051, 43819515.14995296, 57208088.047094956, 70279470.70773624, 51573143.04249108, 59386678.953565754, 58128078.81773399, 58663537.94464295, 72883346.1554035, 68172919.68953684, 55357848.952155, 58477566.79549656], \"sizemode\": \"area\", \"sizeref\": 200000}, \"mode\": \"markers\", \"name\": \"Asia\", \"text\": [\"China\", \"Hong Kong\", \"Indonesia\", \"Japan\", \"Malaysia\", \"Pakistan\", \"Philippines\", \"Saudi Arabia\", \"Singapore\", \"South Korea\", \"Sri Lanka\", \"Thailand\"], \"x\": [1357380000.0, 7178900.0, 251806402.0, 127445000.0, 29468872.0, 191262919.0, 98871552.0, 30052518.0, 5399162.0, 50428893.0, 20585000.0, 68144501.0], \"y\": [9570405758739.79, 275696879834.966, 912524136718.018, 5155717056270.83, 323277158906.979, 231218567178.97897, 283902829720.159, 746647127413.333, 307576360584.992, 1370795199976.18, 74317806538.3632, 420333203150.426], \"type\": \"scatter\"}, {\"marker\": {\"size\": [47862992.18487082, 46203161.268928915], \"sizemode\": \"area\", \"sizeref\": 200000}, \"mode\": \"markers\", \"name\": \"Africa\", \"text\": [\"Egypt\", \"South Africa\"], \"x\": [88404640.0, 53689236.0], \"y\": [288586231501.877, 366829390478.954], \"type\": \"scatter\"}], \"name\": \"2013\"}, {\"data\": [{\"marker\": {\"size\": [60682680.15170671, 104949112.3759548, 73807546.82166252, 86746234.48213254, 71263139.14127918, 98222637.97942002], \"sizemode\": \"area\", \"sizeref\": 200000}, \"mode\": \"markers\", \"name\": \"South America\", \"text\": [\"Argentina\", \"Brazil\", \"Chile\", \"Colombia\", \"Peru\", \"Uruguay\"], \"x\": [42669500.0, 202763735.0, 17758959.0, 46969209.0, 30090359.0, 3400434.0], \"y\": [526319673731.63794, 2455993625159.37, 260541629960.66397, 381112110485.384, 200789362451.567, 57236013086.1223], \"type\": \"scatter\"}, {\"marker\": {\"size\": [89470849.97541343, 91437499.9845699], \"sizemode\": \"area\", \"sizeref\": 200000}, \"mode\": \"markers\", \"name\": \"Oceania\", \"text\": [\"Australia\", \"New Zealand\"], \"x\": [23475686.0, 4509700.0], \"y\": [1467483705131.74, 200921936786.219], \"type\": \"scatter\"}, {\"marker\": {\"size\": [92535929.99766345, 69464301.56085153, 103609990.18431672, 99236870.69833674, 77096492.31130578, 155908695.9699226, 59966106.11393559, 52446651.00142166, 125750214.34695627, 142849293.99483544, 75169684.50841236, 45351473.922902495], \"sizemode\": \"area\", \"sizeref\": 200000}, \"mode\": \"markers\", \"name\": \"Europe\", \"text\": [\"Britain\", \"Czech Republic\", \"Denmark\", \"Euro area\", \"Hungary\", \"Norway\", \"Poland\", \"Russia\", \"Sweden\", \"Switzerland\", \"Turkey\", \"Ukraine\"], \"x\": [64602298.0, 10525347.0, 5643475.0, 338462222.0, 9866468.0, 5137232.0, 38011735.0, 143819666.0, 9696110.0, 8188649.0, 77231907.0, 45272156.0], \"y\": [3063803240208.01, 207818330723.835, 352993631617.70795, 13490187533196.8, 140558786480.464, 498410050251.25604, 545389126644.476, 2059241965490.83, 581964017237.095, 709182559935.3009, 934185915375.828, 133503411375.739], \"type\": \"scatter\"}, {\"marker\": {\"size\": [100262419.69052574, 85671023.27064073, 55502428.23123512, 92483333.34], \"sizemode\": \"area\", \"sizeref\": 200000}, \"mode\": \"markers\", \"name\": \"North America\", \"text\": [\"Canada\", \"Costa Rica\", \"Mexico\", \"United States\"], \"x\": [35437435.0, 4795396.0, 120355128.0, 318301008.0], \"y\": [1803533209844.65, 50577769837.7462, 1314563967425.24, 17521746534000.0], \"type\": \"scatter\"}, {\"marker\": {\"size\": [54864244.04673376, 46404609.5245461, 46028006.58978583, 59475274.59350568, 44531367.53422597, 60712422.33078784, 59694892.77028521, 58660409.556314, 71939633.26426086, 69333833.0366345, 53516819.57186543, 58403041.82509506], \"sizemode\": \"area\", \"sizeref\": 200000}, \"mode\": \"markers\", \"name\": \"Asia\", \"text\": [\"China\", \"Hong Kong\", \"Indonesia\", \"Japan\", \"Malaysia\", \"Pakistan\", \"Philippines\", \"Saudi Arabia\", \"Singapore\", \"South Korea\", \"Sri Lanka\", \"Thailand\"], \"x\": [1364270000.0, 7229500.0, 255129004.0, 127276000.0, 29866559.0, 195306825.0, 100513138.0, 30916994.0, 5469724.0, 50746659.0, 20778000.0, 68438730.0], \"y\": [10475682846632.2, 291459356985.337, 890814755233.225, 4850413536037.84, 338061963396.37604, 244360888750.807, 297483553299.475, 756350347333.3341, 314851156183.411, 1484318219633.63, 79356449840.5771, 407339361695.577], \"type\": \"scatter\"}, {\"marker\": {\"size\": [48642436.43154719, 43207861.99225017], \"sizemode\": \"area\", \"sizeref\": 200000}, \"mode\": \"markers\", \"name\": \"Africa\", \"text\": [\"Egypt\", \"South Africa\"], \"x\": [90424654.0, 54545991.0], \"y\": [305529656458.438, 350904575292.317], \"type\": \"scatter\"}], \"name\": \"2014\"}, {\"data\": [{\"marker\": {\"size\": [65040650.40650407, 104136534.5675441, 66933870.92918556, 66808175.96766146, 66489361.70212766, 92528147.38996929], \"sizemode\": \"area\", \"sizeref\": 200000}, \"mode\": \"markers\", \"name\": \"South America\", \"text\": [\"Argentina\", \"Brazil\", \"Chile\", \"Colombia\", \"Peru\", \"Uruguay\"], \"x\": [43131966.0, 204471769.0, 17969353.0, 47520667.0, 30470734.0, 3412009.0], \"y\": [594749285413.212, 1802214373741.32, 243919085308.936, 293481753078.868, 189805300841.603, 53274304222.135994], \"type\": \"scatter\"}, {\"marker\": {\"size\": [86374099.9784151, 89851100.02105212], \"sizemode\": \"area\", \"sizeref\": 200000}, \"mode\": \"markers\", \"name\": \"Oceania\", \"text\": [\"Australia\", \"New Zealand\"], \"x\": [23815995.0, 4595700.0], \"y\": [1351693984524.5, 177467529071.288], \"type\": \"scatter\"}, {\"marker\": {\"size\": [87364699.94806169, 58384179.503382266, 107520179.5119519, 85276640.03883497, 63376621.65391244, 125942932.10888816, 49641180.59677333, 27289312.707927696, 99371906.07279544, 150873324.43567574, 79281750.19820437, 24017191.25268613], \"sizemode\": \"area\", \"sizeref\": 200000}, \"mode\": \"markers\", \"name\": \"Europe\", \"text\": [\"Britain\", \"Czech Republic\", \"Denmark\", \"Euro area\", \"Hungary\", \"Norway\", \"Poland\", \"Russia\", \"Sweden\", \"Switzerland\", \"Turkey\", \"Ukraine\"], \"x\": [65116219.0, 10546059.0, 5683483.0, 339488380.0, 9843028.0, 5188607.0, 37986412.0, 144096870.0, 9799186.0, 8282396.0, 78529409.0, 45154036.0], \"y\": [2928591002002.51, 186829940545.75897, 302673068765.972, 11672138337959.8, 124529741437.176, 385801550067.169, 477581376840.43, 1363481063446.77, 505103781349.757, 679832291693.2571, 859796872683.823, 91030959454.6961], \"type\": \"scatter\"}, {\"marker\": {\"size\": [92792316.14504905, 80210412.43074857, 66997094.51375833, 95800000.0], \"sizemode\": \"area\", \"sizeref\": 200000}, \"mode\": \"markers\", \"name\": \"North America\", \"text\": [\"Canada\", \"Costa Rica\", \"Mexico\", \"United States\"], \"x\": [35702908.0, 4847804.0, 121858258.0, 320635163.0], \"y\": [1556129524418.21, 54775994478.5095, 1170564619927.69, 18219297584000.0], \"type\": \"scatter\"}, {\"marker\": {\"size\": [55381147.87088465, 48507679.30747547, 44774038.461538464, 62837005.901583664, 42207163.601161666, 59562217.69990569, 73406890.34001352, 58558918.257073656, 70509695.08307391, 75694636.75805409, 53080568.720379144, 60726882.38000307], \"sizemode\": \"area\", \"sizeref\": 200000}, \"mode\": \"markers\", \"name\": \"Asia\", \"text\": [\"China\", \"Hong Kong\", \"Indonesia\", \"Japan\", \"Malaysia\", \"Pakistan\", \"Philippines\", \"Saudi Arabia\", \"Singapore\", \"South Korea\", \"Sri Lanka\", \"Thailand\"], \"x\": [1371220000.0, 7291300.0, 258383256.0, 127141000.0, 30270962.0, 199426964.0, 102113212.0, 31717667.0, 5535002.0, 51014947.0, 20970000.0, 68714511.0], \"y\": [11061552790044.2, 309383627028.56104, 860854235065.0791, 4389475622588.97, 301354756113.174, 270556131701.17102, 306445871631.48303, 654269902880.0, 308004146057.60803, 1465773245547.15, 80604080688.5775, 401295941041.296], \"type\": \"scatter\"}, {\"marker\": {\"size\": [46067713.82507602, 44429924.861156486], \"sizemode\": \"area\", \"sizeref\": 200000}, \"mode\": \"markers\", \"name\": \"Africa\", \"text\": [\"Egypt\", \"South Africa\"], \"x\": [92442547.0, 55386367.0], \"y\": [332698041030.807, 317620522794.82697], \"type\": \"scatter\"}], \"name\": \"2015\"}, {\"data\": [{\"marker\": {\"size\": [47794051.08894401, 67084078.711985685, 58723600.595625095, 48557116.0760933, 58513750.73142188, 74871624.97929434], \"sizemode\": \"area\", \"sizeref\": 200000}, \"mode\": \"markers\", \"name\": \"South America\", \"text\": [\"Argentina\", \"Brazil\", \"Chile\", \"Colombia\", \"Peru\", \"Uruguay\"], \"x\": [43590368.0, 206163058.0, 18209068.0, 48171392.0, 30926032.0, 3424132.0], \"y\": [557531376217.967, 1795700168991.49, 250440136356.12698, 282825012368.255, 191895943823.887, 52687612261.5424], \"type\": \"scatter\"}, {\"marker\": {\"size\": [74873100.01968414, 78245799.98345102], \"sizemode\": \"area\", \"sizeref\": 200000}, \"mode\": \"markers\", \"name\": \"Oceania\", \"text\": [\"Australia\", \"New Zealand\"], \"x\": [24190907.0, 4693200.0], \"y\": [1208846993739.99, 188223664746.524], \"type\": \"scatter\"}, {\"marker\": {\"size\": [84437130.04640242, 59655904.74145131, 86449103.09055543, 79980000.01199701, 61500814.62954044, 104293760.7594725, 47434345.43073844, 30540486.23668877, 104628655.46365026, 128865979.3814433, 68115364.16799575, 30835117.77301927], \"sizemode\": \"area\", \"sizeref\": 200000}, \"mode\": \"markers\", \"name\": \"Europe\", \"text\": [\"Britain\", \"Czech Republic\", \"Denmark\", \"Euro area\", \"Hungary\", \"Norway\", \"Poland\", \"Russia\", \"Sweden\", \"Switzerland\", \"Turkey\", \"Ukraine\"], \"x\": [65611593.0, 10566332.0, 5728010.0, 340481753.0, 9814023.0, 5234519.0, 37970087.0, 144342396.0, 9923085.0, 8373338.0, 79821724.0, 45004674.0], \"y\": [2694283209613.29, 195090272402.72897, 313115929314.339, 11965317176354.0, 127507473625.63199, 368819929542.194, 472037130972.91296, 1276786979221.81, 515654671469.54706, 671309197376.701, 863721648058.011, 93355993628.5042], \"type\": \"scatter\"}, {\"marker\": {\"size\": [82883905.76213454, 80336291.45259224, 56203134.18498287, 98600000.0], \"sizemode\": \"area\", \"sizeref\": 200000}, \"mode\": \"markers\", \"name\": \"North America\", \"text\": [\"Canada\", \"Costa Rica\", \"Mexico\", \"United States\"], \"x\": [36109487.0, 4899345.0, 123333376.0, 322941311.0], \"y\": [1528243213982.08, 57157992434.1805, 1077903618176.07, 18707188235000.0], \"type\": \"scatter\"}, {\"marker\": {\"size\": [53673264.00536733, 49533367.301527925, 43735436.45814662, 62370938.51405454, 36425725.66875356, 57205510.797540165, 55718007.33691318, 63926697.38699624, 65402678.726735085, 71801294.09309122, 48594238.11176675, 61844284.92545555], \"sizemode\": \"area\", \"sizeref\": 200000}, \"mode\": \"markers\", \"name\": \"Asia\", \"text\": [\"China\", \"Hong Kong\", \"Indonesia\", \"Japan\", \"Malaysia\", \"Pakistan\", \"Philippines\", \"Saudi Arabia\", \"Singapore\", \"South Korea\", \"Sri Lanka\", \"Thailand\"], \"x\": [1378665000.0, 7336600.0, 261554226.0, 126994511.0, 30684804.0, 203627284.0, 103663927.0, 32442572.0, 5607283.0, 51217803.0, 21203000.0, 68971331.0], \"y\": [11233277146512.2, 320837638328.846, 931877364177.7421, 4922538141454.62, 301255454041.415, 278654637737.69, 318627003965.493, 644935541440.0, 318652334419.11, 1500111596236.37, 82401038709.5356, 413430123185.367], \"type\": \"scatter\"}, {\"marker\": {\"size\": [43243657.44790902, 35412220.37783574], \"sizemode\": \"area\", \"sizeref\": 200000}, \"mode\": \"markers\", \"name\": \"Africa\", \"text\": [\"Egypt\", \"South Africa\"], \"x\": [94447072.0, 56203654.0], \"y\": [332927833278.038, 296357282715.109], \"type\": \"scatter\"}], \"name\": \"2016\"}, {\"data\": [{\"marker\": {\"size\": [69367807.03137317, 102358907.55129577, 72829423.08692713, 66118462.24485537, 64841286.21533202, 87032201.91470845], \"sizemode\": \"area\", \"sizeref\": 200000}, \"mode\": \"markers\", \"name\": \"South America\", \"text\": [\"Argentina\", \"Brazil\", \"Chile\", \"Colombia\", \"Peru\", \"Uruguay\"], \"x\": [44044811.0, 207833831.0, 18470439.0, 48901066.0, 31444297.0, 3436646.0], \"y\": [642695864756.35, 2062831045935.95, 277044950259.009, 311883730442.045, 211007207483.515, 59530088536.2179], \"type\": \"scatter\"}, {\"marker\": {\"size\": [85503600.02109374, 83706000.0021345], \"sizemode\": \"area\", \"sizeref\": 200000}, \"mode\": \"markers\", \"name\": \"Oceania\", \"text\": [\"Australia\", \"New Zealand\"], \"x\": [24601860.0, 4793900.0], \"y\": [1330135756844.41, 205415864857.98398], \"type\": \"scatter\"}, {\"marker\": {\"size\": [74567880.04011752, 58113068.66059062, 84492166.87202957, 81235560.0389768, 61096229.27649845, 113316412.95738493, 46019438.41904054, 43019648.39710445, 105210667.92334965, 127002735.44353262, 54971044.322002485, 30842665.687534425], \"sizemode\": \"area\", \"sizeref\": 200000}, \"mode\": \"markers\", \"name\": \"Europe\", \"text\": [\"Britain\", \"Czech Republic\", \"Denmark\", \"Euro area\", \"Hungary\", \"Norway\", \"Poland\", \"Russia\", \"Sweden\", \"Switzerland\", \"Turkey\", \"Ukraine\"], \"x\": [66058859.0, 10594438.0, 5764980.0, 341163597.0, 9787966.0, 5276968.0, 37974826.0, 144496740.0, 10057698.0, 8451840.0, 81101892.0, 44831135.0], \"y\": [2666229179958.01, 215913545038.43, 329417067127.817, 12655504662573.8, 141510583019.556, 398393955268.99, 526380811261.345, 1574199387070.9, 541018749769.09705, 679950482029.061, 852676779693.5391, 112190355158.17801], \"type\": \"scatter\"}, {\"marker\": {\"size\": [90196078.43137257, 81179081.05280249, 44645907.83809024, 101199999.99999999], \"sizemode\": \"area\", \"sizeref\": 200000}, \"mode\": \"markers\", \"name\": \"North America\", \"text\": [\"Canada\", \"Costa Rica\", \"Mexico\", \"United States\"], \"x\": [36543321.0, 4949954.0, 124777324.0, 324985539.0], \"y\": [1649878054226.82, 58481858042.5721, 1157736189998.15, 19485393853000.0], \"type\": \"scatter\"}, {\"marker\": {\"size\": [56593422.45834898, 49510375.90495039, 46515117.41315928, 65143787.76839669, 35782176.00357822, 71581961.34574087, 53612818.70402096, 63988908.589177884, 77845351.86794092, 73550921.47603326, 73304011.72864187, 66904674.89388019], \"sizemode\": \"area\", \"sizeref\": 200000}, \"mode\": \"markers\", \"name\": \"Asia\", \"text\": [\"China\", \"Hong Kong\", \"Indonesia\", \"Japan\", \"Malaysia\", \"Pakistan\", \"Philippines\", \"Saudi Arabia\", \"Singapore\", \"South Korea\", \"Sri Lanka\", \"Thailand\"], \"x\": [1386395000.0, 7391700.0, 264645886.0, 126785797.0, 31105028.0, 207896686.0, 105173264.0, 33099147.0, 5612253.0, 51361911.0, 21444000.0, 69209858.0], \"y\": [12310408652423.5, 341244161576.759, 1015618742565.81, 4866864409657.68, 318958236443.122, 304567253219.097, 328480738147.729, 688586133333.333, 341863349989.138, 1623901496835.79, 87428125557.573, 456294704152.64703], \"type\": \"scatter\"}, {\"marker\": {\"size\": [29291422.482685134, 37728005.73373947], \"sizemode\": \"area\", \"sizeref\": 200000}, \"mode\": \"markers\", \"name\": \"Africa\", \"text\": [\"Egypt\", \"South Africa\"], \"x\": [96442593.0, 57000451.0], \"y\": [235369129337.71103, 349554116683.818], \"type\": \"scatter\"}], \"name\": \"2017\"}, {\"data\": [{\"marker\": {\"size\": [79207920.79207921, 102233650.36091577, 85817785.73609382, 76649367.8185168, 65379825.65379826, 97970608.8173548], \"sizemode\": \"area\", \"sizeref\": 200000}, \"mode\": \"markers\", \"name\": \"South America\", \"text\": [\"Argentina\", \"Brazil\", \"Chile\", \"Colombia\", \"Peru\", \"Uruguay\"], \"x\": [44494502.0, 209469333.0, 18729160.0, 49648685.0, 31989256.0, 3449299.0], \"y\": [519871519807.795, 1885482534238.33, 298258019275.049, 333568926392.586, 222044970486.21698, 59596885023.0917], \"type\": \"scatter\"}, {\"marker\": {\"size\": [94122699.99327494, 90203800.02785043], \"sizemode\": \"area\", \"sizeref\": 200000}, \"mode\": \"markers\", \"name\": \"Oceania\", \"text\": [\"Australia\", \"New Zealand\"], \"x\": [24982688.0, 4841000.0], \"y\": [1433904348500.12, 207920613961.749], \"type\": \"scatter\"}, {\"marker\": {\"size\": [88260919.97511043, 76155588.7598207, 98640406.39847437, 96715749.94649202, 68532770.10606913, 124839174.02326085, 59311458.56272481, 45819014.891179845, 122462213.7975757, 135296872.5607535, 56540261.926050596, 32735504.09193801], \"sizemode\": \"area\", \"sizeref\": 200000}, \"mode\": \"markers\", \"name\": \"Europe\", \"text\": [\"Britain\", \"Czech Republic\", \"Denmark\", \"Euro area\", \"Hungary\", \"Norway\", \"Poland\", \"Russia\", \"Sweden\", \"Switzerland\", \"Turkey\", \"Ukraine\"], \"x\": [66460344.0, 10629928.0, 5793636.0, 341843156.0, 9775564.0, 5311916.0, 37974750.0, 144477860.0, 10175214.0, 8514329.0, 82319724.0, 44622518.0], \"y\": [2860667727551.97, 244987409830.53302, 355675329085.952, 13662048991923.3, 157882912778.254, 434166615431.909, 587114101392.696, 1669583089322.96, 555455371487.089, 705140620046.7, 771350331372.7109, 130901858421.72], \"type\": \"scatter\"}, {\"marker\": {\"size\": [105144875.19062525, 80558633.66928746, 51437297.398665845, 105600000.0], \"sizemode\": \"area\", \"sizeref\": 200000}, \"mode\": \"markers\", \"name\": \"North America\", \"text\": [\"Canada\", \"Costa Rica\", \"Mexico\", \"United States\"], \"x\": [37057765.0, 4999441.0, 126190788.0, 326687501.0], \"y\": [1716262621082.22, 60553901420.085, 1220699479845.98, 20529049174601.5], \"type\": \"scatter\"}, {\"marker\": {\"size\": [63432835.820895515, 52436372.93771582, 53521970.20735085, 68638518.85301423, 45523520.48558422, 67870232.11619383, 52833908.329226226, 63994880.40956723, 87709349.36297305, 82300678.04535891, 75422626.7880364, 74491392.80125196], \"sizemode\": \"area\", \"sizeref\": 200000}, \"mode\": \"markers\", \"name\": \"Asia\", \"text\": [\"China\", \"Hong Kong\", \"Indonesia\", \"Japan\", \"Malaysia\", \"Pakistan\", \"Philippines\", \"Saudi Arabia\", \"Singapore\", \"South Korea\", \"Sri Lanka\", \"Thailand\"], \"x\": [1392730000.0, 7451000.0, 267663435.0, 126529100.0, 31528585.0, 212215030.0, 106651922.0, 33699947.0, 5638676.0, 51606633.0, 21670000.0, 69428524.0], \"y\": [13894817110036.3, 361693053517.89294, 1042240309412.58, 4954806619995.19, 358581943446.259, 314567541558.339, 346841896889.553, 786521831573.333, 373217081850.534, 1720578827805.54, 88425889592.1519, 506514103905.26794], \"type\": \"scatter\"}, {\"marker\": {\"size\": [38655367.231638424, 48947027.079942726], \"sizemode\": \"area\", \"sizeref\": 200000}, \"mode\": \"markers\", \"name\": \"Africa\", \"text\": [\"Egypt\", \"South Africa\"], \"x\": [98423595.0, 57779622.0], \"y\": [250894760351.232, 368288939768.322], \"type\": \"scatter\"}], \"name\": \"2018\"}, {\"data\": [{\"marker\": {\"size\": [40048057.66920304, 90910313.47920224, 77762559.09512658, 74573084.75638415, 62714648.35000747, 86127345.43217473], \"sizemode\": \"area\", \"sizeref\": 200000}, \"mode\": \"markers\", \"name\": \"South America\", \"text\": [\"Argentina\", \"Brazil\", \"Chile\", \"Colombia\", \"Peru\", \"Uruguay\"], \"x\": [44938712.0, 211049527.0, 18952038.0, 50339443.0, 32510453.0, 3461734.0], \"y\": [449663446954.073, 1839758040765.62, 282318159744.65, 323802808108.24603, 226848050819.525, 56045912952.342], \"type\": \"scatter\"}, {\"marker\": {\"size\": [87040900.0000003, 83824000.00000015], \"sizemode\": \"area\", \"sizeref\": 200000}, \"mode\": \"markers\", \"name\": \"Oceania\", \"text\": [\"Australia\", \"New Zealand\"], \"x\": [25364307.0, 4917000.0], \"y\": [1392680589329.14, 206928765543.935], \"type\": \"scatter\"}, {\"marker\": {\"size\": [81459840.00000001, 76193378.79538268, 92088804.30361678, 92838150.0, 60656066.72167339, 117193451.22994527, 56023156.23791167, 33041913.473794702, 116771929.82456142, 132430092.19171801, 39937585.91224876, 38848920.86330935], \"sizemode\": \"area\", \"sizeref\": 200000}, \"mode\": \"markers\", \"name\": \"Europe\", \"text\": [\"Britain\", \"Czech Republic\", \"Denmark\", \"Euro area\", \"Hungary\", \"Norway\", \"Poland\", \"Russia\", \"Sweden\", \"Switzerland\", \"Turkey\", \"Ukraine\"], \"x\": [66834405.0, 10669709.0, 5818553.0, 342597698.0, 9769949.0, 5347896.0, 37970874.0, 144373535.0, 10285453.0, 8574832.0, 83429615.0, 44385155.0], \"y\": [2827113184695.58, 246489245494.882, 348078018463.905, 13335843259019.7, 160967157503.612, 403336363636.364, 592164400687.607, 1699876578871.35, 530832908737.86206, 703082435360.1171, 754411708202.616, 153781069118.148], \"type\": \"scatter\"}, {\"marker\": {\"size\": [101697461.31891243, 75456155.52535112, 50754191.75244384, 111600000.0], \"sizemode\": \"area\", \"sizeref\": 200000}, \"mode\": \"markers\", \"name\": \"North America\", \"text\": [\"Canada\", \"Costa Rica\", \"Mexico\", \"United States\"], \"x\": [37589262.0, 5047561.0, 127575529.0, 328239523.0], \"y\": [1736425629519.96, 61773944173.6736, 1258286717124.53, 21374418877706.7], \"type\": \"scatter\"}, {\"marker\": {\"size\": [61024570.41914244, 51057203.21405094, 46841731.7246274, 71929177.42530431, 43958712.81117184, 66244239.631336406, 53442763.75435416, 63980379.350332566, 85552031.8607567, 80457715.00089398, 63650580.26283299, 74357572.44395845], \"sizemode\": \"area\", \"sizeref\": 200000}, \"mode\": \"markers\", \"name\": \"Asia\", \"text\": [\"China\", \"Hong Kong\", \"Indonesia\", \"Japan\", \"Malaysia\", \"Pakistan\", \"Philippines\", \"Saudi Arabia\", \"Singapore\", \"South Korea\", \"Sri Lanka\", \"Thailand\"], \"x\": [1397715000.0, 7507400.0, 270625568.0, 126264931.0, 31949777.0, 216565318.0, 108116615.0, 34268528.0, 5703569.0, 51709098.0, 21803000.0, 69625582.0], \"y\": [14342902842915.9, 366029556273.051, 1119190780752.8, 5081769542379.77, 364701517787.844, 278221906022.841, 376795508679.676, 792966838161.659, 372062527488.63794, 1642383217167.26, 84008783756.068, 543649976165.63], \"type\": \"scatter\"}, {\"marker\": {\"size\": [44667783.3612507, 44708851.63151254], \"sizemode\": \"area\", \"sizeref\": 200000}, \"mode\": \"markers\", \"name\": \"Africa\", \"text\": [\"Egypt\", \"South Africa\"], \"x\": [100388073.0, 58558270.0], \"y\": [303175127597.521, 351431649241.43896], \"type\": \"scatter\"}], \"name\": \"2019\"}]);\n",
       "                        }).then(function(){\n",
       "                            \n",
       "var gd = document.getElementById('23cc7aba-91d1-4211-b66c-d541f29342e1');\n",
       "var x = new MutationObserver(function (mutations, observer) {{\n",
       "        var display = window.getComputedStyle(gd).display;\n",
       "        if (!display || display === 'none') {{\n",
       "            console.log([gd, 'removed!']);\n",
       "            Plotly.purge(gd);\n",
       "            observer.disconnect();\n",
       "        }}\n",
       "}});\n",
       "\n",
       "// Listen for the removal of the full notebook cells\n",
       "var notebookContainer = gd.closest('#notebook-container');\n",
       "if (notebookContainer) {{\n",
       "    x.observe(notebookContainer, {childList: true});\n",
       "}}\n",
       "\n",
       "// Listen for the clearing of the current output cell\n",
       "var outputEl = gd.closest('.output');\n",
       "if (outputEl) {{\n",
       "    x.observe(outputEl, {childList: true});\n",
       "}}\n",
       "\n",
       "                        })\n",
       "                };\n",
       "                });\n",
       "            </script>\n",
       "        </div>"
      ]
     },
     "metadata": {},
     "output_type": "display_data"
    }
   ],
   "source": [
    "fig_dict[\"layout\"][\"sliders\"] = [sliders_dict]\n",
    "\n",
    "fig = go.Figure(fig_dict)\n",
    "\n",
    "fig.update_layout(\n",
    "    title = \n",
    "        {'text':'<b>Motion chart</b><br><span style=\"color:#666666\"> Биг Мака для стран мира с 2005 по 2019 год </span>'},\n",
    "    font={\n",
    "        'family':'Open Sans, light',\n",
    "        'color':'black',\n",
    "        'size':14\n",
    "    },\n",
    "    plot_bgcolor='rgba(0,0,0,0)'\n",
    ")\n",
    "fig.update_yaxes(nticks=4)\n",
    "fig.update_xaxes(tickfont=dict(family='Open Sans, light', color='black', size=12), nticks=4, gridcolor='lightgray', gridwidth=0.5)\n",
    "fig.update_yaxes(tickfont=dict(family='Open Sans, light', color='black', size=12), nticks=4, gridcolor='lightgray', gridwidth=0.5)\n",
    "\n",
    "fig.show()"
   ]
  },
  {
   "cell_type": "code",
   "execution_count": null,
   "metadata": {},
   "outputs": [],
   "source": []
  }
 ],
 "metadata": {
  "kernelspec": {
   "display_name": "Python 3",
   "language": "python",
   "name": "python3"
  },
  "language_info": {
   "codemirror_mode": {
    "name": "ipython",
    "version": 3
   },
   "file_extension": ".py",
   "mimetype": "text/x-python",
   "name": "python",
   "nbconvert_exporter": "python",
   "pygments_lexer": "ipython3",
   "version": "3.7.6"
  }
 },
 "nbformat": 4,
 "nbformat_minor": 4
}
